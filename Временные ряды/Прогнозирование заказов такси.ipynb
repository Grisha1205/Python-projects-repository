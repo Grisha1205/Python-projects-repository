{
 "cells": [
  {
   "cell_type": "markdown",
   "id": "370de851",
   "metadata": {},
   "source": [
    "**Название проекта**\n",
    "\n",
    "Прогнозирование заказов такси.\n",
    "\n",
    "**Описание проекта**\n",
    "\n",
    "Компания «Чётенькое такси» собрала исторические данные о заказах такси в аэропортах. Чтобы привлекать больше водителей в период пиковой нагрузки, нужно спрогнозировать количество заказов такси на следующий час. Постройте модель для такого предсказания.\n",
    "\n",
    "**Цель исследования**\n",
    "\n",
    "Построить модель, которая будет прогнозировать количество заказов такси на следующий час.\n",
    "\n",
    "**Критерии исследования**\n",
    "\n",
    "Критерии, которые важны заказчику:\n",
    "* RMSE на тестовой выборке <= 48\n",
    "\n",
    "**Исходные данные**\n",
    "\n",
    "Данные лежат в файле /datasets/taxi.csv.  \n",
    "\n",
    "\n",
    "Признаки:\n",
    "* datetime - время заказа такси\n",
    "\n",
    "Целевой признак:\n",
    "* num_orders - число заказов\n",
    "\n",
    "\n",
    "<a href=\"#qwerty\">План исследования находится в меню Table of contents</a>"
   ]
  },
  {
   "cell_type": "markdown",
   "id": "faa51c6c",
   "metadata": {},
   "source": [
    "<a id=\"qwerty\"></a>"
   ]
  },
  {
   "cell_type": "markdown",
   "id": "60b315e2",
   "metadata": {
    "toc": true
   },
   "source": [
    "<h1>Table of Contents<span class=\"tocSkip\"></span></h1>\n",
    "<div class=\"toc\"><ul class=\"toc-item\"><li><span><a href=\"#Загрузка-данных\" data-toc-modified-id=\"Загрузка-данных-1\"><span class=\"toc-item-num\">1&nbsp;&nbsp;</span>Загрузка данных</a></span><ul class=\"toc-item\"><li><span><a href=\"#Вывод-по-загрузке-данных\" data-toc-modified-id=\"Вывод-по-загрузке-данных-1.1\"><span class=\"toc-item-num\">1.1&nbsp;&nbsp;</span><strong>Вывод по загрузке данных</strong></a></span></li></ul></li><li><span><a href=\"#Исследовательский-анализ-данных\" data-toc-modified-id=\"Исследовательский-анализ-данных-2\"><span class=\"toc-item-num\">2&nbsp;&nbsp;</span>Исследовательский анализ данных</a></span><ul class=\"toc-item\"><li><span><a href=\"#Осмотр-данных\" data-toc-modified-id=\"Осмотр-данных-2.1\"><span class=\"toc-item-num\">2.1&nbsp;&nbsp;</span>Осмотр данных</a></span></li><li><span><a href=\"#Пропуски-в-данных\" data-toc-modified-id=\"Пропуски-в-данных-2.2\"><span class=\"toc-item-num\">2.2&nbsp;&nbsp;</span>Пропуски в данных</a></span></li><li><span><a href=\"#Анализ-аномалий-и-выбросов\" data-toc-modified-id=\"Анализ-аномалий-и-выбросов-2.3\"><span class=\"toc-item-num\">2.3&nbsp;&nbsp;</span>Анализ аномалий и выбросов</a></span></li><li><span><a href=\"#Анализ-тренда\" data-toc-modified-id=\"Анализ-тренда-2.4\"><span class=\"toc-item-num\">2.4&nbsp;&nbsp;</span>Анализ тренда</a></span></li><li><span><a href=\"#Анализ-стационарности\" data-toc-modified-id=\"Анализ-стационарности-2.5\"><span class=\"toc-item-num\">2.5&nbsp;&nbsp;</span>Анализ стационарности</a></span></li><li><span><a href=\"#Вывод-по-исследовательскому-анализу-данных\" data-toc-modified-id=\"Вывод-по-исследовательскому-анализу-данных-2.6\"><span class=\"toc-item-num\">2.6&nbsp;&nbsp;</span><strong>Вывод по исследовательскому анализу данных</strong></a></span></li></ul></li><li><span><a href=\"#Подготовка-данных\" data-toc-modified-id=\"Подготовка-данных-3\"><span class=\"toc-item-num\">3&nbsp;&nbsp;</span>Подготовка данных</a></span><ul class=\"toc-item\"><li><span><a href=\"#Создание-признаков\" data-toc-modified-id=\"Создание-признаков-3.1\"><span class=\"toc-item-num\">3.1&nbsp;&nbsp;</span>Создание признаков</a></span></li><li><span><a href=\"#Вывод-по-подготовке-данных\" data-toc-modified-id=\"Вывод-по-подготовке-данных-3.2\"><span class=\"toc-item-num\">3.2&nbsp;&nbsp;</span><strong>Вывод по подготовке данных</strong></a></span></li></ul></li><li><span><a href=\"#Обучение-моделей\" data-toc-modified-id=\"Обучение-моделей-4\"><span class=\"toc-item-num\">4&nbsp;&nbsp;</span>Обучение моделей</a></span><ul class=\"toc-item\"><li><span><a href=\"#Dummy-Regressor\" data-toc-modified-id=\"Dummy-Regressor-4.1\"><span class=\"toc-item-num\">4.1&nbsp;&nbsp;</span><strong>Dummy Regressor</strong></a></span></li><li><span><a href=\"#LinearRegression\" data-toc-modified-id=\"LinearRegression-4.2\"><span class=\"toc-item-num\">4.2&nbsp;&nbsp;</span><strong>LinearRegression</strong></a></span></li><li><span><a href=\"#CatBoostRegressor\" data-toc-modified-id=\"CatBoostRegressor-4.3\"><span class=\"toc-item-num\">4.3&nbsp;&nbsp;</span><strong>CatBoostRegressor</strong></a></span></li><li><span><a href=\"#Сравнение-моделей\" data-toc-modified-id=\"Сравнение-моделей-4.4\"><span class=\"toc-item-num\">4.4&nbsp;&nbsp;</span>Сравнение моделей</a></span></li></ul></li><li><span><a href=\"#Вывод\" data-toc-modified-id=\"Вывод-5\"><span class=\"toc-item-num\">5&nbsp;&nbsp;</span>Вывод</a></span></li></ul></div>"
   ]
  },
  {
   "cell_type": "markdown",
   "id": "0417cfdc",
   "metadata": {},
   "source": [
    "### Загрузка данных"
   ]
  },
  {
   "cell_type": "code",
   "execution_count": 1,
   "id": "dbe08370",
   "metadata": {},
   "outputs": [],
   "source": [
    "!pip install scikit-learn==1.3.0 -q\n",
    "!pip install lightgbm -q\n",
    "!pip install catboost -q"
   ]
  },
  {
   "cell_type": "code",
   "execution_count": 2,
   "id": "3ba1e631",
   "metadata": {},
   "outputs": [],
   "source": [
    "import warnings\n",
    "import os\n",
    "import requests\n",
    "import numpy as np\n",
    "import pandas as pd\n",
    "import seaborn as sns\n",
    "import matplotlib.pyplot as plt\n",
    "\n",
    "from sklearn.preprocessing import StandardScaler, OneHotEncoder\n",
    "\n",
    "from sklearn.model_selection import train_test_split\n",
    "from sklearn.metrics import mean_squared_error\n",
    "\n",
    "from statsmodels.tsa.seasonal import seasonal_decompose\n",
    "from statsmodels.tsa.stattools import adfuller\n",
    "\n",
    "from sklearn.dummy import DummyRegressor\n",
    "from sklearn.linear_model import LinearRegression\n",
    "from catboost import CatBoostRegressor\n",
    "\n",
    "from sklearn.model_selection import TimeSeriesSplit\n",
    "from sklearn.model_selection import GridSearchCV\n",
    "\n",
    "from sklearn.pipeline import Pipeline\n",
    "from sklearn.compose import ColumnTransformer\n",
    "\n",
    "warnings.filterwarnings('ignore')"
   ]
  },
  {
   "cell_type": "code",
   "execution_count": 3,
   "id": "0ad49071",
   "metadata": {},
   "outputs": [
    {
     "name": "stdout",
     "output_type": "stream",
     "text": [
      "Данные загружены из локального файла\n",
      "Размер данных: (26496, 1)\n",
      "<class 'pandas.core.frame.DataFrame'>\n",
      "DatetimeIndex: 26496 entries, 2018-03-01 00:00:00 to 2018-08-31 23:50:00\n",
      "Data columns (total 1 columns):\n",
      " #   Column      Non-Null Count  Dtype\n",
      "---  ------      --------------  -----\n",
      " 0   num_orders  26496 non-null  int64\n",
      "dtypes: int64(1)\n",
      "memory usage: 414.0 KB\n"
     ]
    },
    {
     "data": {
      "text/plain": [
       "None"
      ]
     },
     "metadata": {},
     "output_type": "display_data"
    },
    {
     "data": {
      "text/html": [
       "<div>\n",
       "<style scoped>\n",
       "    .dataframe tbody tr th:only-of-type {\n",
       "        vertical-align: middle;\n",
       "    }\n",
       "\n",
       "    .dataframe tbody tr th {\n",
       "        vertical-align: top;\n",
       "    }\n",
       "\n",
       "    .dataframe thead th {\n",
       "        text-align: right;\n",
       "    }\n",
       "</style>\n",
       "<table border=\"1\" class=\"dataframe\">\n",
       "  <thead>\n",
       "    <tr style=\"text-align: right;\">\n",
       "      <th></th>\n",
       "      <th>num_orders</th>\n",
       "    </tr>\n",
       "    <tr>\n",
       "      <th>datetime</th>\n",
       "      <th></th>\n",
       "    </tr>\n",
       "  </thead>\n",
       "  <tbody>\n",
       "    <tr>\n",
       "      <th>2018-03-01 00:00:00</th>\n",
       "      <td>9</td>\n",
       "    </tr>\n",
       "    <tr>\n",
       "      <th>2018-03-01 00:10:00</th>\n",
       "      <td>14</td>\n",
       "    </tr>\n",
       "    <tr>\n",
       "      <th>2018-03-01 00:20:00</th>\n",
       "      <td>28</td>\n",
       "    </tr>\n",
       "    <tr>\n",
       "      <th>2018-03-01 00:30:00</th>\n",
       "      <td>20</td>\n",
       "    </tr>\n",
       "    <tr>\n",
       "      <th>2018-03-01 00:40:00</th>\n",
       "      <td>32</td>\n",
       "    </tr>\n",
       "  </tbody>\n",
       "</table>\n",
       "</div>"
      ],
      "text/plain": [
       "                     num_orders\n",
       "datetime                       \n",
       "2018-03-01 00:00:00           9\n",
       "2018-03-01 00:10:00          14\n",
       "2018-03-01 00:20:00          28\n",
       "2018-03-01 00:30:00          20\n",
       "2018-03-01 00:40:00          32"
      ]
     },
     "execution_count": 3,
     "metadata": {},
     "output_type": "execute_result"
    }
   ],
   "source": [
    "local_path = '/datasets/taxi.csv'\n",
    "url = 'https://code.s3.yandex.net/datasets/taxi.csv'\n",
    "\n",
    "if os.path.exists(local_path):\n",
    "    df = pd.read_csv(local_path, parse_dates=[0], index_col=[0])\n",
    "    print(\"Данные загружены из локального файла\")\n",
    "else:\n",
    "    df = pd.read_csv(url, parse_dates=[0], index_col=[0])\n",
    "    print(\"Данные загружены из интернета\")\n",
    "\n",
    "print(f\"Размер данных: {df.shape}\")\n",
    "display(df.info())\n",
    "df.head()"
   ]
  },
  {
   "cell_type": "markdown",
   "id": "22e3cbc7",
   "metadata": {},
   "source": [
    "Мы хотим прогнозировать количество заказов на следующий час, поэтому для дальнейшей работы сделаем ресемплирование данных по каждому часу. Получим количество заказов за каждый час."
   ]
  },
  {
   "cell_type": "code",
   "execution_count": 4,
   "id": "f8914ed7",
   "metadata": {},
   "outputs": [],
   "source": [
    "df = df.resample('1H').sum()"
   ]
  },
  {
   "cell_type": "code",
   "execution_count": 5,
   "id": "0c83f424",
   "metadata": {},
   "outputs": [
    {
     "data": {
      "text/html": [
       "<div>\n",
       "<style scoped>\n",
       "    .dataframe tbody tr th:only-of-type {\n",
       "        vertical-align: middle;\n",
       "    }\n",
       "\n",
       "    .dataframe tbody tr th {\n",
       "        vertical-align: top;\n",
       "    }\n",
       "\n",
       "    .dataframe thead th {\n",
       "        text-align: right;\n",
       "    }\n",
       "</style>\n",
       "<table border=\"1\" class=\"dataframe\">\n",
       "  <thead>\n",
       "    <tr style=\"text-align: right;\">\n",
       "      <th></th>\n",
       "      <th>num_orders</th>\n",
       "    </tr>\n",
       "    <tr>\n",
       "      <th>datetime</th>\n",
       "      <th></th>\n",
       "    </tr>\n",
       "  </thead>\n",
       "  <tbody>\n",
       "    <tr>\n",
       "      <th>2018-03-01 00:00:00</th>\n",
       "      <td>124</td>\n",
       "    </tr>\n",
       "    <tr>\n",
       "      <th>2018-03-01 01:00:00</th>\n",
       "      <td>85</td>\n",
       "    </tr>\n",
       "    <tr>\n",
       "      <th>2018-03-01 02:00:00</th>\n",
       "      <td>71</td>\n",
       "    </tr>\n",
       "    <tr>\n",
       "      <th>2018-03-01 03:00:00</th>\n",
       "      <td>66</td>\n",
       "    </tr>\n",
       "    <tr>\n",
       "      <th>2018-03-01 04:00:00</th>\n",
       "      <td>43</td>\n",
       "    </tr>\n",
       "  </tbody>\n",
       "</table>\n",
       "</div>"
      ],
      "text/plain": [
       "                     num_orders\n",
       "datetime                       \n",
       "2018-03-01 00:00:00         124\n",
       "2018-03-01 01:00:00          85\n",
       "2018-03-01 02:00:00          71\n",
       "2018-03-01 03:00:00          66\n",
       "2018-03-01 04:00:00          43"
      ]
     },
     "execution_count": 5,
     "metadata": {},
     "output_type": "execute_result"
    }
   ],
   "source": [
    "df.head()"
   ]
  },
  {
   "cell_type": "markdown",
   "id": "7621fca5",
   "metadata": {},
   "source": [
    "#### **Вывод по загрузке данных**\n",
    "\n",
    "Данные успешно загружены. Типы данных корректны.\n",
    "\n",
    "С помощью параметров **parse_dates** и **index_col** столбец **datetime** был приведен к нужному типу datetime64 и был сделан индеком датафрейма. Также, датафрейм был отсортирован по возрастанию даты.\n",
    "\n",
    "Также было выполнено ресемплирование данных по каждому часу."
   ]
  },
  {
   "cell_type": "markdown",
   "id": "a8d7b500",
   "metadata": {},
   "source": [
    "### Исследовательский анализ данных\n",
    "\n",
    "В этом разделе:\n",
    "\n",
    "1. Более подробно осмотрим данные\n",
    "2. Проверим наличие пропусков в данных\n",
    "3. Исследуем данные на аномалии и выбросы, построим визуализации"
   ]
  },
  {
   "cell_type": "markdown",
   "id": "d15f1f86",
   "metadata": {},
   "source": [
    "#### Осмотр данных"
   ]
  },
  {
   "cell_type": "code",
   "execution_count": 6,
   "id": "78d77156",
   "metadata": {},
   "outputs": [
    {
     "name": "stdout",
     "output_type": "stream",
     "text": [
      "2018-03-01 00:00:00\n",
      "2018-08-31 23:00:00\n"
     ]
    }
   ],
   "source": [
    "print(df.index.min())\n",
    "print(df.index.max())"
   ]
  },
  {
   "cell_type": "markdown",
   "id": "a9d64fdf",
   "metadata": {},
   "source": [
    "Данные в нашем датафрейме указаны с 1 марта 2018 года по 31 августа 2018 года."
   ]
  },
  {
   "cell_type": "code",
   "execution_count": 7,
   "id": "183c81bb",
   "metadata": {},
   "outputs": [
    {
     "data": {
      "text/html": [
       "<div>\n",
       "<style scoped>\n",
       "    .dataframe tbody tr th:only-of-type {\n",
       "        vertical-align: middle;\n",
       "    }\n",
       "\n",
       "    .dataframe tbody tr th {\n",
       "        vertical-align: top;\n",
       "    }\n",
       "\n",
       "    .dataframe thead th {\n",
       "        text-align: right;\n",
       "    }\n",
       "</style>\n",
       "<table border=\"1\" class=\"dataframe\">\n",
       "  <thead>\n",
       "    <tr style=\"text-align: right;\">\n",
       "      <th></th>\n",
       "      <th>num_orders</th>\n",
       "    </tr>\n",
       "  </thead>\n",
       "  <tbody>\n",
       "    <tr>\n",
       "      <th>count</th>\n",
       "      <td>4416.000000</td>\n",
       "    </tr>\n",
       "    <tr>\n",
       "      <th>mean</th>\n",
       "      <td>84.422781</td>\n",
       "    </tr>\n",
       "    <tr>\n",
       "      <th>std</th>\n",
       "      <td>45.023853</td>\n",
       "    </tr>\n",
       "    <tr>\n",
       "      <th>min</th>\n",
       "      <td>0.000000</td>\n",
       "    </tr>\n",
       "    <tr>\n",
       "      <th>25%</th>\n",
       "      <td>54.000000</td>\n",
       "    </tr>\n",
       "    <tr>\n",
       "      <th>50%</th>\n",
       "      <td>78.000000</td>\n",
       "    </tr>\n",
       "    <tr>\n",
       "      <th>75%</th>\n",
       "      <td>107.000000</td>\n",
       "    </tr>\n",
       "    <tr>\n",
       "      <th>max</th>\n",
       "      <td>462.000000</td>\n",
       "    </tr>\n",
       "  </tbody>\n",
       "</table>\n",
       "</div>"
      ],
      "text/plain": [
       "        num_orders\n",
       "count  4416.000000\n",
       "mean     84.422781\n",
       "std      45.023853\n",
       "min       0.000000\n",
       "25%      54.000000\n",
       "50%      78.000000\n",
       "75%     107.000000\n",
       "max     462.000000"
      ]
     },
     "execution_count": 7,
     "metadata": {},
     "output_type": "execute_result"
    }
   ],
   "source": [
    "df.describe()"
   ]
  },
  {
   "cell_type": "markdown",
   "id": "1e1c08fa",
   "metadata": {},
   "source": [
    "Можно сделать такие выводы:\n",
    "* Среднее количество заказов в час - 84\n",
    "* Медианное количество заказов в час - 45\n",
    "* Минимально возможное количество заказов в час - 0\n",
    "* Максимально возможное количество заказов в час - 462"
   ]
  },
  {
   "cell_type": "markdown",
   "id": "85634c65",
   "metadata": {},
   "source": [
    "#### Пропуски в данных"
   ]
  },
  {
   "cell_type": "code",
   "execution_count": 8,
   "id": "e89db92c",
   "metadata": {},
   "outputs": [
    {
     "data": {
      "text/plain": [
       "num_orders    0\n",
       "dtype: int64"
      ]
     },
     "execution_count": 8,
     "metadata": {},
     "output_type": "execute_result"
    }
   ],
   "source": [
    "df.isna().sum()"
   ]
  },
  {
   "cell_type": "code",
   "execution_count": 9,
   "id": "a2fcc623",
   "metadata": {},
   "outputs": [
    {
     "data": {
      "text/plain": [
       "0"
      ]
     },
     "execution_count": 9,
     "metadata": {},
     "output_type": "execute_result"
    }
   ],
   "source": [
    "df.index.isna().sum()"
   ]
  },
  {
   "cell_type": "markdown",
   "id": "303a8c0b",
   "metadata": {},
   "source": [
    "Пропуски в данных отсутсвуют."
   ]
  },
  {
   "cell_type": "markdown",
   "id": "3396ae5a",
   "metadata": {},
   "source": [
    "#### Анализ аномалий и выбросов"
   ]
  },
  {
   "cell_type": "code",
   "execution_count": 10,
   "id": "0158a60b",
   "metadata": {},
   "outputs": [],
   "source": [
    "# Функция для построения графиков количественного признака\n",
    "def grafics(df_col, label_x2, label_y2, title):\n",
    "    # Создание фигуры и осей\n",
    "    fig, axs = plt.subplots(1, 2, figsize=(12, 5))\n",
    "    fig.suptitle(title, fontsize=14, y=1.05)  # Общий заголовок\n",
    "    # Гистограмма\n",
    "    axs[0].hist(df_col,edgecolor='black', bins=30, alpha=0.7)\n",
    "    axs[0].set_title('Гистограмма', fontsize=12)\n",
    "    axs[0].set_xlabel(label_x2, fontsize=10)\n",
    "    axs[0].set_ylabel(label_y2, fontsize=10)\n",
    "    axs[0].grid(linestyle='--', alpha=0.5)\n",
    "    # Диаграмма размаха\n",
    "    sns.boxplot(\n",
    "        x=df_col, \n",
    "        ax=axs[1], \n",
    "        color='lightgreen', \n",
    "        width=0.4,\n",
    "        linewidth=1.5,\n",
    "        flierprops=dict(\n",
    "            marker='o', \n",
    "            markerfacecolor='red', \n",
    "            markersize=6,\n",
    "            markeredgecolor='black'\n",
    "        )\n",
    "    )\n",
    "    axs[1].set_title('Диаграмма размаха (Boxplot)', fontsize=12)\n",
    "    axs[1].set_xlabel(label_x2, fontsize=10)\n",
    "    \n",
    "    \n",
    "    plt.tight_layout()\n",
    "    plt.show()"
   ]
  },
  {
   "cell_type": "code",
   "execution_count": 11,
   "id": "30796d02",
   "metadata": {},
   "outputs": [
    {
     "data": {
      "image/png": "[encoded data removed]",
      "text/plain": [
       "<Figure size 864x360 with 2 Axes>"
      ]
     },
     "metadata": {
      "needs_background": "light"
     },
     "output_type": "display_data"
    }
   ],
   "source": [
    "grafics(df['num_orders'], 'Количество заказов в час', 'Количество', \n",
    "       'Распределение количества заказов в час')"
   ]
  },
  {
   "cell_type": "markdown",
   "id": "4050c61e",
   "metadata": {},
   "source": [
    "Чаще всего количество заказов в час составляет 60-100, однако бывают часы, когда заказов значительно больше."
   ]
  },
  {
   "cell_type": "markdown",
   "id": "a1ed16bf",
   "metadata": {},
   "source": [
    "Посмотрим отдельно на данные, когда количество заказов в час которых превышает - 250"
   ]
  },
  {
   "cell_type": "code",
   "execution_count": 12,
   "id": "0ca2c77c",
   "metadata": {
    "scrolled": false
   },
   "outputs": [
    {
     "data": {
      "text/html": [
       "<div>\n",
       "<style scoped>\n",
       "    .dataframe tbody tr th:only-of-type {\n",
       "        vertical-align: middle;\n",
       "    }\n",
       "\n",
       "    .dataframe tbody tr th {\n",
       "        vertical-align: top;\n",
       "    }\n",
       "\n",
       "    .dataframe thead th {\n",
       "        text-align: right;\n",
       "    }\n",
       "</style>\n",
       "<table border=\"1\" class=\"dataframe\">\n",
       "  <thead>\n",
       "    <tr style=\"text-align: right;\">\n",
       "      <th></th>\n",
       "      <th>num_orders</th>\n",
       "    </tr>\n",
       "    <tr>\n",
       "      <th>datetime</th>\n",
       "      <th></th>\n",
       "    </tr>\n",
       "  </thead>\n",
       "  <tbody>\n",
       "    <tr>\n",
       "      <th>2018-04-24 00:00:00</th>\n",
       "      <td>253</td>\n",
       "    </tr>\n",
       "    <tr>\n",
       "      <th>2018-07-19 10:00:00</th>\n",
       "      <td>251</td>\n",
       "    </tr>\n",
       "    <tr>\n",
       "      <th>2018-08-13 01:00:00</th>\n",
       "      <td>273</td>\n",
       "    </tr>\n",
       "    <tr>\n",
       "      <th>2018-08-13 02:00:00</th>\n",
       "      <td>437</td>\n",
       "    </tr>\n",
       "    <tr>\n",
       "      <th>2018-08-18 00:00:00</th>\n",
       "      <td>281</td>\n",
       "    </tr>\n",
       "    <tr>\n",
       "      <th>2018-08-18 02:00:00</th>\n",
       "      <td>254</td>\n",
       "    </tr>\n",
       "    <tr>\n",
       "      <th>2018-08-20 01:00:00</th>\n",
       "      <td>272</td>\n",
       "    </tr>\n",
       "    <tr>\n",
       "      <th>2018-08-20 02:00:00</th>\n",
       "      <td>462</td>\n",
       "    </tr>\n",
       "    <tr>\n",
       "      <th>2018-08-20 04:00:00</th>\n",
       "      <td>273</td>\n",
       "    </tr>\n",
       "    <tr>\n",
       "      <th>2018-08-25 00:00:00</th>\n",
       "      <td>273</td>\n",
       "    </tr>\n",
       "    <tr>\n",
       "      <th>2018-08-26 00:00:00</th>\n",
       "      <td>281</td>\n",
       "    </tr>\n",
       "    <tr>\n",
       "      <th>2018-08-26 03:00:00</th>\n",
       "      <td>267</td>\n",
       "    </tr>\n",
       "    <tr>\n",
       "      <th>2018-08-27 00:00:00</th>\n",
       "      <td>263</td>\n",
       "    </tr>\n",
       "    <tr>\n",
       "      <th>2018-08-27 02:00:00</th>\n",
       "      <td>408</td>\n",
       "    </tr>\n",
       "    <tr>\n",
       "      <th>2018-08-27 04:00:00</th>\n",
       "      <td>295</td>\n",
       "    </tr>\n",
       "    <tr>\n",
       "      <th>2018-08-29 23:00:00</th>\n",
       "      <td>265</td>\n",
       "    </tr>\n",
       "    <tr>\n",
       "      <th>2018-08-30 16:00:00</th>\n",
       "      <td>254</td>\n",
       "    </tr>\n",
       "    <tr>\n",
       "      <th>2018-08-30 17:00:00</th>\n",
       "      <td>342</td>\n",
       "    </tr>\n",
       "    <tr>\n",
       "      <th>2018-08-31 00:00:00</th>\n",
       "      <td>276</td>\n",
       "    </tr>\n",
       "    <tr>\n",
       "      <th>2018-08-31 04:00:00</th>\n",
       "      <td>268</td>\n",
       "    </tr>\n",
       "  </tbody>\n",
       "</table>\n",
       "</div>"
      ],
      "text/plain": [
       "                     num_orders\n",
       "datetime                       \n",
       "2018-04-24 00:00:00         253\n",
       "2018-07-19 10:00:00         251\n",
       "2018-08-13 01:00:00         273\n",
       "2018-08-13 02:00:00         437\n",
       "2018-08-18 00:00:00         281\n",
       "2018-08-18 02:00:00         254\n",
       "2018-08-20 01:00:00         272\n",
       "2018-08-20 02:00:00         462\n",
       "2018-08-20 04:00:00         273\n",
       "2018-08-25 00:00:00         273\n",
       "2018-08-26 00:00:00         281\n",
       "2018-08-26 03:00:00         267\n",
       "2018-08-27 00:00:00         263\n",
       "2018-08-27 02:00:00         408\n",
       "2018-08-27 04:00:00         295\n",
       "2018-08-29 23:00:00         265\n",
       "2018-08-30 16:00:00         254\n",
       "2018-08-30 17:00:00         342\n",
       "2018-08-31 00:00:00         276\n",
       "2018-08-31 04:00:00         268"
      ]
     },
     "execution_count": 12,
     "metadata": {},
     "output_type": "execute_result"
    }
   ],
   "source": [
    "df[df['num_orders'] > 250]"
   ]
  },
  {
   "cell_type": "markdown",
   "id": "6feafb9e",
   "metadata": {},
   "source": [
    "Видно, что большая часть таких \"выбросов\" происходила в самом последнем месяце наблюдений, в августе. Возможно, тренд количества заказов такси восходящий, поэтому в августе мы видим большую часть \"выбросов\"."
   ]
  },
  {
   "cell_type": "markdown",
   "id": "2cf12708",
   "metadata": {},
   "source": [
    "#### Анализ тренда"
   ]
  },
  {
   "cell_type": "markdown",
   "id": "0541be83",
   "metadata": {},
   "source": [
    "Посмотрим на тренд:"
   ]
  },
  {
   "cell_type": "code",
   "execution_count": 13,
   "id": "3ece96eb",
   "metadata": {},
   "outputs": [],
   "source": [
    "decomposed = seasonal_decompose(df)"
   ]
  },
  {
   "cell_type": "code",
   "execution_count": 14,
   "id": "679ea55d",
   "metadata": {},
   "outputs": [
    {
     "data": {
      "image/png": "[encoded data removed]",
      "text/plain": [
       "<Figure size 864x432 with 1 Axes>"
      ]
     },
     "metadata": {
      "needs_background": "light"
     },
     "output_type": "display_data"
    }
   ],
   "source": [
    "plt.figure(figsize=(12, 6))\n",
    "decomposed.trend.plot(ax=plt.gca(), color='#2E86AB', linewidth=2)\n",
    "plt.title('Тренд временного ряда', fontsize=16, fontweight='bold', pad=20)\n",
    "plt.xlabel('Дата', fontsize=12)\n",
    "plt.ylabel('Количество заказов', fontsize=12)\n",
    "plt.grid(True, alpha=0.3, linestyle='--')\n",
    "plt.tight_layout()"
   ]
  },
  {
   "cell_type": "markdown",
   "id": "ef8dfd54",
   "metadata": {},
   "source": [
    "Действительно, тренд восходящий. Бывают просадки, но видно, что тренд растет. Предположение подтвердилось, к августу в среднем становилось все большее количество заказов.\n",
    "\n",
    "Выбросы удалять не будем."
   ]
  },
  {
   "cell_type": "markdown",
   "id": "70c760ae",
   "metadata": {},
   "source": [
    "======================="
   ]
  },
  {
   "cell_type": "markdown",
   "id": "3d161335",
   "metadata": {},
   "source": [
    "Тепер посмотрим как выглядит средний \"типичный\" день бизнеса."
   ]
  },
  {
   "cell_type": "code",
   "execution_count": 16,
   "id": "0dc3e755",
   "metadata": {},
   "outputs": [
    {
     "data": {
      "image/png": "[encoded data removed]",
      "text/plain": [
       "<Figure size 864x432 with 1 Axes>"
      ]
     },
     "metadata": {
      "needs_background": "light"
     },
     "output_type": "display_data"
    }
   ],
   "source": [
    "plt.figure(figsize=(12, 6))\n",
    "decomposed.seasonal['2018-04-01':'2018-04-02'].plot(ax=plt.gca(), color='#2E86AB', linewidth=2)\n",
    "plt.title('Сезонность временного ряда за 24 часа', fontsize=16, fontweight='bold', pad=20)\n",
    "plt.xlabel('Дата', fontsize=12)\n",
    "plt.ylabel('Количество заказов', fontsize=12)\n",
    "plt.grid(True, alpha=0.3)\n",
    "plt.tight_layout()\n",
    "plt.show()"
   ]
  },
  {
   "cell_type": "markdown",
   "id": "54c56c8e",
   "metadata": {},
   "source": [
    "В целом, данные выглядят логично:\n",
    "* В 7:00-10:00 видим рост, люди едут на работу\n",
    "* В 16:00 наблюдается пик, видимо, люди берут такси после работы\n",
    "* Также наблюдается спрос ночью, в 23:00-1:00, скорее всего это связано с транспортной доступностью, так как ночью работает в основном только такси"
   ]
  },
  {
   "cell_type": "markdown",
   "id": "d366de58",
   "metadata": {},
   "source": [
    "================="
   ]
  },
  {
   "cell_type": "markdown",
   "id": "859cb30d",
   "metadata": {},
   "source": [
    "#### Анализ стационарности"
   ]
  },
  {
   "cell_type": "markdown",
   "id": "79a8338d",
   "metadata": {},
   "source": [
    "Проанализируем ряд на стационарность."
   ]
  },
  {
   "cell_type": "code",
   "execution_count": 17,
   "id": "e541e8fd",
   "metadata": {},
   "outputs": [
    {
     "data": {
      "image/png": "[encoded data removed]",
      "text/plain": [
       "<Figure size 864x432 with 1 Axes>"
      ]
     },
     "metadata": {
      "needs_background": "light"
     },
     "output_type": "display_data"
    }
   ],
   "source": [
    "plt.figure(figsize=(12, 6))\n",
    "\n",
    "df['mean'] = df['num_orders'].rolling(24).mean()\n",
    "df['std'] = df['num_orders'].rolling(24).std()\n",
    "\n",
    "df.plot(ax=plt.gca(), linewidth=2)\n",
    "\n",
    "plt.title('Анализ временного ряда: скользящее среднее и стандартное отклонение')\n",
    "plt.xlabel('Месяц')\n",
    "plt.ylabel('Количество заказов')\n",
    "plt.legend(['Исходный ряд', 'Скользящее среднее', 'Скользящее STD'])\n",
    "plt.grid(True, alpha=0.3, linestyle='--')\n",
    "plt.tight_layout()\n",
    "plt.show()"
   ]
  },
  {
   "cell_type": "markdown",
   "id": "638e391e",
   "metadata": {},
   "source": [
    "Для определения стационарности ряда используем статистический тест Дики-Фулера с параметров значимости 5%."
   ]
  },
  {
   "cell_type": "code",
   "execution_count": 18,
   "id": "816902dc",
   "metadata": {},
   "outputs": [
    {
     "name": "stdout",
     "output_type": "stream",
     "text": [
      "p-value: 0.0289\n",
      "Ряд стационарен (p-value < 0.05)\n"
     ]
    }
   ],
   "source": [
    "result = adfuller(df['num_orders'])\n",
    "\n",
    "print('p-value:', round(result[1], 4))\n",
    "\n",
    "alpha = 0.05\n",
    "if result[1] < alpha:\n",
    "    print('Ряд стационарен (p-value < 0.05)')\n",
    "else:\n",
    "    print('Ряд нестационарен (p-value > 0.05)')"
   ]
  },
  {
   "cell_type": "markdown",
   "id": "0c70bfa2",
   "metadata": {},
   "source": [
    "Ряд стационарен, будем использовать его для прогнозирования."
   ]
  },
  {
   "cell_type": "markdown",
   "id": "34457c6d",
   "metadata": {},
   "source": [
    "#### **Вывод по исследовательскому анализу данных**\n",
    "\n",
    "Данные в нашем датафрейме указаны с 1 марта 2018 года по 31 августа 2018 года.\n",
    "\n",
    "Можно выделить такие статистики:\n",
    "* Среднее количество заказов в час - 84\n",
    "* Медианное количество заказов в час - 45\n",
    "* Минимально возможное количество заказов в час - 0\n",
    "* Максимально возможное количество заказов в час - 462\n",
    "\n",
    "Чаще всего количество заказов в час составляет 60-100. \n",
    "\n",
    "Также в данных имелись значения, превышающие 250 заказов в час. Однако, большинство таких \"выбросов\" произошло в августе (последний месяц наблюдений), что оказывается не было случайностью. Анализ тренда показал, что каждый месяц среднее количество заказов не быстро, но растет. Поэтому было принято решение \"выбросы\" не удалять."
   ]
  },
  {
   "cell_type": "markdown",
   "id": "7e6fa146",
   "metadata": {},
   "source": [
    "### Подготовка данных"
   ]
  },
  {
   "cell_type": "markdown",
   "id": "fa481340",
   "metadata": {},
   "source": [
    "#### Создание признаков"
   ]
  },
  {
   "cell_type": "markdown",
   "id": "f7e278a2",
   "metadata": {},
   "source": [
    "Для начала создадим дополнительные признаки, чтобы с их помощью модель могла улавливать скрытые закономерности в данных.\n",
    "\n",
    "1. Календарные признаки. Во многих данных тренды и сезонность привязаны к конкретной дате.\n",
    "2. «Отстающие значения». Предыдущие значения временного ряда подскажут, будет ли функция расти или уменьшаться."
   ]
  },
  {
   "cell_type": "markdown",
   "id": "7faa5821",
   "metadata": {},
   "source": [
    "====================="
   ]
  },
  {
   "cell_type": "markdown",
   "id": "2261de09",
   "metadata": {},
   "source": [
    "Для начала удалим ранее посчитанные скользящее среднее и среднекрадратичное отклонение скользящего среднего, так как они в моменте времени `t` учитывают текущее значение ряда `x(t)`. Это некорректно, может привести к учетке данных."
   ]
  },
  {
   "cell_type": "code",
   "execution_count": 19,
   "id": "f6b76a73",
   "metadata": {},
   "outputs": [],
   "source": [
    "df = df.drop(columns=['mean', 'std'])"
   ]
  },
  {
   "cell_type": "code",
   "execution_count": 20,
   "id": "acbb5d14",
   "metadata": {},
   "outputs": [
    {
     "data": {
      "text/html": [
       "<div>\n",
       "<style scoped>\n",
       "    .dataframe tbody tr th:only-of-type {\n",
       "        vertical-align: middle;\n",
       "    }\n",
       "\n",
       "    .dataframe tbody tr th {\n",
       "        vertical-align: top;\n",
       "    }\n",
       "\n",
       "    .dataframe thead th {\n",
       "        text-align: right;\n",
       "    }\n",
       "</style>\n",
       "<table border=\"1\" class=\"dataframe\">\n",
       "  <thead>\n",
       "    <tr style=\"text-align: right;\">\n",
       "      <th></th>\n",
       "      <th>num_orders</th>\n",
       "    </tr>\n",
       "    <tr>\n",
       "      <th>datetime</th>\n",
       "      <th></th>\n",
       "    </tr>\n",
       "  </thead>\n",
       "  <tbody>\n",
       "    <tr>\n",
       "      <th>2018-03-01 00:00:00</th>\n",
       "      <td>124</td>\n",
       "    </tr>\n",
       "    <tr>\n",
       "      <th>2018-03-01 01:00:00</th>\n",
       "      <td>85</td>\n",
       "    </tr>\n",
       "    <tr>\n",
       "      <th>2018-03-01 02:00:00</th>\n",
       "      <td>71</td>\n",
       "    </tr>\n",
       "    <tr>\n",
       "      <th>2018-03-01 03:00:00</th>\n",
       "      <td>66</td>\n",
       "    </tr>\n",
       "    <tr>\n",
       "      <th>2018-03-01 04:00:00</th>\n",
       "      <td>43</td>\n",
       "    </tr>\n",
       "  </tbody>\n",
       "</table>\n",
       "</div>"
      ],
      "text/plain": [
       "                     num_orders\n",
       "datetime                       \n",
       "2018-03-01 00:00:00         124\n",
       "2018-03-01 01:00:00          85\n",
       "2018-03-01 02:00:00          71\n",
       "2018-03-01 03:00:00          66\n",
       "2018-03-01 04:00:00          43"
      ]
     },
     "execution_count": 20,
     "metadata": {},
     "output_type": "execute_result"
    }
   ],
   "source": [
    "df.head()"
   ]
  },
  {
   "cell_type": "markdown",
   "id": "26449f2a",
   "metadata": {},
   "source": [
    "А теперь создадим функцию по созданию признаков, которые перечислили раннее."
   ]
  },
  {
   "cell_type": "code",
   "execution_count": 21,
   "id": "ed02eaef",
   "metadata": {},
   "outputs": [
    {
     "data": {
      "text/html": [
       "<div>\n",
       "<style scoped>\n",
       "    .dataframe tbody tr th:only-of-type {\n",
       "        vertical-align: middle;\n",
       "    }\n",
       "\n",
       "    .dataframe tbody tr th {\n",
       "        vertical-align: top;\n",
       "    }\n",
       "\n",
       "    .dataframe thead th {\n",
       "        text-align: right;\n",
       "    }\n",
       "</style>\n",
       "<table border=\"1\" class=\"dataframe\">\n",
       "  <thead>\n",
       "    <tr style=\"text-align: right;\">\n",
       "      <th></th>\n",
       "      <th>num_orders</th>\n",
       "      <th>weekday</th>\n",
       "      <th>hour</th>\n",
       "      <th>lag_1</th>\n",
       "      <th>lag_2</th>\n",
       "      <th>lag_3</th>\n",
       "      <th>lag_4</th>\n",
       "      <th>lag_5</th>\n",
       "      <th>lag_6</th>\n",
       "      <th>lag_7</th>\n",
       "      <th>...</th>\n",
       "      <th>lag_160</th>\n",
       "      <th>lag_161</th>\n",
       "      <th>lag_162</th>\n",
       "      <th>lag_163</th>\n",
       "      <th>lag_164</th>\n",
       "      <th>lag_165</th>\n",
       "      <th>lag_166</th>\n",
       "      <th>lag_167</th>\n",
       "      <th>lag_168</th>\n",
       "      <th>rolling_mean</th>\n",
       "    </tr>\n",
       "    <tr>\n",
       "      <th>datetime</th>\n",
       "      <th></th>\n",
       "      <th></th>\n",
       "      <th></th>\n",
       "      <th></th>\n",
       "      <th></th>\n",
       "      <th></th>\n",
       "      <th></th>\n",
       "      <th></th>\n",
       "      <th></th>\n",
       "      <th></th>\n",
       "      <th></th>\n",
       "      <th></th>\n",
       "      <th></th>\n",
       "      <th></th>\n",
       "      <th></th>\n",
       "      <th></th>\n",
       "      <th></th>\n",
       "      <th></th>\n",
       "      <th></th>\n",
       "      <th></th>\n",
       "      <th></th>\n",
       "    </tr>\n",
       "  </thead>\n",
       "  <tbody>\n",
       "    <tr>\n",
       "      <th>2018-03-01 00:00:00</th>\n",
       "      <td>124</td>\n",
       "      <td>3</td>\n",
       "      <td>0</td>\n",
       "      <td>NaN</td>\n",
       "      <td>NaN</td>\n",
       "      <td>NaN</td>\n",
       "      <td>NaN</td>\n",
       "      <td>NaN</td>\n",
       "      <td>NaN</td>\n",
       "      <td>NaN</td>\n",
       "      <td>...</td>\n",
       "      <td>NaN</td>\n",
       "      <td>NaN</td>\n",
       "      <td>NaN</td>\n",
       "      <td>NaN</td>\n",
       "      <td>NaN</td>\n",
       "      <td>NaN</td>\n",
       "      <td>NaN</td>\n",
       "      <td>NaN</td>\n",
       "      <td>NaN</td>\n",
       "      <td>NaN</td>\n",
       "    </tr>\n",
       "    <tr>\n",
       "      <th>2018-03-01 01:00:00</th>\n",
       "      <td>85</td>\n",
       "      <td>3</td>\n",
       "      <td>1</td>\n",
       "      <td>124.0</td>\n",
       "      <td>NaN</td>\n",
       "      <td>NaN</td>\n",
       "      <td>NaN</td>\n",
       "      <td>NaN</td>\n",
       "      <td>NaN</td>\n",
       "      <td>NaN</td>\n",
       "      <td>...</td>\n",
       "      <td>NaN</td>\n",
       "      <td>NaN</td>\n",
       "      <td>NaN</td>\n",
       "      <td>NaN</td>\n",
       "      <td>NaN</td>\n",
       "      <td>NaN</td>\n",
       "      <td>NaN</td>\n",
       "      <td>NaN</td>\n",
       "      <td>NaN</td>\n",
       "      <td>NaN</td>\n",
       "    </tr>\n",
       "    <tr>\n",
       "      <th>2018-03-01 02:00:00</th>\n",
       "      <td>71</td>\n",
       "      <td>3</td>\n",
       "      <td>2</td>\n",
       "      <td>85.0</td>\n",
       "      <td>124.0</td>\n",
       "      <td>NaN</td>\n",
       "      <td>NaN</td>\n",
       "      <td>NaN</td>\n",
       "      <td>NaN</td>\n",
       "      <td>NaN</td>\n",
       "      <td>...</td>\n",
       "      <td>NaN</td>\n",
       "      <td>NaN</td>\n",
       "      <td>NaN</td>\n",
       "      <td>NaN</td>\n",
       "      <td>NaN</td>\n",
       "      <td>NaN</td>\n",
       "      <td>NaN</td>\n",
       "      <td>NaN</td>\n",
       "      <td>NaN</td>\n",
       "      <td>NaN</td>\n",
       "    </tr>\n",
       "    <tr>\n",
       "      <th>2018-03-01 03:00:00</th>\n",
       "      <td>66</td>\n",
       "      <td>3</td>\n",
       "      <td>3</td>\n",
       "      <td>71.0</td>\n",
       "      <td>85.0</td>\n",
       "      <td>124.0</td>\n",
       "      <td>NaN</td>\n",
       "      <td>NaN</td>\n",
       "      <td>NaN</td>\n",
       "      <td>NaN</td>\n",
       "      <td>...</td>\n",
       "      <td>NaN</td>\n",
       "      <td>NaN</td>\n",
       "      <td>NaN</td>\n",
       "      <td>NaN</td>\n",
       "      <td>NaN</td>\n",
       "      <td>NaN</td>\n",
       "      <td>NaN</td>\n",
       "      <td>NaN</td>\n",
       "      <td>NaN</td>\n",
       "      <td>NaN</td>\n",
       "    </tr>\n",
       "    <tr>\n",
       "      <th>2018-03-01 04:00:00</th>\n",
       "      <td>43</td>\n",
       "      <td>3</td>\n",
       "      <td>4</td>\n",
       "      <td>66.0</td>\n",
       "      <td>71.0</td>\n",
       "      <td>85.0</td>\n",
       "      <td>124.0</td>\n",
       "      <td>NaN</td>\n",
       "      <td>NaN</td>\n",
       "      <td>NaN</td>\n",
       "      <td>...</td>\n",
       "      <td>NaN</td>\n",
       "      <td>NaN</td>\n",
       "      <td>NaN</td>\n",
       "      <td>NaN</td>\n",
       "      <td>NaN</td>\n",
       "      <td>NaN</td>\n",
       "      <td>NaN</td>\n",
       "      <td>NaN</td>\n",
       "      <td>NaN</td>\n",
       "      <td>NaN</td>\n",
       "    </tr>\n",
       "  </tbody>\n",
       "</table>\n",
       "<p>5 rows × 172 columns</p>\n",
       "</div>"
      ],
      "text/plain": [
       "                     num_orders  weekday  hour  lag_1  lag_2  lag_3  lag_4  \\\n",
       "datetime                                                                     \n",
       "2018-03-01 00:00:00         124        3     0    NaN    NaN    NaN    NaN   \n",
       "2018-03-01 01:00:00          85        3     1  124.0    NaN    NaN    NaN   \n",
       "2018-03-01 02:00:00          71        3     2   85.0  124.0    NaN    NaN   \n",
       "2018-03-01 03:00:00          66        3     3   71.0   85.0  124.0    NaN   \n",
       "2018-03-01 04:00:00          43        3     4   66.0   71.0   85.0  124.0   \n",
       "\n",
       "                     lag_5  lag_6  lag_7  ...  lag_160  lag_161  lag_162  \\\n",
       "datetime                                  ...                              \n",
       "2018-03-01 00:00:00    NaN    NaN    NaN  ...      NaN      NaN      NaN   \n",
       "2018-03-01 01:00:00    NaN    NaN    NaN  ...      NaN      NaN      NaN   \n",
       "2018-03-01 02:00:00    NaN    NaN    NaN  ...      NaN      NaN      NaN   \n",
       "2018-03-01 03:00:00    NaN    NaN    NaN  ...      NaN      NaN      NaN   \n",
       "2018-03-01 04:00:00    NaN    NaN    NaN  ...      NaN      NaN      NaN   \n",
       "\n",
       "                     lag_163  lag_164  lag_165  lag_166  lag_167  lag_168  \\\n",
       "datetime                                                                    \n",
       "2018-03-01 00:00:00      NaN      NaN      NaN      NaN      NaN      NaN   \n",
       "2018-03-01 01:00:00      NaN      NaN      NaN      NaN      NaN      NaN   \n",
       "2018-03-01 02:00:00      NaN      NaN      NaN      NaN      NaN      NaN   \n",
       "2018-03-01 03:00:00      NaN      NaN      NaN      NaN      NaN      NaN   \n",
       "2018-03-01 04:00:00      NaN      NaN      NaN      NaN      NaN      NaN   \n",
       "\n",
       "                     rolling_mean  \n",
       "datetime                           \n",
       "2018-03-01 00:00:00           NaN  \n",
       "2018-03-01 01:00:00           NaN  \n",
       "2018-03-01 02:00:00           NaN  \n",
       "2018-03-01 03:00:00           NaN  \n",
       "2018-03-01 04:00:00           NaN  \n",
       "\n",
       "[5 rows x 172 columns]"
      ]
     },
     "execution_count": 21,
     "metadata": {},
     "output_type": "execute_result"
    }
   ],
   "source": [
    "def make_features(data, max_lag, rolling_mean_size):\n",
    "    data['weekday'] = data.index.weekday\n",
    "    data['hour'] = data.index.hour\n",
    "    \n",
    "    for lag in range(1, max_lag + 1):\n",
    "        data[f'lag_{lag}'] = data['num_orders'].shift(lag)\n",
    "\n",
    "    data['rolling_mean'] = data['num_orders'].shift().rolling(rolling_mean_size).mean()\n",
    "\n",
    "\n",
    "make_features(df, 168, 168)\n",
    "df.head()"
   ]
  },
  {
   "cell_type": "markdown",
   "id": "7c47d287",
   "metadata": {},
   "source": [
    "Далее сделаем:\n",
    "\n",
    "1. Разобьем данные на входные признаки и целевой признак\n",
    "2. Разобьем данные на тренировочную и тестовую выборки в соотношении 90%-10%"
   ]
  },
  {
   "cell_type": "code",
   "execution_count": 22,
   "id": "ed4591cf",
   "metadata": {},
   "outputs": [
    {
     "name": "stdout",
     "output_type": "stream",
     "text": [
      "Тренировочная выборка\n",
      "(3806, 171)\n",
      "(3806,)\n",
      "Тестовая выборка\n",
      "(442, 171)\n",
      "(442,)\n"
     ]
    }
   ],
   "source": [
    "train, test = train_test_split(df, shuffle=False, test_size=0.1)\n",
    "train = train.dropna()\n",
    "\n",
    "X_train = train.drop('num_orders', axis=1)\n",
    "y_train = train['num_orders']\n",
    "\n",
    "X_test = test.drop('num_orders', axis=1)\n",
    "y_test = test['num_orders']\n",
    "\n",
    "print('Тренировочная выборка')\n",
    "print(X_train.shape)\n",
    "print(y_train.shape)\n",
    "print('Тестовая выборка')\n",
    "print(X_test.shape)\n",
    "print(y_test.shape)"
   ]
  },
  {
   "cell_type": "code",
   "execution_count": 23,
   "id": "424e3afa",
   "metadata": {},
   "outputs": [
    {
     "data": {
      "text/html": [
       "<div>\n",
       "<style scoped>\n",
       "    .dataframe tbody tr th:only-of-type {\n",
       "        vertical-align: middle;\n",
       "    }\n",
       "\n",
       "    .dataframe tbody tr th {\n",
       "        vertical-align: top;\n",
       "    }\n",
       "\n",
       "    .dataframe thead th {\n",
       "        text-align: right;\n",
       "    }\n",
       "</style>\n",
       "<table border=\"1\" class=\"dataframe\">\n",
       "  <thead>\n",
       "    <tr style=\"text-align: right;\">\n",
       "      <th></th>\n",
       "      <th>weekday</th>\n",
       "      <th>hour</th>\n",
       "      <th>lag_1</th>\n",
       "      <th>lag_2</th>\n",
       "      <th>lag_3</th>\n",
       "      <th>lag_4</th>\n",
       "      <th>lag_5</th>\n",
       "      <th>lag_6</th>\n",
       "      <th>lag_7</th>\n",
       "      <th>lag_8</th>\n",
       "      <th>...</th>\n",
       "      <th>lag_160</th>\n",
       "      <th>lag_161</th>\n",
       "      <th>lag_162</th>\n",
       "      <th>lag_163</th>\n",
       "      <th>lag_164</th>\n",
       "      <th>lag_165</th>\n",
       "      <th>lag_166</th>\n",
       "      <th>lag_167</th>\n",
       "      <th>lag_168</th>\n",
       "      <th>rolling_mean</th>\n",
       "    </tr>\n",
       "    <tr>\n",
       "      <th>datetime</th>\n",
       "      <th></th>\n",
       "      <th></th>\n",
       "      <th></th>\n",
       "      <th></th>\n",
       "      <th></th>\n",
       "      <th></th>\n",
       "      <th></th>\n",
       "      <th></th>\n",
       "      <th></th>\n",
       "      <th></th>\n",
       "      <th></th>\n",
       "      <th></th>\n",
       "      <th></th>\n",
       "      <th></th>\n",
       "      <th></th>\n",
       "      <th></th>\n",
       "      <th></th>\n",
       "      <th></th>\n",
       "      <th></th>\n",
       "      <th></th>\n",
       "      <th></th>\n",
       "    </tr>\n",
       "  </thead>\n",
       "  <tbody>\n",
       "    <tr>\n",
       "      <th>2018-03-08 00:00:00</th>\n",
       "      <td>3</td>\n",
       "      <td>0</td>\n",
       "      <td>94.0</td>\n",
       "      <td>127.0</td>\n",
       "      <td>108.0</td>\n",
       "      <td>76.0</td>\n",
       "      <td>50.0</td>\n",
       "      <td>99.0</td>\n",
       "      <td>48.0</td>\n",
       "      <td>46.0</td>\n",
       "      <td>...</td>\n",
       "      <td>34.0</td>\n",
       "      <td>15.0</td>\n",
       "      <td>12.0</td>\n",
       "      <td>6.0</td>\n",
       "      <td>43.0</td>\n",
       "      <td>66.0</td>\n",
       "      <td>71.0</td>\n",
       "      <td>85.0</td>\n",
       "      <td>124.0</td>\n",
       "      <td>54.226190</td>\n",
       "    </tr>\n",
       "    <tr>\n",
       "      <th>2018-03-08 01:00:00</th>\n",
       "      <td>3</td>\n",
       "      <td>1</td>\n",
       "      <td>143.0</td>\n",
       "      <td>94.0</td>\n",
       "      <td>127.0</td>\n",
       "      <td>108.0</td>\n",
       "      <td>76.0</td>\n",
       "      <td>50.0</td>\n",
       "      <td>99.0</td>\n",
       "      <td>48.0</td>\n",
       "      <td>...</td>\n",
       "      <td>69.0</td>\n",
       "      <td>34.0</td>\n",
       "      <td>15.0</td>\n",
       "      <td>12.0</td>\n",
       "      <td>6.0</td>\n",
       "      <td>43.0</td>\n",
       "      <td>66.0</td>\n",
       "      <td>71.0</td>\n",
       "      <td>85.0</td>\n",
       "      <td>54.339286</td>\n",
       "    </tr>\n",
       "    <tr>\n",
       "      <th>2018-03-08 02:00:00</th>\n",
       "      <td>3</td>\n",
       "      <td>2</td>\n",
       "      <td>78.0</td>\n",
       "      <td>143.0</td>\n",
       "      <td>94.0</td>\n",
       "      <td>127.0</td>\n",
       "      <td>108.0</td>\n",
       "      <td>76.0</td>\n",
       "      <td>50.0</td>\n",
       "      <td>99.0</td>\n",
       "      <td>...</td>\n",
       "      <td>64.0</td>\n",
       "      <td>69.0</td>\n",
       "      <td>34.0</td>\n",
       "      <td>15.0</td>\n",
       "      <td>12.0</td>\n",
       "      <td>6.0</td>\n",
       "      <td>43.0</td>\n",
       "      <td>66.0</td>\n",
       "      <td>71.0</td>\n",
       "      <td>54.297619</td>\n",
       "    </tr>\n",
       "    <tr>\n",
       "      <th>2018-03-08 03:00:00</th>\n",
       "      <td>3</td>\n",
       "      <td>3</td>\n",
       "      <td>65.0</td>\n",
       "      <td>78.0</td>\n",
       "      <td>143.0</td>\n",
       "      <td>94.0</td>\n",
       "      <td>127.0</td>\n",
       "      <td>108.0</td>\n",
       "      <td>76.0</td>\n",
       "      <td>50.0</td>\n",
       "      <td>...</td>\n",
       "      <td>96.0</td>\n",
       "      <td>64.0</td>\n",
       "      <td>69.0</td>\n",
       "      <td>34.0</td>\n",
       "      <td>15.0</td>\n",
       "      <td>12.0</td>\n",
       "      <td>6.0</td>\n",
       "      <td>43.0</td>\n",
       "      <td>66.0</td>\n",
       "      <td>54.261905</td>\n",
       "    </tr>\n",
       "    <tr>\n",
       "      <th>2018-03-08 04:00:00</th>\n",
       "      <td>3</td>\n",
       "      <td>4</td>\n",
       "      <td>68.0</td>\n",
       "      <td>65.0</td>\n",
       "      <td>78.0</td>\n",
       "      <td>143.0</td>\n",
       "      <td>94.0</td>\n",
       "      <td>127.0</td>\n",
       "      <td>108.0</td>\n",
       "      <td>76.0</td>\n",
       "      <td>...</td>\n",
       "      <td>30.0</td>\n",
       "      <td>96.0</td>\n",
       "      <td>64.0</td>\n",
       "      <td>69.0</td>\n",
       "      <td>34.0</td>\n",
       "      <td>15.0</td>\n",
       "      <td>12.0</td>\n",
       "      <td>6.0</td>\n",
       "      <td>43.0</td>\n",
       "      <td>54.273810</td>\n",
       "    </tr>\n",
       "  </tbody>\n",
       "</table>\n",
       "<p>5 rows × 171 columns</p>\n",
       "</div>"
      ],
      "text/plain": [
       "                     weekday  hour  lag_1  lag_2  lag_3  lag_4  lag_5  lag_6  \\\n",
       "datetime                                                                       \n",
       "2018-03-08 00:00:00        3     0   94.0  127.0  108.0   76.0   50.0   99.0   \n",
       "2018-03-08 01:00:00        3     1  143.0   94.0  127.0  108.0   76.0   50.0   \n",
       "2018-03-08 02:00:00        3     2   78.0  143.0   94.0  127.0  108.0   76.0   \n",
       "2018-03-08 03:00:00        3     3   65.0   78.0  143.0   94.0  127.0  108.0   \n",
       "2018-03-08 04:00:00        3     4   68.0   65.0   78.0  143.0   94.0  127.0   \n",
       "\n",
       "                     lag_7  lag_8  ...  lag_160  lag_161  lag_162  lag_163  \\\n",
       "datetime                           ...                                       \n",
       "2018-03-08 00:00:00   48.0   46.0  ...     34.0     15.0     12.0      6.0   \n",
       "2018-03-08 01:00:00   99.0   48.0  ...     69.0     34.0     15.0     12.0   \n",
       "2018-03-08 02:00:00   50.0   99.0  ...     64.0     69.0     34.0     15.0   \n",
       "2018-03-08 03:00:00   76.0   50.0  ...     96.0     64.0     69.0     34.0   \n",
       "2018-03-08 04:00:00  108.0   76.0  ...     30.0     96.0     64.0     69.0   \n",
       "\n",
       "                     lag_164  lag_165  lag_166  lag_167  lag_168  rolling_mean  \n",
       "datetime                                                                        \n",
       "2018-03-08 00:00:00     43.0     66.0     71.0     85.0    124.0     54.226190  \n",
       "2018-03-08 01:00:00      6.0     43.0     66.0     71.0     85.0     54.339286  \n",
       "2018-03-08 02:00:00     12.0      6.0     43.0     66.0     71.0     54.297619  \n",
       "2018-03-08 03:00:00     15.0     12.0      6.0     43.0     66.0     54.261905  \n",
       "2018-03-08 04:00:00     34.0     15.0     12.0      6.0     43.0     54.273810  \n",
       "\n",
       "[5 rows x 171 columns]"
      ]
     },
     "execution_count": 23,
     "metadata": {},
     "output_type": "execute_result"
    }
   ],
   "source": [
    "X_train.head()"
   ]
  },
  {
   "cell_type": "markdown",
   "id": "7451ac86",
   "metadata": {},
   "source": [
    "#### **Вывод по подготовке данных**\n",
    "\n",
    "На этом этапе в данные были добавлены признаки:\n",
    "* Номер дня\n",
    "* Номер месяца\n",
    "* Номер недели\n",
    "* Час дня\n",
    "* \"Отстающие значения\" (добавили 4 столбца)\n",
    "\n",
    "Были удалены пропуски в данных.\n",
    "\n",
    "Также, данные были разделены на целевой признак и входные признаки, и были разделены на тренировочную и тестовую выборки в соотношении 90%-10% соответственно."
   ]
  },
  {
   "cell_type": "markdown",
   "id": "59e8155b",
   "metadata": {},
   "source": [
    "### Обучение моделей"
   ]
  },
  {
   "cell_type": "markdown",
   "id": "3ec86372",
   "metadata": {},
   "source": [
    "На этом этапе обучим 3 модели:\n",
    "1. DummyRegressor\n",
    "2. LinearRegression\n",
    "3. CatBoostRegressor\n",
    "\n",
    " Алгоритм работы будет выглядеть так:\n",
    "- оптимизация гиперпараметров и поиск лучшей модели с помощью кросс-валидации GridSearchCV;\n",
    "- оценка метрики `RMSE`; \n",
    "- оценка метрики `RMSE` на тестовой выборке;"
   ]
  },
  {
   "cell_type": "markdown",
   "id": "79647b18",
   "metadata": {},
   "source": [
    "=================="
   ]
  },
  {
   "cell_type": "markdown",
   "id": "32d6dad3",
   "metadata": {},
   "source": [
    "Так как у нас временные ряды, будем использовать специальный для них кросс-валидатор, чтобы данные были разбиты на фолды без перемешивания."
   ]
  },
  {
   "cell_type": "code",
   "execution_count": 24,
   "id": "027eea2f",
   "metadata": {},
   "outputs": [],
   "source": [
    "# Создаем кросс-валидатор для временных рядов\n",
    "tscv = TimeSeriesSplit(n_splits=5)"
   ]
  },
  {
   "cell_type": "markdown",
   "id": "af4dd3bc",
   "metadata": {},
   "source": [
    "#### **Dummy Regressor**\n",
    "\n",
    "DummyRegressor - константная модель. Обучим ее, чтобы убедиться, что остальные модели действительно находят закономерности в данных. "
   ]
  },
  {
   "cell_type": "code",
   "execution_count": 25,
   "id": "16905e34",
   "metadata": {},
   "outputs": [
    {
     "name": "stdout",
     "output_type": "stream",
     "text": [
      "Fitting 5 folds for each of 9 candidates, totalling 45 fits\n",
      "Лучшие параметры для DummyRegressor: {'constant': 79.35286389910668, 'strategy': 'constant'}\n",
      "RMSE на кросс-валидации: 38.42599854116817\n"
     ]
    }
   ],
   "source": [
    "model_dummy = DummyRegressor()\n",
    "\n",
    "parameters_dummy = {\n",
    "    'strategy': ['mean', 'median', 'constant'],\n",
    "    'constant': [None, 0, y_train.mean()]\n",
    "}\n",
    "\n",
    "grid_search_dummy = GridSearchCV(\n",
    "    model_dummy,\n",
    "    parameters_dummy,\n",
    "    cv=tscv, \n",
    "    scoring='neg_root_mean_squared_error',\n",
    "    n_jobs=-1,\n",
    "    verbose=1\n",
    ")\n",
    "\n",
    "grid_search_dummy.fit(X_train, y_train)\n",
    "\n",
    "best_params_dummy = grid_search_dummy.best_params_\n",
    "best_model_dummy = grid_search_dummy.best_estimator_\n",
    "\n",
    "RMSE_train_dummy = -grid_search_dummy.best_score_\n",
    "print('Лучшие параметры для DummyRegressor:', best_params_dummy)\n",
    "print('RMSE на кросс-валидации:', RMSE_train_dummy)"
   ]
  },
  {
   "cell_type": "code",
   "execution_count": 26,
   "id": "f8407fff",
   "metadata": {},
   "outputs": [
    {
     "name": "stdout",
     "output_type": "stream",
     "text": [
      "RMSE на тестовой выборке : 83.9794\n"
     ]
    }
   ],
   "source": [
    "y_pred_test = best_model_dummy.predict(X_test)\n",
    "\n",
    "RMSE_test_Dummy = np.sqrt(mean_squared_error(y_test, y_pred_test))\n",
    "print(f\"RMSE на тестовой выборке : {RMSE_test_Dummy:.4f}\")"
   ]
  },
  {
   "cell_type": "code",
   "execution_count": 27,
   "id": "9da7ba62",
   "metadata": {},
   "outputs": [
    {
     "name": "stdout",
     "output_type": "stream",
     "text": [
      "RMSE на тестовой выборке: 55.7208\n"
     ]
    }
   ],
   "source": [
    "X_test_copy = X_test.copy()\n",
    "# берем предсказания за вчерашний день\n",
    "pred_24h = X_test_copy.shift(24)\n",
    "\n",
    "pred_24h_clean = pred_24h.dropna()\n",
    "test_clean = X_test_copy.loc[pred_24h_clean.index]  \n",
    "\n",
    "rmse_24h = np.sqrt(mean_squared_error(test_clean, pred_24h_clean))\n",
    "print(f\"RMSE на тестовой выборке: {rmse_24h:.4f}\")"
   ]
  },
  {
   "cell_type": "markdown",
   "id": "64f97286",
   "metadata": {},
   "source": [
    "#### **LinearRegression**"
   ]
  },
  {
   "cell_type": "markdown",
   "id": "f6d5ed70",
   "metadata": {},
   "source": [
    "Сначала масштабируем количественные признаки с помощью StandardScaler() и закодируем признаки **weekday** и **hour** с помощью OneHotEncoder:"
   ]
  },
  {
   "cell_type": "code",
   "execution_count": 28,
   "id": "f9a9f6db",
   "metadata": {},
   "outputs": [],
   "source": [
    "X_train_copy = X_train.copy()\n",
    "X_test_copy = X_test.copy()\n",
    "\n",
    "num_columns = X_train_copy.select_dtypes(include='number').columns.tolist()\n",
    "ohe_columns = ['weekday', 'hour']\n",
    "\n",
    "num_columns = [col for col in num_columns if col not in ohe_columns]\n",
    "\n",
    "data_preprocessor = ColumnTransformer(\n",
    "    [('ohe', OneHotEncoder(drop='first', handle_unknown='ignore', sparse_output=False), ohe_columns),\n",
    "     ('num', StandardScaler(), num_columns)\n",
    "    ], \n",
    "    remainder='passthrough'\n",
    ")\n",
    "\n",
    "pipeline = Pipeline([\n",
    "    ('preprocessor', data_preprocessor),\n",
    "    ('model', LinearRegression())\n",
    "])\n",
    "\n",
    "parameters_lr = {\n",
    "    'model__fit_intercept': [True, False],\n",
    "    'model__copy_X': [True, False]\n",
    "}"
   ]
  },
  {
   "cell_type": "code",
   "execution_count": 29,
   "id": "b8f88d0a",
   "metadata": {},
   "outputs": [
    {
     "name": "stdout",
     "output_type": "stream",
     "text": [
      "Fitting 5 folds for each of 4 candidates, totalling 20 fits\n",
      "Лучшие параметры для LinearRegression: {'model__copy_X': True, 'model__fit_intercept': True}\n",
      "RMSE на кросс-валидации: 23.074860919800276\n"
     ]
    }
   ],
   "source": [
    "grid_search_lr = GridSearchCV(\n",
    "    pipeline,\n",
    "    parameters_lr,\n",
    "    cv=tscv, \n",
    "    scoring='neg_root_mean_squared_error',\n",
    "    n_jobs=-1,\n",
    "    verbose=1\n",
    ")\n",
    "\n",
    "grid_search_lr.fit(X_train_copy, y_train)\n",
    "\n",
    "best_params_lr = grid_search_lr.best_params_\n",
    "best_model_lr = grid_search_lr.best_estimator_\n",
    "\n",
    "RMSE_train_LR = -grid_search_lr.best_score_\n",
    "print('Лучшие параметры для LinearRegression:', best_params_lr)\n",
    "print('RMSE на кросс-валидации:', RMSE_train_LR)"
   ]
  },
  {
   "cell_type": "markdown",
   "id": "062bc952",
   "metadata": {},
   "source": [
    "#### **CatBoostRegressor**"
   ]
  },
  {
   "cell_type": "code",
   "execution_count": 33,
   "id": "90249e77",
   "metadata": {},
   "outputs": [
    {
     "name": "stdout",
     "output_type": "stream",
     "text": [
      "Лучшие параметры для CatBoostRegressor: {'depth': 4, 'n_estimators': 100}\n",
      "RMSE на кросс-валидации: 23.476901956401854\n"
     ]
    }
   ],
   "source": [
    "model_catboost = CatBoostRegressor(\n",
    "    random_seed=42,\n",
    "    verbose=0,\n",
    "    thread_count=-1)\n",
    "\n",
    "parameters_catboost = {\n",
    "    'n_estimators': [50, 100],\n",
    "    'depth': [4, 5, 10]\n",
    "}\n",
    "\n",
    "grid_search_catboost = GridSearchCV(\n",
    "    model_catboost,\n",
    "    parameters_catboost,\n",
    "    cv=tscv,  \n",
    "    scoring='neg_root_mean_squared_error',\n",
    "    n_jobs=1, \n",
    "    verbose=0\n",
    ")\n",
    "\n",
    "\n",
    "grid_search_catboost.fit(X_train, y_train)\n",
    "\n",
    "\n",
    "best_params_catboost = grid_search_catboost.best_params_\n",
    "best_model_catboost = grid_search_catboost.best_estimator_\n",
    "\n",
    "RMSE_train_CatBoost = -grid_search_catboost.best_score_\n",
    "\n",
    "print('Лучшие параметры для CatBoostRegressor:', best_params_catboost)\n",
    "print('RMSE на кросс-валидации:', RMSE_train_CatBoost)"
   ]
  },
  {
   "cell_type": "markdown",
   "id": "5f0cff37",
   "metadata": {},
   "source": [
    "#### Сравнение моделей"
   ]
  },
  {
   "cell_type": "code",
   "execution_count": 35,
   "id": "fddb8e57",
   "metadata": {},
   "outputs": [],
   "source": [
    "columns = ['Model', 'CV RMSE']\n",
    "rows = [['CatBoost', round(RMSE_train_CatBoost, 2)],\n",
    "        ['LinearRegression', round(RMSE_train_LR, 2)],\n",
    "        ['DummyRegressor', round(RMSE_train_dummy, 2)]]\n",
    "RMSE_df = pd.DataFrame(columns=columns, data=rows)"
   ]
  },
  {
   "cell_type": "code",
   "execution_count": 36,
   "id": "c924e11b",
   "metadata": {
    "scrolled": true
   },
   "outputs": [
    {
     "data": {
      "text/html": [
       "<div>\n",
       "<style scoped>\n",
       "    .dataframe tbody tr th:only-of-type {\n",
       "        vertical-align: middle;\n",
       "    }\n",
       "\n",
       "    .dataframe tbody tr th {\n",
       "        vertical-align: top;\n",
       "    }\n",
       "\n",
       "    .dataframe thead th {\n",
       "        text-align: right;\n",
       "    }\n",
       "</style>\n",
       "<table border=\"1\" class=\"dataframe\">\n",
       "  <thead>\n",
       "    <tr style=\"text-align: right;\">\n",
       "      <th></th>\n",
       "      <th>Model</th>\n",
       "      <th>CV RMSE</th>\n",
       "    </tr>\n",
       "  </thead>\n",
       "  <tbody>\n",
       "    <tr>\n",
       "      <th>0</th>\n",
       "      <td>CatBoost</td>\n",
       "      <td>23.48</td>\n",
       "    </tr>\n",
       "    <tr>\n",
       "      <th>1</th>\n",
       "      <td>LinearRegression</td>\n",
       "      <td>23.07</td>\n",
       "    </tr>\n",
       "    <tr>\n",
       "      <th>2</th>\n",
       "      <td>DummyRegressor</td>\n",
       "      <td>38.43</td>\n",
       "    </tr>\n",
       "  </tbody>\n",
       "</table>\n",
       "</div>"
      ],
      "text/plain": [
       "              Model  CV RMSE\n",
       "0          CatBoost    23.48\n",
       "1  LinearRegression    23.07\n",
       "2    DummyRegressor    38.43"
      ]
     },
     "execution_count": 36,
     "metadata": {},
     "output_type": "execute_result"
    }
   ],
   "source": [
    "RMSE_df"
   ]
  },
  {
   "cell_type": "markdown",
   "id": "9897d061",
   "metadata": {},
   "source": [
    "Самой лучшей моделью оказалась модель линейной регрессии **LinearRegression**."
   ]
  },
  {
   "cell_type": "markdown",
   "id": "43d3da66",
   "metadata": {},
   "source": [
    "Теперь посмотрим, какая метрика получится у нашей лучшей модели на тестовой выборке."
   ]
  },
  {
   "cell_type": "code",
   "execution_count": 37,
   "id": "93ca2d40",
   "metadata": {},
   "outputs": [
    {
     "name": "stdout",
     "output_type": "stream",
     "text": [
      "RMSE на тестовой выборке : 34.1819\n"
     ]
    }
   ],
   "source": [
    "y_pred_lr = best_model_lr.predict(X_test_copy)\n",
    "\n",
    "RMSE_test_LR = np.sqrt(mean_squared_error(y_test, y_pred_lr))\n",
    "print(f\"RMSE на тестовой выборке : {RMSE_test_LR:.4f}\")"
   ]
  },
  {
   "cell_type": "markdown",
   "id": "eceb8929",
   "metadata": {},
   "source": [
    "Прежде чем окончательно дать ответ, что лучшей модели можно доверять, посмотрим на анализ остатков модели LinearRegression:"
   ]
  },
  {
   "cell_type": "code",
   "execution_count": 38,
   "id": "b19d3add",
   "metadata": {},
   "outputs": [
    {
     "data": {
      "image/png": "[encoded data removed]",
      "text/plain": [
       "<Figure size 1080x720 with 2 Axes>"
      ]
     },
     "metadata": {
      "needs_background": "light"
     },
     "output_type": "display_data"
    }
   ],
   "source": [
    "residuals = y_test - y_pred_lr\n",
    "\n",
    "plt.figure(figsize=(15, 10))\n",
    "\n",
    "# 1. Распределение остатков\n",
    "plt.subplot(2, 2, 1)\n",
    "sns.histplot(residuals, kde=True)\n",
    "plt.title('Распределение остатков')\n",
    "plt.axvline(0, color='r', linestyle='--')\n",
    "\n",
    "# 2. Остатки vs Предсказания\n",
    "plt.subplot(2, 2, 2)\n",
    "plt.scatter(y_pred_lr, residuals, alpha=0.6)\n",
    "plt.axhline(0, color='r', linestyle='--')\n",
    "plt.xlabel('Предсказанные значения')\n",
    "plt.ylabel('Остатки')\n",
    "plt.title('Остатки vs Предсказания');\n",
    "\n"
   ]
  },
  {
   "cell_type": "markdown",
   "id": "d22457e5",
   "metadata": {},
   "source": [
    "Не наблюдается смещения относительно нуля, однако в распределении присутсвуют выбросы, что обуславливается изменением тренда заказов такси. Анализ диспресии показывает, что разброс почти постоянен, однако все равно наблюдаются выбросы. \n",
    "\n",
    "На основании анализа остаткой можно заключить, что модель достаточно хороша для краткосрочных прогнозов. Наличие выбросов показывает, что с течением времени ее точность будет снижаться. Модель требует регулярного планового переобучения."
   ]
  },
  {
   "cell_type": "markdown",
   "id": "8441c32a",
   "metadata": {},
   "source": [
    "### Вывод"
   ]
  },
  {
   "cell_type": "markdown",
   "id": "52501f92",
   "metadata": {},
   "source": [
    "**Цель проекта** была достигнута: разработана модель машинного обучения для предсказания количества заказов такси на следующий час.\n",
    "\n",
    "**1. Анализ и предобработка данных**\n",
    "\n",
    "Данные в нашем датафрейме указаны с 1 марта 2018 года по 31 августа 2018 года.\n",
    "\n",
    "Можно выделить такие статистики:\n",
    "* Среднее количество заказов в час - 84\n",
    "* Медианное количество заказов в час - 45\n",
    "* Минимально возможное количество заказов в час - 0\n",
    "* Максимально возможное количество заказов в час - 462\n",
    "\n",
    "Чаще всего количество заказов в час составляет 60-100. \n",
    "\n",
    "Также в данных имелись значения, превышающие 250 заказов в час. Однако, большинство таких \"выбросов\" произошло в августе (последний месяц наблюдений), что оказывается не было случайностью. Анализ тренда показал, что каждый месяц среднее количество заказов не быстро, но растет. Поэтому было принято решение \"выбросы\" не удалять.\n",
    "\n",
    "**2. Выбор и оценка моделей**\n",
    "\n",
    "Было 3 кандидата:\n",
    "\n",
    "* **DummyRegressor**: эту модель использовали, чтобы убедиться, что остальные модели находят закономерности в данных. То есть метрика качества других моделей не должна быть хуже метрики, которую выдает DummyRegressor.\n",
    "* **LinearRegression**: Выступила в качестве простой и интерпретируемой линейной модели. Ее результаты более уступили сложным алгоритмам, что подтвердило наличие нелинейных зависимостей в данных.\n",
    "* **CatBoostRegressor**: Сложный алгоритм градиентного бустинга, показавший наивысшее качество предсказания. Гиперпараметры были настроены с помощью GridSearchCV, что позволило максимально раскрыть потенциал на предоставленных данных.\n",
    "\n",
    "**3. Результаты и выбор финальной модели**\n",
    "\n",
    "Наиболее подходящей оказалась модель **LinearRegression**\n",
    "\n",
    "Она оказалась самой точной по предказанию моделью."
   ]
  },
  {
   "cell_type": "markdown",
   "id": "7a5029cf",
   "metadata": {},
   "source": [
    "Лучшая модель, которая будет рекомендована заказчику:"
   ]
  },
  {
   "cell_type": "code",
   "execution_count": 39,
   "id": "f592da37",
   "metadata": {},
   "outputs": [
    {
     "data": {
      "text/html": [
       "<style>#sk-container-id-1 {color: black;}#sk-container-id-1 pre{padding: 0;}#sk-container-id-1 div.sk-toggleable {background-color: white;}#sk-container-id-1 label.sk-toggleable__label {cursor: pointer;display: block;width: 100%;margin-bottom: 0;padding: 0.3em;box-sizing: border-box;text-align: center;}#sk-container-id-1 label.sk-toggleable__label-arrow:before {content: \"▸\";float: left;margin-right: 0.25em;color: #696969;}#sk-container-id-1 label.sk-toggleable__label-arrow:hover:before {color: black;}#sk-container-id-1 div.sk-estimator:hover label.sk-toggleable__label-arrow:before {color: black;}#sk-container-id-1 div.sk-toggleable__content {max-height: 0;max-width: 0;overflow: hidden;text-align: left;background-color: #f0f8ff;}#sk-container-id-1 div.sk-toggleable__content pre {margin: 0.2em;color: black;border-radius: 0.25em;background-color: #f0f8ff;}#sk-container-id-1 input.sk-toggleable__control:checked~div.sk-toggleable__content {max-height: 200px;max-width: 100%;overflow: auto;}#sk-container-id-1 input.sk-toggleable__control:checked~label.sk-toggleable__label-arrow:before {content: \"▾\";}#sk-container-id-1 div.sk-estimator input.sk-toggleable__control:checked~label.sk-toggleable__label {background-color: #d4ebff;}#sk-container-id-1 div.sk-label input.sk-toggleable__control:checked~label.sk-toggleable__label {background-color: #d4ebff;}#sk-container-id-1 input.sk-hidden--visually {border: 0;clip: rect(1px 1px 1px 1px);clip: rect(1px, 1px, 1px, 1px);height: 1px;margin: -1px;overflow: hidden;padding: 0;position: absolute;width: 1px;}#sk-container-id-1 div.sk-estimator {font-family: monospace;background-color: #f0f8ff;border: 1px dotted black;border-radius: 0.25em;box-sizing: border-box;margin-bottom: 0.5em;}#sk-container-id-1 div.sk-estimator:hover {background-color: #d4ebff;}#sk-container-id-1 div.sk-parallel-item::after {content: \"\";width: 100%;border-bottom: 1px solid gray;flex-grow: 1;}#sk-container-id-1 div.sk-label:hover label.sk-toggleable__label {background-color: #d4ebff;}#sk-container-id-1 div.sk-serial::before {content: \"\";position: absolute;border-left: 1px solid gray;box-sizing: border-box;top: 0;bottom: 0;left: 50%;z-index: 0;}#sk-container-id-1 div.sk-serial {display: flex;flex-direction: column;align-items: center;background-color: white;padding-right: 0.2em;padding-left: 0.2em;position: relative;}#sk-container-id-1 div.sk-item {position: relative;z-index: 1;}#sk-container-id-1 div.sk-parallel {display: flex;align-items: stretch;justify-content: center;background-color: white;position: relative;}#sk-container-id-1 div.sk-item::before, #sk-container-id-1 div.sk-parallel-item::before {content: \"\";position: absolute;border-left: 1px solid gray;box-sizing: border-box;top: 0;bottom: 0;left: 50%;z-index: -1;}#sk-container-id-1 div.sk-parallel-item {display: flex;flex-direction: column;z-index: 1;position: relative;background-color: white;}#sk-container-id-1 div.sk-parallel-item:first-child::after {align-self: flex-end;width: 50%;}#sk-container-id-1 div.sk-parallel-item:last-child::after {align-self: flex-start;width: 50%;}#sk-container-id-1 div.sk-parallel-item:only-child::after {width: 0;}#sk-container-id-1 div.sk-dashed-wrapped {border: 1px dashed gray;margin: 0 0.4em 0.5em 0.4em;box-sizing: border-box;padding-bottom: 0.4em;background-color: white;}#sk-container-id-1 div.sk-label label {font-family: monospace;font-weight: bold;display: inline-block;line-height: 1.2em;}#sk-container-id-1 div.sk-label-container {text-align: center;}#sk-container-id-1 div.sk-container {/* jupyter's `normalize.less` sets `[hidden] { display: none; }` but bootstrap.min.css set `[hidden] { display: none !important; }` so we also need the `!important` here to be able to override the default hidden behavior on the sphinx rendered scikit-learn.org. See: https://github.com/scikit-learn/scikit-learn/issues/21755 */display: inline-block !important;position: relative;}#sk-container-id-1 div.sk-text-repr-fallback {display: none;}</style><div id=\"sk-container-id-1\" class=\"sk-top-container\"><div class=\"sk-text-repr-fallback\"><pre>Pipeline(steps=[(&#x27;preprocessor&#x27;,\n",
       "                 ColumnTransformer(remainder=&#x27;passthrough&#x27;,\n",
       "                                   transformers=[(&#x27;ohe&#x27;,\n",
       "                                                  OneHotEncoder(drop=&#x27;first&#x27;,\n",
       "                                                                handle_unknown=&#x27;ignore&#x27;,\n",
       "                                                                sparse_output=False),\n",
       "                                                  [&#x27;weekday&#x27;, &#x27;hour&#x27;]),\n",
       "                                                 (&#x27;num&#x27;, StandardScaler(),\n",
       "                                                  [&#x27;lag_1&#x27;, &#x27;lag_2&#x27;, &#x27;lag_3&#x27;,\n",
       "                                                   &#x27;lag_4&#x27;, &#x27;lag_5&#x27;, &#x27;lag_6&#x27;,\n",
       "                                                   &#x27;lag_7&#x27;, &#x27;lag_8&#x27;, &#x27;lag_9&#x27;,\n",
       "                                                   &#x27;lag_10&#x27;, &#x27;lag_11&#x27;, &#x27;lag_12&#x27;,\n",
       "                                                   &#x27;lag_13&#x27;, &#x27;lag_14&#x27;, &#x27;lag_15&#x27;,\n",
       "                                                   &#x27;lag_16&#x27;, &#x27;lag_17&#x27;, &#x27;lag_18&#x27;,\n",
       "                                                   &#x27;lag_19&#x27;, &#x27;lag_20&#x27;, &#x27;lag_21&#x27;,\n",
       "                                                   &#x27;lag_22&#x27;, &#x27;lag_23&#x27;, &#x27;lag_24&#x27;,\n",
       "                                                   &#x27;lag_25&#x27;, &#x27;lag_26&#x27;, &#x27;lag_27&#x27;,\n",
       "                                                   &#x27;lag_28&#x27;, &#x27;lag_29&#x27;, &#x27;lag_30&#x27;, ...])])),\n",
       "                (&#x27;model&#x27;, LinearRegression())])</pre><b>In a Jupyter environment, please rerun this cell to show the HTML representation or trust the notebook. <br />On GitHub, the HTML representation is unable to render, please try loading this page with nbviewer.org.</b></div><div class=\"sk-container\" hidden><div class=\"sk-item sk-dashed-wrapped\"><div class=\"sk-label-container\"><div class=\"sk-label sk-toggleable\"><input class=\"sk-toggleable__control sk-hidden--visually\" id=\"sk-estimator-id-1\" type=\"checkbox\" ><label for=\"sk-estimator-id-1\" class=\"sk-toggleable__label sk-toggleable__label-arrow\">Pipeline</label><div class=\"sk-toggleable__content\"><pre>Pipeline(steps=[(&#x27;preprocessor&#x27;,\n",
       "                 ColumnTransformer(remainder=&#x27;passthrough&#x27;,\n",
       "                                   transformers=[(&#x27;ohe&#x27;,\n",
       "                                                  OneHotEncoder(drop=&#x27;first&#x27;,\n",
       "                                                                handle_unknown=&#x27;ignore&#x27;,\n",
       "                                                                sparse_output=False),\n",
       "                                                  [&#x27;weekday&#x27;, &#x27;hour&#x27;]),\n",
       "                                                 (&#x27;num&#x27;, StandardScaler(),\n",
       "                                                  [&#x27;lag_1&#x27;, &#x27;lag_2&#x27;, &#x27;lag_3&#x27;,\n",
       "                                                   &#x27;lag_4&#x27;, &#x27;lag_5&#x27;, &#x27;lag_6&#x27;,\n",
       "                                                   &#x27;lag_7&#x27;, &#x27;lag_8&#x27;, &#x27;lag_9&#x27;,\n",
       "                                                   &#x27;lag_10&#x27;, &#x27;lag_11&#x27;, &#x27;lag_12&#x27;,\n",
       "                                                   &#x27;lag_13&#x27;, &#x27;lag_14&#x27;, &#x27;lag_15&#x27;,\n",
       "                                                   &#x27;lag_16&#x27;, &#x27;lag_17&#x27;, &#x27;lag_18&#x27;,\n",
       "                                                   &#x27;lag_19&#x27;, &#x27;lag_20&#x27;, &#x27;lag_21&#x27;,\n",
       "                                                   &#x27;lag_22&#x27;, &#x27;lag_23&#x27;, &#x27;lag_24&#x27;,\n",
       "                                                   &#x27;lag_25&#x27;, &#x27;lag_26&#x27;, &#x27;lag_27&#x27;,\n",
       "                                                   &#x27;lag_28&#x27;, &#x27;lag_29&#x27;, &#x27;lag_30&#x27;, ...])])),\n",
       "                (&#x27;model&#x27;, LinearRegression())])</pre></div></div></div><div class=\"sk-serial\"><div class=\"sk-item sk-dashed-wrapped\"><div class=\"sk-label-container\"><div class=\"sk-label sk-toggleable\"><input class=\"sk-toggleable__control sk-hidden--visually\" id=\"sk-estimator-id-2\" type=\"checkbox\" ><label for=\"sk-estimator-id-2\" class=\"sk-toggleable__label sk-toggleable__label-arrow\">preprocessor: ColumnTransformer</label><div class=\"sk-toggleable__content\"><pre>ColumnTransformer(remainder=&#x27;passthrough&#x27;,\n",
       "                  transformers=[(&#x27;ohe&#x27;,\n",
       "                                 OneHotEncoder(drop=&#x27;first&#x27;,\n",
       "                                               handle_unknown=&#x27;ignore&#x27;,\n",
       "                                               sparse_output=False),\n",
       "                                 [&#x27;weekday&#x27;, &#x27;hour&#x27;]),\n",
       "                                (&#x27;num&#x27;, StandardScaler(),\n",
       "                                 [&#x27;lag_1&#x27;, &#x27;lag_2&#x27;, &#x27;lag_3&#x27;, &#x27;lag_4&#x27;, &#x27;lag_5&#x27;,\n",
       "                                  &#x27;lag_6&#x27;, &#x27;lag_7&#x27;, &#x27;lag_8&#x27;, &#x27;lag_9&#x27;, &#x27;lag_10&#x27;,\n",
       "                                  &#x27;lag_11&#x27;, &#x27;lag_12&#x27;, &#x27;lag_13&#x27;, &#x27;lag_14&#x27;,\n",
       "                                  &#x27;lag_15&#x27;, &#x27;lag_16&#x27;, &#x27;lag_17&#x27;, &#x27;lag_18&#x27;,\n",
       "                                  &#x27;lag_19&#x27;, &#x27;lag_20&#x27;, &#x27;lag_21&#x27;, &#x27;lag_22&#x27;,\n",
       "                                  &#x27;lag_23&#x27;, &#x27;lag_24&#x27;, &#x27;lag_25&#x27;, &#x27;lag_26&#x27;,\n",
       "                                  &#x27;lag_27&#x27;, &#x27;lag_28&#x27;, &#x27;lag_29&#x27;, &#x27;lag_30&#x27;, ...])])</pre></div></div></div><div class=\"sk-parallel\"><div class=\"sk-parallel-item\"><div class=\"sk-item\"><div class=\"sk-label-container\"><div class=\"sk-label sk-toggleable\"><input class=\"sk-toggleable__control sk-hidden--visually\" id=\"sk-estimator-id-3\" type=\"checkbox\" ><label for=\"sk-estimator-id-3\" class=\"sk-toggleable__label sk-toggleable__label-arrow\">ohe</label><div class=\"sk-toggleable__content\"><pre>[&#x27;weekday&#x27;, &#x27;hour&#x27;]</pre></div></div></div><div class=\"sk-serial\"><div class=\"sk-item\"><div class=\"sk-estimator sk-toggleable\"><input class=\"sk-toggleable__control sk-hidden--visually\" id=\"sk-estimator-id-4\" type=\"checkbox\" ><label for=\"sk-estimator-id-4\" class=\"sk-toggleable__label sk-toggleable__label-arrow\">OneHotEncoder</label><div class=\"sk-toggleable__content\"><pre>OneHotEncoder(drop=&#x27;first&#x27;, handle_unknown=&#x27;ignore&#x27;, sparse_output=False)</pre></div></div></div></div></div></div><div class=\"sk-parallel-item\"><div class=\"sk-item\"><div class=\"sk-label-container\"><div class=\"sk-label sk-toggleable\"><input class=\"sk-toggleable__control sk-hidden--visually\" id=\"sk-estimator-id-5\" type=\"checkbox\" ><label for=\"sk-estimator-id-5\" class=\"sk-toggleable__label sk-toggleable__label-arrow\">num</label><div class=\"sk-toggleable__content\"><pre>[&#x27;lag_1&#x27;, &#x27;lag_2&#x27;, &#x27;lag_3&#x27;, &#x27;lag_4&#x27;, &#x27;lag_5&#x27;, &#x27;lag_6&#x27;, &#x27;lag_7&#x27;, &#x27;lag_8&#x27;, &#x27;lag_9&#x27;, &#x27;lag_10&#x27;, &#x27;lag_11&#x27;, &#x27;lag_12&#x27;, &#x27;lag_13&#x27;, &#x27;lag_14&#x27;, &#x27;lag_15&#x27;, &#x27;lag_16&#x27;, &#x27;lag_17&#x27;, &#x27;lag_18&#x27;, &#x27;lag_19&#x27;, &#x27;lag_20&#x27;, &#x27;lag_21&#x27;, &#x27;lag_22&#x27;, &#x27;lag_23&#x27;, &#x27;lag_24&#x27;, &#x27;lag_25&#x27;, &#x27;lag_26&#x27;, &#x27;lag_27&#x27;, &#x27;lag_28&#x27;, &#x27;lag_29&#x27;, &#x27;lag_30&#x27;, &#x27;lag_31&#x27;, &#x27;lag_32&#x27;, &#x27;lag_33&#x27;, &#x27;lag_34&#x27;, &#x27;lag_35&#x27;, &#x27;lag_36&#x27;, &#x27;lag_37&#x27;, &#x27;lag_38&#x27;, &#x27;lag_39&#x27;, &#x27;lag_40&#x27;, &#x27;lag_41&#x27;, &#x27;lag_42&#x27;, &#x27;lag_43&#x27;, &#x27;lag_44&#x27;, &#x27;lag_45&#x27;, &#x27;lag_46&#x27;, &#x27;lag_47&#x27;, &#x27;lag_48&#x27;, &#x27;lag_49&#x27;, &#x27;lag_50&#x27;, &#x27;lag_51&#x27;, &#x27;lag_52&#x27;, &#x27;lag_53&#x27;, &#x27;lag_54&#x27;, &#x27;lag_55&#x27;, &#x27;lag_56&#x27;, &#x27;lag_57&#x27;, &#x27;lag_58&#x27;, &#x27;lag_59&#x27;, &#x27;lag_60&#x27;, &#x27;lag_61&#x27;, &#x27;lag_62&#x27;, &#x27;lag_63&#x27;, &#x27;lag_64&#x27;, &#x27;lag_65&#x27;, &#x27;lag_66&#x27;, &#x27;lag_67&#x27;, &#x27;lag_68&#x27;, &#x27;lag_69&#x27;, &#x27;lag_70&#x27;, &#x27;lag_71&#x27;, &#x27;lag_72&#x27;, &#x27;lag_73&#x27;, &#x27;lag_74&#x27;, &#x27;lag_75&#x27;, &#x27;lag_76&#x27;, &#x27;lag_77&#x27;, &#x27;lag_78&#x27;, &#x27;lag_79&#x27;, &#x27;lag_80&#x27;, &#x27;lag_81&#x27;, &#x27;lag_82&#x27;, &#x27;lag_83&#x27;, &#x27;lag_84&#x27;, &#x27;lag_85&#x27;, &#x27;lag_86&#x27;, &#x27;lag_87&#x27;, &#x27;lag_88&#x27;, &#x27;lag_89&#x27;, &#x27;lag_90&#x27;, &#x27;lag_91&#x27;, &#x27;lag_92&#x27;, &#x27;lag_93&#x27;, &#x27;lag_94&#x27;, &#x27;lag_95&#x27;, &#x27;lag_96&#x27;, &#x27;lag_97&#x27;, &#x27;lag_98&#x27;, &#x27;lag_99&#x27;, &#x27;lag_100&#x27;, &#x27;lag_101&#x27;, &#x27;lag_102&#x27;, &#x27;lag_103&#x27;, &#x27;lag_104&#x27;, &#x27;lag_105&#x27;, &#x27;lag_106&#x27;, &#x27;lag_107&#x27;, &#x27;lag_108&#x27;, &#x27;lag_109&#x27;, &#x27;lag_110&#x27;, &#x27;lag_111&#x27;, &#x27;lag_112&#x27;, &#x27;lag_113&#x27;, &#x27;lag_114&#x27;, &#x27;lag_115&#x27;, &#x27;lag_116&#x27;, &#x27;lag_117&#x27;, &#x27;lag_118&#x27;, &#x27;lag_119&#x27;, &#x27;lag_120&#x27;, &#x27;lag_121&#x27;, &#x27;lag_122&#x27;, &#x27;lag_123&#x27;, &#x27;lag_124&#x27;, &#x27;lag_125&#x27;, &#x27;lag_126&#x27;, &#x27;lag_127&#x27;, &#x27;lag_128&#x27;, &#x27;lag_129&#x27;, &#x27;lag_130&#x27;, &#x27;lag_131&#x27;, &#x27;lag_132&#x27;, &#x27;lag_133&#x27;, &#x27;lag_134&#x27;, &#x27;lag_135&#x27;, &#x27;lag_136&#x27;, &#x27;lag_137&#x27;, &#x27;lag_138&#x27;, &#x27;lag_139&#x27;, &#x27;lag_140&#x27;, &#x27;lag_141&#x27;, &#x27;lag_142&#x27;, &#x27;lag_143&#x27;, &#x27;lag_144&#x27;, &#x27;lag_145&#x27;, &#x27;lag_146&#x27;, &#x27;lag_147&#x27;, &#x27;lag_148&#x27;, &#x27;lag_149&#x27;, &#x27;lag_150&#x27;, &#x27;lag_151&#x27;, &#x27;lag_152&#x27;, &#x27;lag_153&#x27;, &#x27;lag_154&#x27;, &#x27;lag_155&#x27;, &#x27;lag_156&#x27;, &#x27;lag_157&#x27;, &#x27;lag_158&#x27;, &#x27;lag_159&#x27;, &#x27;lag_160&#x27;, &#x27;lag_161&#x27;, &#x27;lag_162&#x27;, &#x27;lag_163&#x27;, &#x27;lag_164&#x27;, &#x27;lag_165&#x27;, &#x27;lag_166&#x27;, &#x27;lag_167&#x27;, &#x27;lag_168&#x27;, &#x27;rolling_mean&#x27;]</pre></div></div></div><div class=\"sk-serial\"><div class=\"sk-item\"><div class=\"sk-estimator sk-toggleable\"><input class=\"sk-toggleable__control sk-hidden--visually\" id=\"sk-estimator-id-6\" type=\"checkbox\" ><label for=\"sk-estimator-id-6\" class=\"sk-toggleable__label sk-toggleable__label-arrow\">StandardScaler</label><div class=\"sk-toggleable__content\"><pre>StandardScaler()</pre></div></div></div></div></div></div><div class=\"sk-parallel-item\"><div class=\"sk-item\"><div class=\"sk-label-container\"><div class=\"sk-label sk-toggleable\"><input class=\"sk-toggleable__control sk-hidden--visually\" id=\"sk-estimator-id-7\" type=\"checkbox\" ><label for=\"sk-estimator-id-7\" class=\"sk-toggleable__label sk-toggleable__label-arrow\">remainder</label><div class=\"sk-toggleable__content\"><pre>[]</pre></div></div></div><div class=\"sk-serial\"><div class=\"sk-item\"><div class=\"sk-estimator sk-toggleable\"><input class=\"sk-toggleable__control sk-hidden--visually\" id=\"sk-estimator-id-8\" type=\"checkbox\" ><label for=\"sk-estimator-id-8\" class=\"sk-toggleable__label sk-toggleable__label-arrow\">passthrough</label><div class=\"sk-toggleable__content\"><pre>passthrough</pre></div></div></div></div></div></div></div></div><div class=\"sk-item\"><div class=\"sk-estimator sk-toggleable\"><input class=\"sk-toggleable__control sk-hidden--visually\" id=\"sk-estimator-id-9\" type=\"checkbox\" ><label for=\"sk-estimator-id-9\" class=\"sk-toggleable__label sk-toggleable__label-arrow\">LinearRegression</label><div class=\"sk-toggleable__content\"><pre>LinearRegression()</pre></div></div></div></div></div></div></div>"
      ],
      "text/plain": [
       "Pipeline(steps=[('preprocessor',\n",
       "                 ColumnTransformer(remainder='passthrough',\n",
       "                                   transformers=[('ohe',\n",
       "                                                  OneHotEncoder(drop='first',\n",
       "                                                                handle_unknown='ignore',\n",
       "                                                                sparse_output=False),\n",
       "                                                  ['weekday', 'hour']),\n",
       "                                                 ('num', StandardScaler(),\n",
       "                                                  ['lag_1', 'lag_2', 'lag_3',\n",
       "                                                   'lag_4', 'lag_5', 'lag_6',\n",
       "                                                   'lag_7', 'lag_8', 'lag_9',\n",
       "                                                   'lag_10', 'lag_11', 'lag_12',\n",
       "                                                   'lag_13', 'lag_14', 'lag_15',\n",
       "                                                   'lag_16', 'lag_17', 'lag_18',\n",
       "                                                   'lag_19', 'lag_20', 'lag_21',\n",
       "                                                   'lag_22', 'lag_23', 'lag_24',\n",
       "                                                   'lag_25', 'lag_26', 'lag_27',\n",
       "                                                   'lag_28', 'lag_29', 'lag_30', ...])])),\n",
       "                ('model', LinearRegression())])"
      ]
     },
     "execution_count": 39,
     "metadata": {},
     "output_type": "execute_result"
    }
   ],
   "source": [
    "best_model_lr"
   ]
  }
 ],
 "metadata": {
  "ExecuteTimeLog": [
   {
    "duration": 74,
    "start_time": "2025-08-29T19:39:08.322Z"
   },
   {
    "duration": 13864,
    "start_time": "2025-08-29T19:42:36.229Z"
   },
   {
    "duration": 1926,
    "start_time": "2025-08-29T19:42:50.096Z"
   },
   {
    "duration": 83,
    "start_time": "2025-08-29T19:42:52.025Z"
   },
   {
    "duration": 13,
    "start_time": "2025-08-29T19:42:52.110Z"
   },
   {
    "duration": 14,
    "start_time": "2025-08-29T19:42:52.125Z"
   },
   {
    "duration": 11,
    "start_time": "2025-08-29T19:42:54.072Z"
   },
   {
    "duration": 4,
    "start_time": "2025-08-29T19:42:56.830Z"
   },
   {
    "duration": 18,
    "start_time": "2025-08-29T19:42:57.684Z"
   },
   {
    "duration": 18,
    "start_time": "2025-08-29T19:42:58.651Z"
   },
   {
    "duration": 5,
    "start_time": "2025-08-29T19:42:58.874Z"
   },
   {
    "duration": 17,
    "start_time": "2025-08-29T19:42:59.656Z"
   },
   {
    "duration": 520,
    "start_time": "2025-08-29T19:43:00.102Z"
   },
   {
    "duration": 12,
    "start_time": "2025-08-29T19:43:08.633Z"
   },
   {
    "duration": 7,
    "start_time": "2025-08-29T19:43:20.195Z"
   },
   {
    "duration": 585,
    "start_time": "2025-08-29T19:43:21.013Z"
   },
   {
    "duration": 373,
    "start_time": "2025-08-29T19:43:27.069Z"
   },
   {
    "duration": 122,
    "start_time": "2025-08-29T19:44:10.082Z"
   },
   {
    "duration": 526,
    "start_time": "2025-08-29T19:44:38.529Z"
   },
   {
    "duration": 366,
    "start_time": "2025-08-29T19:45:30.775Z"
   },
   {
    "duration": 358,
    "start_time": "2025-08-29T19:46:11.628Z"
   },
   {
    "duration": 375,
    "start_time": "2025-08-29T19:48:34.012Z"
   },
   {
    "duration": 356,
    "start_time": "2025-08-29T19:48:47.252Z"
   },
   {
    "duration": 343,
    "start_time": "2025-08-29T19:48:59.617Z"
   },
   {
    "duration": 351,
    "start_time": "2025-08-29T19:49:03.465Z"
   },
   {
    "duration": 386,
    "start_time": "2025-08-29T19:50:02.389Z"
   },
   {
    "duration": 391,
    "start_time": "2025-08-29T19:50:08.709Z"
   },
   {
    "duration": 12250,
    "start_time": "2025-08-29T19:51:13.929Z"
   },
   {
    "duration": 352,
    "start_time": "2025-08-29T19:51:38.658Z"
   },
   {
    "duration": 30,
    "start_time": "2025-08-29T19:53:10.338Z"
   },
   {
    "duration": 340,
    "start_time": "2025-08-29T19:53:20.138Z"
   },
   {
    "duration": 928,
    "start_time": "2025-08-29T19:53:21.179Z"
   },
   {
    "duration": 3363,
    "start_time": "2025-08-29T19:53:22.110Z"
   },
   {
    "duration": 90,
    "start_time": "2025-08-29T19:53:25.476Z"
   },
   {
    "duration": 97,
    "start_time": "2025-08-29T19:53:25.576Z"
   },
   {
    "duration": 19,
    "start_time": "2025-08-29T19:53:25.675Z"
   },
   {
    "duration": 17,
    "start_time": "2025-08-29T19:54:14.304Z"
   },
   {
    "duration": 16,
    "start_time": "2025-08-29T19:54:18.028Z"
   },
   {
    "duration": 1439,
    "start_time": "2025-08-29T19:56:08.746Z"
   },
   {
    "duration": 8735,
    "start_time": "2025-08-29T19:56:23.425Z"
   },
   {
    "duration": 1697,
    "start_time": "2025-08-29T19:56:32.163Z"
   },
   {
    "duration": 71,
    "start_time": "2025-08-29T19:56:33.862Z"
   },
   {
    "duration": 12,
    "start_time": "2025-08-29T19:56:33.935Z"
   },
   {
    "duration": 10,
    "start_time": "2025-08-29T19:56:33.961Z"
   },
   {
    "duration": 12,
    "start_time": "2025-08-29T19:56:33.973Z"
   },
   {
    "duration": 15,
    "start_time": "2025-08-29T19:56:33.987Z"
   },
   {
    "duration": 32,
    "start_time": "2025-08-29T19:56:34.004Z"
   },
   {
    "duration": 16,
    "start_time": "2025-08-29T19:56:34.038Z"
   },
   {
    "duration": 20,
    "start_time": "2025-08-29T19:56:34.060Z"
   },
   {
    "duration": 508,
    "start_time": "2025-08-29T19:56:34.083Z"
   },
   {
    "duration": 12,
    "start_time": "2025-08-29T19:56:34.593Z"
   },
   {
    "duration": 8,
    "start_time": "2025-08-29T19:56:34.607Z"
   },
   {
    "duration": 604,
    "start_time": "2025-08-29T19:56:34.617Z"
   },
   {
    "duration": 378,
    "start_time": "2025-08-29T19:56:35.223Z"
   },
   {
    "duration": 369,
    "start_time": "2025-08-29T19:56:35.602Z"
   },
   {
    "duration": 603,
    "start_time": "2025-08-29T19:56:35.973Z"
   },
   {
    "duration": 1992,
    "start_time": "2025-08-29T19:56:36.578Z"
   },
   {
    "duration": 92,
    "start_time": "2025-08-29T19:56:38.572Z"
   },
   {
    "duration": 98,
    "start_time": "2025-08-29T19:56:38.667Z"
   },
   {
    "duration": 1703,
    "start_time": "2025-08-29T19:56:38.769Z"
   },
   {
    "duration": 18,
    "start_time": "2025-08-29T19:56:53.910Z"
   },
   {
    "duration": 31,
    "start_time": "2025-08-29T19:56:55.100Z"
   },
   {
    "duration": 3,
    "start_time": "2025-08-29T19:57:02.715Z"
   },
   {
    "duration": 141,
    "start_time": "2025-08-29T19:57:03.462Z"
   },
   {
    "duration": 6,
    "start_time": "2025-08-29T19:57:03.759Z"
   },
   {
    "duration": 3797,
    "start_time": "2025-08-29T19:57:05.770Z"
   },
   {
    "duration": 96,
    "start_time": "2025-08-29T19:57:09.570Z"
   },
   {
    "duration": 57961,
    "start_time": "2025-08-29T19:57:09.669Z"
   },
   {
    "duration": 8,
    "start_time": "2025-08-29T19:58:07.632Z"
   },
   {
    "duration": 7,
    "start_time": "2025-08-29T19:58:07.642Z"
   },
   {
    "duration": 16,
    "start_time": "2025-08-29T19:58:07.651Z"
   },
   {
    "duration": 562,
    "start_time": "2025-08-29T19:58:07.669Z"
   },
   {
    "duration": 7,
    "start_time": "2025-08-29T19:58:08.234Z"
   },
   {
    "duration": 37,
    "start_time": "2025-08-29T19:58:26.566Z"
   },
   {
    "duration": 20,
    "start_time": "2025-08-29T19:58:33.263Z"
   },
   {
    "duration": 32,
    "start_time": "2025-08-29T19:58:33.745Z"
   },
   {
    "duration": 4,
    "start_time": "2025-08-29T19:58:35.258Z"
   },
   {
    "duration": 143,
    "start_time": "2025-08-29T19:58:35.361Z"
   },
   {
    "duration": 6,
    "start_time": "2025-08-29T19:58:35.506Z"
   },
   {
    "duration": 4140,
    "start_time": "2025-08-29T19:58:35.521Z"
   },
   {
    "duration": 102,
    "start_time": "2025-08-29T19:58:39.665Z"
   },
   {
    "duration": 58652,
    "start_time": "2025-08-29T19:58:39.771Z"
   },
   {
    "duration": 10,
    "start_time": "2025-08-29T19:59:38.425Z"
   },
   {
    "duration": 29,
    "start_time": "2025-08-29T19:59:38.437Z"
   },
   {
    "duration": 12,
    "start_time": "2025-08-29T19:59:38.469Z"
   },
   {
    "duration": 487,
    "start_time": "2025-08-29T19:59:38.484Z"
   },
   {
    "duration": 9,
    "start_time": "2025-08-29T19:59:38.974Z"
   },
   {
    "duration": 14,
    "start_time": "2025-08-29T20:01:47.381Z"
   },
   {
    "duration": 13,
    "start_time": "2025-08-29T20:01:50.271Z"
   },
   {
    "duration": 18,
    "start_time": "2025-08-29T20:01:53.380Z"
   },
   {
    "duration": 12,
    "start_time": "2025-08-29T20:01:53.565Z"
   },
   {
    "duration": 5,
    "start_time": "2025-08-29T20:02:21.325Z"
   },
   {
    "duration": 20,
    "start_time": "2025-08-29T20:02:26.410Z"
   },
   {
    "duration": 2896,
    "start_time": "2025-08-29T20:02:26.671Z"
   },
   {
    "duration": 105,
    "start_time": "2025-08-29T20:02:29.661Z"
   },
   {
    "duration": 83,
    "start_time": "2025-08-29T20:07:21.998Z"
   },
   {
    "duration": 93,
    "start_time": "2025-08-29T20:07:29.353Z"
   },
   {
    "duration": 15,
    "start_time": "2025-08-29T20:07:34.822Z"
   },
   {
    "duration": 103,
    "start_time": "2025-08-29T20:07:59.922Z"
   },
   {
    "duration": 29,
    "start_time": "2025-08-29T20:08:02.870Z"
   },
   {
    "duration": 17,
    "start_time": "2025-08-29T20:27:42.549Z"
   },
   {
    "duration": 15,
    "start_time": "2025-08-29T20:27:57.361Z"
   },
   {
    "duration": 19,
    "start_time": "2025-08-29T20:28:34.947Z"
   },
   {
    "duration": 12549,
    "start_time": "2025-08-30T14:29:33.299Z"
   },
   {
    "duration": 1706,
    "start_time": "2025-08-30T14:29:45.850Z"
   },
   {
    "duration": 77,
    "start_time": "2025-08-30T14:29:47.558Z"
   },
   {
    "duration": 9,
    "start_time": "2025-08-30T14:29:47.637Z"
   },
   {
    "duration": 6,
    "start_time": "2025-08-30T14:29:47.647Z"
   },
   {
    "duration": 8,
    "start_time": "2025-08-30T14:29:47.655Z"
   },
   {
    "duration": 29,
    "start_time": "2025-08-30T14:29:47.665Z"
   },
   {
    "duration": 45,
    "start_time": "2025-08-30T14:29:47.699Z"
   },
   {
    "duration": 7,
    "start_time": "2025-08-30T14:29:47.746Z"
   },
   {
    "duration": 6,
    "start_time": "2025-08-30T14:29:47.756Z"
   },
   {
    "duration": 539,
    "start_time": "2025-08-30T14:29:47.764Z"
   },
   {
    "duration": 9,
    "start_time": "2025-08-30T14:29:48.305Z"
   },
   {
    "duration": 7,
    "start_time": "2025-08-30T14:29:48.316Z"
   },
   {
    "duration": 548,
    "start_time": "2025-08-30T14:29:48.325Z"
   },
   {
    "duration": 367,
    "start_time": "2025-08-30T14:29:48.875Z"
   },
   {
    "duration": 318,
    "start_time": "2025-08-30T14:29:49.244Z"
   },
   {
    "duration": 554,
    "start_time": "2025-08-30T14:29:49.564Z"
   },
   {
    "duration": 5375,
    "start_time": "2025-08-30T14:29:50.121Z"
   },
   {
    "duration": 77,
    "start_time": "2025-08-30T14:29:55.501Z"
   },
   {
    "duration": 94,
    "start_time": "2025-08-30T14:29:55.586Z"
   },
   {
    "duration": 46,
    "start_time": "2025-08-30T14:29:55.685Z"
   },
   {
    "duration": 14,
    "start_time": "2025-08-30T14:29:55.732Z"
   },
   {
    "duration": 52,
    "start_time": "2025-08-30T14:29:55.748Z"
   },
   {
    "duration": 2,
    "start_time": "2025-08-30T14:29:55.802Z"
   },
   {
    "duration": 114,
    "start_time": "2025-08-30T14:29:57.961Z"
   },
   {
    "duration": 11,
    "start_time": "2025-08-30T14:29:58.368Z"
   },
   {
    "duration": 14,
    "start_time": "2025-08-30T14:30:00.690Z"
   },
   {
    "duration": 15,
    "start_time": "2025-08-30T14:33:04.887Z"
   },
   {
    "duration": 21,
    "start_time": "2025-08-30T14:33:06.444Z"
   },
   {
    "duration": 4698,
    "start_time": "2025-08-30T14:33:06.779Z"
   },
   {
    "duration": 57811,
    "start_time": "2025-08-30T14:33:27.657Z"
   },
   {
    "duration": 155,
    "start_time": "2025-08-30T14:34:25.470Z"
   },
   {
    "duration": 0,
    "start_time": "2025-08-30T14:34:25.627Z"
   },
   {
    "duration": 20,
    "start_time": "2025-08-30T14:35:18.170Z"
   },
   {
    "duration": 26,
    "start_time": "2025-08-30T14:35:23.556Z"
   },
   {
    "duration": 21,
    "start_time": "2025-08-30T14:35:24.067Z"
   },
   {
    "duration": 6,
    "start_time": "2025-08-30T14:35:32.096Z"
   },
   {
    "duration": 8,
    "start_time": "2025-08-30T14:35:32.352Z"
   },
   {
    "duration": 8,
    "start_time": "2025-08-30T14:35:33.694Z"
   },
   {
    "duration": 542,
    "start_time": "2025-08-30T14:35:42.549Z"
   },
   {
    "duration": 6,
    "start_time": "2025-08-30T14:35:54.624Z"
   },
   {
    "duration": 8109,
    "start_time": "2025-08-30T14:36:08.237Z"
   },
   {
    "duration": 1494,
    "start_time": "2025-08-30T14:36:16.348Z"
   },
   {
    "duration": 68,
    "start_time": "2025-08-30T14:36:17.844Z"
   },
   {
    "duration": 10,
    "start_time": "2025-08-30T14:36:17.914Z"
   },
   {
    "duration": 12,
    "start_time": "2025-08-30T14:36:17.925Z"
   },
   {
    "duration": 12,
    "start_time": "2025-08-30T14:36:17.939Z"
   },
   {
    "duration": 25,
    "start_time": "2025-08-30T14:36:17.953Z"
   },
   {
    "duration": 19,
    "start_time": "2025-08-30T14:36:17.979Z"
   },
   {
    "duration": 16,
    "start_time": "2025-08-30T14:36:18.000Z"
   },
   {
    "duration": 17,
    "start_time": "2025-08-30T14:36:18.019Z"
   },
   {
    "duration": 508,
    "start_time": "2025-08-30T14:36:18.038Z"
   },
   {
    "duration": 9,
    "start_time": "2025-08-30T14:36:18.548Z"
   },
   {
    "duration": 21,
    "start_time": "2025-08-30T14:36:18.558Z"
   },
   {
    "duration": 551,
    "start_time": "2025-08-30T14:36:18.585Z"
   },
   {
    "duration": 362,
    "start_time": "2025-08-30T14:36:19.138Z"
   },
   {
    "duration": 351,
    "start_time": "2025-08-30T14:36:19.502Z"
   },
   {
    "duration": 561,
    "start_time": "2025-08-30T14:36:19.855Z"
   },
   {
    "duration": 6054,
    "start_time": "2025-08-30T14:36:20.418Z"
   },
   {
    "duration": 16,
    "start_time": "2025-08-30T14:36:26.475Z"
   },
   {
    "duration": 86,
    "start_time": "2025-08-30T14:36:26.494Z"
   },
   {
    "duration": 44,
    "start_time": "2025-08-30T14:36:26.585Z"
   },
   {
    "duration": 13,
    "start_time": "2025-08-30T14:36:26.630Z"
   },
   {
    "duration": 48,
    "start_time": "2025-08-30T14:36:26.645Z"
   },
   {
    "duration": 6,
    "start_time": "2025-08-30T14:36:26.695Z"
   },
   {
    "duration": 110,
    "start_time": "2025-08-30T14:36:26.703Z"
   },
   {
    "duration": 5,
    "start_time": "2025-08-30T14:36:26.815Z"
   },
   {
    "duration": 16,
    "start_time": "2025-08-30T14:36:26.822Z"
   },
   {
    "duration": 43,
    "start_time": "2025-08-30T14:36:26.841Z"
   },
   {
    "duration": 4100,
    "start_time": "2025-08-30T14:36:26.888Z"
   },
   {
    "duration": 11,
    "start_time": "2025-08-30T14:36:30.993Z"
   },
   {
    "duration": 56983,
    "start_time": "2025-08-30T14:36:31.078Z"
   },
   {
    "duration": 5,
    "start_time": "2025-08-30T14:37:28.064Z"
   },
   {
    "duration": 14,
    "start_time": "2025-08-30T14:37:28.071Z"
   },
   {
    "duration": 8,
    "start_time": "2025-08-30T14:37:28.088Z"
   },
   {
    "duration": 19,
    "start_time": "2025-08-30T14:37:28.097Z"
   },
   {
    "duration": 515,
    "start_time": "2025-08-30T14:37:28.118Z"
   },
   {
    "duration": 6,
    "start_time": "2025-08-30T14:37:28.636Z"
   },
   {
    "duration": 7939,
    "start_time": "2025-08-30T14:40:09.081Z"
   },
   {
    "duration": 1467,
    "start_time": "2025-08-30T14:40:17.024Z"
   },
   {
    "duration": 58,
    "start_time": "2025-08-30T14:40:18.493Z"
   },
   {
    "duration": 9,
    "start_time": "2025-08-30T14:40:18.553Z"
   },
   {
    "duration": 21,
    "start_time": "2025-08-30T14:40:18.574Z"
   },
   {
    "duration": 7,
    "start_time": "2025-08-30T14:40:18.596Z"
   },
   {
    "duration": 28,
    "start_time": "2025-08-30T14:40:18.604Z"
   },
   {
    "duration": 27,
    "start_time": "2025-08-30T14:40:18.634Z"
   },
   {
    "duration": 24,
    "start_time": "2025-08-30T14:40:18.664Z"
   },
   {
    "duration": 7,
    "start_time": "2025-08-30T14:40:18.691Z"
   },
   {
    "duration": 587,
    "start_time": "2025-08-30T14:40:18.700Z"
   },
   {
    "duration": 11,
    "start_time": "2025-08-30T14:40:19.296Z"
   },
   {
    "duration": 45,
    "start_time": "2025-08-30T14:40:19.308Z"
   },
   {
    "duration": 592,
    "start_time": "2025-08-30T14:40:19.356Z"
   },
   {
    "duration": 366,
    "start_time": "2025-08-30T14:40:19.950Z"
   },
   {
    "duration": 370,
    "start_time": "2025-08-30T14:40:20.318Z"
   },
   {
    "duration": 563,
    "start_time": "2025-08-30T14:40:20.690Z"
   },
   {
    "duration": 3735,
    "start_time": "2025-08-30T14:40:21.255Z"
   },
   {
    "duration": 82,
    "start_time": "2025-08-30T14:40:24.999Z"
   },
   {
    "duration": 93,
    "start_time": "2025-08-30T14:40:25.089Z"
   },
   {
    "duration": 137,
    "start_time": "2025-08-30T14:40:25.187Z"
   },
   {
    "duration": 28,
    "start_time": "2025-08-30T14:40:25.326Z"
   },
   {
    "duration": 46,
    "start_time": "2025-08-30T14:40:25.356Z"
   },
   {
    "duration": 16,
    "start_time": "2025-08-30T14:40:25.404Z"
   },
   {
    "duration": 144,
    "start_time": "2025-08-30T14:40:25.422Z"
   },
   {
    "duration": 16,
    "start_time": "2025-08-30T14:40:25.567Z"
   },
   {
    "duration": 16,
    "start_time": "2025-08-30T14:40:25.585Z"
   },
   {
    "duration": 37,
    "start_time": "2025-08-30T14:40:25.602Z"
   },
   {
    "duration": 16555,
    "start_time": "2025-08-30T14:40:25.640Z"
   },
   {
    "duration": 81,
    "start_time": "2025-08-30T14:40:42.200Z"
   },
   {
    "duration": 260556,
    "start_time": "2025-08-30T14:40:42.284Z"
   },
   {
    "duration": 5,
    "start_time": "2025-08-30T14:45:02.843Z"
   },
   {
    "duration": 41,
    "start_time": "2025-08-30T14:45:02.850Z"
   },
   {
    "duration": 71,
    "start_time": "2025-08-30T14:45:02.894Z"
   },
   {
    "duration": 101,
    "start_time": "2025-08-30T14:45:02.968Z"
   },
   {
    "duration": 524,
    "start_time": "2025-08-30T14:45:03.073Z"
   },
   {
    "duration": 6,
    "start_time": "2025-08-30T14:45:03.598Z"
   },
   {
    "duration": 116,
    "start_time": "2025-08-30T14:46:33.866Z"
   },
   {
    "duration": 11,
    "start_time": "2025-08-30T14:48:23.821Z"
   },
   {
    "duration": 9,
    "start_time": "2025-08-30T14:48:32.046Z"
   },
   {
    "duration": 505,
    "start_time": "2025-08-30T14:49:05.247Z"
   },
   {
    "duration": 272,
    "start_time": "2025-08-30T14:51:26.371Z"
   },
   {
    "duration": 71,
    "start_time": "2025-08-30T14:51:42.358Z"
   },
   {
    "duration": 125,
    "start_time": "2025-08-30T14:51:45.596Z"
   },
   {
    "duration": 22,
    "start_time": "2025-08-30T14:54:27.301Z"
   },
   {
    "duration": 63,
    "start_time": "2025-08-30T14:54:30.471Z"
   },
   {
    "duration": 13,
    "start_time": "2025-08-30T14:54:31.772Z"
   },
   {
    "duration": 11,
    "start_time": "2025-08-30T14:54:35.479Z"
   },
   {
    "duration": 2714,
    "start_time": "2025-08-30T14:54:36.075Z"
   },
   {
    "duration": 13,
    "start_time": "2025-08-30T14:55:02.201Z"
   },
   {
    "duration": 134810,
    "start_time": "2025-08-30T14:55:06.944Z"
   },
   {
    "duration": 151926,
    "start_time": "2025-08-30T14:57:41.522Z"
   },
   {
    "duration": 8780,
    "start_time": "2025-08-30T15:01:16.002Z"
   },
   {
    "duration": 1535,
    "start_time": "2025-08-30T15:01:24.786Z"
   },
   {
    "duration": 75,
    "start_time": "2025-08-30T15:01:26.322Z"
   },
   {
    "duration": 11,
    "start_time": "2025-08-30T15:01:26.398Z"
   },
   {
    "duration": 9,
    "start_time": "2025-08-30T15:01:26.411Z"
   },
   {
    "duration": 11,
    "start_time": "2025-08-30T15:01:26.422Z"
   },
   {
    "duration": 52,
    "start_time": "2025-08-30T15:01:26.435Z"
   },
   {
    "duration": 7,
    "start_time": "2025-08-30T15:01:26.489Z"
   },
   {
    "duration": 8,
    "start_time": "2025-08-30T15:01:26.497Z"
   },
   {
    "duration": 7,
    "start_time": "2025-08-30T15:01:26.506Z"
   },
   {
    "duration": 483,
    "start_time": "2025-08-30T15:01:26.514Z"
   },
   {
    "duration": 10,
    "start_time": "2025-08-30T15:01:26.999Z"
   },
   {
    "duration": 8,
    "start_time": "2025-08-30T15:01:27.010Z"
   },
   {
    "duration": 566,
    "start_time": "2025-08-30T15:01:27.020Z"
   },
   {
    "duration": 375,
    "start_time": "2025-08-30T15:01:27.588Z"
   },
   {
    "duration": 334,
    "start_time": "2025-08-30T15:01:27.964Z"
   },
   {
    "duration": 536,
    "start_time": "2025-08-30T15:01:28.300Z"
   },
   {
    "duration": 2846,
    "start_time": "2025-08-30T15:01:28.838Z"
   },
   {
    "duration": 11,
    "start_time": "2025-08-30T15:01:31.772Z"
   },
   {
    "duration": 93,
    "start_time": "2025-08-30T15:01:31.785Z"
   },
   {
    "duration": 148,
    "start_time": "2025-08-30T15:01:31.885Z"
   },
   {
    "duration": 297,
    "start_time": "2025-08-30T15:01:32.035Z"
   },
   {
    "duration": 0,
    "start_time": "2025-08-30T15:01:32.334Z"
   },
   {
    "duration": 0,
    "start_time": "2025-08-30T15:01:32.336Z"
   },
   {
    "duration": 0,
    "start_time": "2025-08-30T15:01:32.337Z"
   },
   {
    "duration": 0,
    "start_time": "2025-08-30T15:01:32.338Z"
   },
   {
    "duration": 0,
    "start_time": "2025-08-30T15:01:32.340Z"
   },
   {
    "duration": 0,
    "start_time": "2025-08-30T15:01:32.342Z"
   },
   {
    "duration": 0,
    "start_time": "2025-08-30T15:01:32.344Z"
   },
   {
    "duration": 0,
    "start_time": "2025-08-30T15:01:32.345Z"
   },
   {
    "duration": 0,
    "start_time": "2025-08-30T15:01:32.371Z"
   },
   {
    "duration": 0,
    "start_time": "2025-08-30T15:01:32.373Z"
   },
   {
    "duration": 0,
    "start_time": "2025-08-30T15:01:32.374Z"
   },
   {
    "duration": 0,
    "start_time": "2025-08-30T15:01:32.376Z"
   },
   {
    "duration": 0,
    "start_time": "2025-08-30T15:01:32.378Z"
   },
   {
    "duration": 0,
    "start_time": "2025-08-30T15:01:32.379Z"
   },
   {
    "duration": 0,
    "start_time": "2025-08-30T15:01:32.380Z"
   },
   {
    "duration": 0,
    "start_time": "2025-08-30T15:01:32.382Z"
   },
   {
    "duration": 14113,
    "start_time": "2025-08-30T16:29:48.510Z"
   },
   {
    "duration": 1783,
    "start_time": "2025-08-30T16:30:02.626Z"
   },
   {
    "duration": 78,
    "start_time": "2025-08-30T16:30:04.412Z"
   },
   {
    "duration": 11,
    "start_time": "2025-08-30T16:30:04.493Z"
   },
   {
    "duration": 8,
    "start_time": "2025-08-30T16:30:04.506Z"
   },
   {
    "duration": 20,
    "start_time": "2025-08-30T16:30:04.515Z"
   },
   {
    "duration": 51,
    "start_time": "2025-08-30T16:30:04.537Z"
   },
   {
    "duration": 7,
    "start_time": "2025-08-30T16:30:04.590Z"
   },
   {
    "duration": 28,
    "start_time": "2025-08-30T16:30:04.599Z"
   },
   {
    "duration": 7,
    "start_time": "2025-08-30T16:30:04.631Z"
   },
   {
    "duration": 572,
    "start_time": "2025-08-30T16:30:04.640Z"
   },
   {
    "duration": 11,
    "start_time": "2025-08-30T16:30:05.214Z"
   },
   {
    "duration": 75,
    "start_time": "2025-08-30T16:30:05.228Z"
   },
   {
    "duration": 540,
    "start_time": "2025-08-30T16:30:05.305Z"
   },
   {
    "duration": 344,
    "start_time": "2025-08-30T16:30:05.848Z"
   },
   {
    "duration": 354,
    "start_time": "2025-08-30T16:30:06.194Z"
   },
   {
    "duration": 563,
    "start_time": "2025-08-30T16:30:06.550Z"
   },
   {
    "duration": 2252,
    "start_time": "2025-08-30T16:30:07.115Z"
   },
   {
    "duration": 93,
    "start_time": "2025-08-30T16:30:09.370Z"
   },
   {
    "duration": 100,
    "start_time": "2025-08-30T16:30:09.466Z"
   },
   {
    "duration": 162,
    "start_time": "2025-08-30T16:30:09.569Z"
   },
   {
    "duration": 42,
    "start_time": "2025-08-30T16:30:09.734Z"
   },
   {
    "duration": 28,
    "start_time": "2025-08-30T16:30:09.778Z"
   },
   {
    "duration": 36,
    "start_time": "2025-08-30T16:30:09.808Z"
   },
   {
    "duration": 180,
    "start_time": "2025-08-30T16:30:09.846Z"
   },
   {
    "duration": 6,
    "start_time": "2025-08-30T16:30:10.029Z"
   },
   {
    "duration": 33,
    "start_time": "2025-08-30T16:30:10.037Z"
   },
   {
    "duration": 45,
    "start_time": "2025-08-30T16:30:10.074Z"
   },
   {
    "duration": 8244,
    "start_time": "2025-08-30T16:30:10.121Z"
   },
   {
    "duration": 103,
    "start_time": "2025-08-30T16:30:18.367Z"
   },
   {
    "duration": 252108,
    "start_time": "2025-08-30T16:30:18.474Z"
   },
   {
    "duration": 5,
    "start_time": "2025-08-30T16:34:30.584Z"
   },
   {
    "duration": 15,
    "start_time": "2025-08-30T16:34:30.591Z"
   },
   {
    "duration": 32,
    "start_time": "2025-08-30T16:34:30.608Z"
   },
   {
    "duration": 20,
    "start_time": "2025-08-30T16:34:30.642Z"
   },
   {
    "duration": 716,
    "start_time": "2025-08-30T16:34:30.667Z"
   },
   {
    "duration": 7,
    "start_time": "2025-08-30T16:34:31.386Z"
   },
   {
    "duration": 3755,
    "start_time": "2025-08-30T16:43:44.378Z"
   },
   {
    "duration": 3491,
    "start_time": "2025-08-30T16:45:11.396Z"
   },
   {
    "duration": 3613,
    "start_time": "2025-08-30T16:45:36.360Z"
   },
   {
    "duration": 9258,
    "start_time": "2025-08-30T16:58:59.154Z"
   },
   {
    "duration": 1650,
    "start_time": "2025-08-30T16:59:08.416Z"
   },
   {
    "duration": 69,
    "start_time": "2025-08-30T16:59:10.068Z"
   },
   {
    "duration": 24,
    "start_time": "2025-08-30T16:59:10.141Z"
   },
   {
    "duration": 9,
    "start_time": "2025-08-30T16:59:10.167Z"
   },
   {
    "duration": 5,
    "start_time": "2025-08-30T16:59:10.177Z"
   },
   {
    "duration": 25,
    "start_time": "2025-08-30T16:59:10.184Z"
   },
   {
    "duration": 8,
    "start_time": "2025-08-30T16:59:10.212Z"
   },
   {
    "duration": 42,
    "start_time": "2025-08-30T16:59:10.223Z"
   },
   {
    "duration": 18,
    "start_time": "2025-08-30T16:59:10.270Z"
   },
   {
    "duration": 504,
    "start_time": "2025-08-30T16:59:10.290Z"
   },
   {
    "duration": 12,
    "start_time": "2025-08-30T16:59:10.796Z"
   },
   {
    "duration": 10,
    "start_time": "2025-08-30T16:59:10.810Z"
   },
   {
    "duration": 598,
    "start_time": "2025-08-30T16:59:10.823Z"
   },
   {
    "duration": 431,
    "start_time": "2025-08-30T16:59:11.424Z"
   },
   {
    "duration": 403,
    "start_time": "2025-08-30T16:59:11.862Z"
   },
   {
    "duration": 594,
    "start_time": "2025-08-30T16:59:12.266Z"
   },
   {
    "duration": 2400,
    "start_time": "2025-08-30T16:59:12.862Z"
   },
   {
    "duration": 96,
    "start_time": "2025-08-30T16:59:15.265Z"
   },
   {
    "duration": 30,
    "start_time": "2025-08-30T16:59:15.363Z"
   },
   {
    "duration": 157,
    "start_time": "2025-08-30T16:59:15.396Z"
   },
   {
    "duration": 39,
    "start_time": "2025-08-30T16:59:15.556Z"
   },
   {
    "duration": 31,
    "start_time": "2025-08-30T16:59:15.597Z"
   },
   {
    "duration": 30,
    "start_time": "2025-08-30T16:59:15.631Z"
   },
   {
    "duration": 219,
    "start_time": "2025-08-30T16:59:15.664Z"
   },
   {
    "duration": 8,
    "start_time": "2025-08-30T16:59:15.887Z"
   },
   {
    "duration": 66,
    "start_time": "2025-08-30T16:59:15.900Z"
   },
   {
    "duration": 165,
    "start_time": "2025-08-30T16:59:15.969Z"
   },
   {
    "duration": 11523,
    "start_time": "2025-08-30T16:59:31.242Z"
   },
   {
    "duration": 48,
    "start_time": "2025-08-30T17:00:32.914Z"
   },
   {
    "duration": 9846,
    "start_time": "2025-08-30T17:00:33.132Z"
   },
   {
    "duration": 11754,
    "start_time": "2025-08-30T17:04:15.716Z"
   },
   {
    "duration": 17,
    "start_time": "2025-08-30T17:05:36.780Z"
   },
   {
    "duration": 9149,
    "start_time": "2025-08-30T17:10:26.604Z"
   },
   {
    "duration": 1743,
    "start_time": "2025-08-30T17:10:35.758Z"
   },
   {
    "duration": 77,
    "start_time": "2025-08-30T17:10:37.504Z"
   },
   {
    "duration": 12,
    "start_time": "2025-08-30T17:10:37.583Z"
   },
   {
    "duration": 11,
    "start_time": "2025-08-30T17:10:37.597Z"
   },
   {
    "duration": 18,
    "start_time": "2025-08-30T17:10:37.610Z"
   },
   {
    "duration": 38,
    "start_time": "2025-08-30T17:10:37.630Z"
   },
   {
    "duration": 8,
    "start_time": "2025-08-30T17:10:37.670Z"
   },
   {
    "duration": 8,
    "start_time": "2025-08-30T17:10:37.680Z"
   },
   {
    "duration": 8,
    "start_time": "2025-08-30T17:10:37.691Z"
   },
   {
    "duration": 601,
    "start_time": "2025-08-30T17:10:37.702Z"
   },
   {
    "duration": 12,
    "start_time": "2025-08-30T17:10:38.305Z"
   },
   {
    "duration": 11,
    "start_time": "2025-08-30T17:10:38.320Z"
   },
   {
    "duration": 603,
    "start_time": "2025-08-30T17:10:38.333Z"
   },
   {
    "duration": 467,
    "start_time": "2025-08-30T17:10:38.938Z"
   },
   {
    "duration": 380,
    "start_time": "2025-08-30T17:10:39.407Z"
   },
   {
    "duration": 628,
    "start_time": "2025-08-30T17:10:39.789Z"
   },
   {
    "duration": 1843,
    "start_time": "2025-08-30T17:10:40.419Z"
   },
   {
    "duration": 11,
    "start_time": "2025-08-30T17:10:42.265Z"
   },
   {
    "duration": 15,
    "start_time": "2025-08-30T17:10:42.362Z"
   },
   {
    "duration": 167,
    "start_time": "2025-08-30T17:10:42.379Z"
   },
   {
    "duration": 46,
    "start_time": "2025-08-30T17:10:42.548Z"
   },
   {
    "duration": 31,
    "start_time": "2025-08-30T17:10:42.596Z"
   },
   {
    "duration": 8,
    "start_time": "2025-08-30T17:10:42.629Z"
   },
   {
    "duration": 231,
    "start_time": "2025-08-30T17:10:42.662Z"
   },
   {
    "duration": 6,
    "start_time": "2025-08-30T17:10:42.896Z"
   },
   {
    "duration": 21,
    "start_time": "2025-08-30T17:10:42.904Z"
   },
   {
    "duration": 40,
    "start_time": "2025-08-30T17:10:42.929Z"
   },
   {
    "duration": 11669,
    "start_time": "2025-08-30T17:10:42.973Z"
   },
   {
    "duration": 0,
    "start_time": "2025-08-30T17:10:54.645Z"
   },
   {
    "duration": 0,
    "start_time": "2025-08-30T17:10:54.646Z"
   },
   {
    "duration": 0,
    "start_time": "2025-08-30T17:10:54.661Z"
   },
   {
    "duration": 0,
    "start_time": "2025-08-30T17:10:54.664Z"
   },
   {
    "duration": 0,
    "start_time": "2025-08-30T17:10:54.666Z"
   },
   {
    "duration": 0,
    "start_time": "2025-08-30T17:10:54.668Z"
   },
   {
    "duration": 0,
    "start_time": "2025-08-30T17:10:54.671Z"
   },
   {
    "duration": 0,
    "start_time": "2025-08-30T17:10:54.674Z"
   },
   {
    "duration": 0,
    "start_time": "2025-08-30T17:10:54.677Z"
   },
   {
    "duration": 0,
    "start_time": "2025-08-30T17:10:54.678Z"
   },
   {
    "duration": 12092,
    "start_time": "2025-08-30T17:11:48.785Z"
   },
   {
    "duration": 83,
    "start_time": "2025-08-30T17:12:00.881Z"
   },
   {
    "duration": 13,
    "start_time": "2025-08-30T17:12:00.968Z"
   },
   {
    "duration": 12,
    "start_time": "2025-08-30T17:12:00.984Z"
   },
   {
    "duration": 266176,
    "start_time": "2025-08-30T17:12:00.998Z"
   },
   {
    "duration": 4,
    "start_time": "2025-08-30T17:16:27.177Z"
   },
   {
    "duration": 7,
    "start_time": "2025-08-30T17:16:27.183Z"
   },
   {
    "duration": 15,
    "start_time": "2025-08-30T17:16:27.192Z"
   },
   {
    "duration": 17,
    "start_time": "2025-08-30T17:16:27.210Z"
   },
   {
    "duration": 0,
    "start_time": "2025-08-30T17:16:27.229Z"
   },
   {
    "duration": 0,
    "start_time": "2025-08-30T17:16:27.230Z"
   },
   {
    "duration": 0,
    "start_time": "2025-08-30T17:16:27.232Z"
   },
   {
    "duration": 20,
    "start_time": "2025-08-30T17:16:36.579Z"
   },
   {
    "duration": 37,
    "start_time": "2025-08-30T17:17:05.741Z"
   },
   {
    "duration": 18,
    "start_time": "2025-08-30T17:19:16.629Z"
   },
   {
    "duration": 6,
    "start_time": "2025-08-30T17:19:27.581Z"
   },
   {
    "duration": 25,
    "start_time": "2025-08-30T17:19:36.624Z"
   },
   {
    "duration": 4,
    "start_time": "2025-08-30T17:20:22.427Z"
   },
   {
    "duration": 8922,
    "start_time": "2025-08-30T17:20:57.796Z"
   },
   {
    "duration": 1664,
    "start_time": "2025-08-30T17:21:06.722Z"
   },
   {
    "duration": 91,
    "start_time": "2025-08-30T17:21:08.388Z"
   },
   {
    "duration": 12,
    "start_time": "2025-08-30T17:21:08.481Z"
   },
   {
    "duration": 10,
    "start_time": "2025-08-30T17:21:08.496Z"
   },
   {
    "duration": 10,
    "start_time": "2025-08-30T17:21:08.508Z"
   },
   {
    "duration": 71,
    "start_time": "2025-08-30T17:21:08.521Z"
   },
   {
    "duration": 51,
    "start_time": "2025-08-30T17:21:08.594Z"
   },
   {
    "duration": 23,
    "start_time": "2025-08-30T17:21:08.647Z"
   },
   {
    "duration": 15,
    "start_time": "2025-08-30T17:21:08.673Z"
   },
   {
    "duration": 544,
    "start_time": "2025-08-30T17:21:08.690Z"
   },
   {
    "duration": 33,
    "start_time": "2025-08-30T17:21:09.236Z"
   },
   {
    "duration": 10,
    "start_time": "2025-08-30T17:21:09.273Z"
   },
   {
    "duration": 549,
    "start_time": "2025-08-30T17:21:09.285Z"
   },
   {
    "duration": 372,
    "start_time": "2025-08-30T17:21:09.835Z"
   },
   {
    "duration": 360,
    "start_time": "2025-08-30T17:21:10.209Z"
   },
   {
    "duration": 594,
    "start_time": "2025-08-30T17:21:10.571Z"
   },
   {
    "duration": 1908,
    "start_time": "2025-08-30T17:21:11.168Z"
   },
   {
    "duration": 83,
    "start_time": "2025-08-30T17:21:13.079Z"
   },
   {
    "duration": 104,
    "start_time": "2025-08-30T17:21:13.166Z"
   },
   {
    "duration": 169,
    "start_time": "2025-08-30T17:21:13.272Z"
   },
   {
    "duration": 45,
    "start_time": "2025-08-30T17:21:13.444Z"
   },
   {
    "duration": 28,
    "start_time": "2025-08-30T17:21:13.490Z"
   },
   {
    "duration": 6,
    "start_time": "2025-08-30T17:21:13.521Z"
   },
   {
    "duration": 205,
    "start_time": "2025-08-30T17:21:13.529Z"
   },
   {
    "duration": 6,
    "start_time": "2025-08-30T17:21:13.736Z"
   },
   {
    "duration": 32,
    "start_time": "2025-08-30T17:21:13.744Z"
   },
   {
    "duration": 17,
    "start_time": "2025-08-30T17:21:13.780Z"
   },
   {
    "duration": 12365,
    "start_time": "2025-08-30T17:21:13.799Z"
   },
   {
    "duration": 5,
    "start_time": "2025-08-30T17:21:26.166Z"
   },
   {
    "duration": 4,
    "start_time": "2025-08-30T17:21:26.173Z"
   },
   {
    "duration": 4,
    "start_time": "2025-08-30T17:21:26.266Z"
   },
   {
    "duration": 272410,
    "start_time": "2025-08-30T17:21:26.274Z"
   },
   {
    "duration": 3,
    "start_time": "2025-08-30T17:25:58.686Z"
   },
   {
    "duration": 8,
    "start_time": "2025-08-30T17:25:58.691Z"
   },
   {
    "duration": 12,
    "start_time": "2025-08-30T17:25:58.701Z"
   },
   {
    "duration": 62,
    "start_time": "2025-08-30T17:25:58.714Z"
   },
   {
    "duration": 633,
    "start_time": "2025-08-30T17:25:58.781Z"
   },
   {
    "duration": 25,
    "start_time": "2025-08-30T17:25:59.416Z"
   },
   {
    "duration": 13945,
    "start_time": "2025-08-31T07:43:56.697Z"
   },
   {
    "duration": 1844,
    "start_time": "2025-08-31T07:44:10.645Z"
   },
   {
    "duration": 78,
    "start_time": "2025-08-31T07:44:12.491Z"
   },
   {
    "duration": 13,
    "start_time": "2025-08-31T07:44:12.572Z"
   },
   {
    "duration": 13,
    "start_time": "2025-08-31T07:44:12.588Z"
   },
   {
    "duration": 7,
    "start_time": "2025-08-31T07:44:12.604Z"
   },
   {
    "duration": 49,
    "start_time": "2025-08-31T07:44:12.614Z"
   },
   {
    "duration": 8,
    "start_time": "2025-08-31T07:44:12.665Z"
   },
   {
    "duration": 16,
    "start_time": "2025-08-31T07:44:12.675Z"
   },
   {
    "duration": 16,
    "start_time": "2025-08-31T07:44:12.695Z"
   },
   {
    "duration": 621,
    "start_time": "2025-08-31T07:44:12.714Z"
   },
   {
    "duration": 23,
    "start_time": "2025-08-31T07:44:13.337Z"
   },
   {
    "duration": 9,
    "start_time": "2025-08-31T07:44:13.363Z"
   },
   {
    "duration": 571,
    "start_time": "2025-08-31T07:44:13.374Z"
   },
   {
    "duration": 369,
    "start_time": "2025-08-31T07:44:13.948Z"
   },
   {
    "duration": 392,
    "start_time": "2025-08-31T07:44:14.320Z"
   },
   {
    "duration": 624,
    "start_time": "2025-08-31T07:44:14.714Z"
   },
   {
    "duration": 3531,
    "start_time": "2025-08-31T07:44:15.340Z"
   },
   {
    "duration": 14,
    "start_time": "2025-08-31T07:44:18.961Z"
   },
   {
    "duration": 94,
    "start_time": "2025-08-31T07:44:18.979Z"
   },
   {
    "duration": 208,
    "start_time": "2025-08-31T07:44:19.076Z"
   },
   {
    "duration": 39,
    "start_time": "2025-08-31T07:44:19.290Z"
   },
   {
    "duration": 53,
    "start_time": "2025-08-31T07:44:19.332Z"
   },
   {
    "duration": 4,
    "start_time": "2025-08-31T07:44:19.387Z"
   },
   {
    "duration": 231,
    "start_time": "2025-08-31T07:44:19.393Z"
   },
   {
    "duration": 5,
    "start_time": "2025-08-31T07:44:19.626Z"
   },
   {
    "duration": 31,
    "start_time": "2025-08-31T07:44:19.633Z"
   },
   {
    "duration": 12,
    "start_time": "2025-08-31T07:44:19.668Z"
   },
   {
    "duration": 12190,
    "start_time": "2025-08-31T07:44:19.681Z"
   },
   {
    "duration": 90,
    "start_time": "2025-08-31T07:44:31.874Z"
   },
   {
    "duration": 23,
    "start_time": "2025-08-31T07:44:31.967Z"
   },
   {
    "duration": 40,
    "start_time": "2025-08-31T07:44:31.992Z"
   },
   {
    "duration": 332604,
    "start_time": "2025-08-31T07:44:32.035Z"
   },
   {
    "duration": 4,
    "start_time": "2025-08-31T07:50:04.641Z"
   },
   {
    "duration": 949,
    "start_time": "2025-08-31T07:50:04.648Z"
   },
   {
    "duration": 1082,
    "start_time": "2025-08-31T07:50:05.599Z"
   },
   {
    "duration": 1677,
    "start_time": "2025-08-31T07:50:06.683Z"
   },
   {
    "duration": 1732,
    "start_time": "2025-08-31T07:50:08.363Z"
   },
   {
    "duration": 399,
    "start_time": "2025-08-31T07:50:10.097Z"
   },
   {
    "duration": 555,
    "start_time": "2025-08-31T07:52:07.140Z"
   },
   {
    "duration": 487,
    "start_time": "2025-08-31T07:52:33.879Z"
   },
   {
    "duration": 11288,
    "start_time": "2025-08-31T09:34:56.741Z"
   },
   {
    "duration": 1407,
    "start_time": "2025-08-31T09:35:08.032Z"
   },
   {
    "duration": 72,
    "start_time": "2025-08-31T09:35:09.441Z"
   },
   {
    "duration": 11,
    "start_time": "2025-08-31T09:35:09.514Z"
   },
   {
    "duration": 36,
    "start_time": "2025-08-31T09:35:09.528Z"
   },
   {
    "duration": 37,
    "start_time": "2025-08-31T09:35:09.565Z"
   },
   {
    "duration": 12,
    "start_time": "2025-08-31T09:35:09.604Z"
   },
   {
    "duration": 23,
    "start_time": "2025-08-31T09:35:09.618Z"
   },
   {
    "duration": 25,
    "start_time": "2025-08-31T09:35:09.644Z"
   },
   {
    "duration": 16,
    "start_time": "2025-08-31T09:35:09.671Z"
   },
   {
    "duration": 510,
    "start_time": "2025-08-31T09:35:09.689Z"
   },
   {
    "duration": 9,
    "start_time": "2025-08-31T09:35:10.200Z"
   },
   {
    "duration": 63,
    "start_time": "2025-08-31T09:35:10.211Z"
   },
   {
    "duration": 544,
    "start_time": "2025-08-31T09:35:10.278Z"
   },
   {
    "duration": 391,
    "start_time": "2025-08-31T09:35:10.824Z"
   },
   {
    "duration": 345,
    "start_time": "2025-08-31T09:35:11.217Z"
   },
   {
    "duration": 579,
    "start_time": "2025-08-31T09:35:11.563Z"
   },
   {
    "duration": 2847,
    "start_time": "2025-08-31T09:35:12.144Z"
   },
   {
    "duration": 97,
    "start_time": "2025-08-31T09:35:14.998Z"
   },
   {
    "duration": 166,
    "start_time": "2025-08-31T09:35:15.104Z"
   },
   {
    "duration": 158,
    "start_time": "2025-08-31T09:35:15.272Z"
   },
   {
    "duration": 31,
    "start_time": "2025-08-31T09:35:15.433Z"
   },
   {
    "duration": 67,
    "start_time": "2025-08-31T09:35:15.466Z"
   },
   {
    "duration": 54,
    "start_time": "2025-08-31T09:35:15.535Z"
   },
   {
    "duration": 140,
    "start_time": "2025-08-31T09:35:15.591Z"
   },
   {
    "duration": 4,
    "start_time": "2025-08-31T09:35:15.733Z"
   },
   {
    "duration": 189,
    "start_time": "2025-08-31T09:35:15.739Z"
   },
   {
    "duration": 17,
    "start_time": "2025-08-31T09:35:15.930Z"
   },
   {
    "duration": 17030,
    "start_time": "2025-08-31T09:35:15.949Z"
   },
   {
    "duration": 3,
    "start_time": "2025-08-31T09:35:32.981Z"
   },
   {
    "duration": 17,
    "start_time": "2025-08-31T09:35:32.992Z"
   },
   {
    "duration": 49,
    "start_time": "2025-08-31T09:35:33.011Z"
   },
   {
    "duration": 246813,
    "start_time": "2025-08-31T09:35:33.062Z"
   },
   {
    "duration": 3,
    "start_time": "2025-08-31T09:39:39.879Z"
   },
   {
    "duration": 30,
    "start_time": "2025-08-31T09:39:39.886Z"
   },
   {
    "duration": 11,
    "start_time": "2025-08-31T09:39:39.918Z"
   },
   {
    "duration": 53,
    "start_time": "2025-08-31T09:39:39.930Z"
   },
   {
    "duration": 574,
    "start_time": "2025-08-31T09:39:39.985Z"
   },
   {
    "duration": 34,
    "start_time": "2025-08-31T09:39:40.561Z"
   }
  ],
  "kernelspec": {
   "display_name": "Python 3 (ipykernel)",
   "language": "python",
   "name": "python3"
  },
  "language_info": {
   "codemirror_mode": {
    "name": "ipython",
    "version": 3
   },
   "file_extension": ".py",
   "mimetype": "text/x-python",
   "name": "python",
   "nbconvert_exporter": "python",
   "pygments_lexer": "ipython3",
   "version": "3.9.21"
  },
  "toc": {
   "base_numbering": 1,
   "nav_menu": {},
   "number_sections": true,
   "sideBar": true,
   "skip_h1_title": true,
   "title_cell": "Table of Contents",
   "title_sidebar": "Contents",
   "toc_cell": true,
   "toc_position": {
    "height": "475.273px",
    "left": "418px",
    "top": "110.318px",
    "width": "279.398px"
   },
   "toc_section_display": true,
   "toc_window_display": false
  }
 },
 "nbformat": 4,
 "nbformat_minor": 5
}
