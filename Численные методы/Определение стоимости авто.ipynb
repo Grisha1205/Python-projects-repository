{
 "cells": [
  {
   "cell_type": "markdown",
   "id": "493f2ddf",
   "metadata": {},
   "source": [
    "**Название проекта**\n",
    "\n",
    "Определение стоимости автомобилей.\n",
    "\n",
    "**Описание проекта**\n",
    "\n",
    "Сервис по продаже автомобилей с пробегом «Не бит, не крашен» разрабатывает приложение, чтобы привлечь новых клиентов. В нём можно будет узнать рыночную стоимость своего автомобиля. \n",
    "Нужно построить модель, которая научится определять. В нашем распоряжении данные о технических характеристиках, комплектации и ценах других автомобилей.\n",
    "\n",
    "**Цель исследования**\n",
    "\n",
    "Построить модель, которая научится определять стоимость автомобиля по данным о технических характеристиках и комплектации.\n",
    "\n",
    "**Критерии исследования**\n",
    "\n",
    "Критерии, которые важны заказчику:\n",
    "* качество предсказания;\n",
    "* время обучения модели;\n",
    "* время предсказания модели.\n",
    "\n",
    "**Исходные данные**\n",
    "\n",
    "Данные находятся в файле /datasets/autos.csv. \n",
    "\n",
    "Количество заказов находится в столбце 'num_orders' (от англ. number of orders, «число заказов»).\n",
    "\n",
    "\n",
    "\n",
    "<a href=\"#qwerty\">План исследования находится в меню Table of contents</a>"
   ]
  },
  {
   "cell_type": "markdown",
   "id": "166fd491",
   "metadata": {},
   "source": [
    "<div style=\"background: #B0E0E6; padding: 5px; border: 1px solid SteelBlue; border-radius: 5px;\">\n",
    "    <font color='4682B4'><u><b>КОММЕНТАРИЙ СТУДЕНТА</b></u></font>\n",
    "    <br />\n",
    "    <font color='4682B4'>Поправил введение</font>\n",
    "</div>"
   ]
  },
  {
   "cell_type": "markdown",
   "id": "f51ed072",
   "metadata": {},
   "source": [
    "<div class=\"alert alert-success\">\n",
    "<b>КОММЕНТАРИЙ V2</b> \t\n",
    "\n",
    "+\n",
    "</div>"
   ]
  },
  {
   "cell_type": "markdown",
   "id": "a1b75d40",
   "metadata": {},
   "source": [
    "<a id=\"qwerty\"></a>"
   ]
  },
  {
   "cell_type": "markdown",
   "id": "af1608a1",
   "metadata": {
    "toc": true
   },
   "source": [
    "<h1>Table of Contents<span class=\"tocSkip\"></span></h1>\n",
    "<div class=\"toc\"><ul class=\"toc-item\"><li><span><a href=\"#Загрузка-данных\" data-toc-modified-id=\"Загрузка-данных-1\"><span class=\"toc-item-num\">1&nbsp;&nbsp;</span>Загрузка данных</a></span></li><li><span><a href=\"#Исследовательский-анализ-данных\" data-toc-modified-id=\"Исследовательский-анализ-данных-2\"><span class=\"toc-item-num\">2&nbsp;&nbsp;</span>Исследовательский анализ данных</a></span><ul class=\"toc-item\"><li><span><a href=\"#Удаление-неинформативных-столбцов\" data-toc-modified-id=\"Удаление-неинформативных-столбцов-2.1\"><span class=\"toc-item-num\">2.1&nbsp;&nbsp;</span>Удаление неинформативных столбцов</a></span></li><li><span><a href=\"#Приведение-названий-столбцов-к-нижнему-регистру\" data-toc-modified-id=\"Приведение-названий-столбцов-к-нижнему-регистру-2.2\"><span class=\"toc-item-num\">2.2&nbsp;&nbsp;</span>Приведение названий столбцов к нижнему регистру</a></span></li><li><span><a href=\"#Заполнение-пропусков\" data-toc-modified-id=\"Заполнение-пропусков-2.3\"><span class=\"toc-item-num\">2.3&nbsp;&nbsp;</span>Заполнение пропусков</a></span></li><li><span><a href=\"#Обработка-дубликатов\" data-toc-modified-id=\"Обработка-дубликатов-2.4\"><span class=\"toc-item-num\">2.4&nbsp;&nbsp;</span>Обработка дубликатов</a></span></li><li><span><a href=\"#Анализ-аномальных-значений\" data-toc-modified-id=\"Анализ-аномальных-значений-2.5\"><span class=\"toc-item-num\">2.5&nbsp;&nbsp;</span>Анализ аномальных значений</a></span></li></ul></li><li><span><a href=\"#Подготовка-выборок-данных\" data-toc-modified-id=\"Подготовка-выборок-данных-3\"><span class=\"toc-item-num\">3&nbsp;&nbsp;</span>Подготовка выборок данных</a></span></li><li><span><a href=\"#Обучение-моделей\" data-toc-modified-id=\"Обучение-моделей-4\"><span class=\"toc-item-num\">4&nbsp;&nbsp;</span>Обучение моделей</a></span><ul class=\"toc-item\"><li><span><a href=\"#CatBoostRegressor\" data-toc-modified-id=\"CatBoostRegressor-4.1\"><span class=\"toc-item-num\">4.1&nbsp;&nbsp;</span><strong>CatBoostRegressor</strong></a></span></li><li><span><a href=\"#LightGBMRegressor\" data-toc-modified-id=\"LightGBMRegressor-4.2\"><span class=\"toc-item-num\">4.2&nbsp;&nbsp;</span><strong>LightGBMRegressor</strong></a></span></li><li><span><a href=\"#LinearRegression\" data-toc-modified-id=\"LinearRegression-4.3\"><span class=\"toc-item-num\">4.3&nbsp;&nbsp;</span><strong>LinearRegression</strong></a></span></li><li><span><a href=\"#DummyRegressor\" data-toc-modified-id=\"DummyRegressor-4.4\"><span class=\"toc-item-num\">4.4&nbsp;&nbsp;</span><strong>DummyRegressor</strong></a></span></li></ul></li><li><span><a href=\"#Анализ-времени-обучения-моделей,-времени-предсказания-моделей-и-качества-моделей\" data-toc-modified-id=\"Анализ-времени-обучения-моделей,-времени-предсказания-моделей-и-качества-моделей-5\"><span class=\"toc-item-num\">5&nbsp;&nbsp;</span>Анализ времени обучения моделей, времени предсказания моделей и качества моделей</a></span><ul class=\"toc-item\"><li><span><a href=\"#Анализ-времени\" data-toc-modified-id=\"Анализ-времени-5.1\"><span class=\"toc-item-num\">5.1&nbsp;&nbsp;</span>Анализ времени</a></span></li><li><span><a href=\"#Анализ-качества\" data-toc-modified-id=\"Анализ-качества-5.2\"><span class=\"toc-item-num\">5.2&nbsp;&nbsp;</span>Анализ качества</a></span></li></ul></li><li><span><a href=\"#Лучшая-модель\" data-toc-modified-id=\"Лучшая-модель-6\"><span class=\"toc-item-num\">6&nbsp;&nbsp;</span>Лучшая модель</a></span></li><li><span><a href=\"#Вывод\" data-toc-modified-id=\"Вывод-7\"><span class=\"toc-item-num\">7&nbsp;&nbsp;</span>Вывод</a></span></li></ul></div>"
   ]
  },
  {
   "cell_type": "markdown",
   "id": "e4904587",
   "metadata": {},
   "source": [
    "### Загрузка данных"
   ]
  },
  {
   "cell_type": "code",
   "execution_count": 1,
   "id": "7b34e73f",
   "metadata": {
    "scrolled": false
   },
   "outputs": [],
   "source": [
    "!pip install lightgbm -q\n",
    "!pip install catboost -q\n",
    "!pip install phik -q\n",
    "!pip install optuna -q\n",
    "!pip install optuna-integration -q\n",
    "!pip install scikit-learn==1.3.0 -q"
   ]
  },
  {
   "cell_type": "code",
   "execution_count": 2,
   "id": "833f0e6a",
   "metadata": {},
   "outputs": [],
   "source": [
    "import warnings\n",
    "import os\n",
    "import requests\n",
    "import numpy as np\n",
    "import pandas as pd\n",
    "import seaborn as sns\n",
    "import matplotlib.pyplot as plt\n",
    "\n",
    "import sqlite3\n",
    "\n",
    "import optuna\n",
    "from optuna.integration import OptunaSearchCV\n",
    "from sklearn.model_selection import GridSearchCV\n",
    "from optuna.distributions import IntDistribution, FloatDistribution, CategoricalDistribution\n",
    "\n",
    "from time import time\n",
    "import logging\n",
    "\n",
    "from sklearn.model_selection import train_test_split, cross_val_score\n",
    "from sklearn.metrics import mean_squared_error, make_scorer\n",
    "from sklearn.preprocessing import OneHotEncoder, StandardScaler\n",
    "\n",
    "from sklearn.dummy import DummyRegressor\n",
    "from sklearn.linear_model import LinearRegression\n",
    "from catboost import CatBoostRegressor\n",
    "import lightgbm as lgb\n",
    "\n",
    "\n",
    "from phik.report import correlation_report, plot_correlation_matrix\n",
    "\n",
    "warnings.filterwarnings('ignore')"
   ]
  },
  {
   "cell_type": "code",
   "execution_count": 4,
   "id": "5cade983",
   "metadata": {
    "scrolled": false
   },
   "outputs": [
    {
     "name": "stdout",
     "output_type": "stream",
     "text": [
      "Данные загружены из локального файла\n",
      "Размер данных: (354369, 16)\n",
      "<class 'pandas.core.frame.DataFrame'>\n",
      "RangeIndex: 354369 entries, 0 to 354368\n",
      "Data columns (total 16 columns):\n",
      " #   Column             Non-Null Count   Dtype         \n",
      "---  ------             --------------   -----         \n",
      " 0   DateCrawled        354369 non-null  datetime64[ns]\n",
      " 1   Price              354369 non-null  int64         \n",
      " 2   VehicleType        316879 non-null  object        \n",
      " 3   RegistrationYear   354369 non-null  int64         \n",
      " 4   Gearbox            334536 non-null  object        \n",
      " 5   Power              354369 non-null  int64         \n",
      " 6   Model              334664 non-null  object        \n",
      " 7   Kilometer          354369 non-null  int64         \n",
      " 8   RegistrationMonth  354369 non-null  int64         \n",
      " 9   FuelType           321474 non-null  object        \n",
      " 10  Brand              354369 non-null  object        \n",
      " 11  Repaired           283215 non-null  object        \n",
      " 12  DateCreated        354369 non-null  datetime64[ns]\n",
      " 13  NumberOfPictures   354369 non-null  int64         \n",
      " 14  PostalCode         354369 non-null  int64         \n",
      " 15  LastSeen           354369 non-null  datetime64[ns]\n",
      "dtypes: datetime64[ns](3), int64(7), object(6)\n",
      "memory usage: 43.3+ MB\n"
     ]
    },
    {
     "data": {
      "text/plain": [
       "None"
      ]
     },
     "metadata": {},
     "output_type": "display_data"
    },
    {
     "data": {
      "text/html": [
       "<div>\n",
       "<style scoped>\n",
       "    .dataframe tbody tr th:only-of-type {\n",
       "        vertical-align: middle;\n",
       "    }\n",
       "\n",
       "    .dataframe tbody tr th {\n",
       "        vertical-align: top;\n",
       "    }\n",
       "\n",
       "    .dataframe thead th {\n",
       "        text-align: right;\n",
       "    }\n",
       "</style>\n",
       "<table border=\"1\" class=\"dataframe\">\n",
       "  <thead>\n",
       "    <tr style=\"text-align: right;\">\n",
       "      <th></th>\n",
       "      <th>DateCrawled</th>\n",
       "      <th>Price</th>\n",
       "      <th>VehicleType</th>\n",
       "      <th>RegistrationYear</th>\n",
       "      <th>Gearbox</th>\n",
       "      <th>Power</th>\n",
       "      <th>Model</th>\n",
       "      <th>Kilometer</th>\n",
       "      <th>RegistrationMonth</th>\n",
       "      <th>FuelType</th>\n",
       "      <th>Brand</th>\n",
       "      <th>Repaired</th>\n",
       "      <th>DateCreated</th>\n",
       "      <th>NumberOfPictures</th>\n",
       "      <th>PostalCode</th>\n",
       "      <th>LastSeen</th>\n",
       "    </tr>\n",
       "  </thead>\n",
       "  <tbody>\n",
       "    <tr>\n",
       "      <th>0</th>\n",
       "      <td>2016-03-24 11:52:17</td>\n",
       "      <td>480</td>\n",
       "      <td>NaN</td>\n",
       "      <td>1993</td>\n",
       "      <td>manual</td>\n",
       "      <td>0</td>\n",
       "      <td>golf</td>\n",
       "      <td>150000</td>\n",
       "      <td>0</td>\n",
       "      <td>petrol</td>\n",
       "      <td>volkswagen</td>\n",
       "      <td>NaN</td>\n",
       "      <td>2016-03-24</td>\n",
       "      <td>0</td>\n",
       "      <td>70435</td>\n",
       "      <td>2016-04-07 03:16:57</td>\n",
       "    </tr>\n",
       "    <tr>\n",
       "      <th>1</th>\n",
       "      <td>2016-03-24 10:58:45</td>\n",
       "      <td>18300</td>\n",
       "      <td>coupe</td>\n",
       "      <td>2011</td>\n",
       "      <td>manual</td>\n",
       "      <td>190</td>\n",
       "      <td>NaN</td>\n",
       "      <td>125000</td>\n",
       "      <td>5</td>\n",
       "      <td>gasoline</td>\n",
       "      <td>audi</td>\n",
       "      <td>yes</td>\n",
       "      <td>2016-03-24</td>\n",
       "      <td>0</td>\n",
       "      <td>66954</td>\n",
       "      <td>2016-04-07 01:46:50</td>\n",
       "    </tr>\n",
       "    <tr>\n",
       "      <th>2</th>\n",
       "      <td>2016-03-14 12:52:21</td>\n",
       "      <td>9800</td>\n",
       "      <td>suv</td>\n",
       "      <td>2004</td>\n",
       "      <td>auto</td>\n",
       "      <td>163</td>\n",
       "      <td>grand</td>\n",
       "      <td>125000</td>\n",
       "      <td>8</td>\n",
       "      <td>gasoline</td>\n",
       "      <td>jeep</td>\n",
       "      <td>NaN</td>\n",
       "      <td>2016-03-14</td>\n",
       "      <td>0</td>\n",
       "      <td>90480</td>\n",
       "      <td>2016-04-05 12:47:46</td>\n",
       "    </tr>\n",
       "    <tr>\n",
       "      <th>3</th>\n",
       "      <td>2016-03-17 16:54:04</td>\n",
       "      <td>1500</td>\n",
       "      <td>small</td>\n",
       "      <td>2001</td>\n",
       "      <td>manual</td>\n",
       "      <td>75</td>\n",
       "      <td>golf</td>\n",
       "      <td>150000</td>\n",
       "      <td>6</td>\n",
       "      <td>petrol</td>\n",
       "      <td>volkswagen</td>\n",
       "      <td>no</td>\n",
       "      <td>2016-03-17</td>\n",
       "      <td>0</td>\n",
       "      <td>91074</td>\n",
       "      <td>2016-03-17 17:40:17</td>\n",
       "    </tr>\n",
       "    <tr>\n",
       "      <th>4</th>\n",
       "      <td>2016-03-31 17:25:20</td>\n",
       "      <td>3600</td>\n",
       "      <td>small</td>\n",
       "      <td>2008</td>\n",
       "      <td>manual</td>\n",
       "      <td>69</td>\n",
       "      <td>fabia</td>\n",
       "      <td>90000</td>\n",
       "      <td>7</td>\n",
       "      <td>gasoline</td>\n",
       "      <td>skoda</td>\n",
       "      <td>no</td>\n",
       "      <td>2016-03-31</td>\n",
       "      <td>0</td>\n",
       "      <td>60437</td>\n",
       "      <td>2016-04-06 10:17:21</td>\n",
       "    </tr>\n",
       "  </tbody>\n",
       "</table>\n",
       "</div>"
      ],
      "text/plain": [
       "          DateCrawled  Price VehicleType  RegistrationYear Gearbox  Power  \\\n",
       "0 2016-03-24 11:52:17    480         NaN              1993  manual      0   \n",
       "1 2016-03-24 10:58:45  18300       coupe              2011  manual    190   \n",
       "2 2016-03-14 12:52:21   9800         suv              2004    auto    163   \n",
       "3 2016-03-17 16:54:04   1500       small              2001  manual     75   \n",
       "4 2016-03-31 17:25:20   3600       small              2008  manual     69   \n",
       "\n",
       "   Model  Kilometer  RegistrationMonth  FuelType       Brand Repaired  \\\n",
       "0   golf     150000                  0    petrol  volkswagen      NaN   \n",
       "1    NaN     125000                  5  gasoline        audi      yes   \n",
       "2  grand     125000                  8  gasoline        jeep      NaN   \n",
       "3   golf     150000                  6    petrol  volkswagen       no   \n",
       "4  fabia      90000                  7  gasoline       skoda       no   \n",
       "\n",
       "  DateCreated  NumberOfPictures  PostalCode            LastSeen  \n",
       "0  2016-03-24                 0       70435 2016-04-07 03:16:57  \n",
       "1  2016-03-24                 0       66954 2016-04-07 01:46:50  \n",
       "2  2016-03-14                 0       90480 2016-04-05 12:47:46  \n",
       "3  2016-03-17                 0       91074 2016-03-17 17:40:17  \n",
       "4  2016-03-31                 0       60437 2016-04-06 10:17:21  "
      ]
     },
     "execution_count": 4,
     "metadata": {},
     "output_type": "execute_result"
    }
   ],
   "source": [
    "local_path = '/datasets/autos.csv'\n",
    "url = 'https://code.s3.yandex.net/datasets/autos.csv'\n",
    "\n",
    "if os.path.exists(local_path):\n",
    "    df = pd.read_csv(local_path, parse_dates=['DateCrawled', 'DateCreated', 'LastSeen'], dayfirst=True)\n",
    "    print(\"Данные загружены из локального файла\")\n",
    "else:\n",
    "    df = pd.read_csv(url, parse_dates=['date'])\n",
    "    print(\"Данные загружены из интернета\")\n",
    "\n",
    "print(f\"Размер данных: {df.shape}\")\n",
    "display(df.info())\n",
    "df.head()"
   ]
  },
  {
   "cell_type": "markdown",
   "id": "acf3bd94",
   "metadata": {},
   "source": [
    "**Вывод по загрузке данных**\n",
    "\n",
    "Данные успешно загружены. Типы данных корректны.\n",
    "\n"
   ]
  },
  {
   "cell_type": "markdown",
   "id": "20ff2197",
   "metadata": {},
   "source": [
    "### Исследовательский анализ данных"
   ]
  },
  {
   "cell_type": "markdown",
   "id": "d037a63d",
   "metadata": {},
   "source": [
    "На этапе исследовательского анализа данных:\n",
    "1. Удалим неинформативные столбцы\n",
    "2. Переименуем названия столбцов в единый стандарт sneak_case\n",
    "3. Примем решение по заполнению пропусков\n",
    "4. Проверим датафрейм на наличие дубликатов\n",
    "5. Исследуем столбцы на аномальные значения"
   ]
  },
  {
   "cell_type": "markdown",
   "id": "94a88da8",
   "metadata": {},
   "source": [
    "#### Удаление неинформативных столбцов"
   ]
  },
  {
   "cell_type": "code",
   "execution_count": 5,
   "id": "04fc59d4",
   "metadata": {},
   "outputs": [
    {
     "data": {
      "text/html": [
       "<div>\n",
       "<style scoped>\n",
       "    .dataframe tbody tr th:only-of-type {\n",
       "        vertical-align: middle;\n",
       "    }\n",
       "\n",
       "    .dataframe tbody tr th {\n",
       "        vertical-align: top;\n",
       "    }\n",
       "\n",
       "    .dataframe thead th {\n",
       "        text-align: right;\n",
       "    }\n",
       "</style>\n",
       "<table border=\"1\" class=\"dataframe\">\n",
       "  <thead>\n",
       "    <tr style=\"text-align: right;\">\n",
       "      <th></th>\n",
       "      <th>Price</th>\n",
       "      <th>RegistrationYear</th>\n",
       "      <th>Power</th>\n",
       "      <th>Kilometer</th>\n",
       "      <th>RegistrationMonth</th>\n",
       "      <th>NumberOfPictures</th>\n",
       "      <th>PostalCode</th>\n",
       "    </tr>\n",
       "  </thead>\n",
       "  <tbody>\n",
       "    <tr>\n",
       "      <th>count</th>\n",
       "      <td>354369.000000</td>\n",
       "      <td>354369.000000</td>\n",
       "      <td>354369.000000</td>\n",
       "      <td>354369.000000</td>\n",
       "      <td>354369.000000</td>\n",
       "      <td>354369.0</td>\n",
       "      <td>354369.000000</td>\n",
       "    </tr>\n",
       "    <tr>\n",
       "      <th>mean</th>\n",
       "      <td>4416.656776</td>\n",
       "      <td>2004.234448</td>\n",
       "      <td>110.094337</td>\n",
       "      <td>128211.172535</td>\n",
       "      <td>5.714645</td>\n",
       "      <td>0.0</td>\n",
       "      <td>50508.689087</td>\n",
       "    </tr>\n",
       "    <tr>\n",
       "      <th>std</th>\n",
       "      <td>4514.158514</td>\n",
       "      <td>90.227958</td>\n",
       "      <td>189.850405</td>\n",
       "      <td>37905.341530</td>\n",
       "      <td>3.726421</td>\n",
       "      <td>0.0</td>\n",
       "      <td>25783.096248</td>\n",
       "    </tr>\n",
       "    <tr>\n",
       "      <th>min</th>\n",
       "      <td>0.000000</td>\n",
       "      <td>1000.000000</td>\n",
       "      <td>0.000000</td>\n",
       "      <td>5000.000000</td>\n",
       "      <td>0.000000</td>\n",
       "      <td>0.0</td>\n",
       "      <td>1067.000000</td>\n",
       "    </tr>\n",
       "    <tr>\n",
       "      <th>25%</th>\n",
       "      <td>1050.000000</td>\n",
       "      <td>1999.000000</td>\n",
       "      <td>69.000000</td>\n",
       "      <td>125000.000000</td>\n",
       "      <td>3.000000</td>\n",
       "      <td>0.0</td>\n",
       "      <td>30165.000000</td>\n",
       "    </tr>\n",
       "    <tr>\n",
       "      <th>50%</th>\n",
       "      <td>2700.000000</td>\n",
       "      <td>2003.000000</td>\n",
       "      <td>105.000000</td>\n",
       "      <td>150000.000000</td>\n",
       "      <td>6.000000</td>\n",
       "      <td>0.0</td>\n",
       "      <td>49413.000000</td>\n",
       "    </tr>\n",
       "    <tr>\n",
       "      <th>75%</th>\n",
       "      <td>6400.000000</td>\n",
       "      <td>2008.000000</td>\n",
       "      <td>143.000000</td>\n",
       "      <td>150000.000000</td>\n",
       "      <td>9.000000</td>\n",
       "      <td>0.0</td>\n",
       "      <td>71083.000000</td>\n",
       "    </tr>\n",
       "    <tr>\n",
       "      <th>max</th>\n",
       "      <td>20000.000000</td>\n",
       "      <td>9999.000000</td>\n",
       "      <td>20000.000000</td>\n",
       "      <td>150000.000000</td>\n",
       "      <td>12.000000</td>\n",
       "      <td>0.0</td>\n",
       "      <td>99998.000000</td>\n",
       "    </tr>\n",
       "  </tbody>\n",
       "</table>\n",
       "</div>"
      ],
      "text/plain": [
       "               Price  RegistrationYear          Power      Kilometer  \\\n",
       "count  354369.000000     354369.000000  354369.000000  354369.000000   \n",
       "mean     4416.656776       2004.234448     110.094337  128211.172535   \n",
       "std      4514.158514         90.227958     189.850405   37905.341530   \n",
       "min         0.000000       1000.000000       0.000000    5000.000000   \n",
       "25%      1050.000000       1999.000000      69.000000  125000.000000   \n",
       "50%      2700.000000       2003.000000     105.000000  150000.000000   \n",
       "75%      6400.000000       2008.000000     143.000000  150000.000000   \n",
       "max     20000.000000       9999.000000   20000.000000  150000.000000   \n",
       "\n",
       "       RegistrationMonth  NumberOfPictures     PostalCode  \n",
       "count      354369.000000          354369.0  354369.000000  \n",
       "mean            5.714645               0.0   50508.689087  \n",
       "std             3.726421               0.0   25783.096248  \n",
       "min             0.000000               0.0    1067.000000  \n",
       "25%             3.000000               0.0   30165.000000  \n",
       "50%             6.000000               0.0   49413.000000  \n",
       "75%             9.000000               0.0   71083.000000  \n",
       "max            12.000000               0.0   99998.000000  "
      ]
     },
     "execution_count": 5,
     "metadata": {},
     "output_type": "execute_result"
    }
   ],
   "source": [
    "df.describe()"
   ]
  },
  {
   "cell_type": "markdown",
   "id": "cc7ef485",
   "metadata": {},
   "source": [
    "С логической точки зрения ясно, что столбцы **DateCrawled, DateCreated, LastSeen, PostalCode** не будут информативными.\n",
    "\n",
    "Также, из анализа столбцов видно, что признак **NumberOfPictures** не будет информативен, так как все статистики у данного признака равны 0.\n",
    "\n",
    "Также удалим столбец **RegistrationMonth**, так как **RegistrationYear** явно будет информативнее.\n",
    "\n",
    "Удалим выделенные столбцы"
   ]
  },
  {
   "cell_type": "code",
   "execution_count": 6,
   "id": "111a6074",
   "metadata": {},
   "outputs": [
    {
     "data": {
      "text/html": [
       "<div>\n",
       "<style scoped>\n",
       "    .dataframe tbody tr th:only-of-type {\n",
       "        vertical-align: middle;\n",
       "    }\n",
       "\n",
       "    .dataframe tbody tr th {\n",
       "        vertical-align: top;\n",
       "    }\n",
       "\n",
       "    .dataframe thead th {\n",
       "        text-align: right;\n",
       "    }\n",
       "</style>\n",
       "<table border=\"1\" class=\"dataframe\">\n",
       "  <thead>\n",
       "    <tr style=\"text-align: right;\">\n",
       "      <th></th>\n",
       "      <th>Price</th>\n",
       "      <th>VehicleType</th>\n",
       "      <th>RegistrationYear</th>\n",
       "      <th>Gearbox</th>\n",
       "      <th>Power</th>\n",
       "      <th>Model</th>\n",
       "      <th>Kilometer</th>\n",
       "      <th>FuelType</th>\n",
       "      <th>Brand</th>\n",
       "      <th>Repaired</th>\n",
       "    </tr>\n",
       "  </thead>\n",
       "  <tbody>\n",
       "    <tr>\n",
       "      <th>0</th>\n",
       "      <td>480</td>\n",
       "      <td>NaN</td>\n",
       "      <td>1993</td>\n",
       "      <td>manual</td>\n",
       "      <td>0</td>\n",
       "      <td>golf</td>\n",
       "      <td>150000</td>\n",
       "      <td>petrol</td>\n",
       "      <td>volkswagen</td>\n",
       "      <td>NaN</td>\n",
       "    </tr>\n",
       "    <tr>\n",
       "      <th>1</th>\n",
       "      <td>18300</td>\n",
       "      <td>coupe</td>\n",
       "      <td>2011</td>\n",
       "      <td>manual</td>\n",
       "      <td>190</td>\n",
       "      <td>NaN</td>\n",
       "      <td>125000</td>\n",
       "      <td>gasoline</td>\n",
       "      <td>audi</td>\n",
       "      <td>yes</td>\n",
       "    </tr>\n",
       "    <tr>\n",
       "      <th>2</th>\n",
       "      <td>9800</td>\n",
       "      <td>suv</td>\n",
       "      <td>2004</td>\n",
       "      <td>auto</td>\n",
       "      <td>163</td>\n",
       "      <td>grand</td>\n",
       "      <td>125000</td>\n",
       "      <td>gasoline</td>\n",
       "      <td>jeep</td>\n",
       "      <td>NaN</td>\n",
       "    </tr>\n",
       "    <tr>\n",
       "      <th>3</th>\n",
       "      <td>1500</td>\n",
       "      <td>small</td>\n",
       "      <td>2001</td>\n",
       "      <td>manual</td>\n",
       "      <td>75</td>\n",
       "      <td>golf</td>\n",
       "      <td>150000</td>\n",
       "      <td>petrol</td>\n",
       "      <td>volkswagen</td>\n",
       "      <td>no</td>\n",
       "    </tr>\n",
       "    <tr>\n",
       "      <th>4</th>\n",
       "      <td>3600</td>\n",
       "      <td>small</td>\n",
       "      <td>2008</td>\n",
       "      <td>manual</td>\n",
       "      <td>69</td>\n",
       "      <td>fabia</td>\n",
       "      <td>90000</td>\n",
       "      <td>gasoline</td>\n",
       "      <td>skoda</td>\n",
       "      <td>no</td>\n",
       "    </tr>\n",
       "  </tbody>\n",
       "</table>\n",
       "</div>"
      ],
      "text/plain": [
       "   Price VehicleType  RegistrationYear Gearbox  Power  Model  Kilometer  \\\n",
       "0    480         NaN              1993  manual      0   golf     150000   \n",
       "1  18300       coupe              2011  manual    190    NaN     125000   \n",
       "2   9800         suv              2004    auto    163  grand     125000   \n",
       "3   1500       small              2001  manual     75   golf     150000   \n",
       "4   3600       small              2008  manual     69  fabia      90000   \n",
       "\n",
       "   FuelType       Brand Repaired  \n",
       "0    petrol  volkswagen      NaN  \n",
       "1  gasoline        audi      yes  \n",
       "2  gasoline        jeep      NaN  \n",
       "3    petrol  volkswagen       no  \n",
       "4  gasoline       skoda       no  "
      ]
     },
     "execution_count": 6,
     "metadata": {},
     "output_type": "execute_result"
    }
   ],
   "source": [
    "del_df = df[['DateCrawled', 'DateCreated', 'LastSeen', 'PostalCode', 'NumberOfPictures', 'RegistrationMonth']]\n",
    "df = df.drop(['DateCrawled', 'DateCreated', 'LastSeen', 'PostalCode', 'NumberOfPictures', 'RegistrationMonth'], axis=1)\n",
    "df.head()"
   ]
  },
  {
   "cell_type": "markdown",
   "id": "28d701f0",
   "metadata": {},
   "source": [
    "#### Приведение названий столбцов к нижнему регистру"
   ]
  },
  {
   "cell_type": "code",
   "execution_count": 7,
   "id": "8810cadb",
   "metadata": {},
   "outputs": [
    {
     "data": {
      "text/plain": [
       "Index(['price', 'vehicletype', 'registrationyear', 'gearbox', 'power', 'model',\n",
       "       'kilometer', 'fueltype', 'brand', 'repaired'],\n",
       "      dtype='object')"
      ]
     },
     "execution_count": 7,
     "metadata": {},
     "output_type": "execute_result"
    }
   ],
   "source": [
    "df.columns = df.columns.str.lower()\n",
    "df.columns"
   ]
  },
  {
   "cell_type": "code",
   "execution_count": 8,
   "id": "5e5e0389",
   "metadata": {},
   "outputs": [],
   "source": [
    "df = df.rename(columns={'registrationyear': 'registration_year', 'vehicletype': 'vehicle_type'})"
   ]
  },
  {
   "cell_type": "markdown",
   "id": "e384a73a",
   "metadata": {},
   "source": [
    "#### Заполнение пропусков"
   ]
  },
  {
   "cell_type": "markdown",
   "id": "b7e740cf",
   "metadata": {},
   "source": [
    "Посмотрим на процент пропусков в каждом столбце"
   ]
  },
  {
   "cell_type": "code",
   "execution_count": 9,
   "id": "0a3787f0",
   "metadata": {},
   "outputs": [
    {
     "name": "stdout",
     "output_type": "stream",
     "text": [
      "Процент пропусков в столбцах\n",
      "\n",
      "price: 0.00%\n",
      "vehicle_type: 10.58%\n",
      "registration_year: 0.00%\n",
      "gearbox: 5.60%\n",
      "power: 0.00%\n",
      "model: 5.56%\n",
      "kilometer: 0.00%\n",
      "fueltype: 9.28%\n",
      "brand: 0.00%\n",
      "repaired: 20.08%\n"
     ]
    }
   ],
   "source": [
    "print('Процент пропусков в столбцах\\n')\n",
    "for column in df.columns:\n",
    "    df[column] = df[column].fillna('nan') \n",
    "    percentage_unknown = (df[column] == 'nan').mean() * 100\n",
    "    print(f\"{column}: {percentage_unknown:.2f}%\")"
   ]
  },
  {
   "cell_type": "markdown",
   "id": "8fb3d934",
   "metadata": {},
   "source": [
    "Удалять пропуски не будем, так как это может привести к потере 20% данных.\n",
    "\n",
    "Чтобы не искажать наши данные синтетическими, заменим пропуски на заглушки **nan** (было сделано в коде выше)\n",
    "\n",
    "\n"
   ]
  },
  {
   "cell_type": "code",
   "execution_count": 10,
   "id": "44a4d126",
   "metadata": {},
   "outputs": [
    {
     "data": {
      "text/plain": [
       "price                0\n",
       "vehicle_type         0\n",
       "registration_year    0\n",
       "gearbox              0\n",
       "power                0\n",
       "model                0\n",
       "kilometer            0\n",
       "fueltype             0\n",
       "brand                0\n",
       "repaired             0\n",
       "dtype: int64"
      ]
     },
     "execution_count": 10,
     "metadata": {},
     "output_type": "execute_result"
    }
   ],
   "source": [
    "df.isna().sum()"
   ]
  },
  {
   "cell_type": "markdown",
   "id": "ad852e46",
   "metadata": {},
   "source": [
    "#### Обработка дубликатов"
   ]
  },
  {
   "cell_type": "markdown",
   "id": "923b3444",
   "metadata": {},
   "source": [
    "Приведем строковые значения в столбцах к нижнему регистру"
   ]
  },
  {
   "cell_type": "code",
   "execution_count": 11,
   "id": "80c24e8f",
   "metadata": {},
   "outputs": [],
   "source": [
    "def lower(df, list_col):\n",
    "    for elem in list_col:\n",
    "        df[elem] = df[elem].str.lower()"
   ]
  },
  {
   "cell_type": "code",
   "execution_count": 12,
   "id": "4823e938",
   "metadata": {},
   "outputs": [],
   "source": [
    "str_fich = ['vehicle_type', 'gearbox', 'model', 'fueltype', 'brand', 'repaired']\n",
    "lower(df, str_fich)"
   ]
  },
  {
   "cell_type": "code",
   "execution_count": 13,
   "id": "35c38bfb",
   "metadata": {},
   "outputs": [
    {
     "name": "stdout",
     "output_type": "stream",
     "text": [
      "sedan          91457\n",
      "small          79831\n",
      "wagon          65166\n",
      "nan            37490\n",
      "bus            28775\n",
      "convertible    20203\n",
      "coupe          16163\n",
      "suv            11996\n",
      "other           3288\n",
      "Name: vehicle_type, dtype: int64\n",
      "\n",
      "\n",
      "manual    268251\n",
      "auto       66285\n",
      "nan        19833\n",
      "Name: gearbox, dtype: int64\n",
      "\n",
      "\n",
      "golf                  29232\n",
      "other                 24421\n",
      "3er                   19761\n",
      "nan                   19705\n",
      "polo                  13066\n",
      "                      ...  \n",
      "serie_2                   8\n",
      "rangerover                4\n",
      "serie_3                   4\n",
      "serie_1                   2\n",
      "range_rover_evoque        2\n",
      "Name: model, Length: 251, dtype: int64\n",
      "\n",
      "\n",
      "petrol      216352\n",
      "gasoline     98720\n",
      "nan          32895\n",
      "lpg           5310\n",
      "cng            565\n",
      "hybrid         233\n",
      "other          204\n",
      "electric        90\n",
      "Name: fueltype, dtype: int64\n",
      "\n",
      "\n",
      "volkswagen        77013\n",
      "opel              39931\n",
      "bmw               36914\n",
      "mercedes_benz     32046\n",
      "audi              29456\n",
      "ford              25179\n",
      "renault           17927\n",
      "peugeot           10998\n",
      "fiat               9643\n",
      "seat               6907\n",
      "mazda              5615\n",
      "skoda              5500\n",
      "smart              5246\n",
      "citroen            5148\n",
      "nissan             4941\n",
      "toyota             4606\n",
      "hyundai            3587\n",
      "sonstige_autos     3374\n",
      "volvo              3210\n",
      "mini               3202\n",
      "mitsubishi         3022\n",
      "honda              2817\n",
      "kia                2465\n",
      "suzuki             2323\n",
      "alfa_romeo         2314\n",
      "chevrolet          1754\n",
      "chrysler           1439\n",
      "dacia               900\n",
      "daihatsu            806\n",
      "subaru              762\n",
      "porsche             758\n",
      "jeep                677\n",
      "trabant             589\n",
      "land_rover          545\n",
      "daewoo              542\n",
      "saab                526\n",
      "jaguar              505\n",
      "rover               486\n",
      "lancia              471\n",
      "lada                225\n",
      "Name: brand, dtype: int64\n",
      "\n",
      "\n",
      "no     247161\n",
      "nan     71154\n",
      "yes     36054\n",
      "Name: repaired, dtype: int64\n",
      "\n",
      "\n"
     ]
    }
   ],
   "source": [
    "for elem in str_fich:\n",
    "    print(df[elem].value_counts())\n",
    "    print('\\n')"
   ]
  },
  {
   "cell_type": "markdown",
   "id": "05ad396a",
   "metadata": {},
   "source": [
    "Значение **other** в столбцах **vehicletype, model, fueltype** заменими на заглушку **nan**"
   ]
  },
  {
   "cell_type": "code",
   "execution_count": 14,
   "id": "5e00404c",
   "metadata": {},
   "outputs": [],
   "source": [
    "for column in ['vehicle_type', 'model', 'fueltype']:\n",
    "    df[column] = df[column].replace('nan', 'other')"
   ]
  },
  {
   "cell_type": "markdown",
   "id": "bd97c632",
   "metadata": {},
   "source": [
    "Теперь более подробно исследуем уникальные значения столбца **model**"
   ]
  },
  {
   "cell_type": "code",
   "execution_count": 15,
   "id": "bac0add6",
   "metadata": {},
   "outputs": [
    {
     "data": {
      "text/plain": [
       "array(['golf', 'other', 'grand', 'fabia', '3er', '2_reihe', 'c_max',\n",
       "       '3_reihe', 'passat', 'navara', 'ka', 'polo', 'twingo', 'a_klasse',\n",
       "       'scirocco', '5er', 'meriva', 'arosa', 'c4', 'civic', 'transporter',\n",
       "       'punto', 'e_klasse', 'clio', 'kadett', 'kangoo', 'corsa', 'one',\n",
       "       'fortwo', '1er', 'b_klasse', 'signum', 'astra', 'a8', 'jetta',\n",
       "       'fiesta', 'c_klasse', 'micra', 'vito', 'sprinter', '156', 'escort',\n",
       "       'forester', 'xc_reihe', 'scenic', 'a4', 'a1', 'insignia', 'combo',\n",
       "       'focus', 'tt', 'a6', 'jazz', 'omega', 'slk', '7er', '80', '147',\n",
       "       '100', 'z_reihe', 'sportage', 'sorento', 'v40', 'ibiza', 'mustang',\n",
       "       'eos', 'touran', 'getz', 'a3', 'almera', 'megane', 'lupo', 'r19',\n",
       "       'zafira', 'caddy', 'mondeo', 'cordoba', 'colt', 'impreza',\n",
       "       'vectra', 'berlingo', 'tiguan', 'i_reihe', 'espace', 'sharan',\n",
       "       '6_reihe', 'panda', 'up', 'seicento', 'ceed', '5_reihe', 'yeti',\n",
       "       'octavia', 'mii', 'rx_reihe', '6er', 'modus', 'fox', 'matiz',\n",
       "       'beetle', 'c1', 'rio', 'touareg', 'logan', 'spider', 'cuore',\n",
       "       's_max', 'a2', 'galaxy', 'c3', 'viano', 's_klasse', '1_reihe',\n",
       "       'avensis', 'roomster', 'sl', 'kaefer', 'santa', 'cooper', 'leon',\n",
       "       '4_reihe', 'a5', '500', 'laguna', 'ptcruiser', 'clk', 'primera',\n",
       "       'x_reihe', 'exeo', '159', 'transit', 'juke', 'qashqai', 'carisma',\n",
       "       'accord', 'corolla', 'lanos', 'phaeton', 'verso', 'swift', 'rav',\n",
       "       'picanto', 'boxster', 'kalos', 'superb', 'stilo', 'alhambra',\n",
       "       'mx_reihe', 'roadster', 'ypsilon', 'cayenne', 'galant', 'justy',\n",
       "       '90', 'sirion', 'crossfire', 'agila', 'duster', 'cr_reihe', 'v50',\n",
       "       'c_reihe', 'v_klasse', 'm_klasse', 'yaris', 'c5', 'aygo', 'cc',\n",
       "       'carnival', 'fusion', '911', 'bora', 'forfour', 'm_reihe', 'cl',\n",
       "       'tigra', '300c', 'spark', 'v70', 'kuga', 'x_type', 'ducato',\n",
       "       's_type', 'x_trail', 'toledo', 'altea', 'voyager', 'calibra',\n",
       "       'bravo', 'antara', 'tucson', 'citigo', 'jimny', 'wrangler',\n",
       "       'lybra', 'q7', 'lancer', 'captiva', 'c2', 'discovery',\n",
       "       'freelander', 'sandero', 'note', '900', 'cherokee', 'clubman',\n",
       "       'samara', 'defender', '601', 'cx_reihe', 'legacy', 'pajero',\n",
       "       'auris', 'niva', 's60', 'nubira', 'vivaro', 'g_klasse', 'lodgy',\n",
       "       '850', 'range_rover', 'q3', 'serie_2', 'glk', 'charade', 'croma',\n",
       "       'outlander', 'doblo', 'musa', 'move', '9000', 'v60', '145', 'aveo',\n",
       "       '200', 'b_max', 'range_rover_sport', 'terios', 'rangerover', 'q5',\n",
       "       'range_rover_evoque', 'materia', 'delta', 'gl', 'kalina', 'amarok',\n",
       "       'elefantino', 'i3', 'kappa', 'serie_3', 'serie_1'], dtype=object)"
      ]
     },
     "execution_count": 15,
     "metadata": {},
     "output_type": "execute_result"
    }
   ],
   "source": [
    "df['model'].unique()"
   ]
  },
  {
   "cell_type": "code",
   "execution_count": 16,
   "id": "b013340d",
   "metadata": {},
   "outputs": [],
   "source": [
    "df['model'].replace('rangerover', 'range_rover', inplace=True)"
   ]
  },
  {
   "cell_type": "code",
   "execution_count": 17,
   "id": "e895f3ef",
   "metadata": {},
   "outputs": [
    {
     "data": {
      "text/plain": [
       "45191"
      ]
     },
     "execution_count": 17,
     "metadata": {},
     "output_type": "execute_result"
    }
   ],
   "source": [
    "df.duplicated().sum()"
   ]
  },
  {
   "cell_type": "code",
   "execution_count": 18,
   "id": "9ae21202",
   "metadata": {},
   "outputs": [],
   "source": [
    "df = df.drop_duplicates()"
   ]
  },
  {
   "cell_type": "code",
   "execution_count": 19,
   "id": "15e02b49",
   "metadata": {},
   "outputs": [
    {
     "data": {
      "text/plain": [
       "0"
      ]
     },
     "execution_count": 19,
     "metadata": {},
     "output_type": "execute_result"
    }
   ],
   "source": [
    "df.duplicated().sum()"
   ]
  },
  {
   "cell_type": "markdown",
   "id": "349b35c1",
   "metadata": {},
   "source": [
    "Дубликаты обработаны"
   ]
  },
  {
   "cell_type": "markdown",
   "id": "e0f996d3",
   "metadata": {},
   "source": [
    "#### Анализ аномальных значений"
   ]
  },
  {
   "cell_type": "code",
   "execution_count": 20,
   "id": "9fcfeff6",
   "metadata": {},
   "outputs": [],
   "source": [
    "# Функция для построения графиков количественного признака\n",
    "def grafics(df_col, label_x2, label_y2, title):\n",
    "    # Создание фигуры и осей\n",
    "    fig, axs = plt.subplots(1, 2, figsize=(12, 5))\n",
    "    fig.suptitle(title, fontsize=14, y=1.05)  # Общий заголовок\n",
    "    # Гистограмма\n",
    "    axs[0].hist(df_col,edgecolor='black', bins=30, alpha=0.7)\n",
    "    axs[0].set_title('Гистограмма', fontsize=12)\n",
    "    axs[0].set_xlabel(label_x2, fontsize=10)\n",
    "    axs[0].set_ylabel(label_y2, fontsize=10)\n",
    "    axs[0].grid(linestyle='--', alpha=0.5)\n",
    "    # Диаграмма размаха\n",
    "    sns.boxplot(\n",
    "        x=df_col, \n",
    "        ax=axs[1], \n",
    "        color='lightgreen', \n",
    "        width=0.4,\n",
    "        linewidth=1.5,\n",
    "        flierprops=dict(\n",
    "            marker='o', \n",
    "            markerfacecolor='red', \n",
    "            markersize=6,\n",
    "            markeredgecolor='black'\n",
    "        )\n",
    "    )\n",
    "    axs[1].set_title('Диаграмма размаха (Boxplot)', fontsize=12)\n",
    "    axs[1].set_xlabel(label_x2, fontsize=10)\n",
    "    \n",
    "    \n",
    "    plt.tight_layout()\n",
    "    plt.show()"
   ]
  },
  {
   "cell_type": "code",
   "execution_count": 21,
   "id": "eb2ff0b2",
   "metadata": {},
   "outputs": [],
   "source": [
    "def graf(df_col, title):\n",
    "    category_counts = df_col.value_counts()\n",
    "    colors = ['#FF9AA2', '#A2E1FF', '#A2FFC7', '#FFB7B2']\n",
    "    bar_colors = colors[:len(category_counts)]\n",
    "    \n",
    "    plt.figure(figsize=(7, 4))\n",
    "    \n",
    "\n",
    "    bars = plt.bar(category_counts.index, \n",
    "                 category_counts.values, \n",
    "                 color=bar_colors,\n",
    "                 edgecolor='black',\n",
    "                 linewidth=1,\n",
    "                 alpha=0.8,\n",
    "                 width=0.6)  # Фиксированная ширина столбцов\n",
    "    \n",
    "    # Добавляем подписи значений\n",
    "    for bar in bars:\n",
    "        height = bar.get_height()\n",
    "        plt.text(bar.get_x() + bar.get_width()/2., height,\n",
    "                f'{height}',\n",
    "                ha='center',  # Центрирование по горизонтали\n",
    "                va='bottom',  # Выравнивание по основанию\n",
    "                fontsize=10)\n",
    "    \n",
    "    # Настройки графика\n",
    "    plt.title(title, fontsize=14, pad=20)\n",
    "    plt.ylabel('Количество', fontsize=12)\n",
    "    \n",
    "    # Центрированные подписи без поворота\n",
    "    plt.xticks(ha='center')  # Ключевое изменение - центрирование подписей\n",
    "    \n",
    "    # Убираем лишние линии\n",
    "    plt.gca().spines['top'].set_visible(False)\n",
    "    plt.gca().spines['right'].set_visible(False)\n",
    "    \n",
    "    # Автоматическая подгонка layout\n",
    "    plt.tight_layout()\n",
    "    plt.show()"
   ]
  },
  {
   "cell_type": "code",
   "execution_count": 22,
   "id": "173632af",
   "metadata": {},
   "outputs": [
    {
     "data": {
      "text/plain": [
       "Index(['price', 'vehicle_type', 'registration_year', 'gearbox', 'power',\n",
       "       'model', 'kilometer', 'fueltype', 'brand', 'repaired'],\n",
       "      dtype='object')"
      ]
     },
     "execution_count": 22,
     "metadata": {},
     "output_type": "execute_result"
    }
   ],
   "source": [
    "df.columns"
   ]
  },
  {
   "cell_type": "code",
   "execution_count": 23,
   "id": "f94452e0",
   "metadata": {},
   "outputs": [
    {
     "data": {
      "text/plain": [
       "['price', 'registration_year', 'power', 'kilometer']"
      ]
     },
     "execution_count": 23,
     "metadata": {},
     "output_type": "execute_result"
    }
   ],
   "source": [
    "num_col_names = df.select_dtypes(include='number').columns.tolist()\n",
    "num_col_names"
   ]
  },
  {
   "cell_type": "code",
   "execution_count": 24,
   "id": "1beb3a96",
   "metadata": {},
   "outputs": [
    {
     "data": {
      "image/png": "[encoded data removed]",
      "text/plain": [
       "<Figure size 864x360 with 2 Axes>"
      ]
     },
     "metadata": {
      "needs_background": "light"
     },
     "output_type": "display_data"
    }
   ],
   "source": [
    "grafics(df['price'], 'Цена (евро)', 'Количество', \n",
    "       'Распределение цены')"
   ]
  },
  {
   "cell_type": "code",
   "execution_count": 25,
   "id": "6819d31e",
   "metadata": {},
   "outputs": [],
   "source": [
    "conn = sqlite3.connect('database.db')"
   ]
  },
  {
   "cell_type": "code",
   "execution_count": 26,
   "id": "682dfda6",
   "metadata": {},
   "outputs": [],
   "source": [
    "df.to_sql('df', conn, index=False, if_exists='replace')"
   ]
  },
  {
   "cell_type": "code",
   "execution_count": 27,
   "id": "0c1600e7",
   "metadata": {},
   "outputs": [
    {
     "data": {
      "text/html": [
       "<div>\n",
       "<style scoped>\n",
       "    .dataframe tbody tr th:only-of-type {\n",
       "        vertical-align: middle;\n",
       "    }\n",
       "\n",
       "    .dataframe tbody tr th {\n",
       "        vertical-align: top;\n",
       "    }\n",
       "\n",
       "    .dataframe thead th {\n",
       "        text-align: right;\n",
       "    }\n",
       "</style>\n",
       "<table border=\"1\" class=\"dataframe\">\n",
       "  <thead>\n",
       "    <tr style=\"text-align: right;\">\n",
       "      <th></th>\n",
       "      <th>Brand</th>\n",
       "      <th>Percent brand</th>\n",
       "    </tr>\n",
       "  </thead>\n",
       "  <tbody>\n",
       "    <tr>\n",
       "      <th>0</th>\n",
       "      <td>volkswagen</td>\n",
       "      <td>20.62%</td>\n",
       "    </tr>\n",
       "    <tr>\n",
       "      <th>1</th>\n",
       "      <td>bmw</td>\n",
       "      <td>18.27%</td>\n",
       "    </tr>\n",
       "    <tr>\n",
       "      <th>2</th>\n",
       "      <td>audi</td>\n",
       "      <td>16.53%</td>\n",
       "    </tr>\n",
       "    <tr>\n",
       "      <th>3</th>\n",
       "      <td>mercedes_benz</td>\n",
       "      <td>16.05%</td>\n",
       "    </tr>\n",
       "    <tr>\n",
       "      <th>4</th>\n",
       "      <td>ford</td>\n",
       "      <td>4.22%</td>\n",
       "    </tr>\n",
       "    <tr>\n",
       "      <th>5</th>\n",
       "      <td>opel</td>\n",
       "      <td>2.94%</td>\n",
       "    </tr>\n",
       "    <tr>\n",
       "      <th>6</th>\n",
       "      <td>mini</td>\n",
       "      <td>2.73%</td>\n",
       "    </tr>\n",
       "    <tr>\n",
       "      <th>7</th>\n",
       "      <td>skoda</td>\n",
       "      <td>1.87%</td>\n",
       "    </tr>\n",
       "    <tr>\n",
       "      <th>8</th>\n",
       "      <td>sonstige_autos</td>\n",
       "      <td>1.74%</td>\n",
       "    </tr>\n",
       "    <tr>\n",
       "      <th>9</th>\n",
       "      <td>nissan</td>\n",
       "      <td>1.45%</td>\n",
       "    </tr>\n",
       "    <tr>\n",
       "      <th>10</th>\n",
       "      <td>porsche</td>\n",
       "      <td>1.42%</td>\n",
       "    </tr>\n",
       "    <tr>\n",
       "      <th>11</th>\n",
       "      <td>seat</td>\n",
       "      <td>1.3%</td>\n",
       "    </tr>\n",
       "    <tr>\n",
       "      <th>12</th>\n",
       "      <td>hyundai</td>\n",
       "      <td>1.07%</td>\n",
       "    </tr>\n",
       "    <tr>\n",
       "      <th>13</th>\n",
       "      <td>volvo</td>\n",
       "      <td>0.96%</td>\n",
       "    </tr>\n",
       "    <tr>\n",
       "      <th>14</th>\n",
       "      <td>kia</td>\n",
       "      <td>0.91%</td>\n",
       "    </tr>\n",
       "    <tr>\n",
       "      <th>15</th>\n",
       "      <td>renault</td>\n",
       "      <td>0.88%</td>\n",
       "    </tr>\n",
       "    <tr>\n",
       "      <th>16</th>\n",
       "      <td>peugeot</td>\n",
       "      <td>0.83%</td>\n",
       "    </tr>\n",
       "    <tr>\n",
       "      <th>17</th>\n",
       "      <td>toyota</td>\n",
       "      <td>0.83%</td>\n",
       "    </tr>\n",
       "    <tr>\n",
       "      <th>18</th>\n",
       "      <td>mazda</td>\n",
       "      <td>0.81%</td>\n",
       "    </tr>\n",
       "    <tr>\n",
       "      <th>19</th>\n",
       "      <td>chevrolet</td>\n",
       "      <td>0.64%</td>\n",
       "    </tr>\n",
       "    <tr>\n",
       "      <th>20</th>\n",
       "      <td>land_rover</td>\n",
       "      <td>0.54%</td>\n",
       "    </tr>\n",
       "    <tr>\n",
       "      <th>21</th>\n",
       "      <td>citroen</td>\n",
       "      <td>0.4%</td>\n",
       "    </tr>\n",
       "    <tr>\n",
       "      <th>22</th>\n",
       "      <td>jeep</td>\n",
       "      <td>0.4%</td>\n",
       "    </tr>\n",
       "    <tr>\n",
       "      <th>23</th>\n",
       "      <td>mitsubishi</td>\n",
       "      <td>0.37%</td>\n",
       "    </tr>\n",
       "    <tr>\n",
       "      <th>24</th>\n",
       "      <td>jaguar</td>\n",
       "      <td>0.37%</td>\n",
       "    </tr>\n",
       "    <tr>\n",
       "      <th>25</th>\n",
       "      <td>fiat</td>\n",
       "      <td>0.36%</td>\n",
       "    </tr>\n",
       "    <tr>\n",
       "      <th>26</th>\n",
       "      <td>alfa_romeo</td>\n",
       "      <td>0.34%</td>\n",
       "    </tr>\n",
       "    <tr>\n",
       "      <th>27</th>\n",
       "      <td>chrysler</td>\n",
       "      <td>0.25%</td>\n",
       "    </tr>\n",
       "    <tr>\n",
       "      <th>28</th>\n",
       "      <td>honda</td>\n",
       "      <td>0.25%</td>\n",
       "    </tr>\n",
       "    <tr>\n",
       "      <th>29</th>\n",
       "      <td>subaru</td>\n",
       "      <td>0.19%</td>\n",
       "    </tr>\n",
       "    <tr>\n",
       "      <th>30</th>\n",
       "      <td>suzuki</td>\n",
       "      <td>0.14%</td>\n",
       "    </tr>\n",
       "    <tr>\n",
       "      <th>31</th>\n",
       "      <td>smart</td>\n",
       "      <td>0.13%</td>\n",
       "    </tr>\n",
       "    <tr>\n",
       "      <th>32</th>\n",
       "      <td>dacia</td>\n",
       "      <td>0.07%</td>\n",
       "    </tr>\n",
       "    <tr>\n",
       "      <th>33</th>\n",
       "      <td>saab</td>\n",
       "      <td>0.07%</td>\n",
       "    </tr>\n",
       "    <tr>\n",
       "      <th>34</th>\n",
       "      <td>lancia</td>\n",
       "      <td>0.03%</td>\n",
       "    </tr>\n",
       "    <tr>\n",
       "      <th>35</th>\n",
       "      <td>rover</td>\n",
       "      <td>0.01%</td>\n",
       "    </tr>\n",
       "  </tbody>\n",
       "</table>\n",
       "</div>"
      ],
      "text/plain": [
       "             Brand Percent brand\n",
       "0       volkswagen        20.62%\n",
       "1              bmw        18.27%\n",
       "2             audi        16.53%\n",
       "3    mercedes_benz        16.05%\n",
       "4             ford         4.22%\n",
       "5             opel         2.94%\n",
       "6             mini         2.73%\n",
       "7            skoda         1.87%\n",
       "8   sonstige_autos         1.74%\n",
       "9           nissan         1.45%\n",
       "10         porsche         1.42%\n",
       "11            seat          1.3%\n",
       "12         hyundai         1.07%\n",
       "13           volvo         0.96%\n",
       "14             kia         0.91%\n",
       "15         renault         0.88%\n",
       "16         peugeot         0.83%\n",
       "17          toyota         0.83%\n",
       "18           mazda         0.81%\n",
       "19       chevrolet         0.64%\n",
       "20      land_rover         0.54%\n",
       "21         citroen          0.4%\n",
       "22            jeep          0.4%\n",
       "23      mitsubishi         0.37%\n",
       "24          jaguar         0.37%\n",
       "25            fiat         0.36%\n",
       "26      alfa_romeo         0.34%\n",
       "27        chrysler         0.25%\n",
       "28           honda         0.25%\n",
       "29          subaru         0.19%\n",
       "30          suzuki         0.14%\n",
       "31           smart         0.13%\n",
       "32           dacia         0.07%\n",
       "33            saab         0.07%\n",
       "34          lancia         0.03%\n",
       "35           rover         0.01%"
      ]
     },
     "execution_count": 27,
     "metadata": {},
     "output_type": "execute_result"
    }
   ],
   "source": [
    "sql = '''\n",
    "SELECT \n",
    "    brand AS Brand,\n",
    "    ROUND(COUNT(brand) * 100.0 / cnt, 2) || '%' AS \"Percent brand\"\n",
    "FROM (\n",
    "    SELECT \n",
    "        *,\n",
    "        COUNT(*) OVER() AS cnt\n",
    "    FROM df\n",
    "    WHERE price > 15000\n",
    ") AS subquery\n",
    "GROUP BY brand, cnt\n",
    "ORDER BY COUNT(brand) * 100.0 / cnt DESC;\n",
    "'''\n",
    "pd.read_sql(sql, conn)"
   ]
  },
  {
   "cell_type": "code",
   "execution_count": 28,
   "id": "4bcc2833",
   "metadata": {},
   "outputs": [
    {
     "data": {
      "text/html": [
       "<div>\n",
       "<style scoped>\n",
       "    .dataframe tbody tr th:only-of-type {\n",
       "        vertical-align: middle;\n",
       "    }\n",
       "\n",
       "    .dataframe tbody tr th {\n",
       "        vertical-align: top;\n",
       "    }\n",
       "\n",
       "    .dataframe thead th {\n",
       "        text-align: right;\n",
       "    }\n",
       "</style>\n",
       "<table border=\"1\" class=\"dataframe\">\n",
       "  <thead>\n",
       "    <tr style=\"text-align: right;\">\n",
       "      <th></th>\n",
       "      <th>price</th>\n",
       "      <th>vehicle_type</th>\n",
       "      <th>registration_year</th>\n",
       "      <th>gearbox</th>\n",
       "      <th>power</th>\n",
       "      <th>model</th>\n",
       "      <th>kilometer</th>\n",
       "      <th>fueltype</th>\n",
       "      <th>brand</th>\n",
       "      <th>repaired</th>\n",
       "    </tr>\n",
       "  </thead>\n",
       "  <tbody>\n",
       "    <tr>\n",
       "      <th>0</th>\n",
       "      <td>20000</td>\n",
       "      <td>sedan</td>\n",
       "      <td>2008</td>\n",
       "      <td>auto</td>\n",
       "      <td>408</td>\n",
       "      <td>7er</td>\n",
       "      <td>100000</td>\n",
       "      <td>petrol</td>\n",
       "      <td>bmw</td>\n",
       "      <td>no</td>\n",
       "    </tr>\n",
       "    <tr>\n",
       "      <th>1</th>\n",
       "      <td>20000</td>\n",
       "      <td>sedan</td>\n",
       "      <td>2009</td>\n",
       "      <td>auto</td>\n",
       "      <td>245</td>\n",
       "      <td>7er</td>\n",
       "      <td>150000</td>\n",
       "      <td>gasoline</td>\n",
       "      <td>bmw</td>\n",
       "      <td>no</td>\n",
       "    </tr>\n",
       "    <tr>\n",
       "      <th>2</th>\n",
       "      <td>19999</td>\n",
       "      <td>sedan</td>\n",
       "      <td>2008</td>\n",
       "      <td>auto</td>\n",
       "      <td>231</td>\n",
       "      <td>7er</td>\n",
       "      <td>90000</td>\n",
       "      <td>other</td>\n",
       "      <td>bmw</td>\n",
       "      <td>no</td>\n",
       "    </tr>\n",
       "    <tr>\n",
       "      <th>3</th>\n",
       "      <td>19900</td>\n",
       "      <td>sedan</td>\n",
       "      <td>2009</td>\n",
       "      <td>auto</td>\n",
       "      <td>326</td>\n",
       "      <td>7er</td>\n",
       "      <td>100000</td>\n",
       "      <td>petrol</td>\n",
       "      <td>bmw</td>\n",
       "      <td>nan</td>\n",
       "    </tr>\n",
       "    <tr>\n",
       "      <th>4</th>\n",
       "      <td>19500</td>\n",
       "      <td>sedan</td>\n",
       "      <td>2009</td>\n",
       "      <td>auto</td>\n",
       "      <td>245</td>\n",
       "      <td>7er</td>\n",
       "      <td>150000</td>\n",
       "      <td>gasoline</td>\n",
       "      <td>bmw</td>\n",
       "      <td>no</td>\n",
       "    </tr>\n",
       "    <tr>\n",
       "      <th>...</th>\n",
       "      <td>...</td>\n",
       "      <td>...</td>\n",
       "      <td>...</td>\n",
       "      <td>...</td>\n",
       "      <td>...</td>\n",
       "      <td>...</td>\n",
       "      <td>...</td>\n",
       "      <td>...</td>\n",
       "      <td>...</td>\n",
       "      <td>...</td>\n",
       "    </tr>\n",
       "    <tr>\n",
       "      <th>889</th>\n",
       "      <td>0</td>\n",
       "      <td>sedan</td>\n",
       "      <td>1999</td>\n",
       "      <td>auto</td>\n",
       "      <td>326</td>\n",
       "      <td>7er</td>\n",
       "      <td>150000</td>\n",
       "      <td>petrol</td>\n",
       "      <td>bmw</td>\n",
       "      <td>yes</td>\n",
       "    </tr>\n",
       "    <tr>\n",
       "      <th>890</th>\n",
       "      <td>0</td>\n",
       "      <td>sedan</td>\n",
       "      <td>1997</td>\n",
       "      <td>auto</td>\n",
       "      <td>286</td>\n",
       "      <td>7er</td>\n",
       "      <td>150000</td>\n",
       "      <td>petrol</td>\n",
       "      <td>bmw</td>\n",
       "      <td>nan</td>\n",
       "    </tr>\n",
       "    <tr>\n",
       "      <th>891</th>\n",
       "      <td>0</td>\n",
       "      <td>sedan</td>\n",
       "      <td>1995</td>\n",
       "      <td>auto</td>\n",
       "      <td>326</td>\n",
       "      <td>7er</td>\n",
       "      <td>5000</td>\n",
       "      <td>other</td>\n",
       "      <td>bmw</td>\n",
       "      <td>no</td>\n",
       "    </tr>\n",
       "    <tr>\n",
       "      <th>892</th>\n",
       "      <td>0</td>\n",
       "      <td>other</td>\n",
       "      <td>2018</td>\n",
       "      <td>auto</td>\n",
       "      <td>286</td>\n",
       "      <td>7er</td>\n",
       "      <td>150000</td>\n",
       "      <td>other</td>\n",
       "      <td>bmw</td>\n",
       "      <td>nan</td>\n",
       "    </tr>\n",
       "    <tr>\n",
       "      <th>893</th>\n",
       "      <td>0</td>\n",
       "      <td>sedan</td>\n",
       "      <td>2016</td>\n",
       "      <td>auto</td>\n",
       "      <td>193</td>\n",
       "      <td>7er</td>\n",
       "      <td>150000</td>\n",
       "      <td>petrol</td>\n",
       "      <td>bmw</td>\n",
       "      <td>no</td>\n",
       "    </tr>\n",
       "  </tbody>\n",
       "</table>\n",
       "<p>894 rows × 10 columns</p>\n",
       "</div>"
      ],
      "text/plain": [
       "     price vehicle_type  registration_year gearbox  power model  kilometer  \\\n",
       "0    20000        sedan               2008    auto    408   7er     100000   \n",
       "1    20000        sedan               2009    auto    245   7er     150000   \n",
       "2    19999        sedan               2008    auto    231   7er      90000   \n",
       "3    19900        sedan               2009    auto    326   7er     100000   \n",
       "4    19500        sedan               2009    auto    245   7er     150000   \n",
       "..     ...          ...                ...     ...    ...   ...        ...   \n",
       "889      0        sedan               1999    auto    326   7er     150000   \n",
       "890      0        sedan               1997    auto    286   7er     150000   \n",
       "891      0        sedan               1995    auto    326   7er       5000   \n",
       "892      0        other               2018    auto    286   7er     150000   \n",
       "893      0        sedan               2016    auto    193   7er     150000   \n",
       "\n",
       "     fueltype brand repaired  \n",
       "0      petrol   bmw       no  \n",
       "1    gasoline   bmw       no  \n",
       "2       other   bmw       no  \n",
       "3      petrol   bmw      nan  \n",
       "4    gasoline   bmw       no  \n",
       "..        ...   ...      ...  \n",
       "889    petrol   bmw      yes  \n",
       "890    petrol   bmw      nan  \n",
       "891     other   bmw       no  \n",
       "892     other   bmw      nan  \n",
       "893    petrol   bmw       no  \n",
       "\n",
       "[894 rows x 10 columns]"
      ]
     },
     "execution_count": 28,
     "metadata": {},
     "output_type": "execute_result"
    }
   ],
   "source": [
    "sql = '''\n",
    "SELECT *\n",
    "FROM df\n",
    "WHERE brand = 'bmw'\n",
    "    AND model LIKE '%7%'\n",
    "ORDER BY price DESC;\n",
    "'''\n",
    "pd.read_sql(sql, conn)"
   ]
  },
  {
   "cell_type": "code",
   "execution_count": 29,
   "id": "e4295463",
   "metadata": {},
   "outputs": [
    {
     "data": {
      "text/html": [
       "<div>\n",
       "<style scoped>\n",
       "    .dataframe tbody tr th:only-of-type {\n",
       "        vertical-align: middle;\n",
       "    }\n",
       "\n",
       "    .dataframe tbody tr th {\n",
       "        vertical-align: top;\n",
       "    }\n",
       "\n",
       "    .dataframe thead th {\n",
       "        text-align: right;\n",
       "    }\n",
       "</style>\n",
       "<table border=\"1\" class=\"dataframe\">\n",
       "  <thead>\n",
       "    <tr style=\"text-align: right;\">\n",
       "      <th></th>\n",
       "      <th>model</th>\n",
       "    </tr>\n",
       "  </thead>\n",
       "  <tbody>\n",
       "    <tr>\n",
       "      <th>0</th>\n",
       "      <td>6er</td>\n",
       "    </tr>\n",
       "    <tr>\n",
       "      <th>1</th>\n",
       "      <td>x_reihe</td>\n",
       "    </tr>\n",
       "    <tr>\n",
       "      <th>2</th>\n",
       "      <td>other</td>\n",
       "    </tr>\n",
       "    <tr>\n",
       "      <th>3</th>\n",
       "      <td>z_reihe</td>\n",
       "    </tr>\n",
       "    <tr>\n",
       "      <th>4</th>\n",
       "      <td>1er</td>\n",
       "    </tr>\n",
       "    <tr>\n",
       "      <th>5</th>\n",
       "      <td>i3</td>\n",
       "    </tr>\n",
       "    <tr>\n",
       "      <th>6</th>\n",
       "      <td>5er</td>\n",
       "    </tr>\n",
       "    <tr>\n",
       "      <th>7</th>\n",
       "      <td>7er</td>\n",
       "    </tr>\n",
       "    <tr>\n",
       "      <th>8</th>\n",
       "      <td>3er</td>\n",
       "    </tr>\n",
       "    <tr>\n",
       "      <th>9</th>\n",
       "      <td>m_reihe</td>\n",
       "    </tr>\n",
       "  </tbody>\n",
       "</table>\n",
       "</div>"
      ],
      "text/plain": [
       "     model\n",
       "0      6er\n",
       "1  x_reihe\n",
       "2    other\n",
       "3  z_reihe\n",
       "4      1er\n",
       "5       i3\n",
       "6      5er\n",
       "7      7er\n",
       "8      3er\n",
       "9  m_reihe"
      ]
     },
     "execution_count": 29,
     "metadata": {},
     "output_type": "execute_result"
    }
   ],
   "source": [
    "sql = '''\n",
    "SELECT DISTINCT(model)\n",
    "FROM df\n",
    "WHERE brand = 'bmw'\n",
    "ORDER BY price DESC;\n",
    "'''\n",
    "\n",
    "pd.read_sql(sql, conn)"
   ]
  },
  {
   "cell_type": "code",
   "execution_count": 30,
   "id": "7f3f40f9",
   "metadata": {},
   "outputs": [
    {
     "data": {
      "text/html": [
       "<div>\n",
       "<style scoped>\n",
       "    .dataframe tbody tr th:only-of-type {\n",
       "        vertical-align: middle;\n",
       "    }\n",
       "\n",
       "    .dataframe tbody tr th {\n",
       "        vertical-align: top;\n",
       "    }\n",
       "\n",
       "    .dataframe thead th {\n",
       "        text-align: right;\n",
       "    }\n",
       "</style>\n",
       "<table border=\"1\" class=\"dataframe\">\n",
       "  <thead>\n",
       "    <tr style=\"text-align: right;\">\n",
       "      <th></th>\n",
       "      <th>price</th>\n",
       "      <th>vehicle_type</th>\n",
       "      <th>registration_year</th>\n",
       "      <th>gearbox</th>\n",
       "      <th>power</th>\n",
       "      <th>model</th>\n",
       "      <th>kilometer</th>\n",
       "      <th>fueltype</th>\n",
       "      <th>brand</th>\n",
       "      <th>repaired</th>\n",
       "    </tr>\n",
       "  </thead>\n",
       "  <tbody>\n",
       "    <tr>\n",
       "      <th>155371</th>\n",
       "      <td>20000</td>\n",
       "      <td>wagon</td>\n",
       "      <td>2010</td>\n",
       "      <td>auto</td>\n",
       "      <td>163</td>\n",
       "      <td>xc_reihe</td>\n",
       "      <td>60000</td>\n",
       "      <td>gasoline</td>\n",
       "      <td>volvo</td>\n",
       "      <td>no</td>\n",
       "    </tr>\n",
       "    <tr>\n",
       "      <th>13360</th>\n",
       "      <td>20000</td>\n",
       "      <td>coupe</td>\n",
       "      <td>2004</td>\n",
       "      <td>manual</td>\n",
       "      <td>325</td>\n",
       "      <td>crossfire</td>\n",
       "      <td>125000</td>\n",
       "      <td>petrol</td>\n",
       "      <td>chrysler</td>\n",
       "      <td>no</td>\n",
       "    </tr>\n",
       "    <tr>\n",
       "      <th>55338</th>\n",
       "      <td>20000</td>\n",
       "      <td>wagon</td>\n",
       "      <td>2012</td>\n",
       "      <td>manual</td>\n",
       "      <td>170</td>\n",
       "      <td>other</td>\n",
       "      <td>60000</td>\n",
       "      <td>gasoline</td>\n",
       "      <td>fiat</td>\n",
       "      <td>no</td>\n",
       "    </tr>\n",
       "    <tr>\n",
       "      <th>17724</th>\n",
       "      <td>20000</td>\n",
       "      <td>sedan</td>\n",
       "      <td>2002</td>\n",
       "      <td>auto</td>\n",
       "      <td>345</td>\n",
       "      <td>other</td>\n",
       "      <td>70000</td>\n",
       "      <td>gasoline</td>\n",
       "      <td>sonstige_autos</td>\n",
       "      <td>no</td>\n",
       "    </tr>\n",
       "    <tr>\n",
       "      <th>211999</th>\n",
       "      <td>20000</td>\n",
       "      <td>small</td>\n",
       "      <td>2012</td>\n",
       "      <td>manual</td>\n",
       "      <td>143</td>\n",
       "      <td>a1</td>\n",
       "      <td>50000</td>\n",
       "      <td>gasoline</td>\n",
       "      <td>audi</td>\n",
       "      <td>no</td>\n",
       "    </tr>\n",
       "    <tr>\n",
       "      <th>300119</th>\n",
       "      <td>20000</td>\n",
       "      <td>convertible</td>\n",
       "      <td>2002</td>\n",
       "      <td>nan</td>\n",
       "      <td>0</td>\n",
       "      <td>other</td>\n",
       "      <td>70000</td>\n",
       "      <td>petrol</td>\n",
       "      <td>sonstige_autos</td>\n",
       "      <td>nan</td>\n",
       "    </tr>\n",
       "    <tr>\n",
       "      <th>27303</th>\n",
       "      <td>20000</td>\n",
       "      <td>suv</td>\n",
       "      <td>2010</td>\n",
       "      <td>manual</td>\n",
       "      <td>190</td>\n",
       "      <td>navara</td>\n",
       "      <td>80000</td>\n",
       "      <td>gasoline</td>\n",
       "      <td>nissan</td>\n",
       "      <td>no</td>\n",
       "    </tr>\n",
       "    <tr>\n",
       "      <th>16074</th>\n",
       "      <td>20000</td>\n",
       "      <td>sedan</td>\n",
       "      <td>2014</td>\n",
       "      <td>manual</td>\n",
       "      <td>122</td>\n",
       "      <td>a1</td>\n",
       "      <td>30000</td>\n",
       "      <td>petrol</td>\n",
       "      <td>audi</td>\n",
       "      <td>no</td>\n",
       "    </tr>\n",
       "    <tr>\n",
       "      <th>96378</th>\n",
       "      <td>20000</td>\n",
       "      <td>sedan</td>\n",
       "      <td>2014</td>\n",
       "      <td>manual</td>\n",
       "      <td>160</td>\n",
       "      <td>cc</td>\n",
       "      <td>40000</td>\n",
       "      <td>petrol</td>\n",
       "      <td>volkswagen</td>\n",
       "      <td>no</td>\n",
       "    </tr>\n",
       "    <tr>\n",
       "      <th>101861</th>\n",
       "      <td>20000</td>\n",
       "      <td>other</td>\n",
       "      <td>1960</td>\n",
       "      <td>auto</td>\n",
       "      <td>0</td>\n",
       "      <td>other</td>\n",
       "      <td>150000</td>\n",
       "      <td>other</td>\n",
       "      <td>ford</td>\n",
       "      <td>nan</td>\n",
       "    </tr>\n",
       "  </tbody>\n",
       "</table>\n",
       "</div>"
      ],
      "text/plain": [
       "        price vehicle_type  registration_year gearbox  power      model  \\\n",
       "155371  20000        wagon               2010    auto    163   xc_reihe   \n",
       "13360   20000        coupe               2004  manual    325  crossfire   \n",
       "55338   20000        wagon               2012  manual    170      other   \n",
       "17724   20000        sedan               2002    auto    345      other   \n",
       "211999  20000        small               2012  manual    143         a1   \n",
       "300119  20000  convertible               2002     nan      0      other   \n",
       "27303   20000          suv               2010  manual    190     navara   \n",
       "16074   20000        sedan               2014  manual    122         a1   \n",
       "96378   20000        sedan               2014  manual    160         cc   \n",
       "101861  20000        other               1960    auto      0      other   \n",
       "\n",
       "        kilometer  fueltype           brand repaired  \n",
       "155371      60000  gasoline           volvo       no  \n",
       "13360      125000    petrol        chrysler       no  \n",
       "55338       60000  gasoline            fiat       no  \n",
       "17724       70000  gasoline  sonstige_autos       no  \n",
       "211999      50000  gasoline            audi       no  \n",
       "300119      70000    petrol  sonstige_autos      nan  \n",
       "27303       80000  gasoline          nissan       no  \n",
       "16074       30000    petrol            audi       no  \n",
       "96378       40000    petrol      volkswagen       no  \n",
       "101861     150000     other            ford      nan  "
      ]
     },
     "execution_count": 30,
     "metadata": {},
     "output_type": "execute_result"
    }
   ],
   "source": [
    "df.sort_values(by='price').tail(10)"
   ]
  },
  {
   "cell_type": "markdown",
   "id": "6e16b05a",
   "metadata": {},
   "source": [
    "В данных присутствуют выбросы, автомобиль явно не может стоить 0 евро. Отсечем минимальную цену 5% квантилем, который будет составлять 200 евро. Сверху цену ограничивать не будем, так как 20000 евро автомобиль может стоить, например, BMW 7-го поколения, который есть в наших данных."
   ]
  },
  {
   "cell_type": "code",
   "execution_count": 31,
   "id": "8d65dd7a",
   "metadata": {},
   "outputs": [
    {
     "data": {
      "text/plain": [
       "0.05    200.0\n",
       "Name: price, dtype: float64"
      ]
     },
     "execution_count": 31,
     "metadata": {},
     "output_type": "execute_result"
    }
   ],
   "source": [
    "df['price'].quantile([0.05])"
   ]
  },
  {
   "cell_type": "code",
   "execution_count": 32,
   "id": "a637fb9f",
   "metadata": {},
   "outputs": [
    {
     "data": {
      "text/plain": [
       "count    294099.000000\n",
       "mean       4715.910955\n",
       "std        4565.353497\n",
       "min         200.000000\n",
       "25%        1290.000000\n",
       "50%        2999.000000\n",
       "75%        6800.000000\n",
       "max       20000.000000\n",
       "Name: price, dtype: float64"
      ]
     },
     "execution_count": 32,
     "metadata": {},
     "output_type": "execute_result"
    }
   ],
   "source": [
    "df = df.query('price >= 200')\n",
    "df['price'].describe()"
   ]
  },
  {
   "cell_type": "code",
   "execution_count": 33,
   "id": "0c576b72",
   "metadata": {},
   "outputs": [
    {
     "data": {
      "image/png": "[encoded data removed]",
      "text/plain": [
       "<Figure size 864x360 with 2 Axes>"
      ]
     },
     "metadata": {
      "needs_background": "light"
     },
     "output_type": "display_data"
    }
   ],
   "source": [
    "grafics(df['registration_year'], 'Год регистрации автомобиля', 'Количество', \n",
    "       'Распределение года регистрации автомобиля')"
   ]
  },
  {
   "cell_type": "code",
   "execution_count": 34,
   "id": "718e5f45",
   "metadata": {},
   "outputs": [
    {
     "data": {
      "text/plain": [
       "Timestamp('2016-04-07 14:36:58')"
      ]
     },
     "execution_count": 34,
     "metadata": {},
     "output_type": "execute_result"
    }
   ],
   "source": [
    "max(del_df['DateCrawled'])"
   ]
  },
  {
   "cell_type": "markdown",
   "id": "bd15347d",
   "metadata": {},
   "source": [
    "Год последнего скачивания анкеты из базы - 2016. Ограничим год регистрации сверху 2016 годом. Низ огланичим 1% квантилем, который является 1980 годом."
   ]
  },
  {
   "cell_type": "code",
   "execution_count": 35,
   "id": "365a50ce",
   "metadata": {},
   "outputs": [
    {
     "data": {
      "text/plain": [
       "0.01    1980.0\n",
       "Name: registration_year, dtype: float64"
      ]
     },
     "execution_count": 35,
     "metadata": {},
     "output_type": "execute_result"
    }
   ],
   "source": [
    "df['registration_year'].quantile([0.01])"
   ]
  },
  {
   "cell_type": "code",
   "execution_count": 36,
   "id": "8487a91a",
   "metadata": {},
   "outputs": [],
   "source": [
    "df = df.query('1980 <= registration_year <= 2016')"
   ]
  },
  {
   "cell_type": "code",
   "execution_count": 37,
   "id": "be5019e5",
   "metadata": {},
   "outputs": [
    {
     "data": {
      "image/png": "[encoded data removed]",
      "text/plain": [
       "<Figure size 864x360 with 2 Axes>"
      ]
     },
     "metadata": {
      "needs_background": "light"
     },
     "output_type": "display_data"
    }
   ],
   "source": [
    "grafics(df['registration_year'], 'Год регистрации автомобиля', 'Количество', \n",
    "       'Распределение года регистрации автомобиля')"
   ]
  },
  {
   "cell_type": "markdown",
   "id": "1624865f",
   "metadata": {},
   "source": [
    "Оставим данные об автомобилях с 1980 по 2025 года"
   ]
  },
  {
   "cell_type": "code",
   "execution_count": 38,
   "id": "e270a83d",
   "metadata": {},
   "outputs": [
    {
     "data": {
      "image/png": "[encoded data removed]",
      "text/plain": [
       "<Figure size 864x360 with 2 Axes>"
      ]
     },
     "metadata": {
      "needs_background": "light"
     },
     "output_type": "display_data"
    }
   ],
   "source": [
    "grafics(df['power'], 'Мощность (л. с.)', 'Количество', \n",
    "       'Распределение мощность автомобиля')"
   ]
  },
  {
   "cell_type": "markdown",
   "id": "7dd0eb59",
   "metadata": {},
   "source": [
    "По данным из интернета, начиная с 1980 года, самая маломощная машина обладала мощностью 17 л.с, отбросим автомобили, у которых мощность меньше 17 л.с."
   ]
  },
  {
   "cell_type": "code",
   "execution_count": 39,
   "id": "13d2f8b3",
   "metadata": {},
   "outputs": [],
   "source": [
    "df = df.query('17 <= power <= 2000')"
   ]
  },
  {
   "cell_type": "code",
   "execution_count": 40,
   "id": "324eaaf0",
   "metadata": {},
   "outputs": [
    {
     "data": {
      "image/png": "[encoded data removed]",
      "text/plain": [
       "<Figure size 864x360 with 2 Axes>"
      ]
     },
     "metadata": {
      "needs_background": "light"
     },
     "output_type": "display_data"
    }
   ],
   "source": [
    "grafics(df['power'], 'Мощность (л. с.)', 'Количество', \n",
    "       'Распределение мощности автомобиля')"
   ]
  },
  {
   "cell_type": "code",
   "execution_count": 41,
   "id": "c4dda3d6",
   "metadata": {},
   "outputs": [
    {
     "data": {
      "text/html": [
       "<div>\n",
       "<style scoped>\n",
       "    .dataframe tbody tr th:only-of-type {\n",
       "        vertical-align: middle;\n",
       "    }\n",
       "\n",
       "    .dataframe tbody tr th {\n",
       "        vertical-align: top;\n",
       "    }\n",
       "\n",
       "    .dataframe thead th {\n",
       "        text-align: right;\n",
       "    }\n",
       "</style>\n",
       "<table border=\"1\" class=\"dataframe\">\n",
       "  <thead>\n",
       "    <tr style=\"text-align: right;\">\n",
       "      <th></th>\n",
       "      <th>price</th>\n",
       "      <th>vehicle_type</th>\n",
       "      <th>registration_year</th>\n",
       "      <th>gearbox</th>\n",
       "      <th>power</th>\n",
       "      <th>model</th>\n",
       "      <th>kilometer</th>\n",
       "      <th>fueltype</th>\n",
       "      <th>brand</th>\n",
       "      <th>repaired</th>\n",
       "    </tr>\n",
       "  </thead>\n",
       "  <tbody>\n",
       "    <tr>\n",
       "      <th>351947</th>\n",
       "      <td>1500</td>\n",
       "      <td>bus</td>\n",
       "      <td>2001</td>\n",
       "      <td>manual</td>\n",
       "      <td>1001</td>\n",
       "      <td>zafira</td>\n",
       "      <td>5000</td>\n",
       "      <td>gasoline</td>\n",
       "      <td>opel</td>\n",
       "      <td>no</td>\n",
       "    </tr>\n",
       "    <tr>\n",
       "      <th>49724</th>\n",
       "      <td>1500</td>\n",
       "      <td>wagon</td>\n",
       "      <td>2003</td>\n",
       "      <td>manual</td>\n",
       "      <td>1001</td>\n",
       "      <td>focus</td>\n",
       "      <td>150000</td>\n",
       "      <td>gasoline</td>\n",
       "      <td>ford</td>\n",
       "      <td>nan</td>\n",
       "    </tr>\n",
       "    <tr>\n",
       "      <th>307044</th>\n",
       "      <td>1500</td>\n",
       "      <td>sedan</td>\n",
       "      <td>1999</td>\n",
       "      <td>manual</td>\n",
       "      <td>1001</td>\n",
       "      <td>astra</td>\n",
       "      <td>125000</td>\n",
       "      <td>petrol</td>\n",
       "      <td>opel</td>\n",
       "      <td>no</td>\n",
       "    </tr>\n",
       "    <tr>\n",
       "      <th>179821</th>\n",
       "      <td>1100</td>\n",
       "      <td>sedan</td>\n",
       "      <td>1995</td>\n",
       "      <td>manual</td>\n",
       "      <td>1001</td>\n",
       "      <td>a4</td>\n",
       "      <td>150000</td>\n",
       "      <td>other</td>\n",
       "      <td>audi</td>\n",
       "      <td>no</td>\n",
       "    </tr>\n",
       "    <tr>\n",
       "      <th>79305</th>\n",
       "      <td>1650</td>\n",
       "      <td>small</td>\n",
       "      <td>2000</td>\n",
       "      <td>auto</td>\n",
       "      <td>1001</td>\n",
       "      <td>a_klasse</td>\n",
       "      <td>150000</td>\n",
       "      <td>petrol</td>\n",
       "      <td>mercedes_benz</td>\n",
       "      <td>no</td>\n",
       "    </tr>\n",
       "    <tr>\n",
       "      <th>...</th>\n",
       "      <td>...</td>\n",
       "      <td>...</td>\n",
       "      <td>...</td>\n",
       "      <td>...</td>\n",
       "      <td>...</td>\n",
       "      <td>...</td>\n",
       "      <td>...</td>\n",
       "      <td>...</td>\n",
       "      <td>...</td>\n",
       "      <td>...</td>\n",
       "    </tr>\n",
       "    <tr>\n",
       "      <th>313582</th>\n",
       "      <td>1250</td>\n",
       "      <td>wagon</td>\n",
       "      <td>2003</td>\n",
       "      <td>auto</td>\n",
       "      <td>1998</td>\n",
       "      <td>passat</td>\n",
       "      <td>5000</td>\n",
       "      <td>gasoline</td>\n",
       "      <td>volkswagen</td>\n",
       "      <td>no</td>\n",
       "    </tr>\n",
       "    <tr>\n",
       "      <th>183472</th>\n",
       "      <td>2190</td>\n",
       "      <td>sedan</td>\n",
       "      <td>2003</td>\n",
       "      <td>manual</td>\n",
       "      <td>1998</td>\n",
       "      <td>laguna</td>\n",
       "      <td>150000</td>\n",
       "      <td>petrol</td>\n",
       "      <td>renault</td>\n",
       "      <td>no</td>\n",
       "    </tr>\n",
       "    <tr>\n",
       "      <th>28942</th>\n",
       "      <td>300</td>\n",
       "      <td>wagon</td>\n",
       "      <td>1996</td>\n",
       "      <td>manual</td>\n",
       "      <td>1999</td>\n",
       "      <td>golf</td>\n",
       "      <td>10000</td>\n",
       "      <td>petrol</td>\n",
       "      <td>volkswagen</td>\n",
       "      <td>nan</td>\n",
       "    </tr>\n",
       "    <tr>\n",
       "      <th>301617</th>\n",
       "      <td>10500</td>\n",
       "      <td>sedan</td>\n",
       "      <td>2006</td>\n",
       "      <td>manual</td>\n",
       "      <td>2000</td>\n",
       "      <td>golf</td>\n",
       "      <td>150000</td>\n",
       "      <td>petrol</td>\n",
       "      <td>volkswagen</td>\n",
       "      <td>no</td>\n",
       "    </tr>\n",
       "    <tr>\n",
       "      <th>172462</th>\n",
       "      <td>3000</td>\n",
       "      <td>wagon</td>\n",
       "      <td>2002</td>\n",
       "      <td>manual</td>\n",
       "      <td>2000</td>\n",
       "      <td>other</td>\n",
       "      <td>5000</td>\n",
       "      <td>gasoline</td>\n",
       "      <td>citroen</td>\n",
       "      <td>no</td>\n",
       "    </tr>\n",
       "  </tbody>\n",
       "</table>\n",
       "<p>153 rows × 10 columns</p>\n",
       "</div>"
      ],
      "text/plain": [
       "        price vehicle_type  registration_year gearbox  power     model  \\\n",
       "351947   1500          bus               2001  manual   1001    zafira   \n",
       "49724    1500        wagon               2003  manual   1001     focus   \n",
       "307044   1500        sedan               1999  manual   1001     astra   \n",
       "179821   1100        sedan               1995  manual   1001        a4   \n",
       "79305    1650        small               2000    auto   1001  a_klasse   \n",
       "...       ...          ...                ...     ...    ...       ...   \n",
       "313582   1250        wagon               2003    auto   1998    passat   \n",
       "183472   2190        sedan               2003  manual   1998    laguna   \n",
       "28942     300        wagon               1996  manual   1999      golf   \n",
       "301617  10500        sedan               2006  manual   2000      golf   \n",
       "172462   3000        wagon               2002  manual   2000     other   \n",
       "\n",
       "        kilometer  fueltype          brand repaired  \n",
       "351947       5000  gasoline           opel       no  \n",
       "49724      150000  gasoline           ford      nan  \n",
       "307044     125000    petrol           opel       no  \n",
       "179821     150000     other           audi       no  \n",
       "79305      150000    petrol  mercedes_benz       no  \n",
       "...           ...       ...            ...      ...  \n",
       "313582       5000  gasoline     volkswagen       no  \n",
       "183472     150000    petrol        renault       no  \n",
       "28942       10000    petrol     volkswagen      nan  \n",
       "301617     150000    petrol     volkswagen       no  \n",
       "172462       5000  gasoline        citroen       no  \n",
       "\n",
       "[153 rows x 10 columns]"
      ]
     },
     "execution_count": 41,
     "metadata": {},
     "output_type": "execute_result"
    }
   ],
   "source": [
    "df[df['power'] > 1000].sort_values('power')"
   ]
  },
  {
   "cell_type": "code",
   "execution_count": 42,
   "id": "e3d1f98a",
   "metadata": {},
   "outputs": [
    {
     "data": {
      "image/png": "[encoded data removed]",
      "text/plain": [
       "<Figure size 864x360 with 2 Axes>"
      ]
     },
     "metadata": {
      "needs_background": "light"
     },
     "output_type": "display_data"
    }
   ],
   "source": [
    "grafics(df['kilometer'], 'Пробег (км)', 'Количество', \n",
    "       'Распределение пробега автомобиля')"
   ]
  },
  {
   "cell_type": "markdown",
   "id": "40341ff9",
   "metadata": {},
   "source": [
    "Здесь значения выглядят вполне реальными, ничего отсекать не будем"
   ]
  },
  {
   "cell_type": "code",
   "execution_count": 43,
   "id": "c1b78fa4",
   "metadata": {},
   "outputs": [
    {
     "data": {
      "text/plain": [
       "['vehicle_type', 'gearbox', 'model', 'fueltype', 'brand', 'repaired']"
      ]
     },
     "execution_count": 43,
     "metadata": {},
     "output_type": "execute_result"
    }
   ],
   "source": [
    "cat_col_names = df.select_dtypes(exclude='number').columns.tolist()\n",
    "cat_col_names"
   ]
  },
  {
   "cell_type": "code",
   "execution_count": 44,
   "id": "a1fb83e0",
   "metadata": {},
   "outputs": [
    {
     "data": {
      "image/png": "[encoded data removed]",
      "text/plain": [
       "<Figure size 504x288 with 1 Axes>"
      ]
     },
     "metadata": {
      "needs_background": "light"
     },
     "output_type": "display_data"
    }
   ],
   "source": [
    "graf(df['vehicle_type'], 'Тип автомобильного кузова')"
   ]
  },
  {
   "cell_type": "code",
   "execution_count": 45,
   "id": "93659919",
   "metadata": {},
   "outputs": [
    {
     "data": {
      "image/png": "[encoded data removed]",
      "text/plain": [
       "<Figure size 504x288 with 1 Axes>"
      ]
     },
     "metadata": {
      "needs_background": "light"
     },
     "output_type": "display_data"
    }
   ],
   "source": [
    "graf(df['gearbox'], 'Тип коробки передач')"
   ]
  },
  {
   "cell_type": "code",
   "execution_count": 46,
   "id": "0caec3f6",
   "metadata": {},
   "outputs": [
    {
     "data": {
      "image/png": "[encoded data removed]",
      "text/plain": [
       "<Figure size 504x288 with 1 Axes>"
      ]
     },
     "metadata": {
      "needs_background": "light"
     },
     "output_type": "display_data"
    }
   ],
   "source": [
    "graf(df['fueltype'], 'Тип топлива')"
   ]
  },
  {
   "cell_type": "code",
   "execution_count": 47,
   "id": "60808065",
   "metadata": {},
   "outputs": [
    {
     "data": {
      "image/png": "[encoded data removed]",
      "text/plain": [
       "<Figure size 504x288 with 1 Axes>"
      ]
     },
     "metadata": {
      "needs_background": "light"
     },
     "output_type": "display_data"
    }
   ],
   "source": [
    "graf(df['repaired'], 'Была ли машина в ремонте')"
   ]
  },
  {
   "cell_type": "markdown",
   "id": "e469ba90",
   "metadata": {},
   "source": [
    "Посмотрим на корреляцию между признаками с помощью Phik матрицы"
   ]
  },
  {
   "cell_type": "code",
   "execution_count": 48,
   "id": "f6fe57fc",
   "metadata": {},
   "outputs": [
    {
     "data": {
      "image/png": "[encoded data removed]",
      "text/plain": [
       "<Figure size 576x432 with 2 Axes>"
      ]
     },
     "metadata": {
      "needs_background": "light"
     },
     "output_type": "display_data"
    }
   ],
   "source": [
    "interval_cols = num_col_names\n",
    "phik_overview = df.phik_matrix(interval_cols=interval_cols)\n",
    "\n",
    "plt.figure(figsize=(8,6))\n",
    "sns.heatmap(phik_overview,  annot=True)\n",
    "plt.title('Матрица корреляции PHIK', fontsize=14)\n",
    "plt.show()"
   ]
  },
  {
   "cell_type": "markdown",
   "id": "9069766f",
   "metadata": {},
   "source": [
    "Можно сделать выводы:\n",
    "* Цена машины больше зависит от года регистрации машины и от модели машины\n",
    "* Наблюдается высокая связь между признаками **model** и **vehicle_type**, однако не будем считать это мультиколлинеарностью\n",
    "* наблюдается мультиколлинеарность между признаками **model** и **brand**\n",
    "\n",
    "Удалим признак **brand**, так как он полностью взаимосвязан с признаком **model**"
   ]
  },
  {
   "cell_type": "code",
   "execution_count": 49,
   "id": "44438e1d",
   "metadata": {},
   "outputs": [],
   "source": [
    "df = df.drop(['brand'], axis=1)"
   ]
  },
  {
   "cell_type": "markdown",
   "id": "b4b80e81",
   "metadata": {},
   "source": [
    "**Вывод по исследовательскому анализу данных:**\n",
    "\n",
    "* Были удалены неинформативные столбцы **'DateCrawled', 'DateCreated', 'LastSeen', 'PostalCode', 'NumberOfPictures', 'RegistrationMonth'**\n",
    "* Названия столбцов были приведены к стандарту sneak_case\n",
    "* Пропуски были заполнены заглушками\n",
    "* Дубликаты были обнаружены и устранены\n",
    "\n",
    "Также, датафрейм был отфильтрован по условиям:\n",
    "* Цена автомобиля от 200 до 14900 евро\n",
    "* Год регистрации автомобиля с 1980 по 2025 года\n",
    "* Мощность автомобиля от 17 до 2000 л.с.\n",
    "\n",
    "Был проведен корреляционный анализ:\n",
    "\n",
    "* Цена машины больше зависит от года регистрации машины и от модели машины\n",
    "* Наблюдается высокая связь между признаками **model** и **vehicle_type**, однако не будем считать это мультиколлинеарностью\n",
    "* наблюдается мультиколлинеарность между признаками **model** и **brand**\n",
    "\n",
    "Был удален признак **brand**"
   ]
  },
  {
   "cell_type": "markdown",
   "id": "5f52aedb",
   "metadata": {},
   "source": [
    "### Подготовка выборок данных"
   ]
  },
  {
   "cell_type": "markdown",
   "id": "80631e0a",
   "metadata": {},
   "source": [
    "На этом этапе:\n",
    "\n",
    "1. Разобьем данные на входные признаки и целевой признак\n",
    "2. Разобьем данные на тренировочную и тестовую выборки в соотношении 75%-25%"
   ]
  },
  {
   "cell_type": "code",
   "execution_count": 50,
   "id": "694005f6",
   "metadata": {},
   "outputs": [
    {
     "name": "stdout",
     "output_type": "stream",
     "text": [
      "Тренировочная выборка\n",
      "(188750, 8)\n",
      "(188750,)\n",
      "\n",
      "Тестовая выборка\n",
      "(62917, 8)\n",
      "(62917,)\n"
     ]
    }
   ],
   "source": [
    "X = df.drop('price', axis=1)\n",
    "y = df['price']\n",
    "\n",
    "\n",
    "X_train, X_test, y_train, y_test = train_test_split(X,\n",
    "                                                    y,\n",
    "                                                    random_state=42)\n",
    "\n",
    "print('Тренировочная выборка')\n",
    "print(X_train.shape)\n",
    "print(y_train.shape)\n",
    "print('\\nТестовая выборка')\n",
    "print(X_test.shape)\n",
    "print(y_test.shape)\n"
   ]
  },
  {
   "cell_type": "markdown",
   "id": "e2836f11",
   "metadata": {},
   "source": [
    "Выборки готовы. Следующий этап - обучение моделей."
   ]
  },
  {
   "cell_type": "markdown",
   "id": "1b5b3530",
   "metadata": {},
   "source": [
    "### Обучение моделей"
   ]
  },
  {
   "cell_type": "markdown",
   "id": "658ff830",
   "metadata": {},
   "source": [
    "На этом этапе обучим 4 модели:\n",
    "1. CatBoostRegressor\n",
    "2. LightGBMRegressor\n",
    "3. DummyRegressor\n",
    "4. LinearRegression\n",
    "\n",
    " Алгоритм работы будет выглядеть так:\n",
    "- оптимизация гиперпараметров и поиск лучшей модели с помощью кросс-валидации OptunaSearchCV;\n",
    "- оценка метрики `RMSE`; \n",
    "- оценка времени работы лучшей модели на тренировочной выборке."
   ]
  },
  {
   "cell_type": "markdown",
   "id": "4b0dd94b",
   "metadata": {},
   "source": [
    "#### **CatBoostRegressor**\n",
    "\n",
    "CatBoostRegressor - модель на основе градиентного бустинга. Подберем лучшие гиперпараметры модели на 3-х кратной кросс-валидации с помощью OptunaSearchCV. Признаки масштабировать и кодировать не будем, так как модель умеет это делать самостоятельно, однако укажем ей, какие признаки являются категориальными."
   ]
  },
  {
   "cell_type": "code",
   "execution_count": 52,
   "id": "9683f954",
   "metadata": {},
   "outputs": [
    {
     "name": "stdout",
     "output_type": "stream",
     "text": [
      "Категориальные признаки: ['vehicle_type', 'gearbox', 'model', 'fueltype', 'repaired']\n"
     ]
    },
    {
     "name": "stderr",
     "output_type": "stream",
     "text": [
      "Custom logger is already specified. Specify more than one logger at same time is not thread safe.Custom logger is already specified. Specify more than one logger at same time is not thread safe.Custom logger is already specified. Specify more than one logger at same time is not thread safe.Custom logger is already specified. Specify more than one logger at same time is not thread safe.Custom logger is already specified. Specify more than one logger at same time is not thread safe.Custom logger is already specified. Specify more than one logger at same time is not thread safe.Custom logger is already specified. Specify more than one logger at same time is not thread safe."
     ]
    },
    {
     "name": "stdout",
     "output_type": "stream",
     "text": [
      "RMSE на кросс-валидации: 1639.495103695348\n",
      "\n",
      "\n"
     ]
    }
   ],
   "source": [
    "start = time()\n",
    "optuna.logging.set_verbosity(optuna.logging.WARNING) \n",
    "\n",
    "categorical_features = X_train.select_dtypes(include=['object', 'category']).columns.tolist()\n",
    "print(f\"Категориальные признаки: {categorical_features}\")\n",
    "\n",
    "model = CatBoostRegressor(\n",
    "    verbose=0,\n",
    "    random_state=42,\n",
    "    allow_writing_files=False,\n",
    "    cat_features=categorical_features\n",
    ")\n",
    "\n",
    "\n",
    "parameters = {\n",
    "    'learning_rate': FloatDistribution(0.1, 0.5),\n",
    "    'iterations': IntDistribution(100, 200),\n",
    "    'depth': IntDistribution(6, 10),\n",
    "    'l2_leaf_reg': IntDistribution(3, 7),\n",
    "    'subsample': FloatDistribution(0.7, 1.0),  \n",
    "    'colsample_bylevel': FloatDistribution(0.7, 1.0),  \n",
    "    'random_strength': FloatDistribution(0, 2), \n",
    "    'min_data_in_leaf': IntDistribution(5, 30)  \n",
    "}\n",
    "\n",
    "oscv = OptunaSearchCV(\n",
    "    model,\n",
    "    parameters,\n",
    "    random_state=42,\n",
    "    cv=3,\n",
    "    scoring='neg_root_mean_squared_error',\n",
    "    n_trials=5,\n",
    "    n_jobs=-1,\n",
    "    verbose=0\n",
    "    \n",
    ")\n",
    "\n",
    "oscv.fit(X_train, y_train)\n",
    "\n",
    "RMSE_train_CatBoost = -oscv.best_score_\n",
    "\n",
    "best_CatBoost_model = oscv.best_estimator_\n",
    "\n",
    "print('RMSE на кросс-валидации:', RMSE_train_CatBoost)\n",
    "print('\\n')\n",
    "end = time()\n",
    "time_optuna_CatBoost = round((end-start)/60,2)"
   ]
  },
  {
   "cell_type": "markdown",
   "id": "2a75293f",
   "metadata": {},
   "source": [
    "Посчитаем время обучения лучшей модели CatBoost "
   ]
  },
  {
   "cell_type": "code",
   "execution_count": 53,
   "id": "b47d8a7a",
   "metadata": {},
   "outputs": [],
   "source": [
    "start = time()\n",
    "\n",
    "best_CatBoost_model.fit(X_train, y_train)\n",
    "\n",
    "end = time()\n",
    "\n",
    "time_fit_CatBoost = round((end-start)/60, 2)\n"
   ]
  },
  {
   "cell_type": "markdown",
   "id": "6eac731e",
   "metadata": {},
   "source": [
    "Посчитаем время предсказания лучшей модели CatBoost"
   ]
  },
  {
   "cell_type": "code",
   "execution_count": 54,
   "id": "f3b2482c",
   "metadata": {},
   "outputs": [],
   "source": [
    "start = time()\n",
    "\n",
    "best_CatBoost_model.predict(X_train)\n",
    "\n",
    "end = time()\n",
    "\n",
    "time_predict_CatBoost = round((end-start)/60,2) \n"
   ]
  },
  {
   "cell_type": "code",
   "execution_count": 55,
   "id": "7a843a04",
   "metadata": {},
   "outputs": [
    {
     "name": "stdout",
     "output_type": "stream",
     "text": [
      "Время подбора гиперпараметров: 3.35мин\n",
      "Время обучения: 0.29мин\n",
      "Время предсказания: 0.01мин\n"
     ]
    }
   ],
   "source": [
    "print(f'Время подбора гиперпараметров: {time_optuna_CatBoost}мин')\n",
    "print(f'Время обучения: {time_fit_CatBoost}мин')\n",
    "print(f'Время предсказания: {time_predict_CatBoost}мин')"
   ]
  },
  {
   "cell_type": "markdown",
   "id": "9ce283a6",
   "metadata": {},
   "source": [
    "#### **LightGBMRegressor**\n",
    "\n",
    "LightGBMRegressor - модель на основе градиентного бустинга. Подберем лучшие гиперпараметры модели на 3-х кратной кросс-валидации с помощью OptunaSearchCV. Признаки масштабировать и кодировать не будем, так как модель умеет это делать самостоятельно. Но, укажем модели, какие признаки являются категориальные, предварительно преобразовав их в тип **category**."
   ]
  },
  {
   "cell_type": "markdown",
   "id": "17da00db",
   "metadata": {},
   "source": [
    "Ниже выполним  оптимизацию гиперпараметров и определим лучшую модель, которую сохраним в переменную best_CatBoost_model"
   ]
  },
  {
   "cell_type": "code",
   "execution_count": 57,
   "id": "923cb8f3",
   "metadata": {},
   "outputs": [
    {
     "name": "stdout",
     "output_type": "stream",
     "text": [
      "Категориальные признаки: ['vehicle_type', 'gearbox', 'model', 'fueltype', 'repaired']\n",
      "RMSE на кросс-валидации: 1584.8636423587798\n"
     ]
    }
   ],
   "source": [
    "start = time()\n",
    "optuna.logging.set_verbosity(optuna.logging.WARNING) \n",
    "\n",
    "categorical_features = X_train.select_dtypes(exclude='number').columns.tolist()\n",
    "print(f\"Категориальные признаки: {categorical_features}\")\n",
    "\n",
    "X_train_lightgbm = X_train.copy()\n",
    "for col in categorical_features:\n",
    "    X_train_lightgbm[col] = X_train_lightgbm[col].astype('category')\n",
    "\n",
    "model = lgb.LGBMRegressor(\n",
    "    random_state=42,\n",
    "    verbose=-1,  \n",
    "    force_col_wise=True\n",
    ")\n",
    "\n",
    "\n",
    "parameters = {\n",
    "    'learning_rate': FloatDistribution(0.01, 0.3),\n",
    "    'n_estimators': IntDistribution(100, 200),\n",
    "    'max_depth': IntDistribution(3, 10),\n",
    "    'num_leaves': IntDistribution(20, 100),\n",
    "    'min_child_samples': IntDistribution(5, 30),\n",
    "    'subsample': FloatDistribution(0.7, 1.0),\n",
    "    'colsample_bytree': FloatDistribution(0.7, 1.0),\n",
    "    'reg_alpha': FloatDistribution(0, 1),\n",
    "    'reg_lambda': FloatDistribution(0, 1)\n",
    "}\n",
    "\n",
    "oscv_lgb = OptunaSearchCV(\n",
    "    model,\n",
    "    parameters,\n",
    "    random_state=42,\n",
    "    cv=3,\n",
    "    scoring='neg_root_mean_squared_error',\n",
    "    n_trials=5,\n",
    "    n_jobs=-1,\n",
    "    verbose=0\n",
    ")\n",
    "\n",
    "\n",
    "oscv_lgb.fit(X_train_lightgbm, y_train)\n",
    "\n",
    "best_LightGBM_model = oscv_lgb.best_estimator_\n",
    "\n",
    "RMSE_train_LightGBM = -oscv_lgb.best_score_\n",
    "print('RMSE на кросс-валидации:', RMSE_train_LightGBM)\n",
    "end = time()\n",
    "\n",
    "time_optuna_LightGBM = round((end-start)/60, 2)"
   ]
  },
  {
   "cell_type": "markdown",
   "id": "69f142b6",
   "metadata": {},
   "source": [
    "Посчитаем время обучения лучшей модели LightGBM"
   ]
  },
  {
   "cell_type": "code",
   "execution_count": 58,
   "id": "c639775a",
   "metadata": {},
   "outputs": [],
   "source": [
    "start = time()\n",
    "\n",
    "best_LightGBM_model.fit(X_train_lightgbm, y_train)\n",
    "\n",
    "end = time()\n",
    "\n",
    "time_fit_LightGBM = round((end-start)/60, 2)"
   ]
  },
  {
   "cell_type": "markdown",
   "id": "e9874dd6",
   "metadata": {},
   "source": [
    "Посчитаем время предсказания лучшей модели LightGBM"
   ]
  },
  {
   "cell_type": "code",
   "execution_count": 59,
   "id": "9dc55d47",
   "metadata": {},
   "outputs": [],
   "source": [
    "start = time()\n",
    "\n",
    "best_LightGBM_model.predict(X_train_lightgbm)\n",
    "\n",
    "end = time()\n",
    "\n",
    "time_predict_LightGBM = round((end-start)/60,2) \n"
   ]
  },
  {
   "cell_type": "code",
   "execution_count": 60,
   "id": "4ebb68bd",
   "metadata": {},
   "outputs": [
    {
     "name": "stdout",
     "output_type": "stream",
     "text": [
      "Время подбора гиперпараметров: 16.78мин\n",
      "Время обучения: 6.29мин\n",
      "Время предсказания: 0.05мин\n"
     ]
    }
   ],
   "source": [
    "print(f'Время подбора гиперпараметров: {time_optuna_LightGBM}мин')\n",
    "print(f'Время обучения: {time_fit_LightGBM}мин')\n",
    "print(f'Время предсказания: {time_predict_LightGBM}мин')"
   ]
  },
  {
   "cell_type": "markdown",
   "id": "ff635341",
   "metadata": {},
   "source": [
    "#### **LinearRegression**\n",
    "\n",
    "LinearRegression - модель линейной регрессии. Перед обучением масшабируем количественные признаки с помощью StandardScaler и кодируем с помощью OneHotEncoder категориальные признаки."
   ]
  },
  {
   "cell_type": "code",
   "execution_count": 62,
   "id": "b330c1bb",
   "metadata": {},
   "outputs": [],
   "source": [
    "X_train_copy = X_train.copy()\n",
    "X_test_copy = X_test.copy()\n",
    "\n",
    "num_col_names = X_train_copy.select_dtypes(include='number').columns.tolist()\n",
    "cat_col_names = X_train_copy.select_dtypes(exclude='number').columns.tolist()\n",
    "\n",
    "encoder = OneHotEncoder(drop='first', sparse_output=False, handle_unknown='ignore')\n",
    "X_train_ohe = encoder.fit_transform(X_train_copy[cat_col_names])\n",
    "X_test_ohe = encoder.transform(X_test_copy[cat_col_names])  \n",
    "\n",
    "encoder_col_names = encoder.get_feature_names_out()\n",
    "\n",
    "scaler = StandardScaler()\n",
    "X_train_scaled = scaler.fit_transform(X_train_copy[num_col_names])\n",
    "X_test_scaled = scaler.transform(X_test_copy[num_col_names])  \n",
    "\n",
    "X_train_ohe = pd.DataFrame(X_train_ohe, columns=encoder_col_names)\n",
    "X_test_ohe = pd.DataFrame(X_test_ohe, columns=encoder_col_names)\n",
    "\n",
    "X_train_scaled = pd.DataFrame(X_train_scaled, columns=num_col_names)\n",
    "X_test_scaled = pd.DataFrame(X_test_scaled, columns=num_col_names)\n",
    "\n",
    "X_train_scale_ohe = pd.concat([X_train_ohe, X_train_scaled], axis=1)\n",
    "X_test_scale_ohe = pd.concat([X_test_ohe, X_test_scaled], axis=1)\n"
   ]
  },
  {
   "cell_type": "code",
   "execution_count": 63,
   "id": "a7aa0152",
   "metadata": {},
   "outputs": [
    {
     "name": "stdout",
     "output_type": "stream",
     "text": [
      "Fitting 3 folds for each of 4 candidates, totalling 12 fits\n",
      "RMSE на кросс-валидации для LinearRegression: 2614.4372612340035\n",
      "Лучшие параметры: {'copy_X': True, 'fit_intercept': True}\n"
     ]
    }
   ],
   "source": [
    "model_lr = LinearRegression()\n",
    "\n",
    "parameters_lr = {\n",
    "    'fit_intercept': [True, False],\n",
    "    'copy_X': [True, False]\n",
    "}\n",
    "\n",
    "grid_search_lr = GridSearchCV(\n",
    "    model_lr,\n",
    "    parameters_lr,\n",
    "    cv=3,\n",
    "    scoring='neg_root_mean_squared_error',\n",
    "    n_jobs=-1,\n",
    "    verbose=1\n",
    ")\n",
    "\n",
    "grid_search_lr.fit(X_train_scale_ohe, y_train)\n",
    "\n",
    "best_LR_model = grid_search_lr.best_estimator_\n",
    "\n",
    "RMSE_train_LR = -grid_search_lr.best_score_\n",
    "print('RMSE на кросс-валидации для LinearRegression:', RMSE_train_LR)\n",
    "print('Лучшие параметры:', grid_search_lr.best_params_)"
   ]
  },
  {
   "cell_type": "code",
   "execution_count": 64,
   "id": "76ab7f27",
   "metadata": {},
   "outputs": [],
   "source": [
    "start = time()\n",
    "\n",
    "best_LR_model.fit(X_train_scale_ohe, y_train)\n",
    "\n",
    "end = time()\n",
    "\n",
    "time_fit_LR = round((end-start)/60, 2)"
   ]
  },
  {
   "cell_type": "code",
   "execution_count": 65,
   "id": "e06e0696",
   "metadata": {},
   "outputs": [],
   "source": [
    "start = time()\n",
    "\n",
    "best_LR_model.predict(X_train_scale_ohe)\n",
    "\n",
    "end = time()\n",
    "\n",
    "time_predict_LR = round((end-start)/60,3) "
   ]
  },
  {
   "cell_type": "code",
   "execution_count": 66,
   "id": "74f5c683",
   "metadata": {},
   "outputs": [
    {
     "name": "stdout",
     "output_type": "stream",
     "text": [
      "Время обучения LR: 0.35мин\n",
      "Время предсказания LR: 0.002мин\n"
     ]
    }
   ],
   "source": [
    "print(f'Время обучения LR: {time_fit_LR}мин')\n",
    "print(f'Время предсказания LR: {time_predict_LR}мин')"
   ]
  },
  {
   "cell_type": "markdown",
   "id": "591b442b",
   "metadata": {},
   "source": [
    "#### **DummyRegressor**\n",
    "\n",
    "DummyRegressor - константная модель. Обучим ее, чтобы убедиться, что остальные модели действительно находят закономерности в данных. Модель будем обучать на таких же данных, на каких обучали модель линейной регрессии (масштабируемые StandardScaler и кодируемые OneHotEncoder)"
   ]
  },
  {
   "cell_type": "code",
   "execution_count": 70,
   "id": "87badb67",
   "metadata": {},
   "outputs": [],
   "source": [
    "start = time()\n",
    "\n",
    "model_DummyRegressor = DummyRegressor(strategy=\"mean\")\n",
    "model_DummyRegressor.fit(X_train_scale_ohe, y_train)\n",
    "\n",
    "end = time()\n",
    "\n",
    "time_fit_Dummy = round((end-start)/60, 2)"
   ]
  },
  {
   "cell_type": "code",
   "execution_count": 71,
   "id": "28af85d3",
   "metadata": {},
   "outputs": [],
   "source": [
    "start = time()\n",
    "\n",
    "y_train_pred = model_DummyRegressor.predict(X_train_scale_ohe)\n",
    "\n",
    "end = time()\n",
    "\n",
    "time_predict_Dummy = round((end-start)/60, 2)"
   ]
  },
  {
   "cell_type": "code",
   "execution_count": 72,
   "id": "4bfa70e4",
   "metadata": {},
   "outputs": [
    {
     "name": "stdout",
     "output_type": "stream",
     "text": [
      "RMSE на тренировочной выборке: 4645.5819\n"
     ]
    }
   ],
   "source": [
    "RMSE_train_Dummy = np.sqrt(mean_squared_error(y_train, y_train_pred))\n",
    "print(f\"RMSE на тренировочной выборке: {RMSE_train_Dummy:.4f}\")"
   ]
  },
  {
   "cell_type": "code",
   "execution_count": 73,
   "id": "0df7c666",
   "metadata": {},
   "outputs": [
    {
     "name": "stdout",
     "output_type": "stream",
     "text": [
      "Время обучения Dummy: 0.0мин\n",
      "Время предсказания Dummy: 0.0мин\n"
     ]
    }
   ],
   "source": [
    "print(f'Время обучения Dummy: {time_fit_Dummy}мин')\n",
    "print(f'Время предсказания Dummy: {time_predict_Dummy}мин')"
   ]
  },
  {
   "cell_type": "markdown",
   "id": "b8353bac",
   "metadata": {},
   "source": [
    "### Анализ времени обучения моделей, времени предсказания моделей и качества моделей"
   ]
  },
  {
   "cell_type": "code",
   "execution_count": 74,
   "id": "318ec782",
   "metadata": {},
   "outputs": [],
   "source": [
    "columns = ['Model', 'Time fit train', 'Time predict train']\n",
    "rows = [['CatBoost', f\"{time_fit_CatBoost}min\", f\"{time_predict_CatBoost}min\"],\n",
    "        ['LigthGBM', f\"{time_fit_LightGBM}min\", f\"{time_predict_LightGBM}min\"],\n",
    "        ['LinearRegression', f\"{time_fit_LR}min\", f\"{time_predict_LR}min\"],\n",
    "        ['DummyRegressor', f\"{time_fit_Dummy}min\", f\"{time_predict_Dummy}min\"]]\n",
    "\n",
    "time_df = pd.DataFrame(columns=columns, data=rows)"
   ]
  },
  {
   "cell_type": "code",
   "execution_count": 75,
   "id": "b2f4971d",
   "metadata": {},
   "outputs": [],
   "source": [
    "columns = ['Model', 'Train RMSE']\n",
    "rows = [['CatBoost', round(RMSE_train_CatBoost)],\n",
    "        ['LigthGBM', round(RMSE_train_LightGBM)],\n",
    "        ['LinearRegression', round(RMSE_train_LR)],\n",
    "        ['DummyRegressor', round(RMSE_train_Dummy)]]\n",
    "RMSE_df = pd.DataFrame(columns=columns, data=rows)"
   ]
  },
  {
   "cell_type": "markdown",
   "id": "ab1f4931",
   "metadata": {},
   "source": [
    "#### Анализ времени"
   ]
  },
  {
   "cell_type": "code",
   "execution_count": 76,
   "id": "51fe9d52",
   "metadata": {},
   "outputs": [
    {
     "data": {
      "text/html": [
       "<div>\n",
       "<style scoped>\n",
       "    .dataframe tbody tr th:only-of-type {\n",
       "        vertical-align: middle;\n",
       "    }\n",
       "\n",
       "    .dataframe tbody tr th {\n",
       "        vertical-align: top;\n",
       "    }\n",
       "\n",
       "    .dataframe thead th {\n",
       "        text-align: right;\n",
       "    }\n",
       "</style>\n",
       "<table border=\"1\" class=\"dataframe\">\n",
       "  <thead>\n",
       "    <tr style=\"text-align: right;\">\n",
       "      <th></th>\n",
       "      <th>Model</th>\n",
       "      <th>Time fit train</th>\n",
       "      <th>Time predict train</th>\n",
       "    </tr>\n",
       "  </thead>\n",
       "  <tbody>\n",
       "    <tr>\n",
       "      <th>0</th>\n",
       "      <td>CatBoost</td>\n",
       "      <td>0.29min</td>\n",
       "      <td>0.01min</td>\n",
       "    </tr>\n",
       "    <tr>\n",
       "      <th>1</th>\n",
       "      <td>LigthGBM</td>\n",
       "      <td>6.29min</td>\n",
       "      <td>0.05min</td>\n",
       "    </tr>\n",
       "    <tr>\n",
       "      <th>2</th>\n",
       "      <td>LinearRegression</td>\n",
       "      <td>0.35min</td>\n",
       "      <td>0.002min</td>\n",
       "    </tr>\n",
       "    <tr>\n",
       "      <th>3</th>\n",
       "      <td>DummyRegressor</td>\n",
       "      <td>0.0min</td>\n",
       "      <td>0.0min</td>\n",
       "    </tr>\n",
       "  </tbody>\n",
       "</table>\n",
       "</div>"
      ],
      "text/plain": [
       "              Model Time fit train Time predict train\n",
       "0          CatBoost        0.29min            0.01min\n",
       "1          LigthGBM        6.29min            0.05min\n",
       "2  LinearRegression        0.35min           0.002min\n",
       "3    DummyRegressor         0.0min             0.0min"
      ]
     },
     "execution_count": 76,
     "metadata": {},
     "output_type": "execute_result"
    }
   ],
   "source": [
    "time_df"
   ]
  },
  {
   "cell_type": "markdown",
   "id": "41394645",
   "metadata": {},
   "source": [
    "#### Анализ качества"
   ]
  },
  {
   "cell_type": "code",
   "execution_count": 77,
   "id": "84931aef",
   "metadata": {},
   "outputs": [
    {
     "data": {
      "text/html": [
       "<div>\n",
       "<style scoped>\n",
       "    .dataframe tbody tr th:only-of-type {\n",
       "        vertical-align: middle;\n",
       "    }\n",
       "\n",
       "    .dataframe tbody tr th {\n",
       "        vertical-align: top;\n",
       "    }\n",
       "\n",
       "    .dataframe thead th {\n",
       "        text-align: right;\n",
       "    }\n",
       "</style>\n",
       "<table border=\"1\" class=\"dataframe\">\n",
       "  <thead>\n",
       "    <tr style=\"text-align: right;\">\n",
       "      <th></th>\n",
       "      <th>Model</th>\n",
       "      <th>Train RMSE</th>\n",
       "    </tr>\n",
       "  </thead>\n",
       "  <tbody>\n",
       "    <tr>\n",
       "      <th>0</th>\n",
       "      <td>CatBoost</td>\n",
       "      <td>1639</td>\n",
       "    </tr>\n",
       "    <tr>\n",
       "      <th>1</th>\n",
       "      <td>LigthGBM</td>\n",
       "      <td>1585</td>\n",
       "    </tr>\n",
       "    <tr>\n",
       "      <th>2</th>\n",
       "      <td>LinearRegression</td>\n",
       "      <td>2614</td>\n",
       "    </tr>\n",
       "    <tr>\n",
       "      <th>3</th>\n",
       "      <td>DummyRegressor</td>\n",
       "      <td>4646</td>\n",
       "    </tr>\n",
       "  </tbody>\n",
       "</table>\n",
       "</div>"
      ],
      "text/plain": [
       "              Model  Train RMSE\n",
       "0          CatBoost        1639\n",
       "1          LigthGBM        1585\n",
       "2  LinearRegression        2614\n",
       "3    DummyRegressor        4646"
      ]
     },
     "execution_count": 77,
     "metadata": {},
     "output_type": "execute_result"
    }
   ],
   "source": [
    "RMSE_df"
   ]
  },
  {
   "cell_type": "markdown",
   "id": "d5595456",
   "metadata": {},
   "source": [
    "### Лучшая модель"
   ]
  },
  {
   "cell_type": "markdown",
   "id": "70f93f5a",
   "metadata": {},
   "source": [
    "Критерии, которые важны заказчику:\n",
    "* качество предсказания;\n",
    "* время обучения модели;\n",
    "* время предсказания модели.\n",
    "\n",
    "Наиболее подходящей под эти критерии является модель **CatBoostRegressor**.\n",
    "\n",
    "Она оказалась самой быстрой в обучении (не берем Dummy модель) и самой качественной на валидационных данных. Также она достаточно быстро предказывает новые данные, так что лучшей моделью будем считать **CatBoostRegressor**."
   ]
  },
  {
   "cell_type": "markdown",
   "id": "02602394",
   "metadata": {},
   "source": [
    "Теперь проверим качество лучшей модели на тестовой выборке"
   ]
  },
  {
   "cell_type": "code",
   "execution_count": 83,
   "id": "69e8f4c8",
   "metadata": {},
   "outputs": [
    {
     "name": "stdout",
     "output_type": "stream",
     "text": [
      "RMSE на тестовой выборке: 1627.9066\n"
     ]
    }
   ],
   "source": [
    "y_pred = best_CatBoost_model.predict(X_test)\n",
    "\n",
    "RMSE_test_CatBoost = np.sqrt(mean_squared_error(y_test, y_pred))\n",
    "\n",
    "print(f'RMSE на тестовой выборке: {RMSE_test_CatBoost:.4f}')"
   ]
  },
  {
   "cell_type": "markdown",
   "id": "040d44f1",
   "metadata": {},
   "source": [
    "Модель быстро предсказала данные. RMSE удовлетворяет условию (RMSE < 2500)."
   ]
  },
  {
   "cell_type": "markdown",
   "id": "f452211d",
   "metadata": {},
   "source": [
    "### Вывод"
   ]
  },
  {
   "cell_type": "markdown",
   "id": "b28ddd6b",
   "metadata": {},
   "source": [
    "**Цель проекта** была достигнута: разработана модель машинного обучения для предсказания стоимости автомобилей, которая соответствует всем критериям заказчика — качество предсказания, скорость обучения и скорость выполнения предсказаний.\n",
    "\n",
    "**1. Анализ и предобработка данных**\n",
    "\n",
    "* Данные были очищены и подготовлены. Были удалены неинформативные признаки.\n",
    "* Была проведена филтрация данных по цене автомобиля, году регистрации и мощности, что позволило убрать аномалии в данных.\n",
    "* Был проведен корреляционный анализ, который позволил устранить мультиколлинеарность (удалили признак **brand**)\n",
    "\n",
    "**2. Выбор и оценка моделей**\n",
    "\n",
    "Было 4 кандидата:\n",
    "\n",
    "* **DummyRegressor**: эту модель использовали, чтобы убедиться, что остальные модели находят закономерности в данных. То есть метрика качества других моделей не должна быть хуже метрики, которую выдает DummyRegressor.\n",
    "* **LinearRegression**: Выступила в качестве простой и интерпретируемой линейной модели. Ее результаты более сложным алгоритмам, что подтвердило наличие нелинейных зависимостей в данных.\n",
    "* **CatBoostRegressor** и **LightGBMRegressor**: Сложные алгоритмы градиентного бустинга, показавшие наивысшее качество предсказания. Их гиперпараметры были настроены с помощью OptunaSearchCV, что позволило максимально раскрыть их потенциал на предоставленных данных.\n",
    "\n",
    "**3. Результаты и выбор финальной модели**\n",
    "\n",
    "Наиболее подходящей оказалась модель **CatBoostRegressor**\n",
    "\n",
    "Она оказалась самой быстрой в обучении (не берем Dummy модель), быстрой в предсказании новых данных и самой качественной на валидационных данных. "
   ]
  },
  {
   "cell_type": "markdown",
   "id": "0b1bba3c",
   "metadata": {},
   "source": [
    "Лучшая модель, которая будет рекомендована заказчику:"
   ]
  },
  {
   "cell_type": "code",
   "execution_count": 85,
   "id": "a56fb93c",
   "metadata": {
    "scrolled": false
   },
   "outputs": [
    {
     "data": {
      "text/plain": [
       "<catboost.core.CatBoostRegressor at 0x7f59c19377f0>"
      ]
     },
     "metadata": {},
     "output_type": "display_data"
    },
    {
     "data": {
      "text/plain": [
       "{'learning_rate': 0.3413156436410507,\n",
       " 'iterations': 179,\n",
       " 'depth': 10,\n",
       " 'l2_leaf_reg': 3,\n",
       " 'subsample': 0.7738873722287614,\n",
       " 'colsample_bylevel': 0.7391026958463592,\n",
       " 'random_strength': 1.1570949337832006,\n",
       " 'min_data_in_leaf': 18}"
      ]
     },
     "execution_count": 85,
     "metadata": {},
     "output_type": "execute_result"
    }
   ],
   "source": [
    "display(best_CatBoost_model)\n",
    "oscv.best_params_"
   ]
  }
 ],
 "metadata": {
  "ExecuteTimeLog": [
   {
    "duration": 90,
    "start_time": "2025-08-23T10:18:21.312Z"
   },
   {
    "duration": 86,
    "start_time": "2025-08-23T10:18:27.660Z"
   },
   {
    "duration": 82,
    "start_time": "2025-08-23T10:18:41.101Z"
   },
   {
    "duration": 8507,
    "start_time": "2025-08-23T10:19:01.272Z"
   },
   {
    "duration": 1746,
    "start_time": "2025-08-23T10:20:06.698Z"
   },
   {
    "duration": 14,
    "start_time": "2025-08-23T10:45:03.973Z"
   },
   {
    "duration": 15,
    "start_time": "2025-08-23T11:29:17.011Z"
   },
   {
    "duration": 8484,
    "start_time": "2025-08-23T11:37:13.701Z"
   },
   {
    "duration": 1550,
    "start_time": "2025-08-23T11:37:22.188Z"
   },
   {
    "duration": 0,
    "start_time": "2025-08-23T11:37:23.742Z"
   },
   {
    "duration": 0,
    "start_time": "2025-08-23T11:37:23.743Z"
   },
   {
    "duration": 0,
    "start_time": "2025-08-23T11:37:23.744Z"
   },
   {
    "duration": 0,
    "start_time": "2025-08-23T11:37:23.746Z"
   },
   {
    "duration": 0,
    "start_time": "2025-08-23T11:37:23.747Z"
   },
   {
    "duration": 0,
    "start_time": "2025-08-23T11:37:23.760Z"
   },
   {
    "duration": 0,
    "start_time": "2025-08-23T11:37:23.762Z"
   },
   {
    "duration": 0,
    "start_time": "2025-08-23T11:37:23.763Z"
   },
   {
    "duration": 0,
    "start_time": "2025-08-23T11:37:23.765Z"
   },
   {
    "duration": 0,
    "start_time": "2025-08-23T11:37:23.766Z"
   },
   {
    "duration": 0,
    "start_time": "2025-08-23T11:37:23.767Z"
   },
   {
    "duration": 0,
    "start_time": "2025-08-23T11:37:23.768Z"
   },
   {
    "duration": 1,
    "start_time": "2025-08-23T11:37:23.769Z"
   },
   {
    "duration": 0,
    "start_time": "2025-08-23T11:37:23.771Z"
   },
   {
    "duration": 0,
    "start_time": "2025-08-23T11:37:23.772Z"
   },
   {
    "duration": 0,
    "start_time": "2025-08-23T11:37:23.773Z"
   },
   {
    "duration": 0,
    "start_time": "2025-08-23T11:37:23.774Z"
   },
   {
    "duration": 0,
    "start_time": "2025-08-23T11:37:23.776Z"
   },
   {
    "duration": 0,
    "start_time": "2025-08-23T11:37:23.777Z"
   },
   {
    "duration": 0,
    "start_time": "2025-08-23T11:37:23.778Z"
   },
   {
    "duration": 0,
    "start_time": "2025-08-23T11:37:23.779Z"
   },
   {
    "duration": 0,
    "start_time": "2025-08-23T11:37:23.781Z"
   },
   {
    "duration": 0,
    "start_time": "2025-08-23T11:37:23.782Z"
   },
   {
    "duration": 0,
    "start_time": "2025-08-23T11:37:23.783Z"
   },
   {
    "duration": 0,
    "start_time": "2025-08-23T11:37:23.784Z"
   },
   {
    "duration": 0,
    "start_time": "2025-08-23T11:37:23.785Z"
   },
   {
    "duration": 0,
    "start_time": "2025-08-23T11:37:23.787Z"
   },
   {
    "duration": 0,
    "start_time": "2025-08-23T11:37:23.788Z"
   },
   {
    "duration": 0,
    "start_time": "2025-08-23T11:37:23.790Z"
   },
   {
    "duration": 0,
    "start_time": "2025-08-23T11:37:23.791Z"
   },
   {
    "duration": 0,
    "start_time": "2025-08-23T11:37:23.792Z"
   },
   {
    "duration": 0,
    "start_time": "2025-08-23T11:37:23.793Z"
   },
   {
    "duration": 0,
    "start_time": "2025-08-23T11:37:23.795Z"
   },
   {
    "duration": 0,
    "start_time": "2025-08-23T11:37:23.796Z"
   },
   {
    "duration": 0,
    "start_time": "2025-08-23T11:37:23.797Z"
   },
   {
    "duration": 0,
    "start_time": "2025-08-23T11:37:23.798Z"
   },
   {
    "duration": 0,
    "start_time": "2025-08-23T11:37:23.799Z"
   },
   {
    "duration": 0,
    "start_time": "2025-08-23T11:37:23.860Z"
   },
   {
    "duration": 0,
    "start_time": "2025-08-23T11:37:23.862Z"
   },
   {
    "duration": 0,
    "start_time": "2025-08-23T11:37:23.863Z"
   },
   {
    "duration": 0,
    "start_time": "2025-08-23T11:37:23.864Z"
   },
   {
    "duration": 0,
    "start_time": "2025-08-23T11:37:23.866Z"
   },
   {
    "duration": 0,
    "start_time": "2025-08-23T11:37:23.867Z"
   },
   {
    "duration": 0,
    "start_time": "2025-08-23T11:37:23.869Z"
   },
   {
    "duration": 0,
    "start_time": "2025-08-23T11:37:23.870Z"
   },
   {
    "duration": 0,
    "start_time": "2025-08-23T11:37:23.871Z"
   },
   {
    "duration": 0,
    "start_time": "2025-08-23T11:37:23.872Z"
   },
   {
    "duration": 0,
    "start_time": "2025-08-23T11:37:23.874Z"
   },
   {
    "duration": 0,
    "start_time": "2025-08-23T11:37:23.875Z"
   },
   {
    "duration": 0,
    "start_time": "2025-08-23T11:37:23.876Z"
   },
   {
    "duration": 0,
    "start_time": "2025-08-23T11:37:23.877Z"
   },
   {
    "duration": 0,
    "start_time": "2025-08-23T11:37:23.879Z"
   },
   {
    "duration": 0,
    "start_time": "2025-08-23T11:37:23.880Z"
   },
   {
    "duration": 0,
    "start_time": "2025-08-23T11:37:23.882Z"
   },
   {
    "duration": 1,
    "start_time": "2025-08-23T11:37:23.882Z"
   },
   {
    "duration": 0,
    "start_time": "2025-08-23T11:37:23.884Z"
   },
   {
    "duration": 0,
    "start_time": "2025-08-23T11:37:23.885Z"
   },
   {
    "duration": 0,
    "start_time": "2025-08-23T11:37:23.886Z"
   },
   {
    "duration": 0,
    "start_time": "2025-08-23T11:37:23.888Z"
   },
   {
    "duration": 0,
    "start_time": "2025-08-23T11:37:23.889Z"
   },
   {
    "duration": 12916,
    "start_time": "2025-08-23T11:38:15.971Z"
   },
   {
    "duration": 2200,
    "start_time": "2025-08-23T11:38:28.890Z"
   },
   {
    "duration": 0,
    "start_time": "2025-08-23T11:38:31.097Z"
   },
   {
    "duration": 0,
    "start_time": "2025-08-23T11:38:31.098Z"
   },
   {
    "duration": 0,
    "start_time": "2025-08-23T11:38:31.100Z"
   },
   {
    "duration": 0,
    "start_time": "2025-08-23T11:38:31.102Z"
   },
   {
    "duration": 0,
    "start_time": "2025-08-23T11:38:31.105Z"
   },
   {
    "duration": 0,
    "start_time": "2025-08-23T11:38:31.107Z"
   },
   {
    "duration": 0,
    "start_time": "2025-08-23T11:38:31.109Z"
   },
   {
    "duration": 0,
    "start_time": "2025-08-23T11:38:31.111Z"
   },
   {
    "duration": 0,
    "start_time": "2025-08-23T11:38:31.113Z"
   },
   {
    "duration": 0,
    "start_time": "2025-08-23T11:38:31.115Z"
   },
   {
    "duration": 0,
    "start_time": "2025-08-23T11:38:31.118Z"
   },
   {
    "duration": 0,
    "start_time": "2025-08-23T11:38:31.121Z"
   },
   {
    "duration": 0,
    "start_time": "2025-08-23T11:38:31.124Z"
   },
   {
    "duration": 0,
    "start_time": "2025-08-23T11:38:31.126Z"
   },
   {
    "duration": 0,
    "start_time": "2025-08-23T11:38:31.127Z"
   },
   {
    "duration": 0,
    "start_time": "2025-08-23T11:38:31.128Z"
   },
   {
    "duration": 0,
    "start_time": "2025-08-23T11:38:31.130Z"
   },
   {
    "duration": 0,
    "start_time": "2025-08-23T11:38:31.131Z"
   },
   {
    "duration": 0,
    "start_time": "2025-08-23T11:38:31.161Z"
   },
   {
    "duration": 0,
    "start_time": "2025-08-23T11:38:31.162Z"
   },
   {
    "duration": 0,
    "start_time": "2025-08-23T11:38:31.163Z"
   },
   {
    "duration": 0,
    "start_time": "2025-08-23T11:38:31.165Z"
   },
   {
    "duration": 0,
    "start_time": "2025-08-23T11:38:31.166Z"
   },
   {
    "duration": 0,
    "start_time": "2025-08-23T11:38:31.167Z"
   },
   {
    "duration": 0,
    "start_time": "2025-08-23T11:38:31.168Z"
   },
   {
    "duration": 0,
    "start_time": "2025-08-23T11:38:31.169Z"
   },
   {
    "duration": 0,
    "start_time": "2025-08-23T11:38:31.170Z"
   },
   {
    "duration": 0,
    "start_time": "2025-08-23T11:38:31.171Z"
   },
   {
    "duration": 0,
    "start_time": "2025-08-23T11:38:31.172Z"
   },
   {
    "duration": 0,
    "start_time": "2025-08-23T11:38:31.173Z"
   },
   {
    "duration": 0,
    "start_time": "2025-08-23T11:38:31.174Z"
   },
   {
    "duration": 0,
    "start_time": "2025-08-23T11:38:31.175Z"
   },
   {
    "duration": 0,
    "start_time": "2025-08-23T11:38:31.176Z"
   },
   {
    "duration": 0,
    "start_time": "2025-08-23T11:38:31.178Z"
   },
   {
    "duration": 0,
    "start_time": "2025-08-23T11:38:31.179Z"
   },
   {
    "duration": 0,
    "start_time": "2025-08-23T11:38:31.180Z"
   },
   {
    "duration": 0,
    "start_time": "2025-08-23T11:38:31.181Z"
   },
   {
    "duration": 0,
    "start_time": "2025-08-23T11:38:31.182Z"
   },
   {
    "duration": 0,
    "start_time": "2025-08-23T11:38:31.183Z"
   },
   {
    "duration": 0,
    "start_time": "2025-08-23T11:38:31.184Z"
   },
   {
    "duration": 0,
    "start_time": "2025-08-23T11:38:31.185Z"
   },
   {
    "duration": 0,
    "start_time": "2025-08-23T11:38:31.186Z"
   },
   {
    "duration": 0,
    "start_time": "2025-08-23T11:38:31.187Z"
   },
   {
    "duration": 0,
    "start_time": "2025-08-23T11:38:31.188Z"
   },
   {
    "duration": 0,
    "start_time": "2025-08-23T11:38:31.189Z"
   },
   {
    "duration": 0,
    "start_time": "2025-08-23T11:38:31.190Z"
   },
   {
    "duration": 0,
    "start_time": "2025-08-23T11:38:31.191Z"
   },
   {
    "duration": 0,
    "start_time": "2025-08-23T11:38:31.192Z"
   },
   {
    "duration": 0,
    "start_time": "2025-08-23T11:38:31.193Z"
   },
   {
    "duration": 0,
    "start_time": "2025-08-23T11:38:31.194Z"
   },
   {
    "duration": 0,
    "start_time": "2025-08-23T11:38:31.195Z"
   },
   {
    "duration": 0,
    "start_time": "2025-08-23T11:38:31.196Z"
   },
   {
    "duration": 0,
    "start_time": "2025-08-23T11:38:31.197Z"
   },
   {
    "duration": 0,
    "start_time": "2025-08-23T11:38:31.261Z"
   },
   {
    "duration": 0,
    "start_time": "2025-08-23T11:38:31.262Z"
   },
   {
    "duration": 0,
    "start_time": "2025-08-23T11:38:31.263Z"
   },
   {
    "duration": 0,
    "start_time": "2025-08-23T11:38:31.264Z"
   },
   {
    "duration": 0,
    "start_time": "2025-08-23T11:38:31.266Z"
   },
   {
    "duration": 0,
    "start_time": "2025-08-23T11:38:31.267Z"
   },
   {
    "duration": 0,
    "start_time": "2025-08-23T11:38:31.268Z"
   },
   {
    "duration": 15572,
    "start_time": "2025-08-23T11:39:54.785Z"
   },
   {
    "duration": 406,
    "start_time": "2025-08-23T11:40:10.360Z"
   },
   {
    "duration": 16097,
    "start_time": "2025-08-23T11:40:20.575Z"
   },
   {
    "duration": 1859,
    "start_time": "2025-08-23T11:40:36.675Z"
   },
   {
    "duration": 1463,
    "start_time": "2025-08-23T11:40:38.536Z"
   },
   {
    "duration": 128,
    "start_time": "2025-08-23T11:40:40.002Z"
   },
   {
    "duration": 42,
    "start_time": "2025-08-23T11:40:40.133Z"
   },
   {
    "duration": 5,
    "start_time": "2025-08-23T11:40:40.177Z"
   },
   {
    "duration": 35,
    "start_time": "2025-08-23T11:40:40.184Z"
   },
   {
    "duration": 332,
    "start_time": "2025-08-23T11:40:40.222Z"
   },
   {
    "duration": 111,
    "start_time": "2025-08-23T11:40:40.561Z"
   },
   {
    "duration": 38,
    "start_time": "2025-08-23T11:40:40.677Z"
   },
   {
    "duration": 685,
    "start_time": "2025-08-23T11:40:40.718Z"
   },
   {
    "duration": 302,
    "start_time": "2025-08-23T11:40:41.405Z"
   },
   {
    "duration": 101,
    "start_time": "2025-08-23T11:40:41.709Z"
   },
   {
    "duration": 50,
    "start_time": "2025-08-23T11:40:41.813Z"
   },
   {
    "duration": 16,
    "start_time": "2025-08-23T11:40:41.865Z"
   },
   {
    "duration": 235,
    "start_time": "2025-08-23T11:40:41.884Z"
   },
   {
    "duration": 288,
    "start_time": "2025-08-23T11:40:42.122Z"
   },
   {
    "duration": 196,
    "start_time": "2025-08-23T11:40:42.412Z"
   },
   {
    "duration": 12,
    "start_time": "2025-08-23T11:40:42.612Z"
   },
   {
    "duration": 11,
    "start_time": "2025-08-23T11:40:42.627Z"
   },
   {
    "duration": 7,
    "start_time": "2025-08-23T11:40:42.661Z"
   },
   {
    "duration": 46,
    "start_time": "2025-08-23T11:40:42.671Z"
   },
   {
    "duration": 710,
    "start_time": "2025-08-23T11:40:42.720Z"
   },
   {
    "duration": 28,
    "start_time": "2025-08-23T11:40:43.433Z"
   },
   {
    "duration": 110,
    "start_time": "2025-08-23T11:40:43.464Z"
   },
   {
    "duration": 508,
    "start_time": "2025-08-23T11:40:43.576Z"
   },
   {
    "duration": 14,
    "start_time": "2025-08-23T11:40:44.087Z"
   },
   {
    "duration": 79,
    "start_time": "2025-08-23T11:40:44.106Z"
   },
   {
    "duration": 576,
    "start_time": "2025-08-23T11:40:44.187Z"
   },
   {
    "duration": 581,
    "start_time": "2025-08-23T11:40:44.765Z"
   },
   {
    "duration": 71,
    "start_time": "2025-08-23T11:40:45.349Z"
   },
   {
    "duration": 668,
    "start_time": "2025-08-23T11:40:45.422Z"
   },
   {
    "duration": 39,
    "start_time": "2025-08-23T11:40:46.093Z"
   },
   {
    "duration": 746,
    "start_time": "2025-08-23T11:40:46.135Z"
   },
   {
    "duration": 42,
    "start_time": "2025-08-23T11:40:46.885Z"
   },
   {
    "duration": 548,
    "start_time": "2025-08-23T11:40:46.929Z"
   },
   {
    "duration": 314,
    "start_time": "2025-08-23T11:40:47.479Z"
   },
   {
    "duration": 339,
    "start_time": "2025-08-23T11:40:47.796Z"
   },
   {
    "duration": 267,
    "start_time": "2025-08-23T11:40:48.137Z"
   },
   {
    "duration": 6655,
    "start_time": "2025-08-23T11:40:48.406Z"
   },
   {
    "duration": 43,
    "start_time": "2025-08-23T11:40:55.063Z"
   },
   {
    "duration": 190,
    "start_time": "2025-08-23T11:40:55.109Z"
   },
   {
    "duration": 7,
    "start_time": "2025-08-23T11:40:55.301Z"
   },
   {
    "duration": 220712,
    "start_time": "2025-08-23T11:40:55.310Z"
   },
   {
    "duration": 15859,
    "start_time": "2025-08-23T11:44:36.024Z"
   },
   {
    "duration": 499,
    "start_time": "2025-08-23T11:44:51.885Z"
   },
   {
    "duration": 5,
    "start_time": "2025-08-23T11:44:52.386Z"
   },
   {
    "duration": 272,
    "start_time": "2025-08-23T11:44:52.394Z"
   },
   {
    "duration": 245,
    "start_time": "2025-08-23T11:44:52.669Z"
   },
   {
    "duration": 43,
    "start_time": "2025-08-23T11:44:52.916Z"
   },
   {
    "duration": 0,
    "start_time": "2025-08-23T11:44:52.962Z"
   },
   {
    "duration": 0,
    "start_time": "2025-08-23T11:44:52.963Z"
   },
   {
    "duration": 0,
    "start_time": "2025-08-23T11:44:52.965Z"
   },
   {
    "duration": 0,
    "start_time": "2025-08-23T11:44:52.967Z"
   },
   {
    "duration": 0,
    "start_time": "2025-08-23T11:44:52.969Z"
   },
   {
    "duration": 0,
    "start_time": "2025-08-23T11:44:52.970Z"
   },
   {
    "duration": 0,
    "start_time": "2025-08-23T11:44:52.972Z"
   },
   {
    "duration": 0,
    "start_time": "2025-08-23T11:44:52.973Z"
   },
   {
    "duration": 0,
    "start_time": "2025-08-23T11:44:52.975Z"
   },
   {
    "duration": 0,
    "start_time": "2025-08-23T11:44:52.977Z"
   },
   {
    "duration": 0,
    "start_time": "2025-08-23T11:44:52.978Z"
   },
   {
    "duration": 0,
    "start_time": "2025-08-23T11:44:52.980Z"
   },
   {
    "duration": 0,
    "start_time": "2025-08-23T11:44:52.982Z"
   },
   {
    "duration": 5,
    "start_time": "2025-08-23T11:44:57.562Z"
   },
   {
    "duration": 14,
    "start_time": "2025-08-23T11:45:48.358Z"
   },
   {
    "duration": 5,
    "start_time": "2025-08-23T11:45:52.246Z"
   },
   {
    "duration": 3,
    "start_time": "2025-08-23T11:45:58.910Z"
   },
   {
    "duration": 15930,
    "start_time": "2025-08-23T11:46:24.604Z"
   },
   {
    "duration": 460,
    "start_time": "2025-08-23T11:46:40.537Z"
   },
   {
    "duration": 4,
    "start_time": "2025-08-23T11:46:41.000Z"
   },
   {
    "duration": 16391,
    "start_time": "2025-08-23T12:11:44.852Z"
   },
   {
    "duration": 1912,
    "start_time": "2025-08-23T12:12:01.246Z"
   },
   {
    "duration": 1478,
    "start_time": "2025-08-23T12:12:03.160Z"
   },
   {
    "duration": 137,
    "start_time": "2025-08-23T12:12:04.642Z"
   },
   {
    "duration": 44,
    "start_time": "2025-08-23T12:12:04.781Z"
   },
   {
    "duration": 19,
    "start_time": "2025-08-23T12:12:04.828Z"
   },
   {
    "duration": 46,
    "start_time": "2025-08-23T12:12:04.860Z"
   },
   {
    "duration": 287,
    "start_time": "2025-08-23T12:12:04.908Z"
   },
   {
    "duration": 108,
    "start_time": "2025-08-23T12:12:05.197Z"
   },
   {
    "duration": 4,
    "start_time": "2025-08-23T12:12:05.310Z"
   },
   {
    "duration": 733,
    "start_time": "2025-08-23T12:12:05.316Z"
   },
   {
    "duration": 299,
    "start_time": "2025-08-23T12:12:06.051Z"
   },
   {
    "duration": 90,
    "start_time": "2025-08-23T12:12:06.352Z"
   },
   {
    "duration": 39,
    "start_time": "2025-08-23T12:12:06.443Z"
   },
   {
    "duration": 14,
    "start_time": "2025-08-23T12:12:06.484Z"
   },
   {
    "duration": 312,
    "start_time": "2025-08-23T12:12:06.501Z"
   },
   {
    "duration": 287,
    "start_time": "2025-08-23T12:12:06.815Z"
   },
   {
    "duration": 208,
    "start_time": "2025-08-23T12:12:07.105Z"
   },
   {
    "duration": 8,
    "start_time": "2025-08-23T12:12:07.315Z"
   },
   {
    "duration": 11,
    "start_time": "2025-08-23T12:12:07.326Z"
   },
   {
    "duration": 52,
    "start_time": "2025-08-23T12:12:07.339Z"
   },
   {
    "duration": 12,
    "start_time": "2025-08-23T12:12:07.393Z"
   },
   {
    "duration": 706,
    "start_time": "2025-08-23T12:12:07.409Z"
   },
   {
    "duration": 13,
    "start_time": "2025-08-23T12:12:08.117Z"
   },
   {
    "duration": 138,
    "start_time": "2025-08-23T12:12:08.133Z"
   },
   {
    "duration": 515,
    "start_time": "2025-08-23T12:12:08.273Z"
   },
   {
    "duration": 13,
    "start_time": "2025-08-23T12:12:08.791Z"
   },
   {
    "duration": 81,
    "start_time": "2025-08-23T12:12:08.809Z"
   },
   {
    "duration": 614,
    "start_time": "2025-08-23T12:12:08.892Z"
   },
   {
    "duration": 594,
    "start_time": "2025-08-23T12:12:09.508Z"
   },
   {
    "duration": 64,
    "start_time": "2025-08-23T12:12:10.104Z"
   },
   {
    "duration": 567,
    "start_time": "2025-08-23T12:12:10.170Z"
   },
   {
    "duration": 36,
    "start_time": "2025-08-23T12:12:10.739Z"
   },
   {
    "duration": 593,
    "start_time": "2025-08-23T12:12:10.777Z"
   },
   {
    "duration": 41,
    "start_time": "2025-08-23T12:12:11.373Z"
   },
   {
    "duration": 511,
    "start_time": "2025-08-23T12:12:11.416Z"
   },
   {
    "duration": 384,
    "start_time": "2025-08-23T12:12:11.929Z"
   },
   {
    "duration": 325,
    "start_time": "2025-08-23T12:12:12.316Z"
   },
   {
    "duration": 372,
    "start_time": "2025-08-23T12:12:12.644Z"
   },
   {
    "duration": 6507,
    "start_time": "2025-08-23T12:12:13.018Z"
   },
   {
    "duration": 44,
    "start_time": "2025-08-23T12:12:19.528Z"
   },
   {
    "duration": 188,
    "start_time": "2025-08-23T12:12:19.574Z"
   },
   {
    "duration": 6,
    "start_time": "2025-08-23T12:12:19.765Z"
   },
   {
    "duration": 194253,
    "start_time": "2025-08-23T12:12:19.774Z"
   },
   {
    "duration": 13334,
    "start_time": "2025-08-23T12:15:34.029Z"
   },
   {
    "duration": 414,
    "start_time": "2025-08-23T12:15:47.365Z"
   },
   {
    "duration": 5,
    "start_time": "2025-08-23T12:15:47.781Z"
   },
   {
    "duration": 9,
    "start_time": "2025-08-23T12:15:47.789Z"
   },
   {
    "duration": 16059,
    "start_time": "2025-08-23T12:20:42.659Z"
   },
   {
    "duration": 1869,
    "start_time": "2025-08-23T12:20:58.721Z"
   },
   {
    "duration": 1583,
    "start_time": "2025-08-23T12:21:00.592Z"
   },
   {
    "duration": 137,
    "start_time": "2025-08-23T12:21:02.178Z"
   },
   {
    "duration": 46,
    "start_time": "2025-08-23T12:21:02.318Z"
   },
   {
    "duration": 22,
    "start_time": "2025-08-23T12:21:02.367Z"
   },
   {
    "duration": 41,
    "start_time": "2025-08-23T12:21:02.391Z"
   },
   {
    "duration": 299,
    "start_time": "2025-08-23T12:21:02.434Z"
   },
   {
    "duration": 106,
    "start_time": "2025-08-23T12:21:02.735Z"
   },
   {
    "duration": 17,
    "start_time": "2025-08-23T12:21:02.844Z"
   },
   {
    "duration": 727,
    "start_time": "2025-08-23T12:21:02.863Z"
   },
   {
    "duration": 303,
    "start_time": "2025-08-23T12:21:03.592Z"
   },
   {
    "duration": 105,
    "start_time": "2025-08-23T12:21:03.898Z"
   },
   {
    "duration": 33,
    "start_time": "2025-08-23T12:21:04.005Z"
   },
   {
    "duration": 31,
    "start_time": "2025-08-23T12:21:04.040Z"
   },
   {
    "duration": 230,
    "start_time": "2025-08-23T12:21:04.074Z"
   },
   {
    "duration": 294,
    "start_time": "2025-08-23T12:21:04.306Z"
   },
   {
    "duration": 199,
    "start_time": "2025-08-23T12:21:04.603Z"
   },
   {
    "duration": 9,
    "start_time": "2025-08-23T12:21:04.804Z"
   },
   {
    "duration": 24,
    "start_time": "2025-08-23T12:21:04.815Z"
   },
   {
    "duration": 12,
    "start_time": "2025-08-23T12:21:04.841Z"
   },
   {
    "duration": 9,
    "start_time": "2025-08-23T12:21:04.860Z"
   },
   {
    "duration": 673,
    "start_time": "2025-08-23T12:21:04.871Z"
   },
   {
    "duration": 23,
    "start_time": "2025-08-23T12:21:05.547Z"
   },
   {
    "duration": 131,
    "start_time": "2025-08-23T12:21:05.572Z"
   },
   {
    "duration": 568,
    "start_time": "2025-08-23T12:21:05.705Z"
   },
   {
    "duration": 12,
    "start_time": "2025-08-23T12:21:06.275Z"
   },
   {
    "duration": 85,
    "start_time": "2025-08-23T12:21:06.292Z"
   },
   {
    "duration": 546,
    "start_time": "2025-08-23T12:21:06.379Z"
   },
   {
    "duration": 572,
    "start_time": "2025-08-23T12:21:06.928Z"
   },
   {
    "duration": 66,
    "start_time": "2025-08-23T12:21:07.502Z"
   },
   {
    "duration": 550,
    "start_time": "2025-08-23T12:21:07.571Z"
   },
   {
    "duration": 38,
    "start_time": "2025-08-23T12:21:08.124Z"
   },
   {
    "duration": 595,
    "start_time": "2025-08-23T12:21:08.165Z"
   },
   {
    "duration": 45,
    "start_time": "2025-08-23T12:21:08.762Z"
   },
   {
    "duration": 516,
    "start_time": "2025-08-23T12:21:08.809Z"
   },
   {
    "duration": 280,
    "start_time": "2025-08-23T12:21:09.327Z"
   },
   {
    "duration": 317,
    "start_time": "2025-08-23T12:21:09.609Z"
   },
   {
    "duration": 278,
    "start_time": "2025-08-23T12:21:09.928Z"
   },
   {
    "duration": 6585,
    "start_time": "2025-08-23T12:21:10.208Z"
   },
   {
    "duration": 46,
    "start_time": "2025-08-23T12:21:16.795Z"
   },
   {
    "duration": 182,
    "start_time": "2025-08-23T12:21:16.843Z"
   },
   {
    "duration": 6,
    "start_time": "2025-08-23T12:21:17.027Z"
   },
   {
    "duration": 260727,
    "start_time": "2025-08-23T12:21:17.035Z"
   },
   {
    "duration": 18381,
    "start_time": "2025-08-23T12:25:37.765Z"
   },
   {
    "duration": 517,
    "start_time": "2025-08-23T12:25:56.148Z"
   },
   {
    "duration": 5,
    "start_time": "2025-08-23T12:25:56.667Z"
   },
   {
    "duration": 11,
    "start_time": "2025-08-23T12:25:56.674Z"
   },
   {
    "duration": 14764,
    "start_time": "2025-08-23T15:35:04.106Z"
   },
   {
    "duration": 2011,
    "start_time": "2025-08-23T15:35:18.873Z"
   },
   {
    "duration": 1392,
    "start_time": "2025-08-23T15:35:20.886Z"
   },
   {
    "duration": 141,
    "start_time": "2025-08-23T15:35:22.281Z"
   },
   {
    "duration": 38,
    "start_time": "2025-08-23T15:35:22.424Z"
   },
   {
    "duration": 11,
    "start_time": "2025-08-23T15:35:22.463Z"
   },
   {
    "duration": 41,
    "start_time": "2025-08-23T15:35:22.476Z"
   },
   {
    "duration": 338,
    "start_time": "2025-08-23T15:35:22.519Z"
   },
   {
    "duration": 131,
    "start_time": "2025-08-23T15:35:22.859Z"
   },
   {
    "duration": 3,
    "start_time": "2025-08-23T15:35:22.993Z"
   },
   {
    "duration": 759,
    "start_time": "2025-08-23T15:35:22.998Z"
   },
   {
    "duration": 302,
    "start_time": "2025-08-23T15:35:23.759Z"
   },
   {
    "duration": 98,
    "start_time": "2025-08-23T15:35:24.064Z"
   },
   {
    "duration": 32,
    "start_time": "2025-08-23T15:35:24.164Z"
   },
   {
    "duration": 15,
    "start_time": "2025-08-23T15:35:24.198Z"
   },
   {
    "duration": 234,
    "start_time": "2025-08-23T15:35:24.215Z"
   },
   {
    "duration": 240,
    "start_time": "2025-08-23T15:35:24.451Z"
   },
   {
    "duration": 186,
    "start_time": "2025-08-23T15:35:24.693Z"
   },
   {
    "duration": 7,
    "start_time": "2025-08-23T15:35:24.882Z"
   },
   {
    "duration": 15,
    "start_time": "2025-08-23T15:35:24.891Z"
   },
   {
    "duration": 27,
    "start_time": "2025-08-23T15:35:24.907Z"
   },
   {
    "duration": 16,
    "start_time": "2025-08-23T15:35:24.936Z"
   },
   {
    "duration": 651,
    "start_time": "2025-08-23T15:35:24.954Z"
   },
   {
    "duration": 12,
    "start_time": "2025-08-23T15:35:25.607Z"
   },
   {
    "duration": 86,
    "start_time": "2025-08-23T15:35:25.622Z"
   },
   {
    "duration": 520,
    "start_time": "2025-08-23T15:35:25.710Z"
   },
   {
    "duration": 21,
    "start_time": "2025-08-23T15:35:26.233Z"
   },
   {
    "duration": 85,
    "start_time": "2025-08-23T15:35:26.259Z"
   },
   {
    "duration": 572,
    "start_time": "2025-08-23T15:35:26.347Z"
   },
   {
    "duration": 565,
    "start_time": "2025-08-23T15:35:26.921Z"
   },
   {
    "duration": 64,
    "start_time": "2025-08-23T15:35:27.488Z"
   },
   {
    "duration": 542,
    "start_time": "2025-08-23T15:35:27.554Z"
   },
   {
    "duration": 23,
    "start_time": "2025-08-23T15:35:28.098Z"
   },
   {
    "duration": 620,
    "start_time": "2025-08-23T15:35:28.123Z"
   },
   {
    "duration": 42,
    "start_time": "2025-08-23T15:35:28.745Z"
   },
   {
    "duration": 532,
    "start_time": "2025-08-23T15:35:28.790Z"
   },
   {
    "duration": 289,
    "start_time": "2025-08-23T15:35:29.324Z"
   },
   {
    "duration": 306,
    "start_time": "2025-08-23T15:35:29.615Z"
   },
   {
    "duration": 274,
    "start_time": "2025-08-23T15:35:29.925Z"
   },
   {
    "duration": 6549,
    "start_time": "2025-08-23T15:35:30.201Z"
   },
   {
    "duration": 51,
    "start_time": "2025-08-23T15:35:36.753Z"
   },
   {
    "duration": 175,
    "start_time": "2025-08-23T15:35:36.806Z"
   },
   {
    "duration": 6,
    "start_time": "2025-08-23T15:35:36.983Z"
   },
   {
    "duration": 7,
    "start_time": "2025-08-23T15:35:36.991Z"
   },
   {
    "duration": 5,
    "start_time": "2025-08-23T15:35:37.001Z"
   },
   {
    "duration": 22,
    "start_time": "2025-08-23T15:35:37.008Z"
   },
   {
    "duration": 150,
    "start_time": "2025-08-23T15:35:37.050Z"
   },
   {
    "duration": 0,
    "start_time": "2025-08-23T15:35:37.203Z"
   },
   {
    "duration": 0,
    "start_time": "2025-08-23T15:35:37.205Z"
   },
   {
    "duration": 0,
    "start_time": "2025-08-23T15:35:37.207Z"
   },
   {
    "duration": 0,
    "start_time": "2025-08-23T15:35:37.209Z"
   },
   {
    "duration": 1,
    "start_time": "2025-08-23T15:35:37.210Z"
   },
   {
    "duration": 0,
    "start_time": "2025-08-23T15:35:37.213Z"
   },
   {
    "duration": 0,
    "start_time": "2025-08-23T15:35:37.214Z"
   },
   {
    "duration": 0,
    "start_time": "2025-08-23T15:35:37.216Z"
   },
   {
    "duration": 0,
    "start_time": "2025-08-23T15:35:37.249Z"
   },
   {
    "duration": 0,
    "start_time": "2025-08-23T15:35:37.250Z"
   },
   {
    "duration": 0,
    "start_time": "2025-08-23T15:35:37.252Z"
   },
   {
    "duration": 0,
    "start_time": "2025-08-23T15:35:37.254Z"
   },
   {
    "duration": 0,
    "start_time": "2025-08-23T15:35:37.256Z"
   },
   {
    "duration": 0,
    "start_time": "2025-08-23T15:35:37.257Z"
   },
   {
    "duration": 0,
    "start_time": "2025-08-23T15:35:37.259Z"
   },
   {
    "duration": 0,
    "start_time": "2025-08-23T15:35:37.261Z"
   },
   {
    "duration": 0,
    "start_time": "2025-08-23T15:35:37.263Z"
   },
   {
    "duration": 0,
    "start_time": "2025-08-23T15:35:37.265Z"
   },
   {
    "duration": 0,
    "start_time": "2025-08-23T15:35:37.266Z"
   },
   {
    "duration": 4,
    "start_time": "2025-08-23T15:35:52.833Z"
   },
   {
    "duration": 4,
    "start_time": "2025-08-23T15:35:53.084Z"
   },
   {
    "duration": 16083,
    "start_time": "2025-08-23T15:40:38.825Z"
   },
   {
    "duration": 1857,
    "start_time": "2025-08-23T15:40:54.911Z"
   },
   {
    "duration": 1482,
    "start_time": "2025-08-23T15:40:56.771Z"
   },
   {
    "duration": 115,
    "start_time": "2025-08-23T15:40:58.256Z"
   },
   {
    "duration": 35,
    "start_time": "2025-08-23T15:40:58.372Z"
   },
   {
    "duration": 5,
    "start_time": "2025-08-23T15:40:58.409Z"
   },
   {
    "duration": 61,
    "start_time": "2025-08-23T15:40:58.416Z"
   },
   {
    "duration": 299,
    "start_time": "2025-08-23T15:40:58.479Z"
   },
   {
    "duration": 114,
    "start_time": "2025-08-23T15:40:58.780Z"
   },
   {
    "duration": 3,
    "start_time": "2025-08-23T15:40:58.897Z"
   },
   {
    "duration": 749,
    "start_time": "2025-08-23T15:40:58.901Z"
   },
   {
    "duration": 326,
    "start_time": "2025-08-23T15:40:59.657Z"
   },
   {
    "duration": 103,
    "start_time": "2025-08-23T15:40:59.985Z"
   },
   {
    "duration": 32,
    "start_time": "2025-08-23T15:41:00.090Z"
   },
   {
    "duration": 77,
    "start_time": "2025-08-23T15:41:00.124Z"
   },
   {
    "duration": 267,
    "start_time": "2025-08-23T15:41:00.203Z"
   },
   {
    "duration": 253,
    "start_time": "2025-08-23T15:41:00.472Z"
   },
   {
    "duration": 194,
    "start_time": "2025-08-23T15:41:00.727Z"
   },
   {
    "duration": 8,
    "start_time": "2025-08-23T15:41:00.923Z"
   },
   {
    "duration": 27,
    "start_time": "2025-08-23T15:41:00.933Z"
   },
   {
    "duration": 15,
    "start_time": "2025-08-23T15:41:00.962Z"
   },
   {
    "duration": 22,
    "start_time": "2025-08-23T15:41:00.979Z"
   },
   {
    "duration": 692,
    "start_time": "2025-08-23T15:41:01.004Z"
   },
   {
    "duration": 12,
    "start_time": "2025-08-23T15:41:01.698Z"
   },
   {
    "duration": 85,
    "start_time": "2025-08-23T15:41:01.712Z"
   },
   {
    "duration": 495,
    "start_time": "2025-08-23T15:41:01.799Z"
   },
   {
    "duration": 12,
    "start_time": "2025-08-23T15:41:02.296Z"
   },
   {
    "duration": 77,
    "start_time": "2025-08-23T15:41:02.313Z"
   },
   {
    "duration": 530,
    "start_time": "2025-08-23T15:41:02.392Z"
   },
   {
    "duration": 564,
    "start_time": "2025-08-23T15:41:02.923Z"
   },
   {
    "duration": 72,
    "start_time": "2025-08-23T15:41:03.489Z"
   },
   {
    "duration": 529,
    "start_time": "2025-08-23T15:41:03.564Z"
   },
   {
    "duration": 22,
    "start_time": "2025-08-23T15:41:04.094Z"
   },
   {
    "duration": 618,
    "start_time": "2025-08-23T15:41:04.118Z"
   },
   {
    "duration": 48,
    "start_time": "2025-08-23T15:41:04.738Z"
   },
   {
    "duration": 493,
    "start_time": "2025-08-23T15:41:04.788Z"
   },
   {
    "duration": 302,
    "start_time": "2025-08-23T15:41:05.283Z"
   },
   {
    "duration": 331,
    "start_time": "2025-08-23T15:41:05.587Z"
   },
   {
    "duration": 283,
    "start_time": "2025-08-23T15:41:05.920Z"
   },
   {
    "duration": 6732,
    "start_time": "2025-08-23T15:41:06.206Z"
   },
   {
    "duration": 47,
    "start_time": "2025-08-23T15:41:12.940Z"
   },
   {
    "duration": 176,
    "start_time": "2025-08-23T15:41:12.988Z"
   },
   {
    "duration": 6,
    "start_time": "2025-08-23T15:41:13.166Z"
   },
   {
    "duration": 6,
    "start_time": "2025-08-23T15:41:13.174Z"
   },
   {
    "duration": 16,
    "start_time": "2025-08-23T15:41:13.182Z"
   },
   {
    "duration": 32,
    "start_time": "2025-08-23T15:41:13.200Z"
   },
   {
    "duration": 5,
    "start_time": "2025-08-23T15:41:13.234Z"
   },
   {
    "duration": 21,
    "start_time": "2025-08-23T15:41:13.241Z"
   },
   {
    "duration": 14430,
    "start_time": "2025-08-23T15:44:40.410Z"
   },
   {
    "duration": 1876,
    "start_time": "2025-08-23T15:44:54.842Z"
   },
   {
    "duration": 1350,
    "start_time": "2025-08-23T15:44:56.721Z"
   },
   {
    "duration": 130,
    "start_time": "2025-08-23T15:44:58.074Z"
   },
   {
    "duration": 51,
    "start_time": "2025-08-23T15:44:58.206Z"
   },
   {
    "duration": 7,
    "start_time": "2025-08-23T15:44:58.260Z"
   },
   {
    "duration": 83,
    "start_time": "2025-08-23T15:44:58.269Z"
   },
   {
    "duration": 274,
    "start_time": "2025-08-23T15:44:58.355Z"
   },
   {
    "duration": 119,
    "start_time": "2025-08-23T15:44:58.631Z"
   },
   {
    "duration": 37,
    "start_time": "2025-08-23T15:44:58.753Z"
   },
   {
    "duration": 697,
    "start_time": "2025-08-23T15:44:58.793Z"
   },
   {
    "duration": 303,
    "start_time": "2025-08-23T15:44:59.492Z"
   },
   {
    "duration": 94,
    "start_time": "2025-08-23T15:44:59.797Z"
   },
   {
    "duration": 30,
    "start_time": "2025-08-23T15:44:59.893Z"
   },
   {
    "duration": 54,
    "start_time": "2025-08-23T15:44:59.925Z"
   },
   {
    "duration": 207,
    "start_time": "2025-08-23T15:44:59.981Z"
   },
   {
    "duration": 244,
    "start_time": "2025-08-23T15:45:00.190Z"
   },
   {
    "duration": 183,
    "start_time": "2025-08-23T15:45:00.436Z"
   },
   {
    "duration": 13,
    "start_time": "2025-08-23T15:45:00.621Z"
   },
   {
    "duration": 31,
    "start_time": "2025-08-23T15:45:00.635Z"
   },
   {
    "duration": 9,
    "start_time": "2025-08-23T15:45:00.668Z"
   },
   {
    "duration": 16,
    "start_time": "2025-08-23T15:45:00.679Z"
   },
   {
    "duration": 647,
    "start_time": "2025-08-23T15:45:00.696Z"
   },
   {
    "duration": 12,
    "start_time": "2025-08-23T15:45:01.345Z"
   },
   {
    "duration": 95,
    "start_time": "2025-08-23T15:45:01.358Z"
   },
   {
    "duration": 505,
    "start_time": "2025-08-23T15:45:01.454Z"
   },
   {
    "duration": 12,
    "start_time": "2025-08-23T15:45:01.961Z"
   },
   {
    "duration": 82,
    "start_time": "2025-08-23T15:45:01.977Z"
   },
   {
    "duration": 525,
    "start_time": "2025-08-23T15:45:02.060Z"
   },
   {
    "duration": 514,
    "start_time": "2025-08-23T15:45:02.587Z"
   },
   {
    "duration": 66,
    "start_time": "2025-08-23T15:45:03.103Z"
   },
   {
    "duration": 531,
    "start_time": "2025-08-23T15:45:03.171Z"
   },
   {
    "duration": 23,
    "start_time": "2025-08-23T15:45:03.705Z"
   },
   {
    "duration": 595,
    "start_time": "2025-08-23T15:45:03.730Z"
   },
   {
    "duration": 51,
    "start_time": "2025-08-23T15:45:04.328Z"
   },
   {
    "duration": 471,
    "start_time": "2025-08-23T15:45:04.381Z"
   },
   {
    "duration": 315,
    "start_time": "2025-08-23T15:45:04.854Z"
   },
   {
    "duration": 337,
    "start_time": "2025-08-23T15:45:05.171Z"
   },
   {
    "duration": 284,
    "start_time": "2025-08-23T15:45:05.510Z"
   },
   {
    "duration": 6622,
    "start_time": "2025-08-23T15:45:05.796Z"
   },
   {
    "duration": 53,
    "start_time": "2025-08-23T15:45:12.420Z"
   },
   {
    "duration": 172,
    "start_time": "2025-08-23T15:45:12.475Z"
   },
   {
    "duration": 7,
    "start_time": "2025-08-23T15:45:12.650Z"
   },
   {
    "duration": 7,
    "start_time": "2025-08-23T15:45:12.659Z"
   },
   {
    "duration": 10,
    "start_time": "2025-08-23T15:45:12.669Z"
   },
   {
    "duration": 6,
    "start_time": "2025-08-23T15:45:12.681Z"
   },
   {
    "duration": 10,
    "start_time": "2025-08-23T15:45:12.689Z"
   },
   {
    "duration": 9,
    "start_time": "2025-08-23T15:45:12.702Z"
   },
   {
    "duration": 699,
    "start_time": "2025-08-23T15:45:12.750Z"
   },
   {
    "duration": 0,
    "start_time": "2025-08-23T15:45:13.451Z"
   },
   {
    "duration": 0,
    "start_time": "2025-08-23T15:45:13.452Z"
   },
   {
    "duration": 0,
    "start_time": "2025-08-23T15:45:13.453Z"
   },
   {
    "duration": 0,
    "start_time": "2025-08-23T15:45:13.454Z"
   },
   {
    "duration": 0,
    "start_time": "2025-08-23T15:45:13.455Z"
   },
   {
    "duration": 0,
    "start_time": "2025-08-23T15:45:13.457Z"
   },
   {
    "duration": 0,
    "start_time": "2025-08-23T15:45:13.458Z"
   },
   {
    "duration": 0,
    "start_time": "2025-08-23T15:45:13.459Z"
   },
   {
    "duration": 0,
    "start_time": "2025-08-23T15:45:13.461Z"
   },
   {
    "duration": 0,
    "start_time": "2025-08-23T15:45:13.462Z"
   },
   {
    "duration": 0,
    "start_time": "2025-08-23T15:45:13.463Z"
   },
   {
    "duration": 0,
    "start_time": "2025-08-23T15:45:13.465Z"
   },
   {
    "duration": 0,
    "start_time": "2025-08-23T15:45:13.466Z"
   },
   {
    "duration": 0,
    "start_time": "2025-08-23T15:45:13.467Z"
   },
   {
    "duration": 0,
    "start_time": "2025-08-23T15:45:13.468Z"
   },
   {
    "duration": 0,
    "start_time": "2025-08-23T15:45:13.470Z"
   },
   {
    "duration": 0,
    "start_time": "2025-08-23T15:45:13.471Z"
   },
   {
    "duration": 15738,
    "start_time": "2025-08-23T15:47:20.141Z"
   },
   {
    "duration": 1767,
    "start_time": "2025-08-23T15:47:35.882Z"
   },
   {
    "duration": 1375,
    "start_time": "2025-08-23T15:47:37.651Z"
   },
   {
    "duration": 125,
    "start_time": "2025-08-23T15:47:39.029Z"
   },
   {
    "duration": 35,
    "start_time": "2025-08-23T15:47:39.156Z"
   },
   {
    "duration": 7,
    "start_time": "2025-08-23T15:47:39.193Z"
   },
   {
    "duration": 84,
    "start_time": "2025-08-23T15:47:39.202Z"
   },
   {
    "duration": 286,
    "start_time": "2025-08-23T15:47:39.288Z"
   },
   {
    "duration": 107,
    "start_time": "2025-08-23T15:47:39.576Z"
   },
   {
    "duration": 3,
    "start_time": "2025-08-23T15:47:39.687Z"
   },
   {
    "duration": 698,
    "start_time": "2025-08-23T15:47:39.693Z"
   },
   {
    "duration": 317,
    "start_time": "2025-08-23T15:47:40.393Z"
   },
   {
    "duration": 94,
    "start_time": "2025-08-23T15:47:40.712Z"
   },
   {
    "duration": 42,
    "start_time": "2025-08-23T15:47:40.808Z"
   },
   {
    "duration": 14,
    "start_time": "2025-08-23T15:47:40.852Z"
   },
   {
    "duration": 229,
    "start_time": "2025-08-23T15:47:40.868Z"
   },
   {
    "duration": 284,
    "start_time": "2025-08-23T15:47:41.098Z"
   },
   {
    "duration": 177,
    "start_time": "2025-08-23T15:47:41.384Z"
   },
   {
    "duration": 8,
    "start_time": "2025-08-23T15:47:41.563Z"
   },
   {
    "duration": 7,
    "start_time": "2025-08-23T15:47:41.573Z"
   },
   {
    "duration": 12,
    "start_time": "2025-08-23T15:47:41.582Z"
   },
   {
    "duration": 15,
    "start_time": "2025-08-23T15:47:41.596Z"
   },
   {
    "duration": 654,
    "start_time": "2025-08-23T15:47:41.613Z"
   },
   {
    "duration": 13,
    "start_time": "2025-08-23T15:47:42.269Z"
   },
   {
    "duration": 108,
    "start_time": "2025-08-23T15:47:42.285Z"
   },
   {
    "duration": 472,
    "start_time": "2025-08-23T15:47:42.395Z"
   },
   {
    "duration": 12,
    "start_time": "2025-08-23T15:47:42.870Z"
   },
   {
    "duration": 65,
    "start_time": "2025-08-23T15:47:42.886Z"
   },
   {
    "duration": 531,
    "start_time": "2025-08-23T15:47:42.953Z"
   },
   {
    "duration": 546,
    "start_time": "2025-08-23T15:47:43.485Z"
   },
   {
    "duration": 63,
    "start_time": "2025-08-23T15:47:44.033Z"
   },
   {
    "duration": 542,
    "start_time": "2025-08-23T15:47:44.098Z"
   },
   {
    "duration": 23,
    "start_time": "2025-08-23T15:47:44.650Z"
   },
   {
    "duration": 597,
    "start_time": "2025-08-23T15:47:44.675Z"
   },
   {
    "duration": 43,
    "start_time": "2025-08-23T15:47:45.274Z"
   },
   {
    "duration": 482,
    "start_time": "2025-08-23T15:47:45.319Z"
   },
   {
    "duration": 284,
    "start_time": "2025-08-23T15:47:45.803Z"
   },
   {
    "duration": 319,
    "start_time": "2025-08-23T15:47:46.090Z"
   },
   {
    "duration": 294,
    "start_time": "2025-08-23T15:47:46.411Z"
   },
   {
    "duration": 6200,
    "start_time": "2025-08-23T15:47:46.706Z"
   },
   {
    "duration": 42,
    "start_time": "2025-08-23T15:47:52.908Z"
   },
   {
    "duration": 161,
    "start_time": "2025-08-23T15:47:52.952Z"
   },
   {
    "duration": 6,
    "start_time": "2025-08-23T15:47:53.115Z"
   },
   {
    "duration": 54,
    "start_time": "2025-08-23T15:47:53.123Z"
   },
   {
    "duration": 19,
    "start_time": "2025-08-23T15:47:53.179Z"
   },
   {
    "duration": 30,
    "start_time": "2025-08-23T15:47:53.202Z"
   },
   {
    "duration": 5,
    "start_time": "2025-08-23T15:47:53.234Z"
   },
   {
    "duration": 14,
    "start_time": "2025-08-23T15:47:53.242Z"
   },
   {
    "duration": 628,
    "start_time": "2025-08-23T15:47:53.258Z"
   },
   {
    "duration": 0,
    "start_time": "2025-08-23T15:47:53.889Z"
   },
   {
    "duration": 0,
    "start_time": "2025-08-23T15:47:53.890Z"
   },
   {
    "duration": 0,
    "start_time": "2025-08-23T15:47:53.892Z"
   },
   {
    "duration": 0,
    "start_time": "2025-08-23T15:47:53.893Z"
   },
   {
    "duration": 0,
    "start_time": "2025-08-23T15:47:53.894Z"
   },
   {
    "duration": 0,
    "start_time": "2025-08-23T15:47:53.895Z"
   },
   {
    "duration": 0,
    "start_time": "2025-08-23T15:47:53.896Z"
   },
   {
    "duration": 0,
    "start_time": "2025-08-23T15:47:53.897Z"
   },
   {
    "duration": 0,
    "start_time": "2025-08-23T15:47:53.899Z"
   },
   {
    "duration": 0,
    "start_time": "2025-08-23T15:47:53.900Z"
   },
   {
    "duration": 0,
    "start_time": "2025-08-23T15:47:53.901Z"
   },
   {
    "duration": 0,
    "start_time": "2025-08-23T15:47:53.902Z"
   },
   {
    "duration": 0,
    "start_time": "2025-08-23T15:47:53.903Z"
   },
   {
    "duration": 0,
    "start_time": "2025-08-23T15:47:53.905Z"
   },
   {
    "duration": 0,
    "start_time": "2025-08-23T15:47:53.905Z"
   },
   {
    "duration": 0,
    "start_time": "2025-08-23T15:47:53.906Z"
   },
   {
    "duration": 0,
    "start_time": "2025-08-23T15:47:53.907Z"
   },
   {
    "duration": 16515,
    "start_time": "2025-08-23T15:48:28.312Z"
   },
   {
    "duration": 2169,
    "start_time": "2025-08-23T15:48:44.831Z"
   },
   {
    "duration": 1470,
    "start_time": "2025-08-23T15:48:47.002Z"
   },
   {
    "duration": 141,
    "start_time": "2025-08-23T15:48:48.475Z"
   },
   {
    "duration": 39,
    "start_time": "2025-08-23T15:48:48.618Z"
   },
   {
    "duration": 7,
    "start_time": "2025-08-23T15:48:48.660Z"
   },
   {
    "duration": 39,
    "start_time": "2025-08-23T15:48:48.669Z"
   },
   {
    "duration": 355,
    "start_time": "2025-08-23T15:48:48.710Z"
   },
   {
    "duration": 129,
    "start_time": "2025-08-23T15:48:49.068Z"
   },
   {
    "duration": 3,
    "start_time": "2025-08-23T15:48:49.200Z"
   },
   {
    "duration": 719,
    "start_time": "2025-08-23T15:48:49.205Z"
   },
   {
    "duration": 354,
    "start_time": "2025-08-23T15:48:49.927Z"
   },
   {
    "duration": 93,
    "start_time": "2025-08-23T15:48:50.284Z"
   },
   {
    "duration": 31,
    "start_time": "2025-08-23T15:48:50.379Z"
   },
   {
    "duration": 19,
    "start_time": "2025-08-23T15:48:50.411Z"
   },
   {
    "duration": 247,
    "start_time": "2025-08-23T15:48:50.432Z"
   },
   {
    "duration": 255,
    "start_time": "2025-08-23T15:48:50.681Z"
   },
   {
    "duration": 197,
    "start_time": "2025-08-23T15:48:50.938Z"
   },
   {
    "duration": 21,
    "start_time": "2025-08-23T15:48:51.137Z"
   },
   {
    "duration": 37,
    "start_time": "2025-08-23T15:48:51.161Z"
   },
   {
    "duration": 10,
    "start_time": "2025-08-23T15:48:51.200Z"
   },
   {
    "duration": 18,
    "start_time": "2025-08-23T15:48:51.211Z"
   },
   {
    "duration": 682,
    "start_time": "2025-08-23T15:48:51.231Z"
   },
   {
    "duration": 12,
    "start_time": "2025-08-23T15:48:51.914Z"
   },
   {
    "duration": 101,
    "start_time": "2025-08-23T15:48:51.927Z"
   },
   {
    "duration": 554,
    "start_time": "2025-08-23T15:48:52.030Z"
   },
   {
    "duration": 12,
    "start_time": "2025-08-23T15:48:52.586Z"
   },
   {
    "duration": 109,
    "start_time": "2025-08-23T15:48:52.603Z"
   },
   {
    "duration": 605,
    "start_time": "2025-08-23T15:48:52.714Z"
   },
   {
    "duration": 583,
    "start_time": "2025-08-23T15:48:53.321Z"
   },
   {
    "duration": 61,
    "start_time": "2025-08-23T15:48:53.906Z"
   },
   {
    "duration": 555,
    "start_time": "2025-08-23T15:48:53.969Z"
   },
   {
    "duration": 38,
    "start_time": "2025-08-23T15:48:54.527Z"
   },
   {
    "duration": 645,
    "start_time": "2025-08-23T15:48:54.568Z"
   },
   {
    "duration": 51,
    "start_time": "2025-08-23T15:48:55.215Z"
   },
   {
    "duration": 483,
    "start_time": "2025-08-23T15:48:55.267Z"
   },
   {
    "duration": 343,
    "start_time": "2025-08-23T15:48:55.753Z"
   },
   {
    "duration": 333,
    "start_time": "2025-08-23T15:48:56.098Z"
   },
   {
    "duration": 365,
    "start_time": "2025-08-23T15:48:56.433Z"
   },
   {
    "duration": 6626,
    "start_time": "2025-08-23T15:48:56.800Z"
   },
   {
    "duration": 49,
    "start_time": "2025-08-23T15:49:03.428Z"
   },
   {
    "duration": 226,
    "start_time": "2025-08-23T15:49:03.479Z"
   },
   {
    "duration": 5,
    "start_time": "2025-08-23T15:49:03.707Z"
   },
   {
    "duration": 25,
    "start_time": "2025-08-23T15:49:03.714Z"
   },
   {
    "duration": 7,
    "start_time": "2025-08-23T15:49:03.741Z"
   },
   {
    "duration": 26,
    "start_time": "2025-08-23T15:49:03.750Z"
   },
   {
    "duration": 8,
    "start_time": "2025-08-23T15:49:03.778Z"
   },
   {
    "duration": 33,
    "start_time": "2025-08-23T15:49:03.787Z"
   },
   {
    "duration": 16930,
    "start_time": "2025-08-23T15:51:20.879Z"
   },
   {
    "duration": 16238,
    "start_time": "2025-08-23T15:52:05.741Z"
   },
   {
    "duration": 1861,
    "start_time": "2025-08-23T15:52:21.982Z"
   },
   {
    "duration": 1462,
    "start_time": "2025-08-23T15:52:23.844Z"
   },
   {
    "duration": 127,
    "start_time": "2025-08-23T15:52:25.309Z"
   },
   {
    "duration": 46,
    "start_time": "2025-08-23T15:52:25.437Z"
   },
   {
    "duration": 23,
    "start_time": "2025-08-23T15:52:25.485Z"
   },
   {
    "duration": 41,
    "start_time": "2025-08-23T15:52:25.510Z"
   },
   {
    "duration": 314,
    "start_time": "2025-08-23T15:52:25.554Z"
   },
   {
    "duration": 116,
    "start_time": "2025-08-23T15:52:25.873Z"
   },
   {
    "duration": 3,
    "start_time": "2025-08-23T15:52:25.992Z"
   },
   {
    "duration": 773,
    "start_time": "2025-08-23T15:52:25.997Z"
   },
   {
    "duration": 293,
    "start_time": "2025-08-23T15:52:26.772Z"
   },
   {
    "duration": 96,
    "start_time": "2025-08-23T15:52:27.069Z"
   },
   {
    "duration": 32,
    "start_time": "2025-08-23T15:52:27.167Z"
   },
   {
    "duration": 14,
    "start_time": "2025-08-23T15:52:27.201Z"
   },
   {
    "duration": 263,
    "start_time": "2025-08-23T15:52:27.217Z"
   },
   {
    "duration": 235,
    "start_time": "2025-08-23T15:52:27.482Z"
   },
   {
    "duration": 169,
    "start_time": "2025-08-23T15:52:27.719Z"
   },
   {
    "duration": 7,
    "start_time": "2025-08-23T15:52:27.890Z"
   },
   {
    "duration": 7,
    "start_time": "2025-08-23T15:52:27.899Z"
   },
   {
    "duration": 34,
    "start_time": "2025-08-23T15:52:27.908Z"
   },
   {
    "duration": 12,
    "start_time": "2025-08-23T15:52:27.944Z"
   },
   {
    "duration": 677,
    "start_time": "2025-08-23T15:52:27.959Z"
   },
   {
    "duration": 20,
    "start_time": "2025-08-23T15:52:28.638Z"
   },
   {
    "duration": 89,
    "start_time": "2025-08-23T15:52:28.661Z"
   },
   {
    "duration": 543,
    "start_time": "2025-08-23T15:52:28.753Z"
   },
   {
    "duration": 12,
    "start_time": "2025-08-23T15:52:29.297Z"
   },
   {
    "duration": 81,
    "start_time": "2025-08-23T15:52:29.314Z"
   },
   {
    "duration": 597,
    "start_time": "2025-08-23T15:52:29.396Z"
   },
   {
    "duration": 574,
    "start_time": "2025-08-23T15:52:29.995Z"
   },
   {
    "duration": 49,
    "start_time": "2025-08-23T15:52:30.571Z"
   },
   {
    "duration": 580,
    "start_time": "2025-08-23T15:52:30.622Z"
   },
   {
    "duration": 20,
    "start_time": "2025-08-23T15:52:31.205Z"
   },
   {
    "duration": 667,
    "start_time": "2025-08-23T15:52:31.227Z"
   },
   {
    "duration": 38,
    "start_time": "2025-08-23T15:52:31.896Z"
   },
   {
    "duration": 498,
    "start_time": "2025-08-23T15:52:31.951Z"
   },
   {
    "duration": 348,
    "start_time": "2025-08-23T15:52:32.452Z"
   },
   {
    "duration": 332,
    "start_time": "2025-08-23T15:52:32.801Z"
   },
   {
    "duration": 315,
    "start_time": "2025-08-23T15:52:33.135Z"
   },
   {
    "duration": 6756,
    "start_time": "2025-08-23T15:52:33.454Z"
   },
   {
    "duration": 41,
    "start_time": "2025-08-23T15:52:40.212Z"
   },
   {
    "duration": 166,
    "start_time": "2025-08-23T15:52:40.255Z"
   },
   {
    "duration": 5,
    "start_time": "2025-08-23T15:52:40.423Z"
   },
   {
    "duration": 19,
    "start_time": "2025-08-23T15:52:40.430Z"
   },
   {
    "duration": 8,
    "start_time": "2025-08-23T15:52:40.452Z"
   },
   {
    "duration": 6,
    "start_time": "2025-08-23T15:52:40.463Z"
   },
   {
    "duration": 21,
    "start_time": "2025-08-23T15:52:40.471Z"
   },
   {
    "duration": 19,
    "start_time": "2025-08-23T15:52:40.494Z"
   },
   {
    "duration": 17066,
    "start_time": "2025-08-23T15:54:32.872Z"
   },
   {
    "duration": 1783,
    "start_time": "2025-08-23T15:54:49.941Z"
   },
   {
    "duration": 1389,
    "start_time": "2025-08-23T15:54:51.725Z"
   },
   {
    "duration": 125,
    "start_time": "2025-08-23T15:54:53.116Z"
   },
   {
    "duration": 45,
    "start_time": "2025-08-23T15:54:53.243Z"
   },
   {
    "duration": 17,
    "start_time": "2025-08-23T15:54:53.290Z"
   },
   {
    "duration": 58,
    "start_time": "2025-08-23T15:54:53.309Z"
   },
   {
    "duration": 295,
    "start_time": "2025-08-23T15:54:53.369Z"
   },
   {
    "duration": 114,
    "start_time": "2025-08-23T15:54:53.666Z"
   },
   {
    "duration": 15,
    "start_time": "2025-08-23T15:54:53.783Z"
   },
   {
    "duration": 732,
    "start_time": "2025-08-23T15:54:53.800Z"
   },
   {
    "duration": 319,
    "start_time": "2025-08-23T15:54:54.534Z"
   },
   {
    "duration": 98,
    "start_time": "2025-08-23T15:54:54.855Z"
   },
   {
    "duration": 34,
    "start_time": "2025-08-23T15:54:54.959Z"
   },
   {
    "duration": 14,
    "start_time": "2025-08-23T15:54:54.994Z"
   },
   {
    "duration": 265,
    "start_time": "2025-08-23T15:54:55.009Z"
   },
   {
    "duration": 235,
    "start_time": "2025-08-23T15:54:55.275Z"
   },
   {
    "duration": 182,
    "start_time": "2025-08-23T15:54:55.512Z"
   },
   {
    "duration": 8,
    "start_time": "2025-08-23T15:54:55.696Z"
   },
   {
    "duration": 7,
    "start_time": "2025-08-23T15:54:55.706Z"
   },
   {
    "duration": 10,
    "start_time": "2025-08-23T15:54:55.714Z"
   },
   {
    "duration": 38,
    "start_time": "2025-08-23T15:54:55.726Z"
   },
   {
    "duration": 629,
    "start_time": "2025-08-23T15:54:55.767Z"
   },
   {
    "duration": 12,
    "start_time": "2025-08-23T15:54:56.398Z"
   },
   {
    "duration": 92,
    "start_time": "2025-08-23T15:54:56.411Z"
   },
   {
    "duration": 560,
    "start_time": "2025-08-23T15:54:56.506Z"
   },
   {
    "duration": 17,
    "start_time": "2025-08-23T15:54:57.068Z"
   },
   {
    "duration": 86,
    "start_time": "2025-08-23T15:54:57.093Z"
   },
   {
    "duration": 541,
    "start_time": "2025-08-23T15:54:57.181Z"
   },
   {
    "duration": 573,
    "start_time": "2025-08-23T15:54:57.724Z"
   },
   {
    "duration": 64,
    "start_time": "2025-08-23T15:54:58.299Z"
   },
   {
    "duration": 533,
    "start_time": "2025-08-23T15:54:58.366Z"
   },
   {
    "duration": 20,
    "start_time": "2025-08-23T15:54:58.901Z"
   },
   {
    "duration": 612,
    "start_time": "2025-08-23T15:54:58.923Z"
   },
   {
    "duration": 49,
    "start_time": "2025-08-23T15:54:59.536Z"
   },
   {
    "duration": 435,
    "start_time": "2025-08-23T15:54:59.587Z"
   },
   {
    "duration": 311,
    "start_time": "2025-08-23T15:55:00.049Z"
   },
   {
    "duration": 351,
    "start_time": "2025-08-23T15:55:00.366Z"
   },
   {
    "duration": 295,
    "start_time": "2025-08-23T15:55:00.719Z"
   },
   {
    "duration": 6629,
    "start_time": "2025-08-23T15:55:01.017Z"
   },
   {
    "duration": 52,
    "start_time": "2025-08-23T15:55:07.648Z"
   },
   {
    "duration": 218,
    "start_time": "2025-08-23T15:55:07.703Z"
   },
   {
    "duration": 6,
    "start_time": "2025-08-23T15:55:07.923Z"
   },
   {
    "duration": 258,
    "start_time": "2025-08-23T15:55:07.931Z"
   },
   {
    "duration": 0,
    "start_time": "2025-08-23T15:55:08.190Z"
   },
   {
    "duration": 0,
    "start_time": "2025-08-23T15:55:08.192Z"
   },
   {
    "duration": 0,
    "start_time": "2025-08-23T15:55:08.193Z"
   },
   {
    "duration": 0,
    "start_time": "2025-08-23T15:55:08.194Z"
   },
   {
    "duration": 0,
    "start_time": "2025-08-23T15:55:08.195Z"
   },
   {
    "duration": 0,
    "start_time": "2025-08-23T15:55:08.196Z"
   },
   {
    "duration": 0,
    "start_time": "2025-08-23T15:55:08.197Z"
   },
   {
    "duration": 0,
    "start_time": "2025-08-23T15:55:08.198Z"
   },
   {
    "duration": 0,
    "start_time": "2025-08-23T15:55:08.200Z"
   },
   {
    "duration": 0,
    "start_time": "2025-08-23T15:55:08.201Z"
   },
   {
    "duration": 0,
    "start_time": "2025-08-23T15:55:08.202Z"
   },
   {
    "duration": 0,
    "start_time": "2025-08-23T15:55:08.203Z"
   },
   {
    "duration": 0,
    "start_time": "2025-08-23T15:55:08.204Z"
   },
   {
    "duration": 0,
    "start_time": "2025-08-23T15:55:08.205Z"
   },
   {
    "duration": 0,
    "start_time": "2025-08-23T15:55:08.207Z"
   },
   {
    "duration": 0,
    "start_time": "2025-08-23T15:55:08.207Z"
   },
   {
    "duration": 0,
    "start_time": "2025-08-23T15:55:08.209Z"
   },
   {
    "duration": 0,
    "start_time": "2025-08-23T15:55:08.210Z"
   },
   {
    "duration": 0,
    "start_time": "2025-08-23T15:55:08.211Z"
   },
   {
    "duration": 0,
    "start_time": "2025-08-23T15:55:08.212Z"
   },
   {
    "duration": 0,
    "start_time": "2025-08-23T15:55:08.213Z"
   },
   {
    "duration": 0,
    "start_time": "2025-08-23T15:55:08.214Z"
   },
   {
    "duration": 69,
    "start_time": "2025-08-23T15:55:19.325Z"
   },
   {
    "duration": 102318,
    "start_time": "2025-08-23T15:55:33.204Z"
   },
   {
    "duration": 19142,
    "start_time": "2025-08-23T15:58:01.528Z"
   },
   {
    "duration": 496,
    "start_time": "2025-08-23T15:58:20.672Z"
   },
   {
    "duration": 3,
    "start_time": "2025-08-23T15:58:21.171Z"
   },
   {
    "duration": 15135,
    "start_time": "2025-08-23T16:11:24.306Z"
   },
   {
    "duration": 1707,
    "start_time": "2025-08-23T16:11:39.444Z"
   },
   {
    "duration": 1347,
    "start_time": "2025-08-23T16:11:41.153Z"
   },
   {
    "duration": 117,
    "start_time": "2025-08-23T16:11:42.502Z"
   },
   {
    "duration": 38,
    "start_time": "2025-08-23T16:11:42.620Z"
   },
   {
    "duration": 39,
    "start_time": "2025-08-23T16:11:42.660Z"
   },
   {
    "duration": 40,
    "start_time": "2025-08-23T16:11:42.701Z"
   },
   {
    "duration": 275,
    "start_time": "2025-08-23T16:11:42.743Z"
   },
   {
    "duration": 109,
    "start_time": "2025-08-23T16:11:43.020Z"
   },
   {
    "duration": 3,
    "start_time": "2025-08-23T16:11:43.132Z"
   },
   {
    "duration": 694,
    "start_time": "2025-08-23T16:11:43.136Z"
   },
   {
    "duration": 295,
    "start_time": "2025-08-23T16:11:43.831Z"
   },
   {
    "duration": 95,
    "start_time": "2025-08-23T16:11:44.127Z"
   },
   {
    "duration": 39,
    "start_time": "2025-08-23T16:11:44.224Z"
   },
   {
    "duration": 13,
    "start_time": "2025-08-23T16:11:44.265Z"
   },
   {
    "duration": 285,
    "start_time": "2025-08-23T16:11:44.280Z"
   },
   {
    "duration": 273,
    "start_time": "2025-08-23T16:11:44.567Z"
   },
   {
    "duration": 197,
    "start_time": "2025-08-23T16:11:44.842Z"
   },
   {
    "duration": 12,
    "start_time": "2025-08-23T16:11:45.041Z"
   },
   {
    "duration": 7,
    "start_time": "2025-08-23T16:11:45.056Z"
   },
   {
    "duration": 68,
    "start_time": "2025-08-23T16:11:45.064Z"
   },
   {
    "duration": 37,
    "start_time": "2025-08-23T16:11:45.134Z"
   },
   {
    "duration": 693,
    "start_time": "2025-08-23T16:11:45.174Z"
   },
   {
    "duration": 12,
    "start_time": "2025-08-23T16:11:45.868Z"
   },
   {
    "duration": 91,
    "start_time": "2025-08-23T16:11:45.882Z"
   },
   {
    "duration": 500,
    "start_time": "2025-08-23T16:11:45.975Z"
   },
   {
    "duration": 16,
    "start_time": "2025-08-23T16:11:46.477Z"
   },
   {
    "duration": 86,
    "start_time": "2025-08-23T16:11:46.500Z"
   },
   {
    "duration": 512,
    "start_time": "2025-08-23T16:11:46.588Z"
   },
   {
    "duration": 521,
    "start_time": "2025-08-23T16:11:47.102Z"
   },
   {
    "duration": 65,
    "start_time": "2025-08-23T16:11:47.625Z"
   },
   {
    "duration": 568,
    "start_time": "2025-08-23T16:11:47.692Z"
   },
   {
    "duration": 23,
    "start_time": "2025-08-23T16:11:48.261Z"
   },
   {
    "duration": 614,
    "start_time": "2025-08-23T16:11:48.286Z"
   },
   {
    "duration": 55,
    "start_time": "2025-08-23T16:11:48.902Z"
   },
   {
    "duration": 466,
    "start_time": "2025-08-23T16:11:48.959Z"
   },
   {
    "duration": 261,
    "start_time": "2025-08-23T16:11:49.427Z"
   },
   {
    "duration": 318,
    "start_time": "2025-08-23T16:11:49.690Z"
   },
   {
    "duration": 277,
    "start_time": "2025-08-23T16:11:50.010Z"
   },
   {
    "duration": 6389,
    "start_time": "2025-08-23T16:11:50.289Z"
   },
   {
    "duration": 65,
    "start_time": "2025-08-23T16:11:56.681Z"
   },
   {
    "duration": 160,
    "start_time": "2025-08-23T16:11:56.748Z"
   },
   {
    "duration": 6,
    "start_time": "2025-08-23T16:11:56.910Z"
   },
   {
    "duration": 181810,
    "start_time": "2025-08-23T16:11:56.918Z"
   },
   {
    "duration": 13204,
    "start_time": "2025-08-23T16:14:58.730Z"
   },
   {
    "duration": 396,
    "start_time": "2025-08-23T16:15:11.936Z"
   },
   {
    "duration": 4,
    "start_time": "2025-08-23T16:15:12.334Z"
   },
   {
    "duration": 15,
    "start_time": "2025-08-23T16:15:12.339Z"
   },
   {
    "duration": 392594,
    "start_time": "2025-08-23T16:15:12.356Z"
   },
   {
    "duration": 11517,
    "start_time": "2025-08-23T16:21:44.952Z"
   },
   {
    "duration": 4203,
    "start_time": "2025-08-23T16:21:56.551Z"
   },
   {
    "duration": 4,
    "start_time": "2025-08-23T16:22:00.756Z"
   },
   {
    "duration": 15,
    "start_time": "2025-08-23T16:22:00.761Z"
   },
   {
    "duration": 271,
    "start_time": "2025-08-23T16:22:00.778Z"
   },
   {
    "duration": 0,
    "start_time": "2025-08-23T16:22:01.051Z"
   },
   {
    "duration": 0,
    "start_time": "2025-08-23T16:22:01.052Z"
   },
   {
    "duration": 0,
    "start_time": "2025-08-23T16:22:01.053Z"
   },
   {
    "duration": 0,
    "start_time": "2025-08-23T16:22:01.054Z"
   },
   {
    "duration": 0,
    "start_time": "2025-08-23T16:22:01.055Z"
   },
   {
    "duration": 0,
    "start_time": "2025-08-23T16:22:01.056Z"
   },
   {
    "duration": 0,
    "start_time": "2025-08-23T16:22:01.057Z"
   },
   {
    "duration": 0,
    "start_time": "2025-08-23T16:22:01.058Z"
   },
   {
    "duration": 0,
    "start_time": "2025-08-23T16:22:01.059Z"
   },
   {
    "duration": 0,
    "start_time": "2025-08-23T16:22:01.060Z"
   },
   {
    "duration": 0,
    "start_time": "2025-08-23T16:22:01.061Z"
   },
   {
    "duration": 0,
    "start_time": "2025-08-23T16:22:01.062Z"
   },
   {
    "duration": 15215,
    "start_time": "2025-08-23T18:10:28.342Z"
   },
   {
    "duration": 1871,
    "start_time": "2025-08-23T18:10:43.560Z"
   },
   {
    "duration": 1263,
    "start_time": "2025-08-23T18:10:45.433Z"
   },
   {
    "duration": 118,
    "start_time": "2025-08-23T18:10:46.698Z"
   },
   {
    "duration": 46,
    "start_time": "2025-08-23T18:10:46.818Z"
   },
   {
    "duration": 5,
    "start_time": "2025-08-23T18:10:46.876Z"
   },
   {
    "duration": 49,
    "start_time": "2025-08-23T18:10:46.883Z"
   },
   {
    "duration": 260,
    "start_time": "2025-08-23T18:10:46.934Z"
   },
   {
    "duration": 93,
    "start_time": "2025-08-23T18:10:47.196Z"
   },
   {
    "duration": 3,
    "start_time": "2025-08-23T18:10:47.292Z"
   },
   {
    "duration": 620,
    "start_time": "2025-08-23T18:10:47.297Z"
   },
   {
    "duration": 259,
    "start_time": "2025-08-23T18:10:47.919Z"
   },
   {
    "duration": 76,
    "start_time": "2025-08-23T18:10:48.180Z"
   },
   {
    "duration": 40,
    "start_time": "2025-08-23T18:10:48.257Z"
   },
   {
    "duration": 12,
    "start_time": "2025-08-23T18:10:48.299Z"
   },
   {
    "duration": 200,
    "start_time": "2025-08-23T18:10:48.313Z"
   },
   {
    "duration": 216,
    "start_time": "2025-08-23T18:10:48.514Z"
   },
   {
    "duration": 155,
    "start_time": "2025-08-23T18:10:48.732Z"
   },
   {
    "duration": 6,
    "start_time": "2025-08-23T18:10:48.889Z"
   },
   {
    "duration": 15,
    "start_time": "2025-08-23T18:10:48.897Z"
   },
   {
    "duration": 8,
    "start_time": "2025-08-23T18:10:48.913Z"
   },
   {
    "duration": 13,
    "start_time": "2025-08-23T18:10:48.923Z"
   },
   {
    "duration": 649,
    "start_time": "2025-08-23T18:10:48.937Z"
   },
   {
    "duration": 11,
    "start_time": "2025-08-23T18:10:49.588Z"
   },
   {
    "duration": 102,
    "start_time": "2025-08-23T18:10:49.600Z"
   },
   {
    "duration": 450,
    "start_time": "2025-08-23T18:10:49.703Z"
   },
   {
    "duration": 11,
    "start_time": "2025-08-23T18:10:50.155Z"
   },
   {
    "duration": 45,
    "start_time": "2025-08-23T18:10:50.176Z"
   },
   {
    "duration": 482,
    "start_time": "2025-08-23T18:10:50.223Z"
   },
   {
    "duration": 479,
    "start_time": "2025-08-23T18:10:50.708Z"
   },
   {
    "duration": 45,
    "start_time": "2025-08-23T18:10:51.189Z"
   },
   {
    "duration": 471,
    "start_time": "2025-08-23T18:10:51.236Z"
   },
   {
    "duration": 18,
    "start_time": "2025-08-23T18:10:51.709Z"
   },
   {
    "duration": 544,
    "start_time": "2025-08-23T18:10:51.729Z"
   },
   {
    "duration": 37,
    "start_time": "2025-08-23T18:10:52.275Z"
   },
   {
    "duration": 427,
    "start_time": "2025-08-23T18:10:52.313Z"
   },
   {
    "duration": 277,
    "start_time": "2025-08-23T18:10:52.741Z"
   },
   {
    "duration": 300,
    "start_time": "2025-08-23T18:10:53.020Z"
   },
   {
    "duration": 276,
    "start_time": "2025-08-23T18:10:53.322Z"
   },
   {
    "duration": 5638,
    "start_time": "2025-08-23T18:10:53.599Z"
   },
   {
    "duration": 41,
    "start_time": "2025-08-23T18:10:59.239Z"
   },
   {
    "duration": 150,
    "start_time": "2025-08-23T18:10:59.282Z"
   },
   {
    "duration": 5,
    "start_time": "2025-08-23T18:10:59.435Z"
   },
   {
    "duration": 1087383,
    "start_time": "2025-08-23T18:11:32.708Z"
   },
   {
    "duration": 670685,
    "start_time": "2025-08-23T18:29:40.093Z"
   },
   {
    "duration": 3844,
    "start_time": "2025-08-23T18:40:50.780Z"
   },
   {
    "duration": 3,
    "start_time": "2025-08-23T18:40:54.626Z"
   },
   {
    "duration": 49,
    "start_time": "2025-08-23T18:40:54.630Z"
   },
   {
    "duration": 130,
    "start_time": "2025-08-23T18:43:35.470Z"
   },
   {
    "duration": 11,
    "start_time": "2025-08-23T18:43:45.411Z"
   },
   {
    "duration": 107,
    "start_time": "2025-08-23T18:43:48.970Z"
   },
   {
    "duration": 115,
    "start_time": "2025-08-23T18:43:57.793Z"
   },
   {
    "duration": 154,
    "start_time": "2025-08-23T18:44:03.572Z"
   },
   {
    "duration": 115,
    "start_time": "2025-08-23T18:44:25.494Z"
   },
   {
    "duration": 6262,
    "start_time": "2025-08-23T18:47:03.918Z"
   },
   {
    "duration": 184,
    "start_time": "2025-08-23T18:47:24.725Z"
   },
   {
    "duration": 113,
    "start_time": "2025-08-23T18:47:29.888Z"
   },
   {
    "duration": 5728,
    "start_time": "2025-08-23T18:51:20.439Z"
   },
   {
    "duration": 169,
    "start_time": "2025-08-23T18:51:26.169Z"
   },
   {
    "duration": 143,
    "start_time": "2025-08-23T18:53:11.602Z"
   },
   {
    "duration": 141,
    "start_time": "2025-08-23T18:54:44.198Z"
   },
   {
    "duration": 1307,
    "start_time": "2025-08-23T18:54:52.952Z"
   },
   {
    "duration": 135,
    "start_time": "2025-08-23T18:56:09.670Z"
   },
   {
    "duration": 13799,
    "start_time": "2025-08-23T18:58:18.083Z"
   },
   {
    "duration": 1415,
    "start_time": "2025-08-23T18:58:31.884Z"
   },
   {
    "duration": 1190,
    "start_time": "2025-08-23T18:58:33.300Z"
   },
   {
    "duration": 106,
    "start_time": "2025-08-23T18:58:34.492Z"
   },
   {
    "duration": 32,
    "start_time": "2025-08-23T18:58:34.600Z"
   },
   {
    "duration": 10,
    "start_time": "2025-08-23T18:58:34.634Z"
   },
   {
    "duration": 53,
    "start_time": "2025-08-23T18:58:34.646Z"
   },
   {
    "duration": 253,
    "start_time": "2025-08-23T18:58:34.700Z"
   },
   {
    "duration": 91,
    "start_time": "2025-08-23T18:58:34.955Z"
   },
   {
    "duration": 9,
    "start_time": "2025-08-23T18:58:35.049Z"
   },
   {
    "duration": 614,
    "start_time": "2025-08-23T18:58:35.059Z"
   },
   {
    "duration": 280,
    "start_time": "2025-08-23T18:58:35.677Z"
   },
   {
    "duration": 81,
    "start_time": "2025-08-23T18:58:35.959Z"
   },
   {
    "duration": 42,
    "start_time": "2025-08-23T18:58:36.042Z"
   },
   {
    "duration": 13,
    "start_time": "2025-08-23T18:58:36.086Z"
   },
   {
    "duration": 208,
    "start_time": "2025-08-23T18:58:36.101Z"
   },
   {
    "duration": 280,
    "start_time": "2025-08-23T18:58:36.310Z"
   },
   {
    "duration": 164,
    "start_time": "2025-08-23T18:58:36.592Z"
   },
   {
    "duration": 6,
    "start_time": "2025-08-23T18:58:36.757Z"
   },
   {
    "duration": 5,
    "start_time": "2025-08-23T18:58:36.776Z"
   },
   {
    "duration": 70,
    "start_time": "2025-08-23T18:58:36.782Z"
   },
   {
    "duration": 8,
    "start_time": "2025-08-23T18:58:36.853Z"
   },
   {
    "duration": 469,
    "start_time": "2025-08-23T18:58:36.862Z"
   },
   {
    "duration": 10,
    "start_time": "2025-08-23T18:58:37.333Z"
   },
   {
    "duration": 76,
    "start_time": "2025-08-23T18:58:37.344Z"
   },
   {
    "duration": 510,
    "start_time": "2025-08-23T18:58:37.422Z"
   },
   {
    "duration": 11,
    "start_time": "2025-08-23T18:58:37.933Z"
   },
   {
    "duration": 60,
    "start_time": "2025-08-23T18:58:37.947Z"
   },
   {
    "duration": 443,
    "start_time": "2025-08-23T18:58:38.009Z"
   },
   {
    "duration": 472,
    "start_time": "2025-08-23T18:58:38.454Z"
   },
   {
    "duration": 60,
    "start_time": "2025-08-23T18:58:38.927Z"
   },
   {
    "duration": 503,
    "start_time": "2025-08-23T18:58:38.988Z"
   },
   {
    "duration": 19,
    "start_time": "2025-08-23T18:58:39.493Z"
   },
   {
    "duration": 492,
    "start_time": "2025-08-23T18:58:39.514Z"
   },
   {
    "duration": 41,
    "start_time": "2025-08-23T18:58:40.008Z"
   },
   {
    "duration": 350,
    "start_time": "2025-08-23T18:58:40.050Z"
   },
   {
    "duration": 397,
    "start_time": "2025-08-23T18:58:40.402Z"
   },
   {
    "duration": 311,
    "start_time": "2025-08-23T18:58:40.801Z"
   },
   {
    "duration": 275,
    "start_time": "2025-08-23T18:58:41.113Z"
   },
   {
    "duration": 5688,
    "start_time": "2025-08-23T18:58:41.389Z"
   },
   {
    "duration": 42,
    "start_time": "2025-08-23T18:58:47.078Z"
   },
   {
    "duration": 164,
    "start_time": "2025-08-23T18:58:47.122Z"
   },
   {
    "duration": 4,
    "start_time": "2025-08-23T18:58:47.288Z"
   },
   {
    "duration": 138036,
    "start_time": "2025-08-23T18:58:47.293Z"
   },
   {
    "duration": 11062,
    "start_time": "2025-08-23T19:01:05.331Z"
   },
   {
    "duration": 418,
    "start_time": "2025-08-23T19:01:16.394Z"
   },
   {
    "duration": 3,
    "start_time": "2025-08-23T19:01:16.814Z"
   },
   {
    "duration": 30,
    "start_time": "2025-08-23T19:01:16.818Z"
   },
   {
    "duration": 7,
    "start_time": "2025-08-23T19:01:16.850Z"
   },
   {
    "duration": 39,
    "start_time": "2025-08-23T19:01:16.858Z"
   },
   {
    "duration": 23,
    "start_time": "2025-08-23T19:01:16.898Z"
   },
   {
    "duration": 15,
    "start_time": "2025-08-23T19:01:16.923Z"
   },
   {
    "duration": 12,
    "start_time": "2025-08-23T19:01:16.939Z"
   },
   {
    "duration": 229,
    "start_time": "2025-08-23T19:01:16.953Z"
   },
   {
    "duration": 0,
    "start_time": "2025-08-23T19:01:17.184Z"
   },
   {
    "duration": 0,
    "start_time": "2025-08-23T19:01:17.185Z"
   },
   {
    "duration": 0,
    "start_time": "2025-08-23T19:01:17.187Z"
   },
   {
    "duration": 0,
    "start_time": "2025-08-23T19:01:17.188Z"
   },
   {
    "duration": 0,
    "start_time": "2025-08-23T19:01:17.189Z"
   },
   {
    "duration": 0,
    "start_time": "2025-08-23T19:01:17.190Z"
   },
   {
    "duration": 0,
    "start_time": "2025-08-23T19:01:17.191Z"
   },
   {
    "duration": 0,
    "start_time": "2025-08-23T19:01:17.192Z"
   },
   {
    "duration": 0,
    "start_time": "2025-08-23T19:01:17.193Z"
   },
   {
    "duration": 0,
    "start_time": "2025-08-23T19:01:17.195Z"
   },
   {
    "duration": 0,
    "start_time": "2025-08-23T19:01:17.196Z"
   },
   {
    "duration": 0,
    "start_time": "2025-08-23T19:01:17.197Z"
   },
   {
    "duration": 0,
    "start_time": "2025-08-23T19:01:17.198Z"
   },
   {
    "duration": 0,
    "start_time": "2025-08-23T19:01:17.199Z"
   },
   {
    "duration": 0,
    "start_time": "2025-08-23T19:01:17.200Z"
   },
   {
    "duration": 3290,
    "start_time": "2025-08-23T19:01:40.582Z"
   },
   {
    "duration": 14,
    "start_time": "2025-08-23T19:02:27.382Z"
   },
   {
    "duration": 11,
    "start_time": "2025-08-23T19:02:27.640Z"
   },
   {
    "duration": 11,
    "start_time": "2025-08-23T19:02:28.420Z"
   },
   {
    "duration": 15,
    "start_time": "2025-08-23T19:03:47.445Z"
   },
   {
    "duration": 48,
    "start_time": "2025-08-23T19:04:09.120Z"
   },
   {
    "duration": 0,
    "start_time": "2025-08-23T19:04:09.169Z"
   },
   {
    "duration": 13264,
    "start_time": "2025-08-23T19:05:02.400Z"
   },
   {
    "duration": 2372,
    "start_time": "2025-08-23T19:05:15.666Z"
   },
   {
    "duration": 1257,
    "start_time": "2025-08-23T19:05:18.040Z"
   },
   {
    "duration": 154,
    "start_time": "2025-08-23T19:05:19.300Z"
   },
   {
    "duration": 36,
    "start_time": "2025-08-23T19:05:19.456Z"
   },
   {
    "duration": 19,
    "start_time": "2025-08-23T19:05:19.494Z"
   },
   {
    "duration": 50,
    "start_time": "2025-08-23T19:05:19.515Z"
   },
   {
    "duration": 240,
    "start_time": "2025-08-23T19:05:19.567Z"
   },
   {
    "duration": 98,
    "start_time": "2025-08-23T19:05:19.809Z"
   },
   {
    "duration": 3,
    "start_time": "2025-08-23T19:05:19.910Z"
   },
   {
    "duration": 624,
    "start_time": "2025-08-23T19:05:19.915Z"
   },
   {
    "duration": 254,
    "start_time": "2025-08-23T19:05:20.541Z"
   },
   {
    "duration": 87,
    "start_time": "2025-08-23T19:05:20.797Z"
   },
   {
    "duration": 30,
    "start_time": "2025-08-23T19:05:20.886Z"
   },
   {
    "duration": 13,
    "start_time": "2025-08-23T19:05:20.918Z"
   },
   {
    "duration": 212,
    "start_time": "2025-08-23T19:05:20.932Z"
   },
   {
    "duration": 259,
    "start_time": "2025-08-23T19:05:21.146Z"
   },
   {
    "duration": 191,
    "start_time": "2025-08-23T19:05:21.407Z"
   },
   {
    "duration": 6,
    "start_time": "2025-08-23T19:05:21.600Z"
   },
   {
    "duration": 50,
    "start_time": "2025-08-23T19:05:21.607Z"
   },
   {
    "duration": 52,
    "start_time": "2025-08-23T19:05:21.659Z"
   },
   {
    "duration": 16,
    "start_time": "2025-08-23T19:05:21.713Z"
   },
   {
    "duration": 494,
    "start_time": "2025-08-23T19:05:21.731Z"
   },
   {
    "duration": 10,
    "start_time": "2025-08-23T19:05:22.227Z"
   },
   {
    "duration": 81,
    "start_time": "2025-08-23T19:05:22.238Z"
   },
   {
    "duration": 555,
    "start_time": "2025-08-23T19:05:22.321Z"
   },
   {
    "duration": 11,
    "start_time": "2025-08-23T19:05:22.878Z"
   },
   {
    "duration": 66,
    "start_time": "2025-08-23T19:05:22.894Z"
   },
   {
    "duration": 504,
    "start_time": "2025-08-23T19:05:22.962Z"
   },
   {
    "duration": 451,
    "start_time": "2025-08-23T19:05:23.468Z"
   },
   {
    "duration": 62,
    "start_time": "2025-08-23T19:05:23.921Z"
   },
   {
    "duration": 455,
    "start_time": "2025-08-23T19:05:23.985Z"
   },
   {
    "duration": 19,
    "start_time": "2025-08-23T19:05:24.442Z"
   },
   {
    "duration": 500,
    "start_time": "2025-08-23T19:05:24.476Z"
   },
   {
    "duration": 41,
    "start_time": "2025-08-23T19:05:24.978Z"
   },
   {
    "duration": 292,
    "start_time": "2025-08-23T19:05:25.021Z"
   },
   {
    "duration": 376,
    "start_time": "2025-08-23T19:05:25.315Z"
   },
   {
    "duration": 335,
    "start_time": "2025-08-23T19:05:25.693Z"
   },
   {
    "duration": 263,
    "start_time": "2025-08-23T19:05:26.030Z"
   },
   {
    "duration": 5611,
    "start_time": "2025-08-23T19:05:26.294Z"
   },
   {
    "duration": 38,
    "start_time": "2025-08-23T19:05:31.907Z"
   },
   {
    "duration": 177,
    "start_time": "2025-08-23T19:05:31.947Z"
   },
   {
    "duration": 4,
    "start_time": "2025-08-23T19:05:32.126Z"
   },
   {
    "duration": 12468,
    "start_time": "2025-08-23T19:05:51.588Z"
   },
   {
    "duration": 1397,
    "start_time": "2025-08-23T19:06:04.058Z"
   },
   {
    "duration": 1185,
    "start_time": "2025-08-23T19:06:05.456Z"
   },
   {
    "duration": 105,
    "start_time": "2025-08-23T19:06:06.643Z"
   },
   {
    "duration": 32,
    "start_time": "2025-08-23T19:06:06.750Z"
   },
   {
    "duration": 5,
    "start_time": "2025-08-23T19:06:06.784Z"
   },
   {
    "duration": 47,
    "start_time": "2025-08-23T19:06:06.790Z"
   },
   {
    "duration": 296,
    "start_time": "2025-08-23T19:06:06.838Z"
   },
   {
    "duration": 92,
    "start_time": "2025-08-23T19:06:07.136Z"
   },
   {
    "duration": 21,
    "start_time": "2025-08-23T19:06:07.229Z"
   },
   {
    "duration": 663,
    "start_time": "2025-08-23T19:06:07.252Z"
   },
   {
    "duration": 264,
    "start_time": "2025-08-23T19:06:07.917Z"
   },
   {
    "duration": 104,
    "start_time": "2025-08-23T19:06:08.183Z"
   },
   {
    "duration": 31,
    "start_time": "2025-08-23T19:06:08.291Z"
   },
   {
    "duration": 27,
    "start_time": "2025-08-23T19:06:08.323Z"
   },
   {
    "duration": 210,
    "start_time": "2025-08-23T19:06:08.352Z"
   },
   {
    "duration": 265,
    "start_time": "2025-08-23T19:06:08.564Z"
   },
   {
    "duration": 186,
    "start_time": "2025-08-23T19:06:08.831Z"
   },
   {
    "duration": 6,
    "start_time": "2025-08-23T19:06:09.018Z"
   },
   {
    "duration": 6,
    "start_time": "2025-08-23T19:06:09.026Z"
   },
   {
    "duration": 12,
    "start_time": "2025-08-23T19:06:09.033Z"
   },
   {
    "duration": 18,
    "start_time": "2025-08-23T19:06:09.047Z"
   },
   {
    "duration": 509,
    "start_time": "2025-08-23T19:06:09.077Z"
   },
   {
    "duration": 11,
    "start_time": "2025-08-23T19:06:09.588Z"
   },
   {
    "duration": 82,
    "start_time": "2025-08-23T19:06:09.601Z"
   },
   {
    "duration": 569,
    "start_time": "2025-08-23T19:06:09.685Z"
   },
   {
    "duration": 29,
    "start_time": "2025-08-23T19:06:10.256Z"
   },
   {
    "duration": 132,
    "start_time": "2025-08-23T19:06:10.287Z"
   },
   {
    "duration": 633,
    "start_time": "2025-08-23T19:06:10.421Z"
   },
   {
    "duration": 492,
    "start_time": "2025-08-23T19:06:11.076Z"
   },
   {
    "duration": 55,
    "start_time": "2025-08-23T19:06:11.570Z"
   },
   {
    "duration": 474,
    "start_time": "2025-08-23T19:06:11.627Z"
   },
   {
    "duration": 17,
    "start_time": "2025-08-23T19:06:12.102Z"
   },
   {
    "duration": 585,
    "start_time": "2025-08-23T19:06:12.121Z"
   },
   {
    "duration": 41,
    "start_time": "2025-08-23T19:06:12.708Z"
   },
   {
    "duration": 287,
    "start_time": "2025-08-23T19:06:12.751Z"
   },
   {
    "duration": 370,
    "start_time": "2025-08-23T19:06:13.040Z"
   },
   {
    "duration": 300,
    "start_time": "2025-08-23T19:06:13.411Z"
   },
   {
    "duration": 277,
    "start_time": "2025-08-23T19:06:13.712Z"
   },
   {
    "duration": 5722,
    "start_time": "2025-08-23T19:06:13.991Z"
   },
   {
    "duration": 39,
    "start_time": "2025-08-23T19:06:19.717Z"
   },
   {
    "duration": 150,
    "start_time": "2025-08-23T19:06:19.757Z"
   },
   {
    "duration": 8,
    "start_time": "2025-08-23T19:06:19.910Z"
   },
   {
    "duration": 184282,
    "start_time": "2025-08-23T19:06:19.919Z"
   },
   {
    "duration": 16926,
    "start_time": "2025-08-23T19:09:24.203Z"
   },
   {
    "duration": 430,
    "start_time": "2025-08-23T19:09:41.130Z"
   },
   {
    "duration": 4,
    "start_time": "2025-08-23T19:09:41.562Z"
   },
   {
    "duration": 5,
    "start_time": "2025-08-23T19:09:41.575Z"
   },
   {
    "duration": 9,
    "start_time": "2025-08-23T19:09:41.582Z"
   },
   {
    "duration": 6,
    "start_time": "2025-08-23T19:09:41.593Z"
   },
   {
    "duration": 5,
    "start_time": "2025-08-23T19:09:41.600Z"
   },
   {
    "duration": 4,
    "start_time": "2025-08-23T19:09:41.607Z"
   },
   {
    "duration": 5,
    "start_time": "2025-08-23T19:09:41.613Z"
   },
   {
    "duration": 3257,
    "start_time": "2025-08-23T19:09:41.619Z"
   },
   {
    "duration": 12509,
    "start_time": "2025-08-23T19:12:52.431Z"
   },
   {
    "duration": 2458,
    "start_time": "2025-08-23T19:13:04.942Z"
   },
   {
    "duration": 1281,
    "start_time": "2025-08-23T19:13:07.402Z"
   },
   {
    "duration": 96,
    "start_time": "2025-08-23T19:13:08.685Z"
   },
   {
    "duration": 31,
    "start_time": "2025-08-23T19:13:08.783Z"
   },
   {
    "duration": 7,
    "start_time": "2025-08-23T19:13:08.816Z"
   },
   {
    "duration": 101,
    "start_time": "2025-08-23T19:13:08.824Z"
   },
   {
    "duration": 236,
    "start_time": "2025-08-23T19:13:08.926Z"
   },
   {
    "duration": 90,
    "start_time": "2025-08-23T19:13:09.164Z"
   },
   {
    "duration": 89,
    "start_time": "2025-08-23T19:13:09.256Z"
   },
   {
    "duration": 804,
    "start_time": "2025-08-23T19:13:09.347Z"
   },
   {
    "duration": 271,
    "start_time": "2025-08-23T19:13:10.153Z"
   },
   {
    "duration": 91,
    "start_time": "2025-08-23T19:13:10.426Z"
   },
   {
    "duration": 29,
    "start_time": "2025-08-23T19:13:10.519Z"
   },
   {
    "duration": 30,
    "start_time": "2025-08-23T19:13:10.550Z"
   },
   {
    "duration": 202,
    "start_time": "2025-08-23T19:13:10.581Z"
   },
   {
    "duration": 274,
    "start_time": "2025-08-23T19:13:10.785Z"
   },
   {
    "duration": 191,
    "start_time": "2025-08-23T19:13:11.060Z"
   },
   {
    "duration": 6,
    "start_time": "2025-08-23T19:13:11.253Z"
   },
   {
    "duration": 38,
    "start_time": "2025-08-23T19:13:11.261Z"
   },
   {
    "duration": 11,
    "start_time": "2025-08-23T19:13:11.301Z"
   },
   {
    "duration": 8,
    "start_time": "2025-08-23T19:13:11.313Z"
   },
   {
    "duration": 503,
    "start_time": "2025-08-23T19:13:11.323Z"
   },
   {
    "duration": 11,
    "start_time": "2025-08-23T19:13:11.827Z"
   },
   {
    "duration": 134,
    "start_time": "2025-08-23T19:13:11.839Z"
   },
   {
    "duration": 588,
    "start_time": "2025-08-23T19:13:11.975Z"
   },
   {
    "duration": 16,
    "start_time": "2025-08-23T19:13:12.565Z"
   },
   {
    "duration": 73,
    "start_time": "2025-08-23T19:13:12.585Z"
   },
   {
    "duration": 517,
    "start_time": "2025-08-23T19:13:12.660Z"
   },
   {
    "duration": 484,
    "start_time": "2025-08-23T19:13:13.179Z"
   },
   {
    "duration": 56,
    "start_time": "2025-08-23T19:13:13.665Z"
   },
   {
    "duration": 458,
    "start_time": "2025-08-23T19:13:13.723Z"
   },
   {
    "duration": 18,
    "start_time": "2025-08-23T19:13:14.183Z"
   },
   {
    "duration": 511,
    "start_time": "2025-08-23T19:13:14.203Z"
   },
   {
    "duration": 42,
    "start_time": "2025-08-23T19:13:14.715Z"
   },
   {
    "duration": 269,
    "start_time": "2025-08-23T19:13:14.759Z"
   },
   {
    "duration": 372,
    "start_time": "2025-08-23T19:13:15.030Z"
   },
   {
    "duration": 314,
    "start_time": "2025-08-23T19:13:15.404Z"
   },
   {
    "duration": 299,
    "start_time": "2025-08-23T19:13:15.719Z"
   },
   {
    "duration": 5673,
    "start_time": "2025-08-23T19:13:16.020Z"
   },
   {
    "duration": 39,
    "start_time": "2025-08-23T19:13:21.695Z"
   },
   {
    "duration": 161,
    "start_time": "2025-08-23T19:13:21.736Z"
   },
   {
    "duration": 4,
    "start_time": "2025-08-23T19:13:21.899Z"
   },
   {
    "duration": 168878,
    "start_time": "2025-08-23T19:13:21.905Z"
   },
   {
    "duration": 14746,
    "start_time": "2025-08-23T19:16:10.784Z"
   },
   {
    "duration": 371,
    "start_time": "2025-08-23T19:16:25.532Z"
   },
   {
    "duration": 4,
    "start_time": "2025-08-23T19:16:25.905Z"
   },
   {
    "duration": 20,
    "start_time": "2025-08-23T19:16:25.910Z"
   },
   {
    "duration": 23,
    "start_time": "2025-08-23T19:16:25.931Z"
   },
   {
    "duration": 28,
    "start_time": "2025-08-23T19:16:25.956Z"
   },
   {
    "duration": 4,
    "start_time": "2025-08-23T19:16:25.986Z"
   },
   {
    "duration": 16,
    "start_time": "2025-08-23T19:16:25.991Z"
   },
   {
    "duration": 4,
    "start_time": "2025-08-23T19:16:26.009Z"
   },
   {
    "duration": 3067,
    "start_time": "2025-08-23T19:16:26.014Z"
   },
   {
    "duration": 130197,
    "start_time": "2025-08-23T19:16:29.083Z"
   },
   {
    "duration": 11903,
    "start_time": "2025-08-23T19:18:39.282Z"
   },
   {
    "duration": 104,
    "start_time": "2025-08-23T19:18:51.277Z"
   },
   {
    "duration": 5,
    "start_time": "2025-08-23T19:18:51.476Z"
   },
   {
    "duration": 98,
    "start_time": "2025-08-23T19:18:51.483Z"
   },
   {
    "duration": 13,
    "start_time": "2025-08-23T19:18:51.582Z"
   },
   {
    "duration": 5,
    "start_time": "2025-08-23T19:18:51.596Z"
   },
   {
    "duration": 123,
    "start_time": "2025-08-23T19:18:51.602Z"
   },
   {
    "duration": 0,
    "start_time": "2025-08-23T19:18:51.726Z"
   },
   {
    "duration": 0,
    "start_time": "2025-08-23T19:18:51.727Z"
   },
   {
    "duration": 0,
    "start_time": "2025-08-23T19:18:51.728Z"
   },
   {
    "duration": 0,
    "start_time": "2025-08-23T19:18:51.729Z"
   },
   {
    "duration": 0,
    "start_time": "2025-08-23T19:18:51.730Z"
   },
   {
    "duration": 0,
    "start_time": "2025-08-23T19:18:51.731Z"
   },
   {
    "duration": 0,
    "start_time": "2025-08-23T19:18:51.732Z"
   },
   {
    "duration": 4,
    "start_time": "2025-08-23T19:23:49.946Z"
   },
   {
    "duration": 13,
    "start_time": "2025-08-23T19:23:51.752Z"
   },
   {
    "duration": 6,
    "start_time": "2025-08-23T19:24:32.265Z"
   },
   {
    "duration": 14250,
    "start_time": "2025-08-24T08:47:30.912Z"
   },
   {
    "duration": 1672,
    "start_time": "2025-08-24T08:47:45.165Z"
   },
   {
    "duration": 3123,
    "start_time": "2025-08-24T08:47:46.839Z"
   },
   {
    "duration": 93,
    "start_time": "2025-08-24T08:47:49.964Z"
   },
   {
    "duration": 38,
    "start_time": "2025-08-24T08:47:50.058Z"
   },
   {
    "duration": 12,
    "start_time": "2025-08-24T08:47:50.097Z"
   },
   {
    "duration": 48,
    "start_time": "2025-08-24T08:47:50.110Z"
   },
   {
    "duration": 218,
    "start_time": "2025-08-24T08:47:50.160Z"
   },
   {
    "duration": 83,
    "start_time": "2025-08-24T08:47:50.379Z"
   },
   {
    "duration": 47,
    "start_time": "2025-08-24T08:47:50.475Z"
   },
   {
    "duration": 579,
    "start_time": "2025-08-24T08:47:50.523Z"
   },
   {
    "duration": 238,
    "start_time": "2025-08-24T08:47:51.104Z"
   },
   {
    "duration": 80,
    "start_time": "2025-08-24T08:47:51.344Z"
   },
   {
    "duration": 30,
    "start_time": "2025-08-24T08:47:51.426Z"
   },
   {
    "duration": 28,
    "start_time": "2025-08-24T08:47:51.457Z"
   },
   {
    "duration": 192,
    "start_time": "2025-08-24T08:47:51.486Z"
   },
   {
    "duration": 214,
    "start_time": "2025-08-24T08:47:51.680Z"
   },
   {
    "duration": 162,
    "start_time": "2025-08-24T08:47:51.896Z"
   },
   {
    "duration": 5,
    "start_time": "2025-08-24T08:48:07.044Z"
   },
   {
    "duration": 5,
    "start_time": "2025-08-24T08:48:07.560Z"
   },
   {
    "duration": 4,
    "start_time": "2025-08-24T08:48:11.391Z"
   },
   {
    "duration": 9,
    "start_time": "2025-08-24T08:48:11.758Z"
   },
   {
    "duration": 618,
    "start_time": "2025-08-24T08:48:12.161Z"
   },
   {
    "duration": 10,
    "start_time": "2025-08-24T08:48:14.405Z"
   },
   {
    "duration": 67,
    "start_time": "2025-08-24T08:48:16.888Z"
   },
   {
    "duration": 430,
    "start_time": "2025-08-24T08:48:18.283Z"
   },
   {
    "duration": 10,
    "start_time": "2025-08-24T08:48:18.714Z"
   },
   {
    "duration": 51,
    "start_time": "2025-08-24T08:48:20.593Z"
   },
   {
    "duration": 479,
    "start_time": "2025-08-24T08:48:23.670Z"
   },
   {
    "duration": 427,
    "start_time": "2025-08-24T08:48:24.441Z"
   },
   {
    "duration": 51,
    "start_time": "2025-08-24T08:48:25.100Z"
   },
   {
    "duration": 511,
    "start_time": "2025-08-24T08:48:25.871Z"
   },
   {
    "duration": 18,
    "start_time": "2025-08-24T08:48:26.383Z"
   },
   {
    "duration": 483,
    "start_time": "2025-08-24T08:48:27.009Z"
   },
   {
    "duration": 42,
    "start_time": "2025-08-24T08:48:29.352Z"
   },
   {
    "duration": 396,
    "start_time": "2025-08-24T08:48:29.719Z"
   },
   {
    "duration": 272,
    "start_time": "2025-08-24T08:48:30.117Z"
   },
   {
    "duration": 301,
    "start_time": "2025-08-24T08:48:30.511Z"
   },
   {
    "duration": 275,
    "start_time": "2025-08-24T08:48:30.818Z"
   },
   {
    "duration": 5508,
    "start_time": "2025-08-24T08:48:32.337Z"
   },
   {
    "duration": 42,
    "start_time": "2025-08-24T08:48:51.798Z"
   },
   {
    "duration": 149,
    "start_time": "2025-08-24T08:49:05.184Z"
   },
   {
    "duration": 191,
    "start_time": "2025-08-24T08:52:17.385Z"
   },
   {
    "duration": 12054,
    "start_time": "2025-08-24T08:52:51.665Z"
   },
   {
    "duration": 1522,
    "start_time": "2025-08-24T08:53:03.721Z"
   },
   {
    "duration": 1150,
    "start_time": "2025-08-24T08:53:05.246Z"
   },
   {
    "duration": 107,
    "start_time": "2025-08-24T08:53:06.398Z"
   },
   {
    "duration": 33,
    "start_time": "2025-08-24T08:53:06.507Z"
   },
   {
    "duration": 74,
    "start_time": "2025-08-24T08:53:06.542Z"
   },
   {
    "duration": 90,
    "start_time": "2025-08-24T08:53:06.617Z"
   },
   {
    "duration": 256,
    "start_time": "2025-08-24T08:53:06.709Z"
   },
   {
    "duration": 92,
    "start_time": "2025-08-24T08:53:06.967Z"
   },
   {
    "duration": 108,
    "start_time": "2025-08-24T08:53:07.062Z"
   },
   {
    "duration": 684,
    "start_time": "2025-08-24T08:53:07.171Z"
   },
   {
    "duration": 252,
    "start_time": "2025-08-24T08:53:07.857Z"
   },
   {
    "duration": 86,
    "start_time": "2025-08-24T08:53:08.110Z"
   },
   {
    "duration": 25,
    "start_time": "2025-08-24T08:53:08.198Z"
   },
   {
    "duration": 13,
    "start_time": "2025-08-24T08:53:08.225Z"
   },
   {
    "duration": 202,
    "start_time": "2025-08-24T08:53:08.239Z"
   },
   {
    "duration": 221,
    "start_time": "2025-08-24T08:53:08.442Z"
   },
   {
    "duration": 162,
    "start_time": "2025-08-24T08:53:08.665Z"
   },
   {
    "duration": 7,
    "start_time": "2025-08-24T08:53:08.829Z"
   },
   {
    "duration": 18,
    "start_time": "2025-08-24T08:53:08.839Z"
   },
   {
    "duration": 12,
    "start_time": "2025-08-24T08:53:08.859Z"
   },
   {
    "duration": 10,
    "start_time": "2025-08-24T08:53:08.877Z"
   },
   {
    "duration": 578,
    "start_time": "2025-08-24T08:53:08.888Z"
   },
   {
    "duration": 14,
    "start_time": "2025-08-24T08:53:09.468Z"
   },
   {
    "duration": 65,
    "start_time": "2025-08-24T08:53:09.484Z"
   },
   {
    "duration": 475,
    "start_time": "2025-08-24T08:53:09.551Z"
   },
   {
    "duration": 11,
    "start_time": "2025-08-24T08:53:10.028Z"
   },
   {
    "duration": 62,
    "start_time": "2025-08-24T08:53:10.042Z"
   },
   {
    "duration": 478,
    "start_time": "2025-08-24T08:53:10.106Z"
   },
   {
    "duration": 463,
    "start_time": "2025-08-24T08:53:10.585Z"
   },
   {
    "duration": 53,
    "start_time": "2025-08-24T08:53:11.050Z"
   },
   {
    "duration": 451,
    "start_time": "2025-08-24T08:53:11.105Z"
   },
   {
    "duration": 30,
    "start_time": "2025-08-24T08:53:11.557Z"
   },
   {
    "duration": 497,
    "start_time": "2025-08-24T08:53:11.589Z"
   },
   {
    "duration": 39,
    "start_time": "2025-08-24T08:53:12.088Z"
   },
   {
    "duration": 393,
    "start_time": "2025-08-24T08:53:12.128Z"
   },
   {
    "duration": 264,
    "start_time": "2025-08-24T08:53:12.522Z"
   },
   {
    "duration": 326,
    "start_time": "2025-08-24T08:53:12.788Z"
   },
   {
    "duration": 265,
    "start_time": "2025-08-24T08:53:13.116Z"
   },
   {
    "duration": 5522,
    "start_time": "2025-08-24T08:53:13.383Z"
   },
   {
    "duration": 46,
    "start_time": "2025-08-24T08:53:18.907Z"
   },
   {
    "duration": 144,
    "start_time": "2025-08-24T08:53:18.955Z"
   },
   {
    "duration": 5,
    "start_time": "2025-08-24T08:53:19.101Z"
   },
   {
    "duration": 152234,
    "start_time": "2025-08-24T08:53:19.107Z"
   },
   {
    "duration": 11553,
    "start_time": "2025-08-24T08:55:51.343Z"
   },
   {
    "duration": 393,
    "start_time": "2025-08-24T08:56:02.898Z"
   },
   {
    "duration": 3,
    "start_time": "2025-08-24T08:56:03.293Z"
   },
   {
    "duration": 10,
    "start_time": "2025-08-24T08:56:03.298Z"
   },
   {
    "duration": 8,
    "start_time": "2025-08-24T08:56:03.310Z"
   },
   {
    "duration": 82,
    "start_time": "2025-08-24T08:56:03.319Z"
   },
   {
    "duration": 17,
    "start_time": "2025-08-24T08:56:03.402Z"
   },
   {
    "duration": 141,
    "start_time": "2025-08-24T08:56:03.421Z"
   },
   {
    "duration": 33,
    "start_time": "2025-08-24T08:56:03.564Z"
   },
   {
    "duration": 269,
    "start_time": "2025-08-24T08:56:03.599Z"
   },
   {
    "duration": 0,
    "start_time": "2025-08-24T08:56:03.870Z"
   },
   {
    "duration": 0,
    "start_time": "2025-08-24T08:56:03.872Z"
   },
   {
    "duration": 0,
    "start_time": "2025-08-24T08:56:03.877Z"
   },
   {
    "duration": 0,
    "start_time": "2025-08-24T08:56:03.878Z"
   },
   {
    "duration": 0,
    "start_time": "2025-08-24T08:56:03.879Z"
   },
   {
    "duration": 0,
    "start_time": "2025-08-24T08:56:03.880Z"
   },
   {
    "duration": 0,
    "start_time": "2025-08-24T08:56:03.881Z"
   },
   {
    "duration": 0,
    "start_time": "2025-08-24T08:56:03.883Z"
   },
   {
    "duration": 0,
    "start_time": "2025-08-24T08:56:03.884Z"
   },
   {
    "duration": 0,
    "start_time": "2025-08-24T08:56:03.885Z"
   },
   {
    "duration": 0,
    "start_time": "2025-08-24T08:56:03.886Z"
   },
   {
    "duration": 0,
    "start_time": "2025-08-24T08:56:03.887Z"
   },
   {
    "duration": 0,
    "start_time": "2025-08-24T08:56:03.888Z"
   },
   {
    "duration": 0,
    "start_time": "2025-08-24T08:56:03.890Z"
   },
   {
    "duration": 0,
    "start_time": "2025-08-24T08:56:03.890Z"
   },
   {
    "duration": 4,
    "start_time": "2025-08-24T09:28:29.112Z"
   },
   {
    "duration": 6625,
    "start_time": "2025-08-24T09:29:00.819Z"
   },
   {
    "duration": 5,
    "start_time": "2025-08-24T09:29:07.447Z"
   },
   {
    "duration": 4,
    "start_time": "2025-08-24T09:29:23.332Z"
   },
   {
    "duration": 5414,
    "start_time": "2025-08-24T09:29:49.274Z"
   },
   {
    "duration": 4,
    "start_time": "2025-08-24T09:29:58.660Z"
   },
   {
    "duration": 1569,
    "start_time": "2025-08-24T09:30:14.548Z"
   },
   {
    "duration": 11770,
    "start_time": "2025-08-24T09:30:29.203Z"
   },
   {
    "duration": 1437,
    "start_time": "2025-08-24T09:30:40.976Z"
   },
   {
    "duration": 5,
    "start_time": "2025-08-24T09:30:42.415Z"
   },
   {
    "duration": 1216,
    "start_time": "2025-08-24T09:30:47.648Z"
   },
   {
    "duration": 96,
    "start_time": "2025-08-24T09:30:48.866Z"
   },
   {
    "duration": 40,
    "start_time": "2025-08-24T09:30:48.963Z"
   },
   {
    "duration": 63,
    "start_time": "2025-08-24T09:30:49.005Z"
   },
   {
    "duration": 36,
    "start_time": "2025-08-24T09:30:49.069Z"
   },
   {
    "duration": 258,
    "start_time": "2025-08-24T09:30:49.107Z"
   },
   {
    "duration": 90,
    "start_time": "2025-08-24T09:30:49.367Z"
   },
   {
    "duration": 3,
    "start_time": "2025-08-24T09:30:49.458Z"
   },
   {
    "duration": 602,
    "start_time": "2025-08-24T09:30:49.476Z"
   },
   {
    "duration": 256,
    "start_time": "2025-08-24T09:30:50.080Z"
   },
   {
    "duration": 96,
    "start_time": "2025-08-24T09:30:50.338Z"
   },
   {
    "duration": 29,
    "start_time": "2025-08-24T09:30:50.436Z"
   },
   {
    "duration": 13,
    "start_time": "2025-08-24T09:30:50.477Z"
   },
   {
    "duration": 201,
    "start_time": "2025-08-24T09:30:50.491Z"
   },
   {
    "duration": 272,
    "start_time": "2025-08-24T09:30:50.693Z"
   },
   {
    "duration": 172,
    "start_time": "2025-08-24T09:30:50.967Z"
   },
   {
    "duration": 6,
    "start_time": "2025-08-24T09:30:51.141Z"
   },
   {
    "duration": 6,
    "start_time": "2025-08-24T09:30:51.149Z"
   },
   {
    "duration": 20,
    "start_time": "2025-08-24T09:30:51.157Z"
   },
   {
    "duration": 10,
    "start_time": "2025-08-24T09:30:51.179Z"
   },
   {
    "duration": 486,
    "start_time": "2025-08-24T09:30:51.191Z"
   },
   {
    "duration": 10,
    "start_time": "2025-08-24T09:30:51.679Z"
   },
   {
    "duration": 64,
    "start_time": "2025-08-24T09:30:51.690Z"
   },
   {
    "duration": 520,
    "start_time": "2025-08-24T09:30:51.756Z"
   },
   {
    "duration": 11,
    "start_time": "2025-08-24T09:30:52.277Z"
   },
   {
    "duration": 95,
    "start_time": "2025-08-24T09:30:52.289Z"
   },
   {
    "duration": 484,
    "start_time": "2025-08-24T09:30:52.385Z"
   },
   {
    "duration": 480,
    "start_time": "2025-08-24T09:30:52.870Z"
   },
   {
    "duration": 63,
    "start_time": "2025-08-24T09:30:53.352Z"
   },
   {
    "duration": 451,
    "start_time": "2025-08-24T09:30:53.417Z"
   },
   {
    "duration": 22,
    "start_time": "2025-08-24T09:30:53.870Z"
   },
   {
    "duration": 517,
    "start_time": "2025-08-24T09:30:53.894Z"
   },
   {
    "duration": 42,
    "start_time": "2025-08-24T09:30:54.412Z"
   },
   {
    "duration": 275,
    "start_time": "2025-08-24T09:30:54.456Z"
   },
   {
    "duration": 381,
    "start_time": "2025-08-24T09:30:54.733Z"
   },
   {
    "duration": 306,
    "start_time": "2025-08-24T09:30:55.116Z"
   },
   {
    "duration": 269,
    "start_time": "2025-08-24T09:30:55.425Z"
   },
   {
    "duration": 5529,
    "start_time": "2025-08-24T09:30:55.696Z"
   },
   {
    "duration": 45,
    "start_time": "2025-08-24T09:31:01.227Z"
   },
   {
    "duration": 166,
    "start_time": "2025-08-24T09:31:01.273Z"
   },
   {
    "duration": 4065,
    "start_time": "2025-08-24T09:31:12.855Z"
   },
   {
    "duration": 126400,
    "start_time": "2025-08-24T09:31:19.176Z"
   },
   {
    "duration": 12799,
    "start_time": "2025-08-24T09:33:25.578Z"
   },
   {
    "duration": 106,
    "start_time": "2025-08-24T09:33:38.379Z"
   },
   {
    "duration": 15460,
    "start_time": "2025-08-24T09:36:50.225Z"
   },
   {
    "duration": 1462,
    "start_time": "2025-08-24T09:37:05.687Z"
   },
   {
    "duration": 5,
    "start_time": "2025-08-24T09:37:07.151Z"
   },
   {
    "duration": 1201,
    "start_time": "2025-08-24T09:37:07.157Z"
   },
   {
    "duration": 103,
    "start_time": "2025-08-24T09:37:08.360Z"
   },
   {
    "duration": 43,
    "start_time": "2025-08-24T09:37:08.465Z"
   },
   {
    "duration": 13,
    "start_time": "2025-08-24T09:37:08.510Z"
   },
   {
    "duration": 45,
    "start_time": "2025-08-24T09:37:08.524Z"
   },
   {
    "duration": 238,
    "start_time": "2025-08-24T09:37:08.576Z"
   },
   {
    "duration": 90,
    "start_time": "2025-08-24T09:37:08.817Z"
   },
   {
    "duration": 3,
    "start_time": "2025-08-24T09:37:08.908Z"
   },
   {
    "duration": 617,
    "start_time": "2025-08-24T09:37:08.913Z"
   },
   {
    "duration": 259,
    "start_time": "2025-08-24T09:37:09.532Z"
   },
   {
    "duration": 84,
    "start_time": "2025-08-24T09:37:09.792Z"
   },
   {
    "duration": 29,
    "start_time": "2025-08-24T09:37:09.878Z"
   },
   {
    "duration": 14,
    "start_time": "2025-08-24T09:37:09.909Z"
   },
   {
    "duration": 216,
    "start_time": "2025-08-24T09:37:09.925Z"
   },
   {
    "duration": 225,
    "start_time": "2025-08-24T09:37:10.143Z"
   },
   {
    "duration": 160,
    "start_time": "2025-08-24T09:37:10.369Z"
   },
   {
    "duration": 6,
    "start_time": "2025-08-24T09:37:10.530Z"
   },
   {
    "duration": 30,
    "start_time": "2025-08-24T09:37:10.537Z"
   },
   {
    "duration": 13,
    "start_time": "2025-08-24T09:37:10.569Z"
   },
   {
    "duration": 12,
    "start_time": "2025-08-24T09:37:10.583Z"
   },
   {
    "duration": 587,
    "start_time": "2025-08-24T09:37:10.597Z"
   },
   {
    "duration": 11,
    "start_time": "2025-08-24T09:37:11.185Z"
   },
   {
    "duration": 81,
    "start_time": "2025-08-24T09:37:11.197Z"
   },
   {
    "duration": 539,
    "start_time": "2025-08-24T09:37:11.280Z"
   },
   {
    "duration": 11,
    "start_time": "2025-08-24T09:37:11.823Z"
   },
   {
    "duration": 75,
    "start_time": "2025-08-24T09:37:11.836Z"
   },
   {
    "duration": 485,
    "start_time": "2025-08-24T09:37:11.913Z"
   },
   {
    "duration": 472,
    "start_time": "2025-08-24T09:37:12.401Z"
   },
   {
    "duration": 53,
    "start_time": "2025-08-24T09:37:12.876Z"
   },
   {
    "duration": 471,
    "start_time": "2025-08-24T09:37:12.931Z"
   },
   {
    "duration": 20,
    "start_time": "2025-08-24T09:37:13.404Z"
   },
   {
    "duration": 530,
    "start_time": "2025-08-24T09:37:13.427Z"
   },
   {
    "duration": 51,
    "start_time": "2025-08-24T09:37:13.959Z"
   },
   {
    "duration": 304,
    "start_time": "2025-08-24T09:37:14.012Z"
   },
   {
    "duration": 377,
    "start_time": "2025-08-24T09:37:14.318Z"
   },
   {
    "duration": 310,
    "start_time": "2025-08-24T09:37:14.697Z"
   },
   {
    "duration": 280,
    "start_time": "2025-08-24T09:37:15.009Z"
   },
   {
    "duration": 5722,
    "start_time": "2025-08-24T09:37:15.291Z"
   },
   {
    "duration": 46,
    "start_time": "2025-08-24T09:37:21.015Z"
   },
   {
    "duration": 200,
    "start_time": "2025-08-24T09:37:21.064Z"
   },
   {
    "duration": 12,
    "start_time": "2025-08-24T09:37:21.266Z"
   },
   {
    "duration": 183223,
    "start_time": "2025-08-24T09:37:21.280Z"
   },
   {
    "duration": 16625,
    "start_time": "2025-08-24T09:40:24.505Z"
   },
   {
    "duration": 449,
    "start_time": "2025-08-24T09:40:41.132Z"
   },
   {
    "duration": 4,
    "start_time": "2025-08-24T09:40:41.582Z"
   },
   {
    "duration": 9,
    "start_time": "2025-08-24T09:40:41.587Z"
   },
   {
    "duration": 110789,
    "start_time": "2025-08-24T09:40:41.597Z"
   },
   {
    "duration": 11493,
    "start_time": "2025-08-24T09:42:32.388Z"
   },
   {
    "duration": 4006,
    "start_time": "2025-08-24T09:42:43.883Z"
   },
   {
    "duration": 4,
    "start_time": "2025-08-24T09:42:47.890Z"
   },
   {
    "duration": 6,
    "start_time": "2025-08-24T09:42:47.895Z"
   },
   {
    "duration": 3941,
    "start_time": "2025-08-24T09:42:47.902Z"
   },
   {
    "duration": 115633,
    "start_time": "2025-08-24T09:42:51.844Z"
   },
   {
    "duration": 12199,
    "start_time": "2025-08-24T09:44:47.478Z"
   },
   {
    "duration": 105,
    "start_time": "2025-08-24T09:44:59.678Z"
   },
   {
    "duration": 4,
    "start_time": "2025-08-24T09:44:59.878Z"
   },
   {
    "duration": 93,
    "start_time": "2025-08-24T09:44:59.884Z"
   },
   {
    "duration": 4,
    "start_time": "2025-08-24T09:44:59.979Z"
   },
   {
    "duration": 11,
    "start_time": "2025-08-24T09:44:59.985Z"
   },
   {
    "duration": 84,
    "start_time": "2025-08-24T09:44:59.997Z"
   },
   {
    "duration": 28,
    "start_time": "2025-08-24T09:45:00.083Z"
   },
   {
    "duration": 87,
    "start_time": "2025-08-24T09:45:00.112Z"
   },
   {
    "duration": 193,
    "start_time": "2025-08-24T09:45:00.201Z"
   },
   {
    "duration": 0,
    "start_time": "2025-08-24T09:45:00.396Z"
   },
   {
    "duration": 0,
    "start_time": "2025-08-24T09:45:00.397Z"
   },
   {
    "duration": 0,
    "start_time": "2025-08-24T09:45:00.398Z"
   },
   {
    "duration": 0,
    "start_time": "2025-08-24T09:45:00.399Z"
   },
   {
    "duration": 0,
    "start_time": "2025-08-24T09:45:00.400Z"
   },
   {
    "duration": 4,
    "start_time": "2025-08-24T09:46:44.350Z"
   },
   {
    "duration": 3,
    "start_time": "2025-08-24T09:46:52.427Z"
   },
   {
    "duration": 5,
    "start_time": "2025-08-24T09:46:56.809Z"
   },
   {
    "duration": 4,
    "start_time": "2025-08-24T09:46:59.051Z"
   },
   {
    "duration": 6,
    "start_time": "2025-08-24T09:46:59.236Z"
   },
   {
    "duration": 4,
    "start_time": "2025-08-24T09:47:03.516Z"
   },
   {
    "duration": 3,
    "start_time": "2025-08-24T09:47:03.700Z"
   },
   {
    "duration": 5,
    "start_time": "2025-08-24T09:47:03.958Z"
   },
   {
    "duration": 3,
    "start_time": "2025-08-24T09:47:04.292Z"
   },
   {
    "duration": 5,
    "start_time": "2025-08-24T09:47:10.883Z"
   },
   {
    "duration": 3,
    "start_time": "2025-08-24T09:47:11.070Z"
   },
   {
    "duration": 5,
    "start_time": "2025-08-24T09:47:11.257Z"
   },
   {
    "duration": 3,
    "start_time": "2025-08-24T09:47:11.402Z"
   },
   {
    "duration": 4,
    "start_time": "2025-08-24T09:47:19.701Z"
   },
   {
    "duration": 4,
    "start_time": "2025-08-24T09:47:19.848Z"
   },
   {
    "duration": 4,
    "start_time": "2025-08-24T09:47:19.997Z"
   },
   {
    "duration": 4,
    "start_time": "2025-08-24T09:47:20.184Z"
   },
   {
    "duration": 4,
    "start_time": "2025-08-24T09:47:31.332Z"
   },
   {
    "duration": 3,
    "start_time": "2025-08-24T09:47:31.517Z"
   },
   {
    "duration": 5,
    "start_time": "2025-08-24T09:47:31.739Z"
   },
   {
    "duration": 4,
    "start_time": "2025-08-24T09:47:32.515Z"
   },
   {
    "duration": 26008,
    "start_time": "2025-08-24T12:29:45.073Z"
   },
   {
    "duration": 1893,
    "start_time": "2025-08-24T12:30:11.084Z"
   },
   {
    "duration": 7,
    "start_time": "2025-08-24T12:30:12.980Z"
   },
   {
    "duration": 1458,
    "start_time": "2025-08-24T12:30:12.990Z"
   },
   {
    "duration": 138,
    "start_time": "2025-08-24T12:30:14.450Z"
   },
   {
    "duration": 38,
    "start_time": "2025-08-24T12:30:14.590Z"
   },
   {
    "duration": 34,
    "start_time": "2025-08-24T12:30:14.631Z"
   },
   {
    "duration": 41,
    "start_time": "2025-08-24T12:30:14.667Z"
   },
   {
    "duration": 289,
    "start_time": "2025-08-24T12:30:14.710Z"
   },
   {
    "duration": 110,
    "start_time": "2025-08-24T12:30:15.002Z"
   },
   {
    "duration": 15,
    "start_time": "2025-08-24T12:30:15.114Z"
   },
   {
    "duration": 764,
    "start_time": "2025-08-24T12:30:15.131Z"
   },
   {
    "duration": 292,
    "start_time": "2025-08-24T12:30:15.897Z"
   },
   {
    "duration": 105,
    "start_time": "2025-08-24T12:30:16.191Z"
   },
   {
    "duration": 32,
    "start_time": "2025-08-24T12:30:16.299Z"
   },
   {
    "duration": 31,
    "start_time": "2025-08-24T12:30:16.333Z"
   },
   {
    "duration": 209,
    "start_time": "2025-08-24T12:30:16.366Z"
   },
   {
    "duration": 257,
    "start_time": "2025-08-24T12:30:16.577Z"
   },
   {
    "duration": 185,
    "start_time": "2025-08-24T12:30:16.836Z"
   },
   {
    "duration": 7,
    "start_time": "2025-08-24T12:30:17.023Z"
   },
   {
    "duration": 19,
    "start_time": "2025-08-24T12:30:17.032Z"
   },
   {
    "duration": 10,
    "start_time": "2025-08-24T12:30:17.061Z"
   },
   {
    "duration": 12,
    "start_time": "2025-08-24T12:30:17.073Z"
   },
   {
    "duration": 618,
    "start_time": "2025-08-24T12:30:17.087Z"
   },
   {
    "duration": 16,
    "start_time": "2025-08-24T12:30:17.708Z"
   },
   {
    "duration": 96,
    "start_time": "2025-08-24T12:30:17.726Z"
   },
   {
    "duration": 595,
    "start_time": "2025-08-24T12:30:17.824Z"
   },
   {
    "duration": 12,
    "start_time": "2025-08-24T12:30:18.424Z"
   },
   {
    "duration": 99,
    "start_time": "2025-08-24T12:30:18.437Z"
   },
   {
    "duration": 578,
    "start_time": "2025-08-24T12:30:18.538Z"
   },
   {
    "duration": 533,
    "start_time": "2025-08-24T12:30:19.118Z"
   },
   {
    "duration": 55,
    "start_time": "2025-08-24T12:30:19.653Z"
   },
   {
    "duration": 569,
    "start_time": "2025-08-24T12:30:19.710Z"
   },
   {
    "duration": 24,
    "start_time": "2025-08-24T12:30:20.281Z"
   },
   {
    "duration": 609,
    "start_time": "2025-08-24T12:30:20.307Z"
   },
   {
    "duration": 55,
    "start_time": "2025-08-24T12:30:20.918Z"
   },
   {
    "duration": 348,
    "start_time": "2025-08-24T12:30:20.975Z"
   },
   {
    "duration": 465,
    "start_time": "2025-08-24T12:30:21.324Z"
   },
   {
    "duration": 322,
    "start_time": "2025-08-24T12:30:21.791Z"
   },
   {
    "duration": 284,
    "start_time": "2025-08-24T12:30:22.115Z"
   },
   {
    "duration": 6296,
    "start_time": "2025-08-24T12:30:22.401Z"
   },
   {
    "duration": 47,
    "start_time": "2025-08-24T12:30:28.699Z"
   },
   {
    "duration": 173,
    "start_time": "2025-08-24T12:30:28.748Z"
   },
   {
    "duration": 5,
    "start_time": "2025-08-24T12:30:28.923Z"
   },
   {
    "duration": 213681,
    "start_time": "2025-08-24T12:30:28.930Z"
   },
   {
    "duration": 22970,
    "start_time": "2025-08-24T12:34:02.613Z"
   },
   {
    "duration": 528,
    "start_time": "2025-08-24T12:34:25.585Z"
   },
   {
    "duration": 4,
    "start_time": "2025-08-24T12:34:26.115Z"
   },
   {
    "duration": 25,
    "start_time": "2025-08-24T12:34:26.122Z"
   },
   {
    "duration": 147720,
    "start_time": "2025-08-24T12:34:26.150Z"
   },
   {
    "duration": 9695,
    "start_time": "2025-08-24T12:36:53.872Z"
   },
   {
    "duration": 2699,
    "start_time": "2025-08-24T12:37:03.569Z"
   },
   {
    "duration": 12,
    "start_time": "2025-08-24T12:37:06.276Z"
   },
   {
    "duration": 4084,
    "start_time": "2025-08-24T12:37:06.290Z"
   },
   {
    "duration": 149085,
    "start_time": "2025-08-24T12:37:10.376Z"
   },
   {
    "duration": 23398,
    "start_time": "2025-08-24T12:39:39.463Z"
   },
   {
    "duration": 204,
    "start_time": "2025-08-24T12:40:02.863Z"
   },
   {
    "duration": 5,
    "start_time": "2025-08-24T12:40:03.163Z"
   },
   {
    "duration": 93,
    "start_time": "2025-08-24T12:40:03.171Z"
   },
   {
    "duration": 6,
    "start_time": "2025-08-24T12:40:03.267Z"
   },
   {
    "duration": 9,
    "start_time": "2025-08-24T12:40:03.275Z"
   },
   {
    "duration": 5,
    "start_time": "2025-08-24T12:40:03.286Z"
   },
   {
    "duration": 16,
    "start_time": "2025-08-24T12:40:03.293Z"
   },
   {
    "duration": 54,
    "start_time": "2025-08-24T12:40:03.311Z"
   },
   {
    "duration": 9,
    "start_time": "2025-08-24T12:40:03.367Z"
   },
   {
    "duration": 417,
    "start_time": "2025-08-24T12:40:03.378Z"
   },
   {
    "duration": 0,
    "start_time": "2025-08-24T12:40:03.797Z"
   },
   {
    "duration": 0,
    "start_time": "2025-08-24T12:40:03.800Z"
   },
   {
    "duration": 0,
    "start_time": "2025-08-24T12:40:03.801Z"
   },
   {
    "duration": 0,
    "start_time": "2025-08-24T12:40:03.803Z"
   },
   {
    "duration": 0,
    "start_time": "2025-08-24T12:40:03.804Z"
   },
   {
    "duration": 0,
    "start_time": "2025-08-24T12:40:03.806Z"
   },
   {
    "duration": 0,
    "start_time": "2025-08-24T12:40:03.808Z"
   },
   {
    "duration": 5,
    "start_time": "2025-08-24T12:41:00.122Z"
   },
   {
    "duration": 154,
    "start_time": "2025-08-24T12:41:00.601Z"
   },
   {
    "duration": 8,
    "start_time": "2025-08-24T12:41:21.402Z"
   },
   {
    "duration": 6,
    "start_time": "2025-08-24T12:42:13.490Z"
   },
   {
    "duration": 9,
    "start_time": "2025-08-24T12:42:16.533Z"
   },
   {
    "duration": 15,
    "start_time": "2025-08-24T12:43:22.217Z"
   },
   {
    "duration": 5,
    "start_time": "2025-08-24T12:43:33.246Z"
   },
   {
    "duration": 9,
    "start_time": "2025-08-24T12:43:35.997Z"
   },
   {
    "duration": 9,
    "start_time": "2025-08-24T12:43:37.134Z"
   },
   {
    "duration": 247,
    "start_time": "2025-08-24T12:44:07.479Z"
   },
   {
    "duration": 1054,
    "start_time": "2025-08-24T12:45:26.712Z"
   },
   {
    "duration": 1050,
    "start_time": "2025-08-24T12:45:37.913Z"
   },
   {
    "duration": 8,
    "start_time": "2025-08-24T12:46:10.126Z"
   },
   {
    "duration": 17421,
    "start_time": "2025-08-24T13:20:35.271Z"
   },
   {
    "duration": 1664,
    "start_time": "2025-08-24T13:20:52.695Z"
   },
   {
    "duration": 6,
    "start_time": "2025-08-24T13:20:54.362Z"
   },
   {
    "duration": 1531,
    "start_time": "2025-08-24T13:20:54.371Z"
   },
   {
    "duration": 136,
    "start_time": "2025-08-24T13:20:55.904Z"
   },
   {
    "duration": 41,
    "start_time": "2025-08-24T13:20:56.042Z"
   },
   {
    "duration": 11,
    "start_time": "2025-08-24T13:20:56.085Z"
   },
   {
    "duration": 41,
    "start_time": "2025-08-24T13:20:56.098Z"
   },
   {
    "duration": 274,
    "start_time": "2025-08-24T13:20:56.161Z"
   },
   {
    "duration": 101,
    "start_time": "2025-08-24T13:21:19.411Z"
   },
   {
    "duration": 4,
    "start_time": "2025-08-24T13:21:21.706Z"
   },
   {
    "duration": 695,
    "start_time": "2025-08-24T13:21:22.105Z"
   },
   {
    "duration": 301,
    "start_time": "2025-08-24T13:21:22.802Z"
   },
   {
    "duration": 91,
    "start_time": "2025-08-24T13:21:23.573Z"
   },
   {
    "duration": 34,
    "start_time": "2025-08-24T13:21:26.363Z"
   },
   {
    "duration": 15,
    "start_time": "2025-08-24T13:21:26.840Z"
   },
   {
    "duration": 218,
    "start_time": "2025-08-24T13:21:27.279Z"
   },
   {
    "duration": 227,
    "start_time": "2025-08-24T13:21:27.677Z"
   },
   {
    "duration": 192,
    "start_time": "2025-08-24T13:21:28.563Z"
   },
   {
    "duration": 29,
    "start_time": "2025-08-24T13:21:29.918Z"
   },
   {
    "duration": 7,
    "start_time": "2025-08-24T13:21:31.750Z"
   },
   {
    "duration": 5,
    "start_time": "2025-08-24T13:21:33.918Z"
   },
   {
    "duration": 9,
    "start_time": "2025-08-24T13:21:40.772Z"
   },
   {
    "duration": 579,
    "start_time": "2025-08-24T13:21:54.065Z"
   },
   {
    "duration": 13,
    "start_time": "2025-08-24T13:22:00.056Z"
   },
   {
    "duration": 6,
    "start_time": "2025-08-24T13:22:51.236Z"
   },
   {
    "duration": 1578,
    "start_time": "2025-08-24T13:23:08.754Z"
   },
   {
    "duration": 81,
    "start_time": "2025-08-24T13:23:21.353Z"
   },
   {
    "duration": 13,
    "start_time": "2025-08-24T13:23:29.550Z"
   },
   {
    "duration": 13,
    "start_time": "2025-08-24T13:23:56.079Z"
   },
   {
    "duration": 21,
    "start_time": "2025-08-24T13:25:30.022Z"
   },
   {
    "duration": 276,
    "start_time": "2025-08-24T13:26:57.801Z"
   },
   {
    "duration": 266,
    "start_time": "2025-08-24T13:27:06.731Z"
   },
   {
    "duration": 140,
    "start_time": "2025-08-24T13:31:05.275Z"
   },
   {
    "duration": 64,
    "start_time": "2025-08-24T13:31:12.504Z"
   },
   {
    "duration": 174,
    "start_time": "2025-08-24T13:31:24.623Z"
   },
   {
    "duration": 84,
    "start_time": "2025-08-24T13:32:11.722Z"
   },
   {
    "duration": 393,
    "start_time": "2025-08-24T13:32:32.361Z"
   },
   {
    "duration": 47,
    "start_time": "2025-08-24T13:32:56.417Z"
   },
   {
    "duration": 49,
    "start_time": "2025-08-24T13:33:01.826Z"
   },
   {
    "duration": 48,
    "start_time": "2025-08-24T13:33:05.001Z"
   },
   {
    "duration": 191,
    "start_time": "2025-08-24T13:42:24.370Z"
   },
   {
    "duration": 2870,
    "start_time": "2025-08-24T13:42:24.741Z"
   },
   {
    "duration": 110,
    "start_time": "2025-08-24T13:42:27.613Z"
   },
   {
    "duration": 3219,
    "start_time": "2025-08-24T13:42:42.114Z"
   },
   {
    "duration": 1707,
    "start_time": "2025-08-24T13:42:45.336Z"
   },
   {
    "duration": 162,
    "start_time": "2025-08-24T13:45:31.446Z"
   },
   {
    "duration": 155,
    "start_time": "2025-08-24T13:45:55.749Z"
   },
   {
    "duration": 146,
    "start_time": "2025-08-24T13:45:59.520Z"
   },
   {
    "duration": 139,
    "start_time": "2025-08-24T13:46:19.118Z"
   },
   {
    "duration": 134,
    "start_time": "2025-08-24T13:46:40.451Z"
   },
   {
    "duration": 124,
    "start_time": "2025-08-24T13:46:55.267Z"
   },
   {
    "duration": 168,
    "start_time": "2025-08-24T13:47:07.117Z"
   },
   {
    "duration": 139,
    "start_time": "2025-08-24T13:47:13.717Z"
   },
   {
    "duration": 25773,
    "start_time": "2025-08-24T15:13:50.819Z"
   },
   {
    "duration": 1639,
    "start_time": "2025-08-24T15:14:16.595Z"
   },
   {
    "duration": 6,
    "start_time": "2025-08-24T15:14:18.236Z"
   },
   {
    "duration": 1250,
    "start_time": "2025-08-24T15:14:18.244Z"
   },
   {
    "duration": 108,
    "start_time": "2025-08-24T15:14:19.496Z"
   },
   {
    "duration": 36,
    "start_time": "2025-08-24T15:14:19.606Z"
   },
   {
    "duration": 5,
    "start_time": "2025-08-24T15:14:19.644Z"
   },
   {
    "duration": 48,
    "start_time": "2025-08-24T15:14:19.650Z"
   },
   {
    "duration": 267,
    "start_time": "2025-08-24T15:14:19.700Z"
   },
   {
    "duration": 102,
    "start_time": "2025-08-24T15:14:19.970Z"
   },
   {
    "duration": 52,
    "start_time": "2025-08-24T15:14:20.074Z"
   },
   {
    "duration": 623,
    "start_time": "2025-08-24T15:14:20.128Z"
   },
   {
    "duration": 284,
    "start_time": "2025-08-24T15:14:20.752Z"
   },
   {
    "duration": 73,
    "start_time": "2025-08-24T15:14:21.038Z"
   },
   {
    "duration": 43,
    "start_time": "2025-08-24T15:14:21.112Z"
   },
   {
    "duration": 12,
    "start_time": "2025-08-24T15:14:21.157Z"
   },
   {
    "duration": 200,
    "start_time": "2025-08-24T15:14:21.171Z"
   },
   {
    "duration": 198,
    "start_time": "2025-08-24T15:14:21.373Z"
   },
   {
    "duration": 189,
    "start_time": "2025-08-24T15:14:21.573Z"
   },
   {
    "duration": 6,
    "start_time": "2025-08-24T15:14:21.764Z"
   },
   {
    "duration": 13,
    "start_time": "2025-08-24T15:14:21.771Z"
   },
   {
    "duration": 15,
    "start_time": "2025-08-24T15:14:21.786Z"
   },
   {
    "duration": 12,
    "start_time": "2025-08-24T15:14:21.803Z"
   },
   {
    "duration": 579,
    "start_time": "2025-08-24T15:14:21.817Z"
   },
   {
    "duration": 11,
    "start_time": "2025-08-24T15:14:22.398Z"
   },
   {
    "duration": 57,
    "start_time": "2025-08-24T15:14:22.410Z"
   },
   {
    "duration": 922,
    "start_time": "2025-08-24T15:14:22.471Z"
   },
   {
    "duration": 10236,
    "start_time": "2025-08-24T15:14:23.395Z"
   },
   {
    "duration": 198,
    "start_time": "2025-08-24T15:14:45.005Z"
   },
   {
    "duration": 130,
    "start_time": "2025-08-24T15:14:52.048Z"
   },
   {
    "duration": 119,
    "start_time": "2025-08-24T15:15:47.840Z"
   },
   {
    "duration": 143,
    "start_time": "2025-08-24T15:16:56.994Z"
   },
   {
    "duration": 117,
    "start_time": "2025-08-24T15:17:10.411Z"
   },
   {
    "duration": 112,
    "start_time": "2025-08-24T15:17:37.186Z"
   },
   {
    "duration": 132,
    "start_time": "2025-08-24T15:17:47.128Z"
   },
   {
    "duration": 5,
    "start_time": "2025-08-24T15:18:17.433Z"
   },
   {
    "duration": 1730,
    "start_time": "2025-08-24T15:19:51.463Z"
   },
   {
    "duration": 9,
    "start_time": "2025-08-24T15:25:56.966Z"
   },
   {
    "duration": 61,
    "start_time": "2025-08-24T15:26:10.924Z"
   },
   {
    "duration": 196,
    "start_time": "2025-08-24T15:28:49.527Z"
   },
   {
    "duration": 14,
    "start_time": "2025-08-24T15:32:54.607Z"
   },
   {
    "duration": 146,
    "start_time": "2025-08-24T15:33:03.446Z"
   },
   {
    "duration": 222,
    "start_time": "2025-08-24T15:33:43.048Z"
   },
   {
    "duration": 123,
    "start_time": "2025-08-24T15:37:21.299Z"
   },
   {
    "duration": 112,
    "start_time": "2025-08-24T15:37:47.242Z"
   },
   {
    "duration": 85,
    "start_time": "2025-08-24T15:38:16.328Z"
   },
   {
    "duration": 83,
    "start_time": "2025-08-24T15:39:02.882Z"
   },
   {
    "duration": 142,
    "start_time": "2025-08-24T15:39:39.333Z"
   },
   {
    "duration": 142,
    "start_time": "2025-08-24T15:41:16.602Z"
   },
   {
    "duration": 150,
    "start_time": "2025-08-24T15:49:03.778Z"
   },
   {
    "duration": 24089,
    "start_time": "2025-08-24T17:26:13.690Z"
   },
   {
    "duration": 1878,
    "start_time": "2025-08-24T17:26:37.782Z"
   },
   {
    "duration": 6,
    "start_time": "2025-08-24T17:26:39.662Z"
   },
   {
    "duration": 1395,
    "start_time": "2025-08-24T17:26:39.671Z"
   },
   {
    "duration": 114,
    "start_time": "2025-08-24T17:26:41.068Z"
   },
   {
    "duration": 37,
    "start_time": "2025-08-24T17:26:41.184Z"
   },
   {
    "duration": 7,
    "start_time": "2025-08-24T17:26:41.223Z"
   },
   {
    "duration": 63,
    "start_time": "2025-08-24T17:26:41.232Z"
   },
   {
    "duration": 284,
    "start_time": "2025-08-24T17:26:41.297Z"
   },
   {
    "duration": 103,
    "start_time": "2025-08-24T17:26:41.586Z"
   },
   {
    "duration": 4,
    "start_time": "2025-08-24T17:26:41.692Z"
   },
   {
    "duration": 657,
    "start_time": "2025-08-24T17:26:41.699Z"
   },
   {
    "duration": 304,
    "start_time": "2025-08-24T17:26:42.358Z"
   },
   {
    "duration": 101,
    "start_time": "2025-08-24T17:26:42.664Z"
   },
   {
    "duration": 31,
    "start_time": "2025-08-24T17:26:42.767Z"
   },
   {
    "duration": 15,
    "start_time": "2025-08-24T17:26:42.800Z"
   },
   {
    "duration": 230,
    "start_time": "2025-08-24T17:26:42.817Z"
   },
   {
    "duration": 237,
    "start_time": "2025-08-24T17:26:43.050Z"
   },
   {
    "duration": 181,
    "start_time": "2025-08-24T17:26:43.289Z"
   },
   {
    "duration": 7,
    "start_time": "2025-08-24T17:26:43.473Z"
   },
   {
    "duration": 9,
    "start_time": "2025-08-24T17:26:43.483Z"
   },
   {
    "duration": 11,
    "start_time": "2025-08-24T17:26:43.494Z"
   },
   {
    "duration": 9,
    "start_time": "2025-08-24T17:26:43.507Z"
   },
   {
    "duration": 629,
    "start_time": "2025-08-24T17:26:43.518Z"
   },
   {
    "duration": 236,
    "start_time": "2025-08-24T17:26:44.149Z"
   },
   {
    "duration": 11510,
    "start_time": "2025-08-24T17:26:44.387Z"
   },
   {
    "duration": 148,
    "start_time": "2025-08-24T17:26:55.899Z"
   },
   {
    "duration": 136,
    "start_time": "2025-08-24T17:26:56.051Z"
   },
   {
    "duration": 124,
    "start_time": "2025-08-24T17:26:56.189Z"
   },
   {
    "duration": 11,
    "start_time": "2025-08-24T17:26:56.315Z"
   },
   {
    "duration": 76,
    "start_time": "2025-08-24T17:26:56.328Z"
   },
   {
    "duration": 145,
    "start_time": "2025-08-24T17:30:14.778Z"
   },
   {
    "duration": 147,
    "start_time": "2025-08-24T17:30:29.704Z"
   },
   {
    "duration": 137,
    "start_time": "2025-08-24T17:30:40.636Z"
   },
   {
    "duration": 161,
    "start_time": "2025-08-24T17:30:57.181Z"
   },
   {
    "duration": 132,
    "start_time": "2025-08-24T17:31:57.717Z"
   },
   {
    "duration": 164,
    "start_time": "2025-08-24T17:33:34.422Z"
   },
   {
    "duration": 156,
    "start_time": "2025-08-24T17:36:20.539Z"
   },
   {
    "duration": 219,
    "start_time": "2025-08-24T17:37:55.134Z"
   },
   {
    "duration": 495,
    "start_time": "2025-08-24T17:39:07.906Z"
   },
   {
    "duration": 30,
    "start_time": "2025-08-24T17:39:41.416Z"
   },
   {
    "duration": 153,
    "start_time": "2025-08-24T17:41:14.408Z"
   },
   {
    "duration": 17343,
    "start_time": "2025-08-24T17:41:35.228Z"
   },
   {
    "duration": 1630,
    "start_time": "2025-08-24T17:41:52.574Z"
   },
   {
    "duration": 6,
    "start_time": "2025-08-24T17:41:54.206Z"
   },
   {
    "duration": 1479,
    "start_time": "2025-08-24T17:41:54.214Z"
   },
   {
    "duration": 148,
    "start_time": "2025-08-24T17:41:55.695Z"
   },
   {
    "duration": 53,
    "start_time": "2025-08-24T17:41:55.845Z"
   },
   {
    "duration": 21,
    "start_time": "2025-08-24T17:41:55.900Z"
   },
   {
    "duration": 49,
    "start_time": "2025-08-24T17:41:55.923Z"
   },
   {
    "duration": 278,
    "start_time": "2025-08-24T17:41:55.974Z"
   },
   {
    "duration": 105,
    "start_time": "2025-08-24T17:41:56.261Z"
   },
   {
    "duration": 294,
    "start_time": "2025-08-24T17:42:21.667Z"
   },
   {
    "duration": 97,
    "start_time": "2025-08-24T17:42:24.221Z"
   },
   {
    "duration": 3,
    "start_time": "2025-08-24T17:42:25.289Z"
   },
   {
    "duration": 698,
    "start_time": "2025-08-24T17:42:25.436Z"
   },
   {
    "duration": 293,
    "start_time": "2025-08-24T17:42:26.137Z"
   },
   {
    "duration": 101,
    "start_time": "2025-08-24T17:42:26.433Z"
   },
   {
    "duration": 34,
    "start_time": "2025-08-24T17:42:26.651Z"
   },
   {
    "duration": 14,
    "start_time": "2025-08-24T17:42:26.897Z"
   },
   {
    "duration": 203,
    "start_time": "2025-08-24T17:42:27.099Z"
   },
   {
    "duration": 262,
    "start_time": "2025-08-24T17:42:27.469Z"
   },
   {
    "duration": 170,
    "start_time": "2025-08-24T17:42:27.936Z"
   },
   {
    "duration": 7,
    "start_time": "2025-08-24T17:42:28.789Z"
   },
   {
    "duration": 7,
    "start_time": "2025-08-24T17:42:29.228Z"
   },
   {
    "duration": 5,
    "start_time": "2025-08-24T17:42:29.849Z"
   },
   {
    "duration": 10,
    "start_time": "2025-08-24T17:42:30.039Z"
   },
   {
    "duration": 553,
    "start_time": "2025-08-24T17:42:30.229Z"
   },
   {
    "duration": 418,
    "start_time": "2025-08-24T17:42:30.849Z"
   },
   {
    "duration": 10564,
    "start_time": "2025-08-24T17:42:31.269Z"
   },
   {
    "duration": 153,
    "start_time": "2025-08-24T17:42:41.835Z"
   },
   {
    "duration": 136,
    "start_time": "2025-08-24T17:42:41.989Z"
   },
   {
    "duration": 119,
    "start_time": "2025-08-24T17:42:42.127Z"
   },
   {
    "duration": 238,
    "start_time": "2025-08-24T17:42:42.248Z"
   },
   {
    "duration": 11,
    "start_time": "2025-08-24T17:42:42.488Z"
   },
   {
    "duration": 102,
    "start_time": "2025-08-24T17:42:42.501Z"
   },
   {
    "duration": 474,
    "start_time": "2025-08-24T17:42:42.605Z"
   },
   {
    "duration": 1511,
    "start_time": "2025-08-24T17:43:44.214Z"
   },
   {
    "duration": 676,
    "start_time": "2025-08-24T17:44:22.322Z"
   },
   {
    "duration": 12,
    "start_time": "2025-08-24T17:48:06.784Z"
   },
   {
    "duration": 12,
    "start_time": "2025-08-24T17:48:18.912Z"
   },
   {
    "duration": 52,
    "start_time": "2025-08-24T17:48:19.122Z"
   },
   {
    "duration": 539,
    "start_time": "2025-08-24T17:48:23.260Z"
   },
   {
    "duration": 518,
    "start_time": "2025-08-24T17:48:26.324Z"
   },
   {
    "duration": 56,
    "start_time": "2025-08-24T17:48:29.874Z"
   },
   {
    "duration": 540,
    "start_time": "2025-08-24T17:48:31.172Z"
   },
   {
    "duration": 23,
    "start_time": "2025-08-24T17:48:31.715Z"
   },
   {
    "duration": 702,
    "start_time": "2025-08-24T17:48:31.940Z"
   },
   {
    "duration": 48,
    "start_time": "2025-08-24T17:48:54.723Z"
   },
   {
    "duration": 341,
    "start_time": "2025-08-24T17:48:54.895Z"
   },
   {
    "duration": 341,
    "start_time": "2025-08-24T17:48:55.238Z"
   },
   {
    "duration": 356,
    "start_time": "2025-08-24T17:48:55.582Z"
   },
   {
    "duration": 321,
    "start_time": "2025-08-24T17:48:55.940Z"
   },
   {
    "duration": 11,
    "start_time": "2025-08-24T17:58:25.474Z"
   },
   {
    "duration": 541,
    "start_time": "2025-08-24T17:58:30.466Z"
   },
   {
    "duration": 518,
    "start_time": "2025-08-24T17:58:32.174Z"
   },
   {
    "duration": 52,
    "start_time": "2025-08-24T17:58:33.596Z"
   },
   {
    "duration": 709,
    "start_time": "2025-08-24T17:58:34.245Z"
   },
   {
    "duration": 26,
    "start_time": "2025-08-24T17:58:34.960Z"
   },
   {
    "duration": 588,
    "start_time": "2025-08-24T17:58:34.989Z"
   },
   {
    "duration": 43,
    "start_time": "2025-08-24T17:58:36.073Z"
   },
   {
    "duration": 362,
    "start_time": "2025-08-24T17:58:36.366Z"
   },
   {
    "duration": 284,
    "start_time": "2025-08-24T17:58:36.730Z"
   },
   {
    "duration": 310,
    "start_time": "2025-08-24T17:58:37.016Z"
   },
   {
    "duration": 271,
    "start_time": "2025-08-24T17:58:37.328Z"
   },
   {
    "duration": 6370,
    "start_time": "2025-08-24T17:58:37.815Z"
   },
   {
    "duration": 43,
    "start_time": "2025-08-24T17:58:44.188Z"
   },
   {
    "duration": 163,
    "start_time": "2025-08-24T17:58:44.233Z"
   },
   {
    "duration": 5,
    "start_time": "2025-08-24T17:58:44.399Z"
   },
   {
    "duration": 215665,
    "start_time": "2025-08-24T17:58:44.406Z"
   },
   {
    "duration": 15989,
    "start_time": "2025-08-24T18:02:20.074Z"
   },
   {
    "duration": 514,
    "start_time": "2025-08-24T18:02:36.066Z"
   },
   {
    "duration": 4,
    "start_time": "2025-08-24T18:02:36.583Z"
   },
   {
    "duration": 40,
    "start_time": "2025-08-24T18:02:36.589Z"
   },
   {
    "duration": 149740,
    "start_time": "2025-08-24T18:02:36.633Z"
   },
   {
    "duration": 9690,
    "start_time": "2025-08-24T18:05:06.375Z"
   },
   {
    "duration": 4120,
    "start_time": "2025-08-24T18:05:16.067Z"
   },
   {
    "duration": 5,
    "start_time": "2025-08-24T18:05:20.189Z"
   },
   {
    "duration": 5,
    "start_time": "2025-08-24T18:05:20.261Z"
   },
   {
    "duration": 4123,
    "start_time": "2025-08-24T18:05:20.268Z"
   },
   {
    "duration": 179968,
    "start_time": "2025-08-24T18:05:24.393Z"
   },
   {
    "duration": 17398,
    "start_time": "2025-08-24T18:08:24.363Z"
   },
   {
    "duration": 198,
    "start_time": "2025-08-24T18:08:41.763Z"
   },
   {
    "duration": 96,
    "start_time": "2025-08-24T18:08:41.965Z"
   },
   {
    "duration": 5,
    "start_time": "2025-08-24T18:08:42.063Z"
   },
   {
    "duration": 5,
    "start_time": "2025-08-24T18:08:42.070Z"
   },
   {
    "duration": 5,
    "start_time": "2025-08-24T18:08:42.077Z"
   },
   {
    "duration": 6,
    "start_time": "2025-08-24T18:08:42.084Z"
   },
   {
    "duration": 5,
    "start_time": "2025-08-24T18:08:42.092Z"
   },
   {
    "duration": 7,
    "start_time": "2025-08-24T18:08:42.099Z"
   },
   {
    "duration": 53,
    "start_time": "2025-08-24T18:08:42.110Z"
   },
   {
    "duration": 6,
    "start_time": "2025-08-24T18:08:42.165Z"
   },
   {
    "duration": 10,
    "start_time": "2025-08-24T18:08:42.173Z"
   },
   {
    "duration": 16,
    "start_time": "2025-08-24T18:08:42.185Z"
   },
   {
    "duration": 14,
    "start_time": "2025-08-24T18:08:42.203Z"
   },
   {
    "duration": 1556,
    "start_time": "2025-08-24T18:08:42.219Z"
   },
   {
    "duration": 8,
    "start_time": "2025-08-24T18:08:43.777Z"
   },
   {
    "duration": 18478,
    "start_time": "2025-08-24T18:23:56.653Z"
   },
   {
    "duration": 1696,
    "start_time": "2025-08-24T18:24:15.134Z"
   },
   {
    "duration": 6,
    "start_time": "2025-08-24T18:24:16.832Z"
   },
   {
    "duration": 1477,
    "start_time": "2025-08-24T18:24:16.840Z"
   },
   {
    "duration": 140,
    "start_time": "2025-08-24T18:24:18.320Z"
   },
   {
    "duration": 52,
    "start_time": "2025-08-24T18:24:18.462Z"
   },
   {
    "duration": 6,
    "start_time": "2025-08-24T18:24:18.516Z"
   },
   {
    "duration": 85,
    "start_time": "2025-08-24T18:24:18.524Z"
   },
   {
    "duration": 273,
    "start_time": "2025-08-24T18:24:18.611Z"
   },
   {
    "duration": 107,
    "start_time": "2025-08-24T18:24:18.887Z"
   },
   {
    "duration": 37,
    "start_time": "2025-08-24T18:24:18.996Z"
   },
   {
    "duration": 690,
    "start_time": "2025-08-24T18:24:19.035Z"
   },
   {
    "duration": 295,
    "start_time": "2025-08-24T18:24:19.728Z"
   },
   {
    "duration": 99,
    "start_time": "2025-08-24T18:24:20.027Z"
   },
   {
    "duration": 43,
    "start_time": "2025-08-24T18:24:20.129Z"
   },
   {
    "duration": 16,
    "start_time": "2025-08-24T18:24:20.174Z"
   },
   {
    "duration": 230,
    "start_time": "2025-08-24T18:24:20.192Z"
   },
   {
    "duration": 252,
    "start_time": "2025-08-24T18:24:20.424Z"
   },
   {
    "duration": 177,
    "start_time": "2025-08-24T18:24:20.678Z"
   },
   {
    "duration": 6,
    "start_time": "2025-08-24T18:24:20.860Z"
   },
   {
    "duration": 29,
    "start_time": "2025-08-24T18:24:20.869Z"
   },
   {
    "duration": 19,
    "start_time": "2025-08-24T18:24:20.900Z"
   },
   {
    "duration": 15,
    "start_time": "2025-08-24T18:24:20.920Z"
   },
   {
    "duration": 648,
    "start_time": "2025-08-24T18:24:20.937Z"
   },
   {
    "duration": 279,
    "start_time": "2025-08-24T18:24:21.587Z"
   },
   {
    "duration": 11427,
    "start_time": "2025-08-24T18:24:21.869Z"
   },
   {
    "duration": 177,
    "start_time": "2025-08-24T18:24:33.298Z"
   },
   {
    "duration": 145,
    "start_time": "2025-08-24T18:24:33.478Z"
   },
   {
    "duration": 126,
    "start_time": "2025-08-24T18:24:33.626Z"
   },
   {
    "duration": 239,
    "start_time": "2025-08-24T18:24:33.753Z"
   },
   {
    "duration": 10,
    "start_time": "2025-08-24T18:24:33.994Z"
   },
   {
    "duration": 93,
    "start_time": "2025-08-24T18:24:34.006Z"
   },
   {
    "duration": 478,
    "start_time": "2025-08-24T18:24:34.101Z"
   },
   {
    "duration": 694,
    "start_time": "2025-08-24T18:24:34.582Z"
   },
   {
    "duration": 12,
    "start_time": "2025-08-24T18:24:35.277Z"
   },
   {
    "duration": 78,
    "start_time": "2025-08-24T18:24:35.291Z"
   },
   {
    "duration": 578,
    "start_time": "2025-08-24T18:24:35.371Z"
   },
   {
    "duration": 533,
    "start_time": "2025-08-24T18:24:35.951Z"
   },
   {
    "duration": 53,
    "start_time": "2025-08-24T18:24:36.486Z"
   },
   {
    "duration": 555,
    "start_time": "2025-08-24T18:24:36.541Z"
   },
   {
    "duration": 23,
    "start_time": "2025-08-24T18:24:37.103Z"
   },
   {
    "duration": 721,
    "start_time": "2025-08-24T18:24:37.128Z"
   },
   {
    "duration": 46,
    "start_time": "2025-08-24T18:24:37.852Z"
   },
   {
    "duration": 329,
    "start_time": "2025-08-24T18:24:37.901Z"
   },
   {
    "duration": 280,
    "start_time": "2025-08-24T18:24:38.232Z"
   },
   {
    "duration": 313,
    "start_time": "2025-08-24T18:24:38.514Z"
   },
   {
    "duration": 282,
    "start_time": "2025-08-24T18:24:38.829Z"
   },
   {
    "duration": 6388,
    "start_time": "2025-08-24T18:24:39.113Z"
   },
   {
    "duration": 41,
    "start_time": "2025-08-24T18:24:45.504Z"
   },
   {
    "duration": 183,
    "start_time": "2025-08-24T18:24:45.547Z"
   },
   {
    "duration": 8,
    "start_time": "2025-08-24T18:24:45.734Z"
   },
   {
    "duration": 232855,
    "start_time": "2025-08-24T18:24:45.760Z"
   },
   {
    "duration": 22447,
    "start_time": "2025-08-24T18:28:38.617Z"
   },
   {
    "duration": 581,
    "start_time": "2025-08-24T18:29:01.066Z"
   },
   {
    "duration": 13,
    "start_time": "2025-08-24T18:29:01.649Z"
   },
   {
    "duration": 13,
    "start_time": "2025-08-24T18:29:01.665Z"
   },
   {
    "duration": 644884,
    "start_time": "2025-08-24T18:29:01.681Z"
   },
   {
    "duration": 234398,
    "start_time": "2025-08-24T18:39:46.568Z"
   },
   {
    "duration": 4792,
    "start_time": "2025-08-24T18:43:40.968Z"
   },
   {
    "duration": 12,
    "start_time": "2025-08-24T18:43:45.764Z"
   },
   {
    "duration": 8,
    "start_time": "2025-08-24T18:43:45.780Z"
   },
   {
    "duration": 4261,
    "start_time": "2025-08-24T18:43:45.791Z"
   },
   {
    "duration": 238607,
    "start_time": "2025-08-24T18:43:50.054Z"
   },
   {
    "duration": 31804,
    "start_time": "2025-08-24T18:47:48.663Z"
   },
   {
    "duration": 199,
    "start_time": "2025-08-24T18:48:20.472Z"
   },
   {
    "duration": 5,
    "start_time": "2025-08-24T18:48:20.674Z"
   },
   {
    "duration": 81,
    "start_time": "2025-08-24T18:48:20.681Z"
   },
   {
    "duration": 68,
    "start_time": "2025-08-24T18:48:20.766Z"
   },
   {
    "duration": 6,
    "start_time": "2025-08-24T18:48:20.836Z"
   },
   {
    "duration": 5,
    "start_time": "2025-08-24T18:48:20.844Z"
   },
   {
    "duration": 9,
    "start_time": "2025-08-24T18:48:20.851Z"
   },
   {
    "duration": 12,
    "start_time": "2025-08-24T18:48:20.863Z"
   },
   {
    "duration": 5,
    "start_time": "2025-08-24T18:48:20.880Z"
   },
   {
    "duration": 5,
    "start_time": "2025-08-24T18:48:20.887Z"
   },
   {
    "duration": 5,
    "start_time": "2025-08-24T18:48:20.894Z"
   },
   {
    "duration": 11,
    "start_time": "2025-08-24T18:48:20.901Z"
   },
   {
    "duration": 10,
    "start_time": "2025-08-24T18:48:20.914Z"
   },
   {
    "duration": 1852,
    "start_time": "2025-08-24T18:48:20.926Z"
   },
   {
    "duration": 8,
    "start_time": "2025-08-24T18:48:22.783Z"
   },
   {
    "duration": 19505,
    "start_time": "2025-08-24T19:21:10.008Z"
   },
   {
    "duration": 1703,
    "start_time": "2025-08-24T19:21:29.516Z"
   },
   {
    "duration": 6,
    "start_time": "2025-08-24T19:21:31.221Z"
   },
   {
    "duration": 1598,
    "start_time": "2025-08-24T19:21:31.230Z"
   },
   {
    "duration": 137,
    "start_time": "2025-08-24T19:21:32.830Z"
   },
   {
    "duration": 48,
    "start_time": "2025-08-24T19:21:32.970Z"
   },
   {
    "duration": 7,
    "start_time": "2025-08-24T19:21:33.020Z"
   },
   {
    "duration": 70,
    "start_time": "2025-08-24T19:21:33.030Z"
   },
   {
    "duration": 284,
    "start_time": "2025-08-24T19:21:33.102Z"
   },
   {
    "duration": 119,
    "start_time": "2025-08-24T19:21:33.389Z"
   },
   {
    "duration": 7,
    "start_time": "2025-08-24T19:21:33.510Z"
   },
   {
    "duration": 777,
    "start_time": "2025-08-24T19:21:33.519Z"
   },
   {
    "duration": 307,
    "start_time": "2025-08-24T19:21:34.298Z"
   },
   {
    "duration": 103,
    "start_time": "2025-08-24T19:21:34.607Z"
   },
   {
    "duration": 32,
    "start_time": "2025-08-24T19:21:34.713Z"
   },
   {
    "duration": 27,
    "start_time": "2025-08-24T19:21:34.747Z"
   },
   {
    "duration": 252,
    "start_time": "2025-08-24T19:21:34.777Z"
   },
   {
    "duration": 269,
    "start_time": "2025-08-24T19:21:35.031Z"
   },
   {
    "duration": 204,
    "start_time": "2025-08-24T19:21:35.302Z"
   },
   {
    "duration": 7,
    "start_time": "2025-08-24T19:21:35.508Z"
   },
   {
    "duration": 19,
    "start_time": "2025-08-24T19:21:35.517Z"
   },
   {
    "duration": 15,
    "start_time": "2025-08-24T19:21:35.538Z"
   },
   {
    "duration": 15,
    "start_time": "2025-08-24T19:21:35.555Z"
   },
   {
    "duration": 590,
    "start_time": "2025-08-24T19:21:35.573Z"
   },
   {
    "duration": 275,
    "start_time": "2025-08-24T19:21:36.167Z"
   },
   {
    "duration": 11361,
    "start_time": "2025-08-24T19:21:36.444Z"
   },
   {
    "duration": 156,
    "start_time": "2025-08-24T19:21:47.807Z"
   },
   {
    "duration": 145,
    "start_time": "2025-08-24T19:21:47.970Z"
   },
   {
    "duration": 121,
    "start_time": "2025-08-24T19:21:48.117Z"
   },
   {
    "duration": 245,
    "start_time": "2025-08-24T19:21:48.240Z"
   },
   {
    "duration": 11,
    "start_time": "2025-08-24T19:21:48.487Z"
   },
   {
    "duration": 106,
    "start_time": "2025-08-24T19:21:48.499Z"
   },
   {
    "duration": 540,
    "start_time": "2025-08-24T19:21:48.607Z"
   },
   {
    "duration": 722,
    "start_time": "2025-08-24T19:21:49.149Z"
   },
   {
    "duration": 12,
    "start_time": "2025-08-24T19:21:49.873Z"
   },
   {
    "duration": 74,
    "start_time": "2025-08-24T19:21:49.886Z"
   },
   {
    "duration": 546,
    "start_time": "2025-08-24T19:21:49.963Z"
   },
   {
    "duration": 569,
    "start_time": "2025-08-24T19:21:50.511Z"
   },
   {
    "duration": 51,
    "start_time": "2025-08-24T19:21:51.082Z"
   },
   {
    "duration": 570,
    "start_time": "2025-08-24T19:21:51.135Z"
   },
   {
    "duration": 24,
    "start_time": "2025-08-24T19:21:51.707Z"
   },
   {
    "duration": 778,
    "start_time": "2025-08-24T19:21:51.733Z"
   },
   {
    "duration": 59,
    "start_time": "2025-08-24T19:21:52.513Z"
   },
   {
    "duration": 372,
    "start_time": "2025-08-24T19:21:52.575Z"
   },
   {
    "duration": 348,
    "start_time": "2025-08-24T19:21:52.949Z"
   },
   {
    "duration": 337,
    "start_time": "2025-08-24T19:21:53.299Z"
   },
   {
    "duration": 291,
    "start_time": "2025-08-24T19:21:53.638Z"
   },
   {
    "duration": 6849,
    "start_time": "2025-08-24T19:21:53.960Z"
   },
   {
    "duration": 42,
    "start_time": "2025-08-24T19:22:00.811Z"
   },
   {
    "duration": 200,
    "start_time": "2025-08-24T19:22:00.855Z"
   },
   {
    "duration": 8,
    "start_time": "2025-08-24T19:22:01.062Z"
   },
   {
    "duration": 249413,
    "start_time": "2025-08-24T19:22:01.072Z"
   },
   {
    "duration": 18777,
    "start_time": "2025-08-24T19:26:10.490Z"
   },
   {
    "duration": 559,
    "start_time": "2025-08-24T19:26:29.270Z"
   },
   {
    "duration": 5,
    "start_time": "2025-08-24T19:26:29.831Z"
   },
   {
    "duration": 6,
    "start_time": "2025-08-24T19:26:29.838Z"
   },
   {
    "duration": 18966,
    "start_time": "2025-08-24T19:30:49.305Z"
   },
   {
    "duration": 1816,
    "start_time": "2025-08-24T19:31:08.275Z"
   },
   {
    "duration": 7,
    "start_time": "2025-08-24T19:31:10.093Z"
   },
   {
    "duration": 1763,
    "start_time": "2025-08-24T19:31:10.103Z"
   },
   {
    "duration": 133,
    "start_time": "2025-08-24T19:31:11.869Z"
   },
   {
    "duration": 67,
    "start_time": "2025-08-24T19:31:12.005Z"
   },
   {
    "duration": 9,
    "start_time": "2025-08-24T19:31:12.074Z"
   },
   {
    "duration": 44,
    "start_time": "2025-08-24T19:31:12.085Z"
   },
   {
    "duration": 353,
    "start_time": "2025-08-24T19:31:12.131Z"
   },
   {
    "duration": 122,
    "start_time": "2025-08-24T19:31:12.486Z"
   },
   {
    "duration": 4,
    "start_time": "2025-08-24T19:31:12.610Z"
   },
   {
    "duration": 796,
    "start_time": "2025-08-24T19:31:12.616Z"
   },
   {
    "duration": 353,
    "start_time": "2025-08-24T19:31:13.415Z"
   },
   {
    "duration": 111,
    "start_time": "2025-08-24T19:31:13.771Z"
   },
   {
    "duration": 33,
    "start_time": "2025-08-24T19:31:13.885Z"
   },
   {
    "duration": 41,
    "start_time": "2025-08-24T19:31:13.921Z"
   },
   {
    "duration": 241,
    "start_time": "2025-08-24T19:31:13.964Z"
   },
   {
    "duration": 278,
    "start_time": "2025-08-24T19:31:14.207Z"
   },
   {
    "duration": 200,
    "start_time": "2025-08-24T19:31:14.487Z"
   },
   {
    "duration": 7,
    "start_time": "2025-08-24T19:31:14.689Z"
   },
   {
    "duration": 8,
    "start_time": "2025-08-24T19:31:14.698Z"
   },
   {
    "duration": 28,
    "start_time": "2025-08-24T19:31:14.708Z"
   },
   {
    "duration": 24,
    "start_time": "2025-08-24T19:31:14.738Z"
   },
   {
    "duration": 610,
    "start_time": "2025-08-24T19:31:14.764Z"
   },
   {
    "duration": 247,
    "start_time": "2025-08-24T19:31:15.378Z"
   },
   {
    "duration": 12604,
    "start_time": "2025-08-24T19:31:15.627Z"
   },
   {
    "duration": 150,
    "start_time": "2025-08-24T19:31:28.233Z"
   },
   {
    "duration": 153,
    "start_time": "2025-08-24T19:31:28.392Z"
   },
   {
    "duration": 140,
    "start_time": "2025-08-24T19:31:28.548Z"
   },
   {
    "duration": 286,
    "start_time": "2025-08-24T19:31:28.690Z"
   },
   {
    "duration": 13,
    "start_time": "2025-08-24T19:31:28.985Z"
   },
   {
    "duration": 105,
    "start_time": "2025-08-24T19:31:29.001Z"
   },
   {
    "duration": 545,
    "start_time": "2025-08-24T19:31:29.108Z"
   },
   {
    "duration": 738,
    "start_time": "2025-08-24T19:31:29.655Z"
   },
   {
    "duration": 13,
    "start_time": "2025-08-24T19:31:30.396Z"
   },
   {
    "duration": 100,
    "start_time": "2025-08-24T19:31:30.411Z"
   },
   {
    "duration": 579,
    "start_time": "2025-08-24T19:31:30.513Z"
   },
   {
    "duration": 573,
    "start_time": "2025-08-24T19:31:31.094Z"
   },
   {
    "duration": 70,
    "start_time": "2025-08-24T19:31:31.671Z"
   },
   {
    "duration": 587,
    "start_time": "2025-08-24T19:31:31.744Z"
   },
   {
    "duration": 34,
    "start_time": "2025-08-24T19:31:32.333Z"
   },
   {
    "duration": 812,
    "start_time": "2025-08-24T19:31:32.370Z"
   },
   {
    "duration": 45,
    "start_time": "2025-08-24T19:31:33.184Z"
   },
   {
    "duration": 418,
    "start_time": "2025-08-24T19:31:33.232Z"
   },
   {
    "duration": 369,
    "start_time": "2025-08-24T19:31:33.652Z"
   },
   {
    "duration": 367,
    "start_time": "2025-08-24T19:31:34.024Z"
   },
   {
    "duration": 319,
    "start_time": "2025-08-24T19:31:34.393Z"
   },
   {
    "duration": 7171,
    "start_time": "2025-08-24T19:31:34.714Z"
   },
   {
    "duration": 43,
    "start_time": "2025-08-24T19:31:41.888Z"
   },
   {
    "duration": 227,
    "start_time": "2025-08-24T19:31:41.933Z"
   },
   {
    "duration": 8,
    "start_time": "2025-08-24T19:31:42.164Z"
   },
   {
    "duration": 230688,
    "start_time": "2025-08-24T19:31:42.174Z"
   },
   {
    "duration": 16491,
    "start_time": "2025-08-24T19:35:32.865Z"
   },
   {
    "duration": 491,
    "start_time": "2025-08-24T19:35:49.360Z"
   },
   {
    "duration": 6,
    "start_time": "2025-08-24T19:35:49.861Z"
   },
   {
    "duration": 11,
    "start_time": "2025-08-24T19:35:49.869Z"
   },
   {
    "duration": 1520778,
    "start_time": "2025-08-24T19:35:49.883Z"
   },
   {
    "duration": 523204,
    "start_time": "2025-08-24T20:01:10.663Z"
   },
   {
    "duration": 3426,
    "start_time": "2025-08-24T20:09:53.869Z"
   },
   {
    "duration": 5,
    "start_time": "2025-08-24T20:09:57.297Z"
   },
   {
    "duration": 12,
    "start_time": "2025-08-24T20:09:57.362Z"
   },
   {
    "duration": 4531,
    "start_time": "2025-08-24T20:09:57.376Z"
   },
   {
    "duration": 195911,
    "start_time": "2025-08-24T20:10:01.961Z"
   },
   {
    "duration": 21304,
    "start_time": "2025-08-24T20:13:17.962Z"
   },
   {
    "duration": 198,
    "start_time": "2025-08-24T20:13:39.268Z"
   },
   {
    "duration": 5,
    "start_time": "2025-08-24T20:13:39.469Z"
   },
   {
    "duration": 14,
    "start_time": "2025-08-24T20:13:39.562Z"
   },
   {
    "duration": 84,
    "start_time": "2025-08-24T20:13:39.578Z"
   },
   {
    "duration": 7,
    "start_time": "2025-08-24T20:13:39.665Z"
   },
   {
    "duration": 7,
    "start_time": "2025-08-24T20:13:39.674Z"
   },
   {
    "duration": 4,
    "start_time": "2025-08-24T20:13:39.684Z"
   },
   {
    "duration": 8,
    "start_time": "2025-08-24T20:13:39.691Z"
   },
   {
    "duration": 5,
    "start_time": "2025-08-24T20:13:39.702Z"
   },
   {
    "duration": 55,
    "start_time": "2025-08-24T20:13:39.710Z"
   },
   {
    "duration": 6,
    "start_time": "2025-08-24T20:13:39.768Z"
   },
   {
    "duration": 11,
    "start_time": "2025-08-24T20:13:39.776Z"
   },
   {
    "duration": 11,
    "start_time": "2025-08-24T20:13:39.789Z"
   },
   {
    "duration": 1365,
    "start_time": "2025-08-24T20:13:39.802Z"
   },
   {
    "duration": 8,
    "start_time": "2025-08-24T20:13:41.168Z"
   },
   {
    "duration": 17663,
    "start_time": "2025-08-24T20:23:35.295Z"
   },
   {
    "duration": 1585,
    "start_time": "2025-08-24T20:23:52.961Z"
   },
   {
    "duration": 7,
    "start_time": "2025-08-24T20:23:54.548Z"
   },
   {
    "duration": 1572,
    "start_time": "2025-08-24T20:23:54.558Z"
   },
   {
    "duration": 200,
    "start_time": "2025-08-24T20:23:56.133Z"
   },
   {
    "duration": 65,
    "start_time": "2025-08-24T20:23:56.335Z"
   },
   {
    "duration": 6,
    "start_time": "2025-08-24T20:23:56.403Z"
   },
   {
    "duration": 59,
    "start_time": "2025-08-24T20:23:56.411Z"
   },
   {
    "duration": 295,
    "start_time": "2025-08-24T20:23:56.473Z"
   },
   {
    "duration": 104,
    "start_time": "2025-08-24T20:23:56.771Z"
   },
   {
    "duration": 4,
    "start_time": "2025-08-24T20:23:56.877Z"
   },
   {
    "duration": 702,
    "start_time": "2025-08-24T20:23:56.883Z"
   },
   {
    "duration": 292,
    "start_time": "2025-08-24T20:23:57.587Z"
   },
   {
    "duration": 106,
    "start_time": "2025-08-24T20:23:57.881Z"
   },
   {
    "duration": 34,
    "start_time": "2025-08-24T20:23:57.989Z"
   },
   {
    "duration": 35,
    "start_time": "2025-08-24T20:23:58.025Z"
   },
   {
    "duration": 227,
    "start_time": "2025-08-24T20:23:58.063Z"
   },
   {
    "duration": 285,
    "start_time": "2025-08-24T20:23:58.292Z"
   },
   {
    "duration": 175,
    "start_time": "2025-08-24T20:23:58.579Z"
   },
   {
    "duration": 8,
    "start_time": "2025-08-24T20:23:58.759Z"
   },
   {
    "duration": 9,
    "start_time": "2025-08-24T20:23:58.769Z"
   },
   {
    "duration": 11,
    "start_time": "2025-08-24T20:23:58.781Z"
   },
   {
    "duration": 12,
    "start_time": "2025-08-24T20:23:58.794Z"
   },
   {
    "duration": 620,
    "start_time": "2025-08-24T20:23:58.809Z"
   },
   {
    "duration": 334,
    "start_time": "2025-08-24T20:23:59.432Z"
   },
   {
    "duration": 12107,
    "start_time": "2025-08-24T20:23:59.769Z"
   },
   {
    "duration": 148,
    "start_time": "2025-08-24T20:24:11.878Z"
   },
   {
    "duration": 152,
    "start_time": "2025-08-24T20:24:12.039Z"
   },
   {
    "duration": 152,
    "start_time": "2025-08-24T20:24:12.193Z"
   },
   {
    "duration": 245,
    "start_time": "2025-08-24T20:24:12.347Z"
   },
   {
    "duration": 11,
    "start_time": "2025-08-24T20:24:12.594Z"
   },
   {
    "duration": 98,
    "start_time": "2025-08-24T20:24:12.607Z"
   },
   {
    "duration": 505,
    "start_time": "2025-08-24T20:24:12.707Z"
   },
   {
    "duration": 692,
    "start_time": "2025-08-24T20:24:13.214Z"
   },
   {
    "duration": 12,
    "start_time": "2025-08-24T20:24:13.909Z"
   },
   {
    "duration": 79,
    "start_time": "2025-08-24T20:24:13.923Z"
   },
   {
    "duration": 566,
    "start_time": "2025-08-24T20:24:14.005Z"
   },
   {
    "duration": 532,
    "start_time": "2025-08-24T20:24:14.574Z"
   },
   {
    "duration": 65,
    "start_time": "2025-08-24T20:24:15.108Z"
   },
   {
    "duration": 528,
    "start_time": "2025-08-24T20:24:15.175Z"
   },
   {
    "duration": 22,
    "start_time": "2025-08-24T20:24:15.705Z"
   },
   {
    "duration": 812,
    "start_time": "2025-08-24T20:24:15.730Z"
   },
   {
    "duration": 56,
    "start_time": "2025-08-24T20:24:16.545Z"
   },
   {
    "duration": 346,
    "start_time": "2025-08-24T20:24:16.603Z"
   },
   {
    "duration": 312,
    "start_time": "2025-08-24T20:24:16.951Z"
   },
   {
    "duration": 374,
    "start_time": "2025-08-24T20:24:17.266Z"
   },
   {
    "duration": 266,
    "start_time": "2025-08-24T20:24:17.643Z"
   },
   {
    "duration": 6625,
    "start_time": "2025-08-24T20:24:17.912Z"
   },
   {
    "duration": 43,
    "start_time": "2025-08-24T20:24:24.540Z"
   },
   {
    "duration": 187,
    "start_time": "2025-08-24T20:24:24.586Z"
   },
   {
    "duration": 6,
    "start_time": "2025-08-24T20:24:24.775Z"
   },
   {
    "duration": 201104,
    "start_time": "2025-08-24T20:24:24.783Z"
   },
   {
    "duration": 17682,
    "start_time": "2025-08-24T20:27:45.889Z"
   },
   {
    "duration": 511,
    "start_time": "2025-08-24T20:28:03.573Z"
   },
   {
    "duration": 5,
    "start_time": "2025-08-24T20:28:04.086Z"
   },
   {
    "duration": 8,
    "start_time": "2025-08-24T20:28:04.093Z"
   },
   {
    "duration": 1006568,
    "start_time": "2025-08-24T20:28:04.104Z"
   },
   {
    "duration": 377299,
    "start_time": "2025-08-24T20:44:50.674Z"
   },
   {
    "duration": 2889,
    "start_time": "2025-08-24T20:51:07.976Z"
   },
   {
    "duration": 6,
    "start_time": "2025-08-24T20:51:10.868Z"
   },
   {
    "duration": 10,
    "start_time": "2025-08-24T20:51:10.876Z"
   },
   {
    "duration": 5091,
    "start_time": "2025-08-24T20:51:10.888Z"
   },
   {
    "duration": 196582,
    "start_time": "2025-08-24T20:51:15.981Z"
   },
   {
    "duration": 20894,
    "start_time": "2025-08-24T20:54:32.567Z"
   },
   {
    "duration": 198,
    "start_time": "2025-08-24T20:54:53.463Z"
   },
   {
    "duration": 7,
    "start_time": "2025-08-24T20:54:53.663Z"
   },
   {
    "duration": 91,
    "start_time": "2025-08-24T20:54:53.673Z"
   },
   {
    "duration": 6,
    "start_time": "2025-08-24T20:54:53.767Z"
   },
   {
    "duration": 7,
    "start_time": "2025-08-24T20:54:53.776Z"
   },
   {
    "duration": 6,
    "start_time": "2025-08-24T20:54:53.786Z"
   },
   {
    "duration": 5,
    "start_time": "2025-08-24T20:54:53.794Z"
   },
   {
    "duration": 9,
    "start_time": "2025-08-24T20:54:53.801Z"
   },
   {
    "duration": 49,
    "start_time": "2025-08-24T20:54:53.812Z"
   },
   {
    "duration": 6,
    "start_time": "2025-08-24T20:54:53.864Z"
   },
   {
    "duration": 8,
    "start_time": "2025-08-24T20:54:53.872Z"
   },
   {
    "duration": 14,
    "start_time": "2025-08-24T20:54:53.882Z"
   },
   {
    "duration": 11,
    "start_time": "2025-08-24T20:54:53.898Z"
   },
   {
    "duration": 1150,
    "start_time": "2025-08-24T20:54:53.911Z"
   },
   {
    "duration": 9,
    "start_time": "2025-08-24T20:54:55.063Z"
   },
   {
    "duration": 1083,
    "start_time": "2025-08-24T20:56:44.621Z"
   },
   {
    "duration": 5,
    "start_time": "2025-08-24T20:56:46.585Z"
   },
   {
    "duration": 7,
    "start_time": "2025-08-24T20:57:17.624Z"
   },
   {
    "duration": 175,
    "start_time": "2025-08-24T21:00:03.061Z"
   },
   {
    "duration": 6,
    "start_time": "2025-08-24T21:01:12.305Z"
   },
   {
    "duration": 8,
    "start_time": "2025-08-24T21:01:42.994Z"
   }
  ],
  "kernelspec": {
   "display_name": "Python 3 (ipykernel)",
   "language": "python",
   "name": "python3"
  },
  "language_info": {
   "codemirror_mode": {
    "name": "ipython",
    "version": 3
   },
   "file_extension": ".py",
   "mimetype": "text/x-python",
   "name": "python",
   "nbconvert_exporter": "python",
   "pygments_lexer": "ipython3",
   "version": "3.9.21"
  },
  "toc": {
   "base_numbering": 1,
   "nav_menu": {},
   "number_sections": true,
   "sideBar": true,
   "skip_h1_title": true,
   "title_cell": "Table of Contents",
   "title_sidebar": "Contents",
   "toc_cell": true,
   "toc_position": {
    "height": "475.273px",
    "left": "48px",
    "top": "110.318px",
    "width": "343px"
   },
   "toc_section_display": true,
   "toc_window_display": true
  }
 },
 "nbformat": 4,
 "nbformat_minor": 5
}
